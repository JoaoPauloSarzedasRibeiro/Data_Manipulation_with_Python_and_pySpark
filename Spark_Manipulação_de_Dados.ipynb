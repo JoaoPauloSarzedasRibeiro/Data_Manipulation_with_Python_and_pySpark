{
  "nbformat": 4,
  "nbformat_minor": 0,
  "metadata": {
    "colab": {
      "name": "Spark - Manipulação de Dados.ipynb",
      "provenance": [],
      "collapsed_sections": [
        "96d8PdUHV7Vb",
        "ubnsnZ8XnuKX"
      ],
      "authorship_tag": "ABX9TyP8hNuQvdyHa/v3V1sHGOrl",
      "include_colab_link": true
    },
    "kernelspec": {
      "name": "python3",
      "display_name": "Python 3"
    },
    "language_info": {
      "name": "python"
    }
  },
  "cells": [
    {
      "cell_type": "markdown",
      "metadata": {
        "id": "view-in-github",
        "colab_type": "text"
      },
      "source": [
        "<a href=\"https://colab.research.google.com/github/JoaoPauloSarzedasRibeiro/data_analysis_with_Python/blob/main/Spark_Manipula%C3%A7%C3%A3o_de_Dados.ipynb\" target=\"_parent\"><img src=\"https://colab.research.google.com/assets/colab-badge.svg\" alt=\"Open In Colab\"/></a>"
      ]
    },
    {
      "cell_type": "markdown",
      "source": [
        "#Instalando o PySpark no Google Colab"
      ],
      "metadata": {
        "id": "96d8PdUHV7Vb"
      }
    },
    {
      "cell_type": "code",
      "execution_count": 1,
      "metadata": {
        "id": "gKdl2riQUPz6"
      },
      "outputs": [],
      "source": [
        "# instalar as dependências necessárias para o Spark\n",
        "!apt-get install openjdk-8-jdk-headless -qq > /dev/null\n",
        "!wget -q https://archive.apache.org/dist/spark/spark-2.4.4/spark-2.4.4-bin-hadoop2.7.tgz\n",
        "!tar xf spark-2.4.4-bin-hadoop2.7.tgz\n",
        "!pip install -q findspark"
      ]
    },
    {
      "cell_type": "code",
      "source": [
        "# configurar as variáveis de ambiente\n",
        "import os\n",
        "os.environ[\"JAVA_HOME\"] = \"/usr/lib/jvm/java-8-openjdk-amd64\"\n",
        "os.environ[\"SPARK_HOME\"] = \"/content/spark-2.4.4-bin-hadoop2.7\"\n",
        "\n",
        "# tornar o pyspark \"importável\"\n",
        "import findspark\n",
        "findspark.init('spark-2.4.4-bin-hadoop2.7')"
      ],
      "metadata": {
        "id": "atfl6_lrU89P"
      },
      "execution_count": 2,
      "outputs": []
    },
    {
      "cell_type": "code",
      "source": [
        "# iniciar uma sessão local chamada spark\n",
        "from pyspark.sql import SparkSession\n",
        "spark = SparkSession.builder.master('local[*]').getOrCreate()"
      ],
      "metadata": {
        "id": "mehGHa_TU-Ey"
      },
      "execution_count": 3,
      "outputs": []
    },
    {
      "cell_type": "markdown",
      "source": [
        "#Leitura dos dados e criação de um DataFrame"
      ],
      "metadata": {
        "id": "ubnsnZ8XnuKX"
      }
    },
    {
      "cell_type": "code",
      "source": [
        "#Adicionando o arquivo CSV hospedado no GitHub para que o Spark consiga acessa-lo\n",
        "url = 'https://raw.githubusercontent.com/JoaoPauloSarzedasRibeiro/data_analysis_with_Python/main/data/Salaries.csv'\n",
        "from pyspark import SparkFiles\n",
        "spark.sparkContext.addFile(url)"
      ],
      "metadata": {
        "id": "aj3hPdoMn0h5"
      },
      "execution_count": 4,
      "outputs": []
    },
    {
      "cell_type": "code",
      "source": [
        "#Lendo os dados em CSV\n",
        "df_csv = (\n",
        "    spark\n",
        "    .read\n",
        "    .format('csv')\n",
        "    .options(header=True, inferSchema=True,sep=',',encoding='latin1')\n",
        "    .load(SparkFiles.get('Salaries.csv'))\n",
        "    )"
      ],
      "metadata": {
        "id": "LtFkNhkvoLB3"
      },
      "execution_count": 5,
      "outputs": []
    },
    {
      "cell_type": "code",
      "source": [
        "#Salvando os dados no formato parquet para manipulação com Spark\n",
        "df_csv.write.format('parquet').mode('overwrite').save('df')"
      ],
      "metadata": {
        "id": "-cXpw0RVqO_F"
      },
      "execution_count": 6,
      "outputs": []
    },
    {
      "cell_type": "code",
      "source": [
        "#Criando um novo DataFrame com os dados já no formato Parquet\n",
        "df = spark.read.format('parquet').load('df')"
      ],
      "metadata": {
        "id": "aT56mHCFqR4N"
      },
      "execution_count": 7,
      "outputs": []
    },
    {
      "cell_type": "code",
      "source": [
        "import pyspark.sql.functions as f"
      ],
      "metadata": {
        "id": "IDBDvpU-5ruh"
      },
      "execution_count": 8,
      "outputs": []
    },
    {
      "cell_type": "code",
      "source": [
        "#Verificando o Schema do DataFrame\n",
        "df.printSchema()"
      ],
      "metadata": {
        "colab": {
          "base_uri": "https://localhost:8080/"
        },
        "id": "PbUlYfHmoY6n",
        "outputId": "147ae407-1b5f-41c1-886b-b2f6a3763fca"
      },
      "execution_count": 9,
      "outputs": [
        {
          "output_type": "stream",
          "name": "stdout",
          "text": [
            "root\n",
            " |-- Id: integer (nullable = true)\n",
            " |-- EmployeeName: string (nullable = true)\n",
            " |-- JobTitle: string (nullable = true)\n",
            " |-- BasePay: double (nullable = true)\n",
            " |-- OvertimePay: double (nullable = true)\n",
            " |-- OtherPay: double (nullable = true)\n",
            " |-- Benefits: double (nullable = true)\n",
            " |-- TotalPay: double (nullable = true)\n",
            " |-- TotalPayBenefits: double (nullable = true)\n",
            " |-- Year: integer (nullable = true)\n",
            " |-- Notes: string (nullable = true)\n",
            " |-- Agency: string (nullable = true)\n",
            " |-- Status: double (nullable = true)\n",
            "\n"
          ]
        }
      ]
    },
    {
      "cell_type": "markdown",
      "source": [
        "#Trabalhando com Diferentes Tipos de Dados"
      ],
      "metadata": {
        "id": "_LrUQVdOWAlK"
      }
    },
    {
      "cell_type": "markdown",
      "source": [
        "##Valores Numéricos"
      ],
      "metadata": {
        "id": "g2L-GF873tdu"
      }
    },
    {
      "cell_type": "markdown",
      "source": [
        "**Valores Numéricos:**\n",
        "\n",
        "* `round()`: arredonda o valor\n",
        "* `ceil()`: arrendonda para o maior inteiro mais próximo\n",
        "* `floor()`: arrendonda para o menor inteiro mais próximo\n",
        "* `sqrt()`: raiz quadrada do valor\n",
        "* `exp()`: exponencial do valor\n",
        "* `log()`: logaritmo natural do valor\n",
        "* `log10()`: logaritmo base 10 do valor\n",
        "* `gratest()`: maior valor dentre todos valores das colunas (similar ao max(), porém entre colunas)\n",
        "* `least()`: retorna o menor valor dentre as colunas (similar ao min(), porém entre colunas)"
      ],
      "metadata": {
        "id": "oRfKeL_EXCfA"
      }
    },
    {
      "cell_type": "code",
      "source": [
        "df.printSchema()"
      ],
      "metadata": {
        "colab": {
          "base_uri": "https://localhost:8080/"
        },
        "id": "514-QvSkXP8x",
        "outputId": "bd759109-62bc-43ba-d91a-cf1e6ff2e716"
      },
      "execution_count": null,
      "outputs": [
        {
          "output_type": "stream",
          "name": "stdout",
          "text": [
            "root\n",
            " |-- Id: integer (nullable = true)\n",
            " |-- EmployeeName: string (nullable = true)\n",
            " |-- JobTitle: string (nullable = true)\n",
            " |-- BasePay: double (nullable = true)\n",
            " |-- OvertimePay: double (nullable = true)\n",
            " |-- OtherPay: double (nullable = true)\n",
            " |-- Benefits: double (nullable = true)\n",
            " |-- TotalPay: double (nullable = true)\n",
            " |-- TotalPayBenefits: double (nullable = true)\n",
            " |-- Year: integer (nullable = true)\n",
            " |-- Notes: string (nullable = true)\n",
            " |-- Agency: string (nullable = true)\n",
            " |-- Status: double (nullable = true)\n",
            "\n"
          ]
        }
      ]
    },
    {
      "cell_type": "code",
      "source": [
        "(\n",
        "    df\n",
        "    .select('EmployeeName', 'JobTitle','BasePay','TotalPay')\n",
        "    .withColumn('floor_Pay', f.floor(f.col('BasePay')))\n",
        "    .withColumn('ceil_Pay', f.ceil(f.col('BasePay')))\n",
        "    .withColumn('coef_TotalPay', f.round(f.col('TotalPay') / f.col('BasePay'),2))\n",
        "    .withColumn('Random_Normal', f.randn(123))\n",
        "    .limit(5)\n",
        "    .show()\n",
        ")"
      ],
      "metadata": {
        "colab": {
          "base_uri": "https://localhost:8080/"
        },
        "id": "rMVO8TrQYXPs",
        "outputId": "f9084d53-6fe0-4c54-dd32-53374f8f85a7"
      },
      "execution_count": null,
      "outputs": [
        {
          "output_type": "stream",
          "name": "stdout",
          "text": [
            "+-----------------+--------------------+---------+---------+---------+--------+-------------+--------------------+\n",
            "|     EmployeeName|            JobTitle|  BasePay| TotalPay|floor_Pay|ceil_Pay|coef_TotalPay|       Random_Normal|\n",
            "+-----------------+--------------------+---------+---------+---------+--------+-------------+--------------------+\n",
            "|   NATHANIEL FORD|GENERAL MANAGER-M...|167411.18|567595.43|   167411|  167412|         3.39|0.001988081602007817|\n",
            "|     GARY JIMENEZ|CAPTAIN III (POLI...|155966.02|538909.28|   155966|  155967|         3.46| 0.32765099517752727|\n",
            "|   ALBERT PARDINI|CAPTAIN III (POLI...|212739.13|335279.91|   212739|  212740|         1.58| 0.35989602440312274|\n",
            "|CHRISTOPHER CHONG|WIRE ROPE CABLE M...|  77916.0|332343.61|    77916|   77916|         4.27|  0.3801966195174709|\n",
            "|  PATRICK GARDNER|DEPUTY CHIEF OF D...| 134401.6|326373.19|   134401|  134402|         2.43| -2.1726586720908876|\n",
            "+-----------------+--------------------+---------+---------+---------+--------+-------------+--------------------+\n",
            "\n"
          ]
        }
      ]
    },
    {
      "cell_type": "markdown",
      "source": [
        "##Strings"
      ],
      "metadata": {
        "id": "jR4AE-qq3zYf"
      }
    },
    {
      "cell_type": "markdown",
      "source": [
        "**Strings:**\n",
        "\n",
        "* `upper()`: retorna a string em maiusculas\n",
        "* `lower()`: retorna a string em minusculas\n",
        "* `initcap()`: retorna a primeira letra de cada palavra na string em letras maiusculas\n",
        "* `trim()`: retira os espaços em branco do início e fim da string\n",
        "* `ltrim() / rtrim()`: retira os espaços em branco do inicio, ou do fim da string, respectivamente\n",
        "* `lpad() / rpad()`: acrescenta um caractere no inicio ou no final da string, até que a string tenha um comprimento especificado\n",
        "* `length()`: retorna o comprimento da string\n",
        "* `split()`: quebra a string a partir de um caractere dado e retorna um array com os strings resultantes\n",
        "* `concat()`: concatena uma ou mais colunas de string\n",
        "* `concat_ws()`: concatena com um separador entre as colunas\n",
        "* `regexp_extract()`: retorna um match no string a partir de um padrão regex\n",
        "* `regexp_replace()`: substitui um match no string a partir de um padrão regex com outros caracteres\n",
        "* `substring()`: retorna os caracteres dos tring que estão entre dois indices especificados"
      ],
      "metadata": {
        "id": "wteuGU43a5Mj"
      }
    },
    {
      "cell_type": "code",
      "source": [
        "(\n",
        "    df\n",
        "    .select('EmployeeName', 'JobTitle')\n",
        "    .withColumn('EmployeeName', f.lower(f.col('EmployeeName')))\n",
        "    .withColumn('Employee Initials', f.initcap(f.col('EmployeeName')))\n",
        "    .withColumn('JobTitle', f.split(f.col('JobTitle'), ' ')[0])\n",
        "    .withColumn('Name_length', f.length(f.col('EmployeeName')))\n",
        "    .withColumn('Full_Name_Job', f.concat(f.col('JobTitle'), f.lit(' ') ,f.col('Employee Initials')))\n",
        "    .limit(5)\n",
        "    .toPandas()\n",
        ")"
      ],
      "metadata": {
        "colab": {
          "base_uri": "https://localhost:8080/",
          "height": 206
        },
        "id": "Nu4rrRrJcMzF",
        "outputId": "cdecb1bb-d849-4dc6-8a39-ae529eb757e4"
      },
      "execution_count": null,
      "outputs": [
        {
          "output_type": "execute_result",
          "data": {
            "text/plain": [
              "        EmployeeName JobTitle  Employee Initials  Name_length  \\\n",
              "0     nathaniel ford  GENERAL     Nathaniel Ford           14   \n",
              "1       gary jimenez  CAPTAIN       Gary Jimenez           12   \n",
              "2     albert pardini  CAPTAIN     Albert Pardini           14   \n",
              "3  christopher chong     WIRE  Christopher Chong           17   \n",
              "4    patrick gardner   DEPUTY    Patrick Gardner           15   \n",
              "\n",
              "            Full_Name_Job  \n",
              "0  GENERAL Nathaniel Ford  \n",
              "1    CAPTAIN Gary Jimenez  \n",
              "2  CAPTAIN Albert Pardini  \n",
              "3  WIRE Christopher Chong  \n",
              "4  DEPUTY Patrick Gardner  "
            ],
            "text/html": [
              "\n",
              "  <div id=\"df-f9367887-f9e5-49fc-a5cb-708db47c6f2a\">\n",
              "    <div class=\"colab-df-container\">\n",
              "      <div>\n",
              "<style scoped>\n",
              "    .dataframe tbody tr th:only-of-type {\n",
              "        vertical-align: middle;\n",
              "    }\n",
              "\n",
              "    .dataframe tbody tr th {\n",
              "        vertical-align: top;\n",
              "    }\n",
              "\n",
              "    .dataframe thead th {\n",
              "        text-align: right;\n",
              "    }\n",
              "</style>\n",
              "<table border=\"1\" class=\"dataframe\">\n",
              "  <thead>\n",
              "    <tr style=\"text-align: right;\">\n",
              "      <th></th>\n",
              "      <th>EmployeeName</th>\n",
              "      <th>JobTitle</th>\n",
              "      <th>Employee Initials</th>\n",
              "      <th>Name_length</th>\n",
              "      <th>Full_Name_Job</th>\n",
              "    </tr>\n",
              "  </thead>\n",
              "  <tbody>\n",
              "    <tr>\n",
              "      <th>0</th>\n",
              "      <td>nathaniel ford</td>\n",
              "      <td>GENERAL</td>\n",
              "      <td>Nathaniel Ford</td>\n",
              "      <td>14</td>\n",
              "      <td>GENERAL Nathaniel Ford</td>\n",
              "    </tr>\n",
              "    <tr>\n",
              "      <th>1</th>\n",
              "      <td>gary jimenez</td>\n",
              "      <td>CAPTAIN</td>\n",
              "      <td>Gary Jimenez</td>\n",
              "      <td>12</td>\n",
              "      <td>CAPTAIN Gary Jimenez</td>\n",
              "    </tr>\n",
              "    <tr>\n",
              "      <th>2</th>\n",
              "      <td>albert pardini</td>\n",
              "      <td>CAPTAIN</td>\n",
              "      <td>Albert Pardini</td>\n",
              "      <td>14</td>\n",
              "      <td>CAPTAIN Albert Pardini</td>\n",
              "    </tr>\n",
              "    <tr>\n",
              "      <th>3</th>\n",
              "      <td>christopher chong</td>\n",
              "      <td>WIRE</td>\n",
              "      <td>Christopher Chong</td>\n",
              "      <td>17</td>\n",
              "      <td>WIRE Christopher Chong</td>\n",
              "    </tr>\n",
              "    <tr>\n",
              "      <th>4</th>\n",
              "      <td>patrick gardner</td>\n",
              "      <td>DEPUTY</td>\n",
              "      <td>Patrick Gardner</td>\n",
              "      <td>15</td>\n",
              "      <td>DEPUTY Patrick Gardner</td>\n",
              "    </tr>\n",
              "  </tbody>\n",
              "</table>\n",
              "</div>\n",
              "      <button class=\"colab-df-convert\" onclick=\"convertToInteractive('df-f9367887-f9e5-49fc-a5cb-708db47c6f2a')\"\n",
              "              title=\"Convert this dataframe to an interactive table.\"\n",
              "              style=\"display:none;\">\n",
              "        \n",
              "  <svg xmlns=\"http://www.w3.org/2000/svg\" height=\"24px\"viewBox=\"0 0 24 24\"\n",
              "       width=\"24px\">\n",
              "    <path d=\"M0 0h24v24H0V0z\" fill=\"none\"/>\n",
              "    <path d=\"M18.56 5.44l.94 2.06.94-2.06 2.06-.94-2.06-.94-.94-2.06-.94 2.06-2.06.94zm-11 1L8.5 8.5l.94-2.06 2.06-.94-2.06-.94L8.5 2.5l-.94 2.06-2.06.94zm10 10l.94 2.06.94-2.06 2.06-.94-2.06-.94-.94-2.06-.94 2.06-2.06.94z\"/><path d=\"M17.41 7.96l-1.37-1.37c-.4-.4-.92-.59-1.43-.59-.52 0-1.04.2-1.43.59L10.3 9.45l-7.72 7.72c-.78.78-.78 2.05 0 2.83L4 21.41c.39.39.9.59 1.41.59.51 0 1.02-.2 1.41-.59l7.78-7.78 2.81-2.81c.8-.78.8-2.07 0-2.86zM5.41 20L4 18.59l7.72-7.72 1.47 1.35L5.41 20z\"/>\n",
              "  </svg>\n",
              "      </button>\n",
              "      \n",
              "  <style>\n",
              "    .colab-df-container {\n",
              "      display:flex;\n",
              "      flex-wrap:wrap;\n",
              "      gap: 12px;\n",
              "    }\n",
              "\n",
              "    .colab-df-convert {\n",
              "      background-color: #E8F0FE;\n",
              "      border: none;\n",
              "      border-radius: 50%;\n",
              "      cursor: pointer;\n",
              "      display: none;\n",
              "      fill: #1967D2;\n",
              "      height: 32px;\n",
              "      padding: 0 0 0 0;\n",
              "      width: 32px;\n",
              "    }\n",
              "\n",
              "    .colab-df-convert:hover {\n",
              "      background-color: #E2EBFA;\n",
              "      box-shadow: 0px 1px 2px rgba(60, 64, 67, 0.3), 0px 1px 3px 1px rgba(60, 64, 67, 0.15);\n",
              "      fill: #174EA6;\n",
              "    }\n",
              "\n",
              "    [theme=dark] .colab-df-convert {\n",
              "      background-color: #3B4455;\n",
              "      fill: #D2E3FC;\n",
              "    }\n",
              "\n",
              "    [theme=dark] .colab-df-convert:hover {\n",
              "      background-color: #434B5C;\n",
              "      box-shadow: 0px 1px 3px 1px rgba(0, 0, 0, 0.15);\n",
              "      filter: drop-shadow(0px 1px 2px rgba(0, 0, 0, 0.3));\n",
              "      fill: #FFFFFF;\n",
              "    }\n",
              "  </style>\n",
              "\n",
              "      <script>\n",
              "        const buttonEl =\n",
              "          document.querySelector('#df-f9367887-f9e5-49fc-a5cb-708db47c6f2a button.colab-df-convert');\n",
              "        buttonEl.style.display =\n",
              "          google.colab.kernel.accessAllowed ? 'block' : 'none';\n",
              "\n",
              "        async function convertToInteractive(key) {\n",
              "          const element = document.querySelector('#df-f9367887-f9e5-49fc-a5cb-708db47c6f2a');\n",
              "          const dataTable =\n",
              "            await google.colab.kernel.invokeFunction('convertToInteractive',\n",
              "                                                     [key], {});\n",
              "          if (!dataTable) return;\n",
              "\n",
              "          const docLinkHtml = 'Like what you see? Visit the ' +\n",
              "            '<a target=\"_blank\" href=https://colab.research.google.com/notebooks/data_table.ipynb>data table notebook</a>'\n",
              "            + ' to learn more about interactive tables.';\n",
              "          element.innerHTML = '';\n",
              "          dataTable['output_type'] = 'display_data';\n",
              "          await google.colab.output.renderOutput(dataTable, element);\n",
              "          const docLink = document.createElement('div');\n",
              "          docLink.innerHTML = docLinkHtml;\n",
              "          element.appendChild(docLink);\n",
              "        }\n",
              "      </script>\n",
              "    </div>\n",
              "  </div>\n",
              "  "
            ]
          },
          "metadata": {},
          "execution_count": 40
        }
      ]
    },
    {
      "cell_type": "markdown",
      "source": [
        "##Datas"
      ],
      "metadata": {
        "id": "aXhluBo232MJ"
      }
    },
    {
      "cell_type": "markdown",
      "source": [
        "**Datas:**\n",
        "\n",
        "* `add_months()`: retorna a data depois de adicionar uma quantidade especificada de meses\n",
        "* `months_between()`: retorna a diferença entre as duas datas em meses\n",
        "* `datediff()`: retorna a diferença entre duas datas em dias\n",
        "* `date_add()`: retorna a data depois de adicionar x dias\n",
        "* `date_sub()`: retorna a data depois de subtrair x dias\n",
        "* `next_day()`: retorna o dia seguinte de alguma data\n",
        "* `current_date()`: retorna a data atual\n",
        "* `dayofweek() / dayofmonth() / dayofyear()`: retorna o dia relativo da semana, mes e ano\n",
        "* `weekofyear()`: retorna a semana relativa do ano\n",
        "* `second() / minute() / hour()`: retorna segundos, minutos ou horas de uma coluna datetime\n",
        "* `month() / year()`: retorna o mes ou ano de uma coluna de data\n",
        "* `last_day()`: retorna o último dia do mes que a data pertence\n",
        "* `to_date()`: transforma a coluna no tipo data (t.DateType())\n",
        "* `trunc()`: formata a data para a unidade especificada\n",
        "    * `year`:\"{ano}-01-01\"\n",
        "    * `month`: \"{ano}-{mes}-01\"\n"
      ],
      "metadata": {
        "id": "4Y6WxnaGe5Hs"
      }
    },
    {
      "cell_type": "code",
      "source": [
        "(\n",
        "    df\n",
        "    .select('EmployeeName', 'Year')\n",
        "    .withColumn('Date_Year', f.to_date(f.col('Year').cast('string'),'yyyy'))\n",
        "    .withColumn('Dif_days', f.datediff(f.current_date(),f.col('Date_Year')))\n",
        "    .withColumn('Dif_months', f.floor(f.months_between(f.current_date(),f.col('Date_Year'))))\n",
        "    .withColumn('Dif_years', f.floor(f.col('Dif_days')/365))\n",
        "    .limit(5)\n",
        "    .toPandas()\n",
        ")"
      ],
      "metadata": {
        "colab": {
          "base_uri": "https://localhost:8080/",
          "height": 206
        },
        "id": "tVcCmGb95Zex",
        "outputId": "04990b7f-877c-41ae-9169-26dcdb73f913"
      },
      "execution_count": null,
      "outputs": [
        {
          "output_type": "execute_result",
          "data": {
            "text/plain": [
              "        EmployeeName  Year   Date_Year  Dif_days  Dif_months  Dif_years\n",
              "0     NATHANIEL FORD  2011  2011-01-01      4124         135         11\n",
              "1       GARY JIMENEZ  2011  2011-01-01      4124         135         11\n",
              "2     ALBERT PARDINI  2011  2011-01-01      4124         135         11\n",
              "3  CHRISTOPHER CHONG  2011  2011-01-01      4124         135         11\n",
              "4    PATRICK GARDNER  2011  2011-01-01      4124         135         11"
            ],
            "text/html": [
              "\n",
              "  <div id=\"df-8cc57662-61a8-4bdd-81d3-c41d0b495d7a\">\n",
              "    <div class=\"colab-df-container\">\n",
              "      <div>\n",
              "<style scoped>\n",
              "    .dataframe tbody tr th:only-of-type {\n",
              "        vertical-align: middle;\n",
              "    }\n",
              "\n",
              "    .dataframe tbody tr th {\n",
              "        vertical-align: top;\n",
              "    }\n",
              "\n",
              "    .dataframe thead th {\n",
              "        text-align: right;\n",
              "    }\n",
              "</style>\n",
              "<table border=\"1\" class=\"dataframe\">\n",
              "  <thead>\n",
              "    <tr style=\"text-align: right;\">\n",
              "      <th></th>\n",
              "      <th>EmployeeName</th>\n",
              "      <th>Year</th>\n",
              "      <th>Date_Year</th>\n",
              "      <th>Dif_days</th>\n",
              "      <th>Dif_months</th>\n",
              "      <th>Dif_years</th>\n",
              "    </tr>\n",
              "  </thead>\n",
              "  <tbody>\n",
              "    <tr>\n",
              "      <th>0</th>\n",
              "      <td>NATHANIEL FORD</td>\n",
              "      <td>2011</td>\n",
              "      <td>2011-01-01</td>\n",
              "      <td>4124</td>\n",
              "      <td>135</td>\n",
              "      <td>11</td>\n",
              "    </tr>\n",
              "    <tr>\n",
              "      <th>1</th>\n",
              "      <td>GARY JIMENEZ</td>\n",
              "      <td>2011</td>\n",
              "      <td>2011-01-01</td>\n",
              "      <td>4124</td>\n",
              "      <td>135</td>\n",
              "      <td>11</td>\n",
              "    </tr>\n",
              "    <tr>\n",
              "      <th>2</th>\n",
              "      <td>ALBERT PARDINI</td>\n",
              "      <td>2011</td>\n",
              "      <td>2011-01-01</td>\n",
              "      <td>4124</td>\n",
              "      <td>135</td>\n",
              "      <td>11</td>\n",
              "    </tr>\n",
              "    <tr>\n",
              "      <th>3</th>\n",
              "      <td>CHRISTOPHER CHONG</td>\n",
              "      <td>2011</td>\n",
              "      <td>2011-01-01</td>\n",
              "      <td>4124</td>\n",
              "      <td>135</td>\n",
              "      <td>11</td>\n",
              "    </tr>\n",
              "    <tr>\n",
              "      <th>4</th>\n",
              "      <td>PATRICK GARDNER</td>\n",
              "      <td>2011</td>\n",
              "      <td>2011-01-01</td>\n",
              "      <td>4124</td>\n",
              "      <td>135</td>\n",
              "      <td>11</td>\n",
              "    </tr>\n",
              "  </tbody>\n",
              "</table>\n",
              "</div>\n",
              "      <button class=\"colab-df-convert\" onclick=\"convertToInteractive('df-8cc57662-61a8-4bdd-81d3-c41d0b495d7a')\"\n",
              "              title=\"Convert this dataframe to an interactive table.\"\n",
              "              style=\"display:none;\">\n",
              "        \n",
              "  <svg xmlns=\"http://www.w3.org/2000/svg\" height=\"24px\"viewBox=\"0 0 24 24\"\n",
              "       width=\"24px\">\n",
              "    <path d=\"M0 0h24v24H0V0z\" fill=\"none\"/>\n",
              "    <path d=\"M18.56 5.44l.94 2.06.94-2.06 2.06-.94-2.06-.94-.94-2.06-.94 2.06-2.06.94zm-11 1L8.5 8.5l.94-2.06 2.06-.94-2.06-.94L8.5 2.5l-.94 2.06-2.06.94zm10 10l.94 2.06.94-2.06 2.06-.94-2.06-.94-.94-2.06-.94 2.06-2.06.94z\"/><path d=\"M17.41 7.96l-1.37-1.37c-.4-.4-.92-.59-1.43-.59-.52 0-1.04.2-1.43.59L10.3 9.45l-7.72 7.72c-.78.78-.78 2.05 0 2.83L4 21.41c.39.39.9.59 1.41.59.51 0 1.02-.2 1.41-.59l7.78-7.78 2.81-2.81c.8-.78.8-2.07 0-2.86zM5.41 20L4 18.59l7.72-7.72 1.47 1.35L5.41 20z\"/>\n",
              "  </svg>\n",
              "      </button>\n",
              "      \n",
              "  <style>\n",
              "    .colab-df-container {\n",
              "      display:flex;\n",
              "      flex-wrap:wrap;\n",
              "      gap: 12px;\n",
              "    }\n",
              "\n",
              "    .colab-df-convert {\n",
              "      background-color: #E8F0FE;\n",
              "      border: none;\n",
              "      border-radius: 50%;\n",
              "      cursor: pointer;\n",
              "      display: none;\n",
              "      fill: #1967D2;\n",
              "      height: 32px;\n",
              "      padding: 0 0 0 0;\n",
              "      width: 32px;\n",
              "    }\n",
              "\n",
              "    .colab-df-convert:hover {\n",
              "      background-color: #E2EBFA;\n",
              "      box-shadow: 0px 1px 2px rgba(60, 64, 67, 0.3), 0px 1px 3px 1px rgba(60, 64, 67, 0.15);\n",
              "      fill: #174EA6;\n",
              "    }\n",
              "\n",
              "    [theme=dark] .colab-df-convert {\n",
              "      background-color: #3B4455;\n",
              "      fill: #D2E3FC;\n",
              "    }\n",
              "\n",
              "    [theme=dark] .colab-df-convert:hover {\n",
              "      background-color: #434B5C;\n",
              "      box-shadow: 0px 1px 3px 1px rgba(0, 0, 0, 0.15);\n",
              "      filter: drop-shadow(0px 1px 2px rgba(0, 0, 0, 0.3));\n",
              "      fill: #FFFFFF;\n",
              "    }\n",
              "  </style>\n",
              "\n",
              "      <script>\n",
              "        const buttonEl =\n",
              "          document.querySelector('#df-8cc57662-61a8-4bdd-81d3-c41d0b495d7a button.colab-df-convert');\n",
              "        buttonEl.style.display =\n",
              "          google.colab.kernel.accessAllowed ? 'block' : 'none';\n",
              "\n",
              "        async function convertToInteractive(key) {\n",
              "          const element = document.querySelector('#df-8cc57662-61a8-4bdd-81d3-c41d0b495d7a');\n",
              "          const dataTable =\n",
              "            await google.colab.kernel.invokeFunction('convertToInteractive',\n",
              "                                                     [key], {});\n",
              "          if (!dataTable) return;\n",
              "\n",
              "          const docLinkHtml = 'Like what you see? Visit the ' +\n",
              "            '<a target=\"_blank\" href=https://colab.research.google.com/notebooks/data_table.ipynb>data table notebook</a>'\n",
              "            + ' to learn more about interactive tables.';\n",
              "          element.innerHTML = '';\n",
              "          dataTable['output_type'] = 'display_data';\n",
              "          await google.colab.output.renderOutput(dataTable, element);\n",
              "          const docLink = document.createElement('div');\n",
              "          docLink.innerHTML = docLinkHtml;\n",
              "          element.appendChild(docLink);\n",
              "        }\n",
              "      </script>\n",
              "    </div>\n",
              "  </div>\n",
              "  "
            ]
          },
          "metadata": {},
          "execution_count": 34
        }
      ]
    },
    {
      "cell_type": "markdown",
      "source": [
        "**Tabalhando com datas**"
      ],
      "metadata": {
        "id": "8ugK-iFyt3Gr"
      }
    },
    {
      "cell_type": "code",
      "source": [
        "from pyspark.sql.types import *\n",
        "\n",
        "schema = StructType([\n",
        "    StructField('hora', StringType()),\n",
        "    StructField('data', StringType())\n",
        "])\n",
        "\n",
        "df_hora = spark.createDataFrame([('20:37:42', '2021-07-01'),('21:45:39', '2021-08-08')], schema = schema)\n"
      ],
      "metadata": {
        "id": "GcWvVPaktIQA"
      },
      "execution_count": null,
      "outputs": []
    },
    {
      "cell_type": "code",
      "source": [
        "# (\n",
        "#     df_hora\n",
        "#     .withColumn('data', f.to_date(f.col('data')))\n",
        "#     .withColumn('TimeStamp', f.to_timestamp(f.concat_ws(' ',f.col('data'),f.concat_ws(':',f.col('hora')[0:2],f.col('hora')[3:2],f.col('hora')[5:7]))))\n",
        "#     .withColumn('TimeStamp_hora', f.hour(f.col('TimeStamp')))\n",
        "#     .withColumn('TimeStamp_min', f.minute(f.col('TimeStamp')))\n",
        "#     .withColumn('TimeStamp_segundos', f.second(f.col('TimeStamp')))\n",
        "#     .show()\n",
        "# )\n",
        "\n",
        "(\n",
        "    df_hora\n",
        "    .withColumn('Teste_timestamp', f.date_format(f.to_timestamp(f.concat_ws(' ', f.col('data'),f.col('hora'))),'yyyy-MM-dd HH:mm:ss'))\n",
        "    .limit(5)\n",
        "    .toPandas()\n",
        ")"
      ],
      "metadata": {
        "colab": {
          "base_uri": "https://localhost:8080/",
          "height": 112
        },
        "id": "ewxS5b2ztc06",
        "outputId": "5e6764aa-c6ab-4ab2-b9b2-1cb8e678e7e9"
      },
      "execution_count": null,
      "outputs": [
        {
          "output_type": "execute_result",
          "data": {
            "text/plain": [
              "       hora        data      Teste_timestamp\n",
              "0  20:37:42  2021-07-01  2021-07-01 20:37:42\n",
              "1  21:45:39  2021-08-08  2021-08-08 21:45:39"
            ],
            "text/html": [
              "\n",
              "  <div id=\"df-cdf1a1b8-e7bd-45f8-82af-0981324b0e70\">\n",
              "    <div class=\"colab-df-container\">\n",
              "      <div>\n",
              "<style scoped>\n",
              "    .dataframe tbody tr th:only-of-type {\n",
              "        vertical-align: middle;\n",
              "    }\n",
              "\n",
              "    .dataframe tbody tr th {\n",
              "        vertical-align: top;\n",
              "    }\n",
              "\n",
              "    .dataframe thead th {\n",
              "        text-align: right;\n",
              "    }\n",
              "</style>\n",
              "<table border=\"1\" class=\"dataframe\">\n",
              "  <thead>\n",
              "    <tr style=\"text-align: right;\">\n",
              "      <th></th>\n",
              "      <th>hora</th>\n",
              "      <th>data</th>\n",
              "      <th>Teste_timestamp</th>\n",
              "    </tr>\n",
              "  </thead>\n",
              "  <tbody>\n",
              "    <tr>\n",
              "      <th>0</th>\n",
              "      <td>20:37:42</td>\n",
              "      <td>2021-07-01</td>\n",
              "      <td>2021-07-01 20:37:42</td>\n",
              "    </tr>\n",
              "    <tr>\n",
              "      <th>1</th>\n",
              "      <td>21:45:39</td>\n",
              "      <td>2021-08-08</td>\n",
              "      <td>2021-08-08 21:45:39</td>\n",
              "    </tr>\n",
              "  </tbody>\n",
              "</table>\n",
              "</div>\n",
              "      <button class=\"colab-df-convert\" onclick=\"convertToInteractive('df-cdf1a1b8-e7bd-45f8-82af-0981324b0e70')\"\n",
              "              title=\"Convert this dataframe to an interactive table.\"\n",
              "              style=\"display:none;\">\n",
              "        \n",
              "  <svg xmlns=\"http://www.w3.org/2000/svg\" height=\"24px\"viewBox=\"0 0 24 24\"\n",
              "       width=\"24px\">\n",
              "    <path d=\"M0 0h24v24H0V0z\" fill=\"none\"/>\n",
              "    <path d=\"M18.56 5.44l.94 2.06.94-2.06 2.06-.94-2.06-.94-.94-2.06-.94 2.06-2.06.94zm-11 1L8.5 8.5l.94-2.06 2.06-.94-2.06-.94L8.5 2.5l-.94 2.06-2.06.94zm10 10l.94 2.06.94-2.06 2.06-.94-2.06-.94-.94-2.06-.94 2.06-2.06.94z\"/><path d=\"M17.41 7.96l-1.37-1.37c-.4-.4-.92-.59-1.43-.59-.52 0-1.04.2-1.43.59L10.3 9.45l-7.72 7.72c-.78.78-.78 2.05 0 2.83L4 21.41c.39.39.9.59 1.41.59.51 0 1.02-.2 1.41-.59l7.78-7.78 2.81-2.81c.8-.78.8-2.07 0-2.86zM5.41 20L4 18.59l7.72-7.72 1.47 1.35L5.41 20z\"/>\n",
              "  </svg>\n",
              "      </button>\n",
              "      \n",
              "  <style>\n",
              "    .colab-df-container {\n",
              "      display:flex;\n",
              "      flex-wrap:wrap;\n",
              "      gap: 12px;\n",
              "    }\n",
              "\n",
              "    .colab-df-convert {\n",
              "      background-color: #E8F0FE;\n",
              "      border: none;\n",
              "      border-radius: 50%;\n",
              "      cursor: pointer;\n",
              "      display: none;\n",
              "      fill: #1967D2;\n",
              "      height: 32px;\n",
              "      padding: 0 0 0 0;\n",
              "      width: 32px;\n",
              "    }\n",
              "\n",
              "    .colab-df-convert:hover {\n",
              "      background-color: #E2EBFA;\n",
              "      box-shadow: 0px 1px 2px rgba(60, 64, 67, 0.3), 0px 1px 3px 1px rgba(60, 64, 67, 0.15);\n",
              "      fill: #174EA6;\n",
              "    }\n",
              "\n",
              "    [theme=dark] .colab-df-convert {\n",
              "      background-color: #3B4455;\n",
              "      fill: #D2E3FC;\n",
              "    }\n",
              "\n",
              "    [theme=dark] .colab-df-convert:hover {\n",
              "      background-color: #434B5C;\n",
              "      box-shadow: 0px 1px 3px 1px rgba(0, 0, 0, 0.15);\n",
              "      filter: drop-shadow(0px 1px 2px rgba(0, 0, 0, 0.3));\n",
              "      fill: #FFFFFF;\n",
              "    }\n",
              "  </style>\n",
              "\n",
              "      <script>\n",
              "        const buttonEl =\n",
              "          document.querySelector('#df-cdf1a1b8-e7bd-45f8-82af-0981324b0e70 button.colab-df-convert');\n",
              "        buttonEl.style.display =\n",
              "          google.colab.kernel.accessAllowed ? 'block' : 'none';\n",
              "\n",
              "        async function convertToInteractive(key) {\n",
              "          const element = document.querySelector('#df-cdf1a1b8-e7bd-45f8-82af-0981324b0e70');\n",
              "          const dataTable =\n",
              "            await google.colab.kernel.invokeFunction('convertToInteractive',\n",
              "                                                     [key], {});\n",
              "          if (!dataTable) return;\n",
              "\n",
              "          const docLinkHtml = 'Like what you see? Visit the ' +\n",
              "            '<a target=\"_blank\" href=https://colab.research.google.com/notebooks/data_table.ipynb>data table notebook</a>'\n",
              "            + ' to learn more about interactive tables.';\n",
              "          element.innerHTML = '';\n",
              "          dataTable['output_type'] = 'display_data';\n",
              "          await google.colab.output.renderOutput(dataTable, element);\n",
              "          const docLink = document.createElement('div');\n",
              "          docLink.innerHTML = docLinkHtml;\n",
              "          element.appendChild(docLink);\n",
              "        }\n",
              "      </script>\n",
              "    </div>\n",
              "  </div>\n",
              "  "
            ]
          },
          "metadata": {},
          "execution_count": 156
        }
      ]
    },
    {
      "cell_type": "markdown",
      "source": [
        "##Arrays"
      ],
      "metadata": {
        "id": "MqVNuL0U8f0y"
      }
    },
    {
      "cell_type": "markdown",
      "source": [
        "**Arrays:**\n",
        "\n",
        "* `array()`: constrói um array com as colunas selecionadas\n",
        "* `flatten()`: transforma um array de arrays em um array unico\n",
        "* `explode()`: retorna uma nova linha para cada elemento do array\n",
        "* `size()`: retorna o número de elementos no array\n",
        "* `sort_array()`: ordena os elementos do array, crescente ou decrescente\n",
        "* `reverse()`: reverte a ordem dos elementos do array\n",
        "* `array_distinct()`: remove elementos duplicados do array\n",
        "* `array_contains()`: verifica se o array contem o elemento especificado\n",
        "* `array_overlap()`: a partir de 2 colunas de arrays, cerifica se elas tem algum elemento em comum, retornando True ou False\n",
        "* `array_union()`: a partir de 2 colunas de arrays, retorna um array com elementos das duas colunas, sem duplicatas\n",
        "* `array_except()`: a partir de 2 colunas de arrays, retorna um array com os elementos que estão em uma coluna mas não estão na outra, sem duplicatas\n",
        "* `array_intersect()`: a partir de 2 colunas de arrays, retorna um array com os elementos que constam nas duas colunas, sem duplicatas\n",
        "* `array_join()`: retorna um string após concatenar os elementos do array, usando o delimitador que foi especificado\n",
        "* `array_max() / array_min()`: retorno o máximo e o mínimo valor do array\n",
        "* `array_remove()`: remove todos os lementos do array iguais ao valor especificado"
      ],
      "metadata": {
        "id": "cgz992I38khs"
      }
    },
    {
      "cell_type": "code",
      "source": [
        "(\n",
        "    df\n",
        "    .select('JobTitle')\n",
        "    .withColumn('job_array', f.split(f.col('JobTitle'),' '))\n",
        "    .withColumn('first_job', f.col('job_array')[0])\n",
        "    .withColumn('second_job', f.col('job_array')[1])\n",
        "    .withColumn('job_full', f.array_join(f.col('job_array'), ' '))\n",
        "    .limit(5)\n",
        "    .toPandas()\n",
        ")"
      ],
      "metadata": {
        "id": "9py2Jeg28gsw",
        "colab": {
          "base_uri": "https://localhost:8080/",
          "height": 389
        },
        "outputId": "4d435011-115e-401f-8607-1d096271a075"
      },
      "execution_count": null,
      "outputs": [
        {
          "output_type": "execute_result",
          "data": {
            "text/plain": [
              "                                         JobTitle  \\\n",
              "0  GENERAL MANAGER-METROPOLITAN TRANSIT AUTHORITY   \n",
              "1                 CAPTAIN III (POLICE DEPARTMENT)   \n",
              "2                 CAPTAIN III (POLICE DEPARTMENT)   \n",
              "3            WIRE ROPE CABLE MAINTENANCE MECHANIC   \n",
              "4    DEPUTY CHIEF OF DEPARTMENT,(FIRE DEPARTMENT)   \n",
              "\n",
              "                                           job_array first_job  \\\n",
              "0  [GENERAL, MANAGER-METROPOLITAN, TRANSIT, AUTHO...   GENERAL   \n",
              "1               [CAPTAIN, III, (POLICE, DEPARTMENT)]   CAPTAIN   \n",
              "2               [CAPTAIN, III, (POLICE, DEPARTMENT)]   CAPTAIN   \n",
              "3         [WIRE, ROPE, CABLE, MAINTENANCE, MECHANIC]      WIRE   \n",
              "4  [DEPUTY, CHIEF, OF, DEPARTMENT,(FIRE, DEPARTME...    DEPUTY   \n",
              "\n",
              "             second_job                                        job_full  \n",
              "0  MANAGER-METROPOLITAN  GENERAL MANAGER-METROPOLITAN TRANSIT AUTHORITY  \n",
              "1                   III                 CAPTAIN III (POLICE DEPARTMENT)  \n",
              "2                   III                 CAPTAIN III (POLICE DEPARTMENT)  \n",
              "3                  ROPE            WIRE ROPE CABLE MAINTENANCE MECHANIC  \n",
              "4                 CHIEF    DEPUTY CHIEF OF DEPARTMENT,(FIRE DEPARTMENT)  "
            ],
            "text/html": [
              "\n",
              "  <div id=\"df-13c7f738-1a9a-429e-aa8c-81ed722849ae\">\n",
              "    <div class=\"colab-df-container\">\n",
              "      <div>\n",
              "<style scoped>\n",
              "    .dataframe tbody tr th:only-of-type {\n",
              "        vertical-align: middle;\n",
              "    }\n",
              "\n",
              "    .dataframe tbody tr th {\n",
              "        vertical-align: top;\n",
              "    }\n",
              "\n",
              "    .dataframe thead th {\n",
              "        text-align: right;\n",
              "    }\n",
              "</style>\n",
              "<table border=\"1\" class=\"dataframe\">\n",
              "  <thead>\n",
              "    <tr style=\"text-align: right;\">\n",
              "      <th></th>\n",
              "      <th>JobTitle</th>\n",
              "      <th>job_array</th>\n",
              "      <th>first_job</th>\n",
              "      <th>second_job</th>\n",
              "      <th>job_full</th>\n",
              "    </tr>\n",
              "  </thead>\n",
              "  <tbody>\n",
              "    <tr>\n",
              "      <th>0</th>\n",
              "      <td>GENERAL MANAGER-METROPOLITAN TRANSIT AUTHORITY</td>\n",
              "      <td>[GENERAL, MANAGER-METROPOLITAN, TRANSIT, AUTHO...</td>\n",
              "      <td>GENERAL</td>\n",
              "      <td>MANAGER-METROPOLITAN</td>\n",
              "      <td>GENERAL MANAGER-METROPOLITAN TRANSIT AUTHORITY</td>\n",
              "    </tr>\n",
              "    <tr>\n",
              "      <th>1</th>\n",
              "      <td>CAPTAIN III (POLICE DEPARTMENT)</td>\n",
              "      <td>[CAPTAIN, III, (POLICE, DEPARTMENT)]</td>\n",
              "      <td>CAPTAIN</td>\n",
              "      <td>III</td>\n",
              "      <td>CAPTAIN III (POLICE DEPARTMENT)</td>\n",
              "    </tr>\n",
              "    <tr>\n",
              "      <th>2</th>\n",
              "      <td>CAPTAIN III (POLICE DEPARTMENT)</td>\n",
              "      <td>[CAPTAIN, III, (POLICE, DEPARTMENT)]</td>\n",
              "      <td>CAPTAIN</td>\n",
              "      <td>III</td>\n",
              "      <td>CAPTAIN III (POLICE DEPARTMENT)</td>\n",
              "    </tr>\n",
              "    <tr>\n",
              "      <th>3</th>\n",
              "      <td>WIRE ROPE CABLE MAINTENANCE MECHANIC</td>\n",
              "      <td>[WIRE, ROPE, CABLE, MAINTENANCE, MECHANIC]</td>\n",
              "      <td>WIRE</td>\n",
              "      <td>ROPE</td>\n",
              "      <td>WIRE ROPE CABLE MAINTENANCE MECHANIC</td>\n",
              "    </tr>\n",
              "    <tr>\n",
              "      <th>4</th>\n",
              "      <td>DEPUTY CHIEF OF DEPARTMENT,(FIRE DEPARTMENT)</td>\n",
              "      <td>[DEPUTY, CHIEF, OF, DEPARTMENT,(FIRE, DEPARTME...</td>\n",
              "      <td>DEPUTY</td>\n",
              "      <td>CHIEF</td>\n",
              "      <td>DEPUTY CHIEF OF DEPARTMENT,(FIRE DEPARTMENT)</td>\n",
              "    </tr>\n",
              "  </tbody>\n",
              "</table>\n",
              "</div>\n",
              "      <button class=\"colab-df-convert\" onclick=\"convertToInteractive('df-13c7f738-1a9a-429e-aa8c-81ed722849ae')\"\n",
              "              title=\"Convert this dataframe to an interactive table.\"\n",
              "              style=\"display:none;\">\n",
              "        \n",
              "  <svg xmlns=\"http://www.w3.org/2000/svg\" height=\"24px\"viewBox=\"0 0 24 24\"\n",
              "       width=\"24px\">\n",
              "    <path d=\"M0 0h24v24H0V0z\" fill=\"none\"/>\n",
              "    <path d=\"M18.56 5.44l.94 2.06.94-2.06 2.06-.94-2.06-.94-.94-2.06-.94 2.06-2.06.94zm-11 1L8.5 8.5l.94-2.06 2.06-.94-2.06-.94L8.5 2.5l-.94 2.06-2.06.94zm10 10l.94 2.06.94-2.06 2.06-.94-2.06-.94-.94-2.06-.94 2.06-2.06.94z\"/><path d=\"M17.41 7.96l-1.37-1.37c-.4-.4-.92-.59-1.43-.59-.52 0-1.04.2-1.43.59L10.3 9.45l-7.72 7.72c-.78.78-.78 2.05 0 2.83L4 21.41c.39.39.9.59 1.41.59.51 0 1.02-.2 1.41-.59l7.78-7.78 2.81-2.81c.8-.78.8-2.07 0-2.86zM5.41 20L4 18.59l7.72-7.72 1.47 1.35L5.41 20z\"/>\n",
              "  </svg>\n",
              "      </button>\n",
              "      \n",
              "  <style>\n",
              "    .colab-df-container {\n",
              "      display:flex;\n",
              "      flex-wrap:wrap;\n",
              "      gap: 12px;\n",
              "    }\n",
              "\n",
              "    .colab-df-convert {\n",
              "      background-color: #E8F0FE;\n",
              "      border: none;\n",
              "      border-radius: 50%;\n",
              "      cursor: pointer;\n",
              "      display: none;\n",
              "      fill: #1967D2;\n",
              "      height: 32px;\n",
              "      padding: 0 0 0 0;\n",
              "      width: 32px;\n",
              "    }\n",
              "\n",
              "    .colab-df-convert:hover {\n",
              "      background-color: #E2EBFA;\n",
              "      box-shadow: 0px 1px 2px rgba(60, 64, 67, 0.3), 0px 1px 3px 1px rgba(60, 64, 67, 0.15);\n",
              "      fill: #174EA6;\n",
              "    }\n",
              "\n",
              "    [theme=dark] .colab-df-convert {\n",
              "      background-color: #3B4455;\n",
              "      fill: #D2E3FC;\n",
              "    }\n",
              "\n",
              "    [theme=dark] .colab-df-convert:hover {\n",
              "      background-color: #434B5C;\n",
              "      box-shadow: 0px 1px 3px 1px rgba(0, 0, 0, 0.15);\n",
              "      filter: drop-shadow(0px 1px 2px rgba(0, 0, 0, 0.3));\n",
              "      fill: #FFFFFF;\n",
              "    }\n",
              "  </style>\n",
              "\n",
              "      <script>\n",
              "        const buttonEl =\n",
              "          document.querySelector('#df-13c7f738-1a9a-429e-aa8c-81ed722849ae button.colab-df-convert');\n",
              "        buttonEl.style.display =\n",
              "          google.colab.kernel.accessAllowed ? 'block' : 'none';\n",
              "\n",
              "        async function convertToInteractive(key) {\n",
              "          const element = document.querySelector('#df-13c7f738-1a9a-429e-aa8c-81ed722849ae');\n",
              "          const dataTable =\n",
              "            await google.colab.kernel.invokeFunction('convertToInteractive',\n",
              "                                                     [key], {});\n",
              "          if (!dataTable) return;\n",
              "\n",
              "          const docLinkHtml = 'Like what you see? Visit the ' +\n",
              "            '<a target=\"_blank\" href=https://colab.research.google.com/notebooks/data_table.ipynb>data table notebook</a>'\n",
              "            + ' to learn more about interactive tables.';\n",
              "          element.innerHTML = '';\n",
              "          dataTable['output_type'] = 'display_data';\n",
              "          await google.colab.output.renderOutput(dataTable, element);\n",
              "          const docLink = document.createElement('div');\n",
              "          docLink.innerHTML = docLinkHtml;\n",
              "          element.appendChild(docLink);\n",
              "        }\n",
              "      </script>\n",
              "    </div>\n",
              "  </div>\n",
              "  "
            ]
          },
          "metadata": {},
          "execution_count": 18
        }
      ]
    },
    {
      "cell_type": "code",
      "source": [
        "(\n",
        "    df\n",
        "    .select('Id','JobTitle')\n",
        "    .withColumn('job_array', f.split(f.col('JobTitle'),' '))\n",
        "    .withColumn('array_linha a linha', f.explode(f.col('job_array')))\n",
        "    .limit(10)\n",
        "    .toPandas()\n",
        ")"
      ],
      "metadata": {
        "colab": {
          "base_uri": "https://localhost:8080/",
          "height": 476
        },
        "id": "hehZwiVcWp1R",
        "outputId": "1fd5507d-1de7-4da4-86ed-460c9fb82e38"
      },
      "execution_count": null,
      "outputs": [
        {
          "output_type": "execute_result",
          "data": {
            "text/plain": [
              "   Id                                        JobTitle  \\\n",
              "0   1  GENERAL MANAGER-METROPOLITAN TRANSIT AUTHORITY   \n",
              "1   1  GENERAL MANAGER-METROPOLITAN TRANSIT AUTHORITY   \n",
              "2   1  GENERAL MANAGER-METROPOLITAN TRANSIT AUTHORITY   \n",
              "3   1  GENERAL MANAGER-METROPOLITAN TRANSIT AUTHORITY   \n",
              "4   2                 CAPTAIN III (POLICE DEPARTMENT)   \n",
              "5   2                 CAPTAIN III (POLICE DEPARTMENT)   \n",
              "6   2                 CAPTAIN III (POLICE DEPARTMENT)   \n",
              "7   2                 CAPTAIN III (POLICE DEPARTMENT)   \n",
              "8   3                 CAPTAIN III (POLICE DEPARTMENT)   \n",
              "9   3                 CAPTAIN III (POLICE DEPARTMENT)   \n",
              "\n",
              "                                           job_array   array_linha a linha  \n",
              "0  [GENERAL, MANAGER-METROPOLITAN, TRANSIT, AUTHO...               GENERAL  \n",
              "1  [GENERAL, MANAGER-METROPOLITAN, TRANSIT, AUTHO...  MANAGER-METROPOLITAN  \n",
              "2  [GENERAL, MANAGER-METROPOLITAN, TRANSIT, AUTHO...               TRANSIT  \n",
              "3  [GENERAL, MANAGER-METROPOLITAN, TRANSIT, AUTHO...             AUTHORITY  \n",
              "4               [CAPTAIN, III, (POLICE, DEPARTMENT)]               CAPTAIN  \n",
              "5               [CAPTAIN, III, (POLICE, DEPARTMENT)]                   III  \n",
              "6               [CAPTAIN, III, (POLICE, DEPARTMENT)]               (POLICE  \n",
              "7               [CAPTAIN, III, (POLICE, DEPARTMENT)]           DEPARTMENT)  \n",
              "8               [CAPTAIN, III, (POLICE, DEPARTMENT)]               CAPTAIN  \n",
              "9               [CAPTAIN, III, (POLICE, DEPARTMENT)]                   III  "
            ],
            "text/html": [
              "\n",
              "  <div id=\"df-be58ddf0-0b80-4a0f-8d98-2ff3ae289a4f\">\n",
              "    <div class=\"colab-df-container\">\n",
              "      <div>\n",
              "<style scoped>\n",
              "    .dataframe tbody tr th:only-of-type {\n",
              "        vertical-align: middle;\n",
              "    }\n",
              "\n",
              "    .dataframe tbody tr th {\n",
              "        vertical-align: top;\n",
              "    }\n",
              "\n",
              "    .dataframe thead th {\n",
              "        text-align: right;\n",
              "    }\n",
              "</style>\n",
              "<table border=\"1\" class=\"dataframe\">\n",
              "  <thead>\n",
              "    <tr style=\"text-align: right;\">\n",
              "      <th></th>\n",
              "      <th>Id</th>\n",
              "      <th>JobTitle</th>\n",
              "      <th>job_array</th>\n",
              "      <th>array_linha a linha</th>\n",
              "    </tr>\n",
              "  </thead>\n",
              "  <tbody>\n",
              "    <tr>\n",
              "      <th>0</th>\n",
              "      <td>1</td>\n",
              "      <td>GENERAL MANAGER-METROPOLITAN TRANSIT AUTHORITY</td>\n",
              "      <td>[GENERAL, MANAGER-METROPOLITAN, TRANSIT, AUTHO...</td>\n",
              "      <td>GENERAL</td>\n",
              "    </tr>\n",
              "    <tr>\n",
              "      <th>1</th>\n",
              "      <td>1</td>\n",
              "      <td>GENERAL MANAGER-METROPOLITAN TRANSIT AUTHORITY</td>\n",
              "      <td>[GENERAL, MANAGER-METROPOLITAN, TRANSIT, AUTHO...</td>\n",
              "      <td>MANAGER-METROPOLITAN</td>\n",
              "    </tr>\n",
              "    <tr>\n",
              "      <th>2</th>\n",
              "      <td>1</td>\n",
              "      <td>GENERAL MANAGER-METROPOLITAN TRANSIT AUTHORITY</td>\n",
              "      <td>[GENERAL, MANAGER-METROPOLITAN, TRANSIT, AUTHO...</td>\n",
              "      <td>TRANSIT</td>\n",
              "    </tr>\n",
              "    <tr>\n",
              "      <th>3</th>\n",
              "      <td>1</td>\n",
              "      <td>GENERAL MANAGER-METROPOLITAN TRANSIT AUTHORITY</td>\n",
              "      <td>[GENERAL, MANAGER-METROPOLITAN, TRANSIT, AUTHO...</td>\n",
              "      <td>AUTHORITY</td>\n",
              "    </tr>\n",
              "    <tr>\n",
              "      <th>4</th>\n",
              "      <td>2</td>\n",
              "      <td>CAPTAIN III (POLICE DEPARTMENT)</td>\n",
              "      <td>[CAPTAIN, III, (POLICE, DEPARTMENT)]</td>\n",
              "      <td>CAPTAIN</td>\n",
              "    </tr>\n",
              "    <tr>\n",
              "      <th>5</th>\n",
              "      <td>2</td>\n",
              "      <td>CAPTAIN III (POLICE DEPARTMENT)</td>\n",
              "      <td>[CAPTAIN, III, (POLICE, DEPARTMENT)]</td>\n",
              "      <td>III</td>\n",
              "    </tr>\n",
              "    <tr>\n",
              "      <th>6</th>\n",
              "      <td>2</td>\n",
              "      <td>CAPTAIN III (POLICE DEPARTMENT)</td>\n",
              "      <td>[CAPTAIN, III, (POLICE, DEPARTMENT)]</td>\n",
              "      <td>(POLICE</td>\n",
              "    </tr>\n",
              "    <tr>\n",
              "      <th>7</th>\n",
              "      <td>2</td>\n",
              "      <td>CAPTAIN III (POLICE DEPARTMENT)</td>\n",
              "      <td>[CAPTAIN, III, (POLICE, DEPARTMENT)]</td>\n",
              "      <td>DEPARTMENT)</td>\n",
              "    </tr>\n",
              "    <tr>\n",
              "      <th>8</th>\n",
              "      <td>3</td>\n",
              "      <td>CAPTAIN III (POLICE DEPARTMENT)</td>\n",
              "      <td>[CAPTAIN, III, (POLICE, DEPARTMENT)]</td>\n",
              "      <td>CAPTAIN</td>\n",
              "    </tr>\n",
              "    <tr>\n",
              "      <th>9</th>\n",
              "      <td>3</td>\n",
              "      <td>CAPTAIN III (POLICE DEPARTMENT)</td>\n",
              "      <td>[CAPTAIN, III, (POLICE, DEPARTMENT)]</td>\n",
              "      <td>III</td>\n",
              "    </tr>\n",
              "  </tbody>\n",
              "</table>\n",
              "</div>\n",
              "      <button class=\"colab-df-convert\" onclick=\"convertToInteractive('df-be58ddf0-0b80-4a0f-8d98-2ff3ae289a4f')\"\n",
              "              title=\"Convert this dataframe to an interactive table.\"\n",
              "              style=\"display:none;\">\n",
              "        \n",
              "  <svg xmlns=\"http://www.w3.org/2000/svg\" height=\"24px\"viewBox=\"0 0 24 24\"\n",
              "       width=\"24px\">\n",
              "    <path d=\"M0 0h24v24H0V0z\" fill=\"none\"/>\n",
              "    <path d=\"M18.56 5.44l.94 2.06.94-2.06 2.06-.94-2.06-.94-.94-2.06-.94 2.06-2.06.94zm-11 1L8.5 8.5l.94-2.06 2.06-.94-2.06-.94L8.5 2.5l-.94 2.06-2.06.94zm10 10l.94 2.06.94-2.06 2.06-.94-2.06-.94-.94-2.06-.94 2.06-2.06.94z\"/><path d=\"M17.41 7.96l-1.37-1.37c-.4-.4-.92-.59-1.43-.59-.52 0-1.04.2-1.43.59L10.3 9.45l-7.72 7.72c-.78.78-.78 2.05 0 2.83L4 21.41c.39.39.9.59 1.41.59.51 0 1.02-.2 1.41-.59l7.78-7.78 2.81-2.81c.8-.78.8-2.07 0-2.86zM5.41 20L4 18.59l7.72-7.72 1.47 1.35L5.41 20z\"/>\n",
              "  </svg>\n",
              "      </button>\n",
              "      \n",
              "  <style>\n",
              "    .colab-df-container {\n",
              "      display:flex;\n",
              "      flex-wrap:wrap;\n",
              "      gap: 12px;\n",
              "    }\n",
              "\n",
              "    .colab-df-convert {\n",
              "      background-color: #E8F0FE;\n",
              "      border: none;\n",
              "      border-radius: 50%;\n",
              "      cursor: pointer;\n",
              "      display: none;\n",
              "      fill: #1967D2;\n",
              "      height: 32px;\n",
              "      padding: 0 0 0 0;\n",
              "      width: 32px;\n",
              "    }\n",
              "\n",
              "    .colab-df-convert:hover {\n",
              "      background-color: #E2EBFA;\n",
              "      box-shadow: 0px 1px 2px rgba(60, 64, 67, 0.3), 0px 1px 3px 1px rgba(60, 64, 67, 0.15);\n",
              "      fill: #174EA6;\n",
              "    }\n",
              "\n",
              "    [theme=dark] .colab-df-convert {\n",
              "      background-color: #3B4455;\n",
              "      fill: #D2E3FC;\n",
              "    }\n",
              "\n",
              "    [theme=dark] .colab-df-convert:hover {\n",
              "      background-color: #434B5C;\n",
              "      box-shadow: 0px 1px 3px 1px rgba(0, 0, 0, 0.15);\n",
              "      filter: drop-shadow(0px 1px 2px rgba(0, 0, 0, 0.3));\n",
              "      fill: #FFFFFF;\n",
              "    }\n",
              "  </style>\n",
              "\n",
              "      <script>\n",
              "        const buttonEl =\n",
              "          document.querySelector('#df-be58ddf0-0b80-4a0f-8d98-2ff3ae289a4f button.colab-df-convert');\n",
              "        buttonEl.style.display =\n",
              "          google.colab.kernel.accessAllowed ? 'block' : 'none';\n",
              "\n",
              "        async function convertToInteractive(key) {\n",
              "          const element = document.querySelector('#df-be58ddf0-0b80-4a0f-8d98-2ff3ae289a4f');\n",
              "          const dataTable =\n",
              "            await google.colab.kernel.invokeFunction('convertToInteractive',\n",
              "                                                     [key], {});\n",
              "          if (!dataTable) return;\n",
              "\n",
              "          const docLinkHtml = 'Like what you see? Visit the ' +\n",
              "            '<a target=\"_blank\" href=https://colab.research.google.com/notebooks/data_table.ipynb>data table notebook</a>'\n",
              "            + ' to learn more about interactive tables.';\n",
              "          element.innerHTML = '';\n",
              "          dataTable['output_type'] = 'display_data';\n",
              "          await google.colab.output.renderOutput(dataTable, element);\n",
              "          const docLink = document.createElement('div');\n",
              "          docLink.innerHTML = docLinkHtml;\n",
              "          element.appendChild(docLink);\n",
              "        }\n",
              "      </script>\n",
              "    </div>\n",
              "  </div>\n",
              "  "
            ]
          },
          "metadata": {},
          "execution_count": 20
        }
      ]
    },
    {
      "cell_type": "markdown",
      "source": [
        "##Nulos"
      ],
      "metadata": {
        "id": "P-z-QeIgXA1f"
      }
    },
    {
      "cell_type": "markdown",
      "source": [
        "**Nulos:**\n",
        "\n",
        "* `drop()`: retira as linhas com valores nulos, com base no que foi passado para o argumento 'how':\n",
        "  * `any (default)`: retira todas as linhas com pelo menos um valor nulo nas colunas\n",
        "  * `all`: somente remove as linhas com todos as colunas com valores nulos\n",
        "* `fill()`: preenche os valores nulos com uma constante especificada\n",
        "* `replace()`: substitui o valor por algum outro especificado (não somente para nulos)"
      ],
      "metadata": {
        "id": "7mrFhrH4XCdK"
      }
    },
    {
      "cell_type": "code",
      "source": [
        "df.show(5)"
      ],
      "metadata": {
        "colab": {
          "base_uri": "https://localhost:8080/"
        },
        "id": "cETG0eMOXvJe",
        "outputId": "f9a33b2f-4ae6-4bc4-917c-22eb908a97e1"
      },
      "execution_count": null,
      "outputs": [
        {
          "output_type": "stream",
          "name": "stdout",
          "text": [
            "+---+-----------------+--------------------+---------+-----------+---------+--------+---------+----------------+----+-----+-------------+------+\n",
            "| Id|     EmployeeName|            JobTitle|  BasePay|OvertimePay| OtherPay|Benefits| TotalPay|TotalPayBenefits|Year|Notes|       Agency|Status|\n",
            "+---+-----------------+--------------------+---------+-----------+---------+--------+---------+----------------+----+-----+-------------+------+\n",
            "|  1|   NATHANIEL FORD|GENERAL MANAGER-M...|167411.18|        0.0|400184.25|    null|567595.43|       567595.43|2011| null|San Francisco|  null|\n",
            "|  2|     GARY JIMENEZ|CAPTAIN III (POLI...|155966.02|  245131.88|137811.38|    null|538909.28|       538909.28|2011| null|San Francisco|  null|\n",
            "|  3|   ALBERT PARDINI|CAPTAIN III (POLI...|212739.13|  106088.18|  16452.6|    null|335279.91|       335279.91|2011| null|San Francisco|  null|\n",
            "|  4|CHRISTOPHER CHONG|WIRE ROPE CABLE M...|  77916.0|   56120.71| 198306.9|    null|332343.61|       332343.61|2011| null|San Francisco|  null|\n",
            "|  5|  PATRICK GARDNER|DEPUTY CHIEF OF D...| 134401.6|     9737.0|182234.59|    null|326373.19|       326373.19|2011| null|San Francisco|  null|\n",
            "+---+-----------------+--------------------+---------+-----------+---------+--------+---------+----------------+----+-----+-------------+------+\n",
            "only showing top 5 rows\n",
            "\n"
          ]
        }
      ]
    },
    {
      "cell_type": "code",
      "source": [
        "(\n",
        "    df\n",
        "    .select('EmployeeName','JobTitle','BasePay','Benefits','TotalPay')\n",
        "    .na.fill(0, subset=['Benefits'])\n",
        "    .orderBy(f.asc_nulls_first('BasePay'))\n",
        "    .show(5)\n",
        ")"
      ],
      "metadata": {
        "colab": {
          "base_uri": "https://localhost:8080/"
        },
        "id": "isD_GifqXwGe",
        "outputId": "5613897a-ab66-4868-8127-4825170cb171"
      },
      "execution_count": null,
      "outputs": [
        {
          "output_type": "stream",
          "name": "stdout",
          "text": [
            "+----------------+--------------------+-------+--------+--------+\n",
            "|    EmployeeName|            JobTitle|BasePay|Benefits|TotalPay|\n",
            "+----------------+--------------------+-------+--------+--------+\n",
            "|  Thomas  Willis|EEO Senior Specia...|   null|12189.74|30465.44|\n",
            "|    Darby J Reid|          Sergeant 3|   null|     0.0|37856.59|\n",
            "|Michael S Danich|Traffic Survey Te...|   null| 6173.18| 34124.8|\n",
            "|   James M Blake|Battalion Chief, ...|   null|     0.0|74562.89|\n",
            "| George H Garcia|Battalion Chief, ...|   null|     0.0|39755.81|\n",
            "+----------------+--------------------+-------+--------+--------+\n",
            "only showing top 5 rows\n",
            "\n"
          ]
        }
      ]
    },
    {
      "cell_type": "code",
      "source": [
        "# Drop() sem nenhum argumento\n",
        "(\n",
        "    df\n",
        "    .select('EmployeeName','JobTitle','BasePay','Benefits','TotalPay')\n",
        "    .na.drop()\n",
        "    .count()\n",
        ")"
      ],
      "metadata": {
        "colab": {
          "base_uri": "https://localhost:8080/"
        },
        "id": "hwVpERdlariP",
        "outputId": "09344f93-0082-43a2-9aef-6c0257b05377"
      },
      "execution_count": null,
      "outputs": [
        {
          "output_type": "execute_result",
          "data": {
            "text/plain": [
              "111886"
            ]
          },
          "metadata": {},
          "execution_count": 42
        }
      ]
    },
    {
      "cell_type": "code",
      "source": [
        "# Drop() utilizando apenas uma coluna como argumento\n",
        "(\n",
        "    df\n",
        "    .select('EmployeeName','JobTitle','BasePay','Benefits','TotalPay')\n",
        "    .na.drop(subset=['BasePay'])\n",
        "    .count()\n",
        ")"
      ],
      "metadata": {
        "colab": {
          "base_uri": "https://localhost:8080/"
        },
        "id": "ZmJMwty6a01j",
        "outputId": "343eb443-ed3d-4a99-d39a-1708aa8bd0f0"
      },
      "execution_count": null,
      "outputs": [
        {
          "output_type": "execute_result",
          "data": {
            "text/plain": [
              "148045"
            ]
          },
          "metadata": {},
          "execution_count": 43
        }
      ]
    },
    {
      "cell_type": "code",
      "source": [
        "# Função coalesce(): caso a coluna especifica seja nula, ele preenche com o valor da próxima coluna sucessivamente\n",
        "(\n",
        "    df\n",
        "    .select('EmployeeName','BasePay','Benefits')\n",
        "    .filter('Benefits is null')\n",
        "    .withColumn('Coalesce_test', f.coalesce(f.col('Benefits'), f.col('BasePay'), f.lit('No Salary')))\n",
        "    .limit(10)\n",
        "    .toPandas()\n",
        ")"
      ],
      "metadata": {
        "colab": {
          "base_uri": "https://localhost:8080/",
          "height": 363
        },
        "id": "GPqPwB93bCjg",
        "outputId": "58f8c75e-44fb-4fc8-a5a5-b006b6acb882"
      },
      "execution_count": null,
      "outputs": [
        {
          "output_type": "execute_result",
          "data": {
            "text/plain": [
              "         EmployeeName    BasePay Benefits Coalesce_test\n",
              "0      NATHANIEL FORD  167411.18     None     167411.18\n",
              "1        GARY JIMENEZ  155966.02     None     155966.02\n",
              "2      ALBERT PARDINI  212739.13     None     212739.13\n",
              "3   CHRISTOPHER CHONG   77916.00     None       77916.0\n",
              "4     PATRICK GARDNER  134401.60     None      134401.6\n",
              "5      DAVID SULLIVAN  118602.00     None      118602.0\n",
              "6           ALSON LEE   92492.01     None      92492.01\n",
              "7       DAVID KUSHNER  256576.96     None     256576.96\n",
              "8      MICHAEL MORRIS  176932.64     None     176932.64\n",
              "9  JOANNE HAYES-WHITE  285262.00     None      285262.0"
            ],
            "text/html": [
              "\n",
              "  <div id=\"df-e112684f-3d5b-4193-a9c6-8d32eb7529f3\">\n",
              "    <div class=\"colab-df-container\">\n",
              "      <div>\n",
              "<style scoped>\n",
              "    .dataframe tbody tr th:only-of-type {\n",
              "        vertical-align: middle;\n",
              "    }\n",
              "\n",
              "    .dataframe tbody tr th {\n",
              "        vertical-align: top;\n",
              "    }\n",
              "\n",
              "    .dataframe thead th {\n",
              "        text-align: right;\n",
              "    }\n",
              "</style>\n",
              "<table border=\"1\" class=\"dataframe\">\n",
              "  <thead>\n",
              "    <tr style=\"text-align: right;\">\n",
              "      <th></th>\n",
              "      <th>EmployeeName</th>\n",
              "      <th>BasePay</th>\n",
              "      <th>Benefits</th>\n",
              "      <th>Coalesce_test</th>\n",
              "    </tr>\n",
              "  </thead>\n",
              "  <tbody>\n",
              "    <tr>\n",
              "      <th>0</th>\n",
              "      <td>NATHANIEL FORD</td>\n",
              "      <td>167411.18</td>\n",
              "      <td>None</td>\n",
              "      <td>167411.18</td>\n",
              "    </tr>\n",
              "    <tr>\n",
              "      <th>1</th>\n",
              "      <td>GARY JIMENEZ</td>\n",
              "      <td>155966.02</td>\n",
              "      <td>None</td>\n",
              "      <td>155966.02</td>\n",
              "    </tr>\n",
              "    <tr>\n",
              "      <th>2</th>\n",
              "      <td>ALBERT PARDINI</td>\n",
              "      <td>212739.13</td>\n",
              "      <td>None</td>\n",
              "      <td>212739.13</td>\n",
              "    </tr>\n",
              "    <tr>\n",
              "      <th>3</th>\n",
              "      <td>CHRISTOPHER CHONG</td>\n",
              "      <td>77916.00</td>\n",
              "      <td>None</td>\n",
              "      <td>77916.0</td>\n",
              "    </tr>\n",
              "    <tr>\n",
              "      <th>4</th>\n",
              "      <td>PATRICK GARDNER</td>\n",
              "      <td>134401.60</td>\n",
              "      <td>None</td>\n",
              "      <td>134401.6</td>\n",
              "    </tr>\n",
              "    <tr>\n",
              "      <th>5</th>\n",
              "      <td>DAVID SULLIVAN</td>\n",
              "      <td>118602.00</td>\n",
              "      <td>None</td>\n",
              "      <td>118602.0</td>\n",
              "    </tr>\n",
              "    <tr>\n",
              "      <th>6</th>\n",
              "      <td>ALSON LEE</td>\n",
              "      <td>92492.01</td>\n",
              "      <td>None</td>\n",
              "      <td>92492.01</td>\n",
              "    </tr>\n",
              "    <tr>\n",
              "      <th>7</th>\n",
              "      <td>DAVID KUSHNER</td>\n",
              "      <td>256576.96</td>\n",
              "      <td>None</td>\n",
              "      <td>256576.96</td>\n",
              "    </tr>\n",
              "    <tr>\n",
              "      <th>8</th>\n",
              "      <td>MICHAEL MORRIS</td>\n",
              "      <td>176932.64</td>\n",
              "      <td>None</td>\n",
              "      <td>176932.64</td>\n",
              "    </tr>\n",
              "    <tr>\n",
              "      <th>9</th>\n",
              "      <td>JOANNE HAYES-WHITE</td>\n",
              "      <td>285262.00</td>\n",
              "      <td>None</td>\n",
              "      <td>285262.0</td>\n",
              "    </tr>\n",
              "  </tbody>\n",
              "</table>\n",
              "</div>\n",
              "      <button class=\"colab-df-convert\" onclick=\"convertToInteractive('df-e112684f-3d5b-4193-a9c6-8d32eb7529f3')\"\n",
              "              title=\"Convert this dataframe to an interactive table.\"\n",
              "              style=\"display:none;\">\n",
              "        \n",
              "  <svg xmlns=\"http://www.w3.org/2000/svg\" height=\"24px\"viewBox=\"0 0 24 24\"\n",
              "       width=\"24px\">\n",
              "    <path d=\"M0 0h24v24H0V0z\" fill=\"none\"/>\n",
              "    <path d=\"M18.56 5.44l.94 2.06.94-2.06 2.06-.94-2.06-.94-.94-2.06-.94 2.06-2.06.94zm-11 1L8.5 8.5l.94-2.06 2.06-.94-2.06-.94L8.5 2.5l-.94 2.06-2.06.94zm10 10l.94 2.06.94-2.06 2.06-.94-2.06-.94-.94-2.06-.94 2.06-2.06.94z\"/><path d=\"M17.41 7.96l-1.37-1.37c-.4-.4-.92-.59-1.43-.59-.52 0-1.04.2-1.43.59L10.3 9.45l-7.72 7.72c-.78.78-.78 2.05 0 2.83L4 21.41c.39.39.9.59 1.41.59.51 0 1.02-.2 1.41-.59l7.78-7.78 2.81-2.81c.8-.78.8-2.07 0-2.86zM5.41 20L4 18.59l7.72-7.72 1.47 1.35L5.41 20z\"/>\n",
              "  </svg>\n",
              "      </button>\n",
              "      \n",
              "  <style>\n",
              "    .colab-df-container {\n",
              "      display:flex;\n",
              "      flex-wrap:wrap;\n",
              "      gap: 12px;\n",
              "    }\n",
              "\n",
              "    .colab-df-convert {\n",
              "      background-color: #E8F0FE;\n",
              "      border: none;\n",
              "      border-radius: 50%;\n",
              "      cursor: pointer;\n",
              "      display: none;\n",
              "      fill: #1967D2;\n",
              "      height: 32px;\n",
              "      padding: 0 0 0 0;\n",
              "      width: 32px;\n",
              "    }\n",
              "\n",
              "    .colab-df-convert:hover {\n",
              "      background-color: #E2EBFA;\n",
              "      box-shadow: 0px 1px 2px rgba(60, 64, 67, 0.3), 0px 1px 3px 1px rgba(60, 64, 67, 0.15);\n",
              "      fill: #174EA6;\n",
              "    }\n",
              "\n",
              "    [theme=dark] .colab-df-convert {\n",
              "      background-color: #3B4455;\n",
              "      fill: #D2E3FC;\n",
              "    }\n",
              "\n",
              "    [theme=dark] .colab-df-convert:hover {\n",
              "      background-color: #434B5C;\n",
              "      box-shadow: 0px 1px 3px 1px rgba(0, 0, 0, 0.15);\n",
              "      filter: drop-shadow(0px 1px 2px rgba(0, 0, 0, 0.3));\n",
              "      fill: #FFFFFF;\n",
              "    }\n",
              "  </style>\n",
              "\n",
              "      <script>\n",
              "        const buttonEl =\n",
              "          document.querySelector('#df-e112684f-3d5b-4193-a9c6-8d32eb7529f3 button.colab-df-convert');\n",
              "        buttonEl.style.display =\n",
              "          google.colab.kernel.accessAllowed ? 'block' : 'none';\n",
              "\n",
              "        async function convertToInteractive(key) {\n",
              "          const element = document.querySelector('#df-e112684f-3d5b-4193-a9c6-8d32eb7529f3');\n",
              "          const dataTable =\n",
              "            await google.colab.kernel.invokeFunction('convertToInteractive',\n",
              "                                                     [key], {});\n",
              "          if (!dataTable) return;\n",
              "\n",
              "          const docLinkHtml = 'Like what you see? Visit the ' +\n",
              "            '<a target=\"_blank\" href=https://colab.research.google.com/notebooks/data_table.ipynb>data table notebook</a>'\n",
              "            + ' to learn more about interactive tables.';\n",
              "          element.innerHTML = '';\n",
              "          dataTable['output_type'] = 'display_data';\n",
              "          await google.colab.output.renderOutput(dataTable, element);\n",
              "          const docLink = document.createElement('div');\n",
              "          docLink.innerHTML = docLinkHtml;\n",
              "          element.appendChild(docLink);\n",
              "        }\n",
              "      </script>\n",
              "    </div>\n",
              "  </div>\n",
              "  "
            ]
          },
          "metadata": {},
          "execution_count": 47
        }
      ]
    },
    {
      "cell_type": "markdown",
      "source": [
        "#Agregação e Agrupamento"
      ],
      "metadata": {
        "id": "Wp-AgvquYaKT"
      }
    },
    {
      "cell_type": "markdown",
      "source": [
        "O agrupamento é feito por meio da função **`groupby()`**. Essa função deve ser sucedidapela função de agregação **`agg()`**, de pivotação **`pivot()`** ou **`count()`**.\n",
        "\n",
        "A função **`agg()`** aplica uma função de agregação no DataFrame e se for precedida por **`groupby()`**, realiza a agregação dentro dos grupos estabelecidos. Algumas das funções de agregação mais utilizados:\n",
        "\n",
        "* `sum()`: soma dos valores da coluna\n",
        "* `sumDistinct()`: soma dos valores distintos\n",
        "* `max() / min()`: máximo ou minimo da coluna\n",
        "* `avg()/ mean()`: média dos valores da coluna\n",
        "* `percentile_approx()`: retorna o percentil da coluna com aproximação\n",
        "* `percentile_approx(f.col('coluna'), 0.5, lit.(1000000))`: calcuma a mediana exata\n",
        "* `stddev()`: retorna o desvio padrão dos valores da coluna\n",
        "* `count()`: contagem de linhas\n",
        "* `countDistinct()`: contagem de linhas distintas da coluna\n",
        "* `first() / last()`: primeiro ou ultimo valor da coluna. Importante utilizar em conjunto com o argumento `ignoreNulls=True`\n",
        "* `collect_list()`: retorna os valores do agrupamento em uma lista, com duplicatas\n",
        "* `collect_set()`: retorna os valores do agrupamento em uma lista, sem duplicatas (desordenado)\n",
        "\n",
        "**Obs:** o Spark ignora valores nulos para calcular as agregações, exceto pela função `count()`.\n",
        "\n",
        "A função **`pivot`** é utilizada para passar valores de uma linha para as colunas, realizando uma agregação. Deve ser sucedido por uma função de agregação utilizando **`agg()`**, podendo utilizar qualquer uma das funções de agregação acima."
      ],
      "metadata": {
        "id": "hzvpO0QeYkJs"
      }
    },
    {
      "cell_type": "markdown",
      "source": [
        "**Agregação**"
      ],
      "metadata": {
        "id": "9owDDEg5gZBh"
      }
    },
    {
      "cell_type": "code",
      "source": [
        "#Adicionando um novo dataFrame\n",
        "url = 'https://raw.githubusercontent.com/mwaskom/seaborn-data/master/tips.csv'\n",
        "from pyspark import SparkFiles\n",
        "spark.sparkContext.addFile(url)\n",
        "df_tips_csv = (\n",
        "    spark\n",
        "    .read\n",
        "    .format('csv')\n",
        "    .options(header=True, inferSchema=True,sep=',',encoding='latin1')\n",
        "    .load(SparkFiles.get('tips.csv'))\n",
        "    )\n",
        "\n",
        "#Salvando os dados no formato parquet para manipulação com Spark\n",
        "df_tips_csv.write.format('parquet').mode('overwrite').save('df_tips')\n",
        "\n",
        "#Criando um novo DataFrame com os dados já no formato Parquet\n",
        "df_tips = spark.read.format('parquet').load('df_tips')"
      ],
      "metadata": {
        "id": "xoN4yLOUc5zr"
      },
      "execution_count": null,
      "outputs": []
    },
    {
      "cell_type": "code",
      "source": [
        "df_tips.show(10)"
      ],
      "metadata": {
        "colab": {
          "base_uri": "https://localhost:8080/"
        },
        "id": "cXGh6rw5bxPK",
        "outputId": "9d7a0050-e189-44ec-de8b-6f8958c53244"
      },
      "execution_count": null,
      "outputs": [
        {
          "output_type": "stream",
          "name": "stdout",
          "text": [
            "+----------+----+------+------+---+------+----+\n",
            "|total_bill| tip|   sex|smoker|day|  time|size|\n",
            "+----------+----+------+------+---+------+----+\n",
            "|     16.99|1.01|Female|    No|Sun|Dinner|   2|\n",
            "|     10.34|1.66|  Male|    No|Sun|Dinner|   3|\n",
            "|     21.01| 3.5|  Male|    No|Sun|Dinner|   3|\n",
            "|     23.68|3.31|  Male|    No|Sun|Dinner|   2|\n",
            "|     24.59|3.61|Female|    No|Sun|Dinner|   4|\n",
            "|     25.29|4.71|  Male|    No|Sun|Dinner|   4|\n",
            "|      8.77| 2.0|  Male|    No|Sun|Dinner|   2|\n",
            "|     26.88|3.12|  Male|    No|Sun|Dinner|   4|\n",
            "|     15.04|1.96|  Male|    No|Sun|Dinner|   2|\n",
            "|     14.78|3.23|  Male|    No|Sun|Dinner|   2|\n",
            "+----------+----+------+------+---+------+----+\n",
            "only showing top 10 rows\n",
            "\n"
          ]
        }
      ]
    },
    {
      "cell_type": "code",
      "source": [
        "(\n",
        "    df_tips\n",
        "    .agg(f.sum('tip').alias('total_tip'),\n",
        "         f.round(f.avg('tip'),2).alias('avg_tip'),\n",
        "         f.round(f.max('tip'),2).alias('max_tip'),\n",
        "         f.round(f.min('tip'),2).alias('min_tip'))\n",
        "    .show()\n",
        ")"
      ],
      "metadata": {
        "colab": {
          "base_uri": "https://localhost:8080/"
        },
        "id": "Rp2csWMjYc_l",
        "outputId": "cb0de495-9155-41c9-958a-24d39178bdde"
      },
      "execution_count": null,
      "outputs": [
        {
          "output_type": "stream",
          "name": "stdout",
          "text": [
            "+---------+-------+-------+-------+\n",
            "|total_tip|avg_tip|max_tip|min_tip|\n",
            "+---------+-------+-------+-------+\n",
            "|   731.58|    3.0|   10.0|    1.0|\n",
            "+---------+-------+-------+-------+\n",
            "\n"
          ]
        }
      ]
    },
    {
      "cell_type": "markdown",
      "source": [
        "**Agrupamentos**"
      ],
      "metadata": {
        "id": "Plic-J6agWUY"
      }
    },
    {
      "cell_type": "code",
      "source": [
        "df_tips.show(5)"
      ],
      "metadata": {
        "colab": {
          "base_uri": "https://localhost:8080/"
        },
        "id": "RwMeSNe1gXqW",
        "outputId": "22f35a2b-af42-4ee6-d810-6bd1e63dddcc"
      },
      "execution_count": null,
      "outputs": [
        {
          "output_type": "stream",
          "name": "stdout",
          "text": [
            "+----------+----+------+------+---+------+----+\n",
            "|total_bill| tip|   sex|smoker|day|  time|size|\n",
            "+----------+----+------+------+---+------+----+\n",
            "|     16.99|1.01|Female|    No|Sun|Dinner|   2|\n",
            "|     10.34|1.66|  Male|    No|Sun|Dinner|   3|\n",
            "|     21.01| 3.5|  Male|    No|Sun|Dinner|   3|\n",
            "|     23.68|3.31|  Male|    No|Sun|Dinner|   2|\n",
            "|     24.59|3.61|Female|    No|Sun|Dinner|   4|\n",
            "+----------+----+------+------+---+------+----+\n",
            "only showing top 5 rows\n",
            "\n"
          ]
        }
      ]
    },
    {
      "cell_type": "code",
      "source": [
        "(\n",
        "    df_tips\n",
        "    .groupby('sex')\n",
        "    .count()\n",
        "    .show()\n",
        ")"
      ],
      "metadata": {
        "colab": {
          "base_uri": "https://localhost:8080/"
        },
        "id": "LMBtGKCBgelG",
        "outputId": "26d09d0c-c97c-4041-80be-0dfc7c6b222f"
      },
      "execution_count": null,
      "outputs": [
        {
          "output_type": "stream",
          "name": "stdout",
          "text": [
            "+------+-----+\n",
            "|   sex|count|\n",
            "+------+-----+\n",
            "|Female|   87|\n",
            "|  Male|  157|\n",
            "+------+-----+\n",
            "\n"
          ]
        }
      ]
    },
    {
      "cell_type": "code",
      "source": [
        "(\n",
        "    df_tips\n",
        "    .groupby('sex')\n",
        "    .agg(f.round(f.avg('tip'),2).alias('avg_tip'),\n",
        "         f.count('tip').alias('qtde'))\n",
        "    .orderBy('avg_tip')\n",
        "    .show()\n",
        ")"
      ],
      "metadata": {
        "colab": {
          "base_uri": "https://localhost:8080/"
        },
        "id": "gBZQSIh7gtn4",
        "outputId": "675b9c82-c005-470b-854e-a2281c95cf53"
      },
      "execution_count": null,
      "outputs": [
        {
          "output_type": "stream",
          "name": "stdout",
          "text": [
            "+------+-------+----+\n",
            "|   sex|avg_tip|qtde|\n",
            "+------+-------+----+\n",
            "|Female|   2.83|  87|\n",
            "|  Male|   3.09| 157|\n",
            "+------+-------+----+\n",
            "\n"
          ]
        }
      ]
    },
    {
      "cell_type": "code",
      "source": [
        "# Agrupando por mais de uma coluna\n",
        "\n",
        "(\n",
        "    df_tips\n",
        "    .groupby('sex','smoker')\n",
        "    .agg(f.round(f.avg('tip'),2).alias('avg_tip'),\n",
        "         f.count('tip').alias('qtde'))\n",
        "    .orderBy('avg_tip')\n",
        "    .show()\n",
        ")"
      ],
      "metadata": {
        "colab": {
          "base_uri": "https://localhost:8080/"
        },
        "id": "iaeIUIRVhc0C",
        "outputId": "49568e6b-d1d4-4d9b-9f1f-51d25d4b0147"
      },
      "execution_count": null,
      "outputs": [
        {
          "output_type": "stream",
          "name": "stdout",
          "text": [
            "+------+------+-------+----+\n",
            "|   sex|smoker|avg_tip|qtde|\n",
            "+------+------+-------+----+\n",
            "|Female|    No|   2.77|  54|\n",
            "|Female|   Yes|   2.93|  33|\n",
            "|  Male|   Yes|   3.05|  60|\n",
            "|  Male|    No|   3.11|  97|\n",
            "+------+------+-------+----+\n",
            "\n"
          ]
        }
      ]
    },
    {
      "cell_type": "code",
      "source": [
        "(\n",
        "    df_tips\n",
        "    .groupby('sex','smoker')\n",
        "    .pivot('time')\n",
        "    .agg(f.round(f.avg('tip'),2))\n",
        "    .show()\n",
        ")"
      ],
      "metadata": {
        "colab": {
          "base_uri": "https://localhost:8080/"
        },
        "id": "ZN3d78DMiBvU",
        "outputId": "c1db1950-66b1-425f-efbe-9654cddf213e"
      },
      "execution_count": null,
      "outputs": [
        {
          "output_type": "stream",
          "name": "stdout",
          "text": [
            "+------+------+------+-----+\n",
            "|   sex|smoker|Dinner|Lunch|\n",
            "+------+------+------+-----+\n",
            "|  Male|    No|  3.16| 2.94|\n",
            "|  Male|   Yes|  3.12| 2.79|\n",
            "|Female|    No|  3.04| 2.46|\n",
            "|Female|   Yes|  2.95| 2.89|\n",
            "+------+------+------+-----+\n",
            "\n"
          ]
        }
      ]
    },
    {
      "cell_type": "markdown",
      "source": [
        "# Window Functions"
      ],
      "metadata": {
        "id": "TrTYzQQRjWS2"
      }
    },
    {
      "cell_type": "markdown",
      "source": [
        "Window functions são funções que realizam cálculos semelhantes à uma agregação, mas que não resultam em um DataFrame agregado. Ao invés disso, os resultados são disponibilizados em uma nova coluna, segundo a partição ou agrupamento especificado. São exemplos comuns:\n",
        "\n",
        "* `row_number()`\n",
        "* `rank() / dense_rank() / percent_rank()`\n",
        "* `lag()`\n",
        "* `cume_dist()`\n",
        "* `collect_list() / collect_set()`\n",
        "* Demais funções de agregação, com exceção de `countDistinct()`\n",
        "\n",
        "Para utilizar essas funções, é necessário criar uma window (janela) seguindo os passos abaixo:\n",
        "\n",
        "  > from pyspark.sql.window import Window\n",
        "\n",
        "  > w = Window.partitionBy({columns}).orderBy({columns}).rowsBetween({lower},{upper})\n",
        "\n",
        "* `partitionBy()`: agrupamento em que os cálculos serão realizados. Análogo ao `groupBy()`\n",
        "* `orderBy()`: algumas funções como `row_number()` e `lag()` dependem da ordenação das linhas do agrupamento.\n",
        "* `rowsBetween()`: esse método é utilizado para especificar janelas deslizantes A partir dele é possível definir um intervalo de linhas, relativas à linha atual, em que a função vai ser aplicada. Caso isso não seja especificado, as operações são realizadas em todo o grupo. Este método é muito util para construir **médias móveis**. Os objetos abaixo ajudam na construção desse intervalo:\n",
        "  * `Window.currentRow`: define a linha para qual o valor está sendo calculado como um dos limites de calculo\n",
        "  * `Window.unboundedPreceding`: define que não há limites para as linhas anteriores à liha para qual o valor está sendo calculado, isto é, a função irá considerar todas as linhas do grupo que já passaram. Deveser usado no primeiro argumento (start)\n",
        "  * `Window.unboundedFollowing`: define que não há limites para as linhas posteriores à linha para qual o valor está sendo calculado, isto é, a função irá considerar todas as linhas do grupo que ainda não passaram. Deve ser usado no segundo argumento (end).\n",
        "\n",
        "Depois disso, basta utilizar a função `over()` para indicar que aquela função deve ser realizada na janela. Exemplo:\n",
        "\n",
        "\n",
        " > df.withColumn('rn', f.row_number().over(w))\n",
        "\n"
      ],
      "metadata": {
        "id": "1KzF5LjRjaB4"
      }
    },
    {
      "cell_type": "code",
      "source": [
        "from pyspark.sql.window import Window"
      ],
      "metadata": {
        "id": "YVzt3eJQjZP7"
      },
      "execution_count": null,
      "outputs": []
    },
    {
      "cell_type": "code",
      "source": [
        "name_list = [(101, 'abc', 24), (102, 'cde', 24), (103, 'efg', 22), (104, 'ghi', 21),\n",
        "                 (105, 'ijk', 20), (106, 'klm', 19), (107, 'mno', 18), (108, 'pqr', 18),\n",
        "                 (109, 'rst', 26), (110, 'tuv', 27), (111, 'pqr', 18), (112, 'rst', 28), (113, 'tuv', 29)]\n",
        "\n",
        "age_w = Window.partitionBy(\"age\")\n",
        "name_age_df = spark.createDataFrame(name_list, ['id', 'name', 'age'])\n",
        "\n",
        "name_age_count_df = name_age_df.withColumn(\"count\", f.count(\"id\").over(age_w)).orderBy(\"count\")\n",
        "name_age_count_df.show()"
      ],
      "metadata": {
        "colab": {
          "base_uri": "https://localhost:8080/"
        },
        "id": "EQFyfyqJb9C9",
        "outputId": "09a710d3-0fb8-4c2f-f5b2-9fc5c4e67caf"
      },
      "execution_count": null,
      "outputs": [
        {
          "output_type": "stream",
          "name": "stdout",
          "text": [
            "+---+----+---+-----+\n",
            "| id|name|age|count|\n",
            "+---+----+---+-----+\n",
            "|109| rst| 26|    1|\n",
            "|104| ghi| 21|    1|\n",
            "|103| efg| 22|    1|\n",
            "|113| tuv| 29|    1|\n",
            "|110| tuv| 27|    1|\n",
            "|105| ijk| 20|    1|\n",
            "|112| rst| 28|    1|\n",
            "|106| klm| 19|    1|\n",
            "|101| abc| 24|    2|\n",
            "|102| cde| 24|    2|\n",
            "|107| mno| 18|    3|\n",
            "|108| pqr| 18|    3|\n",
            "|111| pqr| 18|    3|\n",
            "+---+----+---+-----+\n",
            "\n"
          ]
        }
      ]
    },
    {
      "cell_type": "code",
      "source": [
        "w = Window.partitionBy('sex')\n",
        "\n",
        "(\n",
        "    df_tips\n",
        "    .withColumn('avg_Tip_sex', f.avg(f.col('tip')).over(w)).orderBy('total_bill')\n",
        "    .show(10)\n",
        ")"
      ],
      "metadata": {
        "colab": {
          "base_uri": "https://localhost:8080/"
        },
        "id": "7vk8RGB0P0Fv",
        "outputId": "5a543e8c-c123-4530-f4fd-9ed6e550bfcf"
      },
      "execution_count": null,
      "outputs": [
        {
          "output_type": "stream",
          "name": "stdout",
          "text": [
            "+----------+----+------+------+----+------+----+------------------+\n",
            "|total_bill| tip|   sex|smoker| day|  time|size|       avg_Tip_sex|\n",
            "+----------+----+------+------+----+------+----+------------------+\n",
            "|      3.07| 1.0|Female|   Yes| Sat|Dinner|   1| 2.833448275862069|\n",
            "|      5.75| 1.0|Female|   Yes| Fri|Dinner|   2| 2.833448275862069|\n",
            "|      7.25|5.15|  Male|   Yes| Sun|Dinner|   2|3.0896178343949052|\n",
            "|      7.25| 1.0|Female|    No| Sat|Dinner|   1| 2.833448275862069|\n",
            "|      7.51| 2.0|  Male|    No|Thur| Lunch|   2|3.0896178343949052|\n",
            "|      7.56|1.44|  Male|    No|Thur| Lunch|   2|3.0896178343949052|\n",
            "|      7.74|1.44|  Male|   Yes| Sat|Dinner|   2|3.0896178343949052|\n",
            "|      8.35| 1.5|Female|    No|Thur| Lunch|   2| 2.833448275862069|\n",
            "|      8.51|1.25|Female|    No|Thur| Lunch|   2| 2.833448275862069|\n",
            "|      8.52|1.48|  Male|    No|Thur| Lunch|   2|3.0896178343949052|\n",
            "+----------+----+------+------+----+------+----+------------------+\n",
            "only showing top 10 rows\n",
            "\n"
          ]
        }
      ]
    },
    {
      "cell_type": "code",
      "source": [
        "w = Window.partitionBy('sex').orderBy(f.desc('total_bill'))\n",
        "\n",
        "(\n",
        "    df_tips\n",
        "    .withColumn('rn', f.rank().over(w))\n",
        "    .orderBy(f.desc('tip'))\n",
        "    .show(10)\n",
        ")"
      ],
      "metadata": {
        "colab": {
          "base_uri": "https://localhost:8080/"
        },
        "id": "TRWHHYQWm9hO",
        "outputId": "1fb1fff1-f0d4-4d2d-e1e4-c4315beb6d8f"
      },
      "execution_count": null,
      "outputs": [
        {
          "output_type": "stream",
          "name": "stdout",
          "text": [
            "+----------+----+------+------+----+------+----+---+\n",
            "|total_bill| tip|   sex|smoker| day|  time|size| rn|\n",
            "+----------+----+------+------+----+------+----+---+\n",
            "|     50.81|10.0|  Male|   Yes| Sat|Dinner|   3|  1|\n",
            "|     48.33| 9.0|  Male|    No| Sat|Dinner|   4|  2|\n",
            "|     39.42|7.58|  Male|    No| Sat|Dinner|   4|  9|\n",
            "|     48.27|6.73|  Male|    No| Sat|Dinner|   4|  3|\n",
            "|      34.3| 6.7|  Male|    No|Thur| Lunch|   6| 15|\n",
            "|     23.17| 6.5|  Male|   Yes| Sun|Dinner|   4| 49|\n",
            "|     28.17| 6.5|Female|   Yes| Sat|Dinner|   3| 10|\n",
            "|      32.4| 6.0|  Male|    No| Sun|Dinner|   4| 19|\n",
            "|     29.03|5.92|  Male|    No| Sat|Dinner|   3| 27|\n",
            "|     24.71|5.85|  Male|    No|Thur| Lunch|   2| 40|\n",
            "+----------+----+------+------+----+------+----+---+\n",
            "only showing top 10 rows\n",
            "\n"
          ]
        }
      ]
    },
    {
      "cell_type": "markdown",
      "source": [
        "#Joins\n",
        "\n",
        "Os joins são especificados pela função `join()`, da seguinte forma:\n",
        "\n",
        "> df1.join(df2, {key_columns}, {join_type})\n",
        "\n",
        "* `key_columns`: colunas que vão ser utilizadas para fazer a junção das tabelas. Pode ser especificada como:\n",
        "  * Um único string: caso em que só uma coluna é chave (mesmo nome nas duas tabelas)\n",
        "  * Uma lista de string ou de colunas (col()) - para caso em que mais de uma coluna são chave (mesmo nome nas duas tabelas)\n",
        "  * Com nomes diferentes, é necessário fazer uma especificação do tipo: `f.co(column1) == f.col(column2)`. Caso xistam mais de uma coluna como chave, as especificações devem ser colocadas em uma lista\n",
        "* `join_type`: referencia o tipo de join a ser realizado, sendo as opções:\n",
        "  * `inner (default)`\n",
        "  * `outer / full / fullouter`\n",
        "  * `left / leftouter / left_outer`\n",
        "  * `right / rightouter / right_outer`\n",
        "  * `semi / leftsemi / left_semi`: realiza um LEFT JOIN do SQL e retorna somente as colunas do DataFrame da esquerda que também estão no DataFrame da direita\n",
        "  *`anti /leftanti/ left_anti`: realiza um LEFT JOIN do SQL e retorna somente as colunas do DataFrame da esquerda que **não** estão no DataFrame da direita"
      ],
      "metadata": {
        "id": "tsVSQ5AhCeLm"
      }
    },
    {
      "cell_type": "markdown",
      "source": [
        "# Union\n",
        "\n",
        "Formas de unir DataFrames no pySpark:\n",
        "\n",
        "* `union() / unionAll()`: empilha os DataFrames, preservando linhas duplicadas. As colunas são unidas por posição, e por isso a ordem delas deve ser a mesma entre os dois DFs.\n",
        "* `unionByName()`: empilha os DFs, preservando linhas duplicadas. As colunas são unidas por nome e, portanto, não precisam estar ordenadas da mesma forma."
      ],
      "metadata": {
        "id": "ismoJsIVx3UJ"
      }
    },
    {
      "cell_type": "code",
      "source": [
        "# Divivindo o dataFrame em 2 partes iguais\n",
        "\n",
        "df1 = df.sample(fraction = 0.5)\n",
        "\n",
        "# Fazendo uma anti join para trazer só que não tem na primeira divisão do df\n",
        "df2 = df.join(df1, ['Id'], 'leftanti')"
      ],
      "metadata": {
        "id": "uiSSNrCpEZ0X"
      },
      "execution_count": null,
      "outputs": []
    },
    {
      "cell_type": "code",
      "source": [
        "df.count()"
      ],
      "metadata": {
        "colab": {
          "base_uri": "https://localhost:8080/"
        },
        "id": "8gAC5TpVzKcK",
        "outputId": "0eb059ff-e1f1-43e9-9728-435fb2654247"
      },
      "execution_count": null,
      "outputs": [
        {
          "output_type": "execute_result",
          "data": {
            "text/plain": [
              "148654"
            ]
          },
          "metadata": {},
          "execution_count": 25
        }
      ]
    },
    {
      "cell_type": "code",
      "source": [
        "df1.count()"
      ],
      "metadata": {
        "colab": {
          "base_uri": "https://localhost:8080/"
        },
        "id": "Wog0IM31zDsA",
        "outputId": "ada4b9b3-590d-4f9d-d201-45e3a856a1df"
      },
      "execution_count": null,
      "outputs": [
        {
          "output_type": "execute_result",
          "data": {
            "text/plain": [
              "74261"
            ]
          },
          "metadata": {},
          "execution_count": 21
        }
      ]
    },
    {
      "cell_type": "code",
      "source": [
        "df2.count()"
      ],
      "metadata": {
        "colab": {
          "base_uri": "https://localhost:8080/"
        },
        "id": "0v8Vl5aQzEc_",
        "outputId": "265799e3-6b97-4612-962a-487073465628"
      },
      "execution_count": null,
      "outputs": [
        {
          "output_type": "execute_result",
          "data": {
            "text/plain": [
              "74393"
            ]
          },
          "metadata": {},
          "execution_count": 22
        }
      ]
    },
    {
      "cell_type": "code",
      "source": [
        "df1.union(df2).count()"
      ],
      "metadata": {
        "colab": {
          "base_uri": "https://localhost:8080/"
        },
        "id": "5UuW5ZDOzFK8",
        "outputId": "00a1556e-e373-47da-9ed7-07013554675d"
      },
      "execution_count": null,
      "outputs": [
        {
          "output_type": "execute_result",
          "data": {
            "text/plain": [
              "148654"
            ]
          },
          "metadata": {},
          "execution_count": 23
        }
      ]
    },
    {
      "cell_type": "markdown",
      "source": [
        "#User Defined Functions (UDFs)"
      ],
      "metadata": {
        "id": "CZqAcPqGzr9C"
      }
    },
    {
      "cell_type": "markdown",
      "source": [
        "Em alguns casos é necessário criar/alterar uma coluna utilizando uma operação não implementada na biblioteca padrão. Para esse tipo de situação é possível utilizar funções definidas pelo usuário (UDFs) por meio da função `udf()`.\n",
        "\n",
        "**obs:** as udfs não são otimizadas para execução paralela e podem representar um gargalo na aplicação."
      ],
      "metadata": {
        "id": "cWsNfH-50HH7"
      }
    },
    {
      "cell_type": "code",
      "source": [
        "!pip install unidecode"
      ],
      "metadata": {
        "colab": {
          "base_uri": "https://localhost:8080/"
        },
        "id": "7vO3zDUx0r_g",
        "outputId": "a27f114d-4625-40dd-d97b-4ee0f11f958c"
      },
      "execution_count": null,
      "outputs": [
        {
          "output_type": "stream",
          "name": "stdout",
          "text": [
            "Requirement already satisfied: unidecode in /usr/local/lib/python3.7/dist-packages (1.3.4)\n"
          ]
        }
      ]
    },
    {
      "cell_type": "code",
      "source": [
        "from unidecode import unidecode\n",
        "from pyspark.sql.types import StringType"
      ],
      "metadata": {
        "id": "jDRJhzce0ZJs"
      },
      "execution_count": null,
      "outputs": []
    },
    {
      "cell_type": "code",
      "source": [
        "unidecode('àáãçéõü')"
      ],
      "metadata": {
        "colab": {
          "base_uri": "https://localhost:8080/",
          "height": 36
        },
        "id": "OiTFDRsW0eMz",
        "outputId": "a312f8d3-2d7d-45f5-87bc-51d162f871aa"
      },
      "execution_count": null,
      "outputs": [
        {
          "output_type": "execute_result",
          "data": {
            "text/plain": [
              "'aaaceou'"
            ],
            "application/vnd.google.colaboratory.intrinsic+json": {
              "type": "string"
            }
          },
          "metadata": {},
          "execution_count": 60
        }
      ]
    },
    {
      "cell_type": "code",
      "source": [
        "def unidecode_function(string):\n",
        "  if not string:\n",
        "    return None\n",
        "  else:\n",
        "    return unidecode(string)\n",
        "\n",
        "unidecode_udf = f.udf(unidecode_function, returnType=StringType())"
      ],
      "metadata": {
        "id": "sI3dKL1uzqAb"
      },
      "execution_count": null,
      "outputs": []
    },
    {
      "cell_type": "code",
      "source": [
        "del unidecode_function"
      ],
      "metadata": {
        "id": "a6Fu75Tq1kUR"
      },
      "execution_count": null,
      "outputs": []
    },
    {
      "cell_type": "code",
      "source": [
        "#Outra forma de criar a udf\n",
        "\n",
        "@f.udf(returnType=StringType())\n",
        "def unidecode_function(string):\n",
        "  if not string:\n",
        "    return None\n",
        "  else:\n",
        "    return unidecode(string)"
      ],
      "metadata": {
        "id": "MfxyRuTIqueB"
      },
      "execution_count": null,
      "outputs": []
    },
    {
      "cell_type": "markdown",
      "source": [
        "**Criando métodos customizados**\n",
        "\n",
        "Em algumas situações, é interessante que realizemos uma operação sobre um DataFrame que não está implementada. Além disso, pode ser que seja necessário (ou do desejo do desenvolvedor) utilizar essa operação de forma encadeada.\n",
        "\n",
        "Para resolver esse processo, podemos utilizar o método `.transform()`. Funciona da seguinte maneira:\n",
        "\n",
        "1) Definir uma função do python da seguinte forma:\n",
        "\n",
        "![image.png](data:image/png;base64,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)\n",
        "\n",
        "2) Depois de definida a função, ela pode ser chamada da seguinte forma:\n",
        "\n",
        "df. transform(f(args))"
      ],
      "metadata": {
        "id": "308SYMoxsbqu"
      }
    },
    {
      "cell_type": "code",
      "source": [
        "#Para versões do Spark anterior a 3.0 é necessário definir o método .transform da seguinte forma\n",
        "from pyspark.sql import DataFrame\n",
        "\n",
        "def transform(self, f):\n",
        "  return f(self)\n",
        "\n",
        "DataFrame.transform = transform"
      ],
      "metadata": {
        "id": "N1SgXCF90_Km"
      },
      "execution_count": 19,
      "outputs": []
    },
    {
      "cell_type": "code",
      "source": [
        "def renamer(dict):\n",
        "  def _(df):\n",
        "    for c, n in dict.items():\n",
        "      df = df.withColumnRenamed(c, n)\n",
        "    return df\n",
        "  return _"
      ],
      "metadata": {
        "id": "OZhTGQ-HtP3K"
      },
      "execution_count": 20,
      "outputs": []
    },
    {
      "cell_type": "code",
      "source": [
        "df.limit(5).toPandas()"
      ],
      "metadata": {
        "id": "ouFIg8KsrGV9",
        "colab": {
          "base_uri": "https://localhost:8080/",
          "height": 530
        },
        "outputId": "2560d019-1d43-4c6d-b5d6-78f6b1714050"
      },
      "execution_count": 21,
      "outputs": [
        {
          "output_type": "execute_result",
          "data": {
            "text/plain": [
              "   Id       EmployeeName                                        JobTitle  \\\n",
              "0   1     NATHANIEL FORD  GENERAL MANAGER-METROPOLITAN TRANSIT AUTHORITY   \n",
              "1   2       GARY JIMENEZ                 CAPTAIN III (POLICE DEPARTMENT)   \n",
              "2   3     ALBERT PARDINI                 CAPTAIN III (POLICE DEPARTMENT)   \n",
              "3   4  CHRISTOPHER CHONG            WIRE ROPE CABLE MAINTENANCE MECHANIC   \n",
              "4   5    PATRICK GARDNER    DEPUTY CHIEF OF DEPARTMENT,(FIRE DEPARTMENT)   \n",
              "\n",
              "     BasePay  OvertimePay   OtherPay Benefits   TotalPay  TotalPayBenefits  \\\n",
              "0  167411.18         0.00  400184.25     None  567595.43         567595.43   \n",
              "1  155966.02    245131.88  137811.38     None  538909.28         538909.28   \n",
              "2  212739.13    106088.18   16452.60     None  335279.91         335279.91   \n",
              "3   77916.00     56120.71  198306.90     None  332343.61         332343.61   \n",
              "4  134401.60      9737.00  182234.59     None  326373.19         326373.19   \n",
              "\n",
              "   Year Notes         Agency Status  \n",
              "0  2011  None  San Francisco   None  \n",
              "1  2011  None  San Francisco   None  \n",
              "2  2011  None  San Francisco   None  \n",
              "3  2011  None  San Francisco   None  \n",
              "4  2011  None  San Francisco   None  "
            ],
            "text/html": [
              "\n",
              "  <div id=\"df-85dd8303-2b4d-44f9-bf9d-d868023c6901\">\n",
              "    <div class=\"colab-df-container\">\n",
              "      <div>\n",
              "<style scoped>\n",
              "    .dataframe tbody tr th:only-of-type {\n",
              "        vertical-align: middle;\n",
              "    }\n",
              "\n",
              "    .dataframe tbody tr th {\n",
              "        vertical-align: top;\n",
              "    }\n",
              "\n",
              "    .dataframe thead th {\n",
              "        text-align: right;\n",
              "    }\n",
              "</style>\n",
              "<table border=\"1\" class=\"dataframe\">\n",
              "  <thead>\n",
              "    <tr style=\"text-align: right;\">\n",
              "      <th></th>\n",
              "      <th>Id</th>\n",
              "      <th>EmployeeName</th>\n",
              "      <th>JobTitle</th>\n",
              "      <th>BasePay</th>\n",
              "      <th>OvertimePay</th>\n",
              "      <th>OtherPay</th>\n",
              "      <th>Benefits</th>\n",
              "      <th>TotalPay</th>\n",
              "      <th>TotalPayBenefits</th>\n",
              "      <th>Year</th>\n",
              "      <th>Notes</th>\n",
              "      <th>Agency</th>\n",
              "      <th>Status</th>\n",
              "    </tr>\n",
              "  </thead>\n",
              "  <tbody>\n",
              "    <tr>\n",
              "      <th>0</th>\n",
              "      <td>1</td>\n",
              "      <td>NATHANIEL FORD</td>\n",
              "      <td>GENERAL MANAGER-METROPOLITAN TRANSIT AUTHORITY</td>\n",
              "      <td>167411.18</td>\n",
              "      <td>0.00</td>\n",
              "      <td>400184.25</td>\n",
              "      <td>None</td>\n",
              "      <td>567595.43</td>\n",
              "      <td>567595.43</td>\n",
              "      <td>2011</td>\n",
              "      <td>None</td>\n",
              "      <td>San Francisco</td>\n",
              "      <td>None</td>\n",
              "    </tr>\n",
              "    <tr>\n",
              "      <th>1</th>\n",
              "      <td>2</td>\n",
              "      <td>GARY JIMENEZ</td>\n",
              "      <td>CAPTAIN III (POLICE DEPARTMENT)</td>\n",
              "      <td>155966.02</td>\n",
              "      <td>245131.88</td>\n",
              "      <td>137811.38</td>\n",
              "      <td>None</td>\n",
              "      <td>538909.28</td>\n",
              "      <td>538909.28</td>\n",
              "      <td>2011</td>\n",
              "      <td>None</td>\n",
              "      <td>San Francisco</td>\n",
              "      <td>None</td>\n",
              "    </tr>\n",
              "    <tr>\n",
              "      <th>2</th>\n",
              "      <td>3</td>\n",
              "      <td>ALBERT PARDINI</td>\n",
              "      <td>CAPTAIN III (POLICE DEPARTMENT)</td>\n",
              "      <td>212739.13</td>\n",
              "      <td>106088.18</td>\n",
              "      <td>16452.60</td>\n",
              "      <td>None</td>\n",
              "      <td>335279.91</td>\n",
              "      <td>335279.91</td>\n",
              "      <td>2011</td>\n",
              "      <td>None</td>\n",
              "      <td>San Francisco</td>\n",
              "      <td>None</td>\n",
              "    </tr>\n",
              "    <tr>\n",
              "      <th>3</th>\n",
              "      <td>4</td>\n",
              "      <td>CHRISTOPHER CHONG</td>\n",
              "      <td>WIRE ROPE CABLE MAINTENANCE MECHANIC</td>\n",
              "      <td>77916.00</td>\n",
              "      <td>56120.71</td>\n",
              "      <td>198306.90</td>\n",
              "      <td>None</td>\n",
              "      <td>332343.61</td>\n",
              "      <td>332343.61</td>\n",
              "      <td>2011</td>\n",
              "      <td>None</td>\n",
              "      <td>San Francisco</td>\n",
              "      <td>None</td>\n",
              "    </tr>\n",
              "    <tr>\n",
              "      <th>4</th>\n",
              "      <td>5</td>\n",
              "      <td>PATRICK GARDNER</td>\n",
              "      <td>DEPUTY CHIEF OF DEPARTMENT,(FIRE DEPARTMENT)</td>\n",
              "      <td>134401.60</td>\n",
              "      <td>9737.00</td>\n",
              "      <td>182234.59</td>\n",
              "      <td>None</td>\n",
              "      <td>326373.19</td>\n",
              "      <td>326373.19</td>\n",
              "      <td>2011</td>\n",
              "      <td>None</td>\n",
              "      <td>San Francisco</td>\n",
              "      <td>None</td>\n",
              "    </tr>\n",
              "  </tbody>\n",
              "</table>\n",
              "</div>\n",
              "      <button class=\"colab-df-convert\" onclick=\"convertToInteractive('df-85dd8303-2b4d-44f9-bf9d-d868023c6901')\"\n",
              "              title=\"Convert this dataframe to an interactive table.\"\n",
              "              style=\"display:none;\">\n",
              "        \n",
              "  <svg xmlns=\"http://www.w3.org/2000/svg\" height=\"24px\"viewBox=\"0 0 24 24\"\n",
              "       width=\"24px\">\n",
              "    <path d=\"M0 0h24v24H0V0z\" fill=\"none\"/>\n",
              "    <path d=\"M18.56 5.44l.94 2.06.94-2.06 2.06-.94-2.06-.94-.94-2.06-.94 2.06-2.06.94zm-11 1L8.5 8.5l.94-2.06 2.06-.94-2.06-.94L8.5 2.5l-.94 2.06-2.06.94zm10 10l.94 2.06.94-2.06 2.06-.94-2.06-.94-.94-2.06-.94 2.06-2.06.94z\"/><path d=\"M17.41 7.96l-1.37-1.37c-.4-.4-.92-.59-1.43-.59-.52 0-1.04.2-1.43.59L10.3 9.45l-7.72 7.72c-.78.78-.78 2.05 0 2.83L4 21.41c.39.39.9.59 1.41.59.51 0 1.02-.2 1.41-.59l7.78-7.78 2.81-2.81c.8-.78.8-2.07 0-2.86zM5.41 20L4 18.59l7.72-7.72 1.47 1.35L5.41 20z\"/>\n",
              "  </svg>\n",
              "      </button>\n",
              "      \n",
              "  <style>\n",
              "    .colab-df-container {\n",
              "      display:flex;\n",
              "      flex-wrap:wrap;\n",
              "      gap: 12px;\n",
              "    }\n",
              "\n",
              "    .colab-df-convert {\n",
              "      background-color: #E8F0FE;\n",
              "      border: none;\n",
              "      border-radius: 50%;\n",
              "      cursor: pointer;\n",
              "      display: none;\n",
              "      fill: #1967D2;\n",
              "      height: 32px;\n",
              "      padding: 0 0 0 0;\n",
              "      width: 32px;\n",
              "    }\n",
              "\n",
              "    .colab-df-convert:hover {\n",
              "      background-color: #E2EBFA;\n",
              "      box-shadow: 0px 1px 2px rgba(60, 64, 67, 0.3), 0px 1px 3px 1px rgba(60, 64, 67, 0.15);\n",
              "      fill: #174EA6;\n",
              "    }\n",
              "\n",
              "    [theme=dark] .colab-df-convert {\n",
              "      background-color: #3B4455;\n",
              "      fill: #D2E3FC;\n",
              "    }\n",
              "\n",
              "    [theme=dark] .colab-df-convert:hover {\n",
              "      background-color: #434B5C;\n",
              "      box-shadow: 0px 1px 3px 1px rgba(0, 0, 0, 0.15);\n",
              "      filter: drop-shadow(0px 1px 2px rgba(0, 0, 0, 0.3));\n",
              "      fill: #FFFFFF;\n",
              "    }\n",
              "  </style>\n",
              "\n",
              "      <script>\n",
              "        const buttonEl =\n",
              "          document.querySelector('#df-85dd8303-2b4d-44f9-bf9d-d868023c6901 button.colab-df-convert');\n",
              "        buttonEl.style.display =\n",
              "          google.colab.kernel.accessAllowed ? 'block' : 'none';\n",
              "\n",
              "        async function convertToInteractive(key) {\n",
              "          const element = document.querySelector('#df-85dd8303-2b4d-44f9-bf9d-d868023c6901');\n",
              "          const dataTable =\n",
              "            await google.colab.kernel.invokeFunction('convertToInteractive',\n",
              "                                                     [key], {});\n",
              "          if (!dataTable) return;\n",
              "\n",
              "          const docLinkHtml = 'Like what you see? Visit the ' +\n",
              "            '<a target=\"_blank\" href=https://colab.research.google.com/notebooks/data_table.ipynb>data table notebook</a>'\n",
              "            + ' to learn more about interactive tables.';\n",
              "          element.innerHTML = '';\n",
              "          dataTable['output_type'] = 'display_data';\n",
              "          await google.colab.output.renderOutput(dataTable, element);\n",
              "          const docLink = document.createElement('div');\n",
              "          docLink.innerHTML = docLinkHtml;\n",
              "          element.appendChild(docLink);\n",
              "        }\n",
              "      </script>\n",
              "    </div>\n",
              "  </div>\n",
              "  "
            ]
          },
          "metadata": {},
          "execution_count": 21
        }
      ]
    },
    {
      "cell_type": "code",
      "source": [
        "df.columns"
      ],
      "metadata": {
        "colab": {
          "base_uri": "https://localhost:8080/"
        },
        "id": "_6_9IONE0YTI",
        "outputId": "f17af29e-c12d-487e-9b4a-86f4ef419a24"
      },
      "execution_count": 15,
      "outputs": [
        {
          "output_type": "execute_result",
          "data": {
            "text/plain": [
              "['Id',\n",
              " 'EmployeeName',\n",
              " 'JobTitle',\n",
              " 'BasePay',\n",
              " 'OvertimePay',\n",
              " 'OtherPay',\n",
              " 'Benefits',\n",
              " 'TotalPay',\n",
              " 'TotalPayBenefits',\n",
              " 'Year',\n",
              " 'Notes',\n",
              " 'Agency',\n",
              " 'Status']"
            ]
          },
          "metadata": {},
          "execution_count": 15
        }
      ]
    },
    {
      "cell_type": "code",
      "source": [
        "rename_dict = {\n",
        "    \"EmployeeName\": 'Emp_Name',\n",
        "    \"JobTitle\": 'Job',\n",
        "    \"BasePay\": 'Salary',\n",
        "}\n",
        "\n",
        "\n",
        "(\n",
        "    df\n",
        "    .transform(renamer(rename_dict))\n",
        "    .limit(5)\n",
        "    .toPandas()\n",
        ")"
      ],
      "metadata": {
        "colab": {
          "base_uri": "https://localhost:8080/",
          "height": 530
        },
        "id": "LBfIMdrR0VV-",
        "outputId": "6faa4674-67ba-42b2-f8f4-d9fad6d61f39"
      },
      "execution_count": 22,
      "outputs": [
        {
          "output_type": "execute_result",
          "data": {
            "text/plain": [
              "   Id           Emp_Name                                             Job  \\\n",
              "0   1     NATHANIEL FORD  GENERAL MANAGER-METROPOLITAN TRANSIT AUTHORITY   \n",
              "1   2       GARY JIMENEZ                 CAPTAIN III (POLICE DEPARTMENT)   \n",
              "2   3     ALBERT PARDINI                 CAPTAIN III (POLICE DEPARTMENT)   \n",
              "3   4  CHRISTOPHER CHONG            WIRE ROPE CABLE MAINTENANCE MECHANIC   \n",
              "4   5    PATRICK GARDNER    DEPUTY CHIEF OF DEPARTMENT,(FIRE DEPARTMENT)   \n",
              "\n",
              "      Salary  OvertimePay   OtherPay Benefits   TotalPay  TotalPayBenefits  \\\n",
              "0  167411.18         0.00  400184.25     None  567595.43         567595.43   \n",
              "1  155966.02    245131.88  137811.38     None  538909.28         538909.28   \n",
              "2  212739.13    106088.18   16452.60     None  335279.91         335279.91   \n",
              "3   77916.00     56120.71  198306.90     None  332343.61         332343.61   \n",
              "4  134401.60      9737.00  182234.59     None  326373.19         326373.19   \n",
              "\n",
              "   Year Notes         Agency Status  \n",
              "0  2011  None  San Francisco   None  \n",
              "1  2011  None  San Francisco   None  \n",
              "2  2011  None  San Francisco   None  \n",
              "3  2011  None  San Francisco   None  \n",
              "4  2011  None  San Francisco   None  "
            ],
            "text/html": [
              "\n",
              "  <div id=\"df-35079969-a8b4-41a1-9877-e8bf994a79e4\">\n",
              "    <div class=\"colab-df-container\">\n",
              "      <div>\n",
              "<style scoped>\n",
              "    .dataframe tbody tr th:only-of-type {\n",
              "        vertical-align: middle;\n",
              "    }\n",
              "\n",
              "    .dataframe tbody tr th {\n",
              "        vertical-align: top;\n",
              "    }\n",
              "\n",
              "    .dataframe thead th {\n",
              "        text-align: right;\n",
              "    }\n",
              "</style>\n",
              "<table border=\"1\" class=\"dataframe\">\n",
              "  <thead>\n",
              "    <tr style=\"text-align: right;\">\n",
              "      <th></th>\n",
              "      <th>Id</th>\n",
              "      <th>Emp_Name</th>\n",
              "      <th>Job</th>\n",
              "      <th>Salary</th>\n",
              "      <th>OvertimePay</th>\n",
              "      <th>OtherPay</th>\n",
              "      <th>Benefits</th>\n",
              "      <th>TotalPay</th>\n",
              "      <th>TotalPayBenefits</th>\n",
              "      <th>Year</th>\n",
              "      <th>Notes</th>\n",
              "      <th>Agency</th>\n",
              "      <th>Status</th>\n",
              "    </tr>\n",
              "  </thead>\n",
              "  <tbody>\n",
              "    <tr>\n",
              "      <th>0</th>\n",
              "      <td>1</td>\n",
              "      <td>NATHANIEL FORD</td>\n",
              "      <td>GENERAL MANAGER-METROPOLITAN TRANSIT AUTHORITY</td>\n",
              "      <td>167411.18</td>\n",
              "      <td>0.00</td>\n",
              "      <td>400184.25</td>\n",
              "      <td>None</td>\n",
              "      <td>567595.43</td>\n",
              "      <td>567595.43</td>\n",
              "      <td>2011</td>\n",
              "      <td>None</td>\n",
              "      <td>San Francisco</td>\n",
              "      <td>None</td>\n",
              "    </tr>\n",
              "    <tr>\n",
              "      <th>1</th>\n",
              "      <td>2</td>\n",
              "      <td>GARY JIMENEZ</td>\n",
              "      <td>CAPTAIN III (POLICE DEPARTMENT)</td>\n",
              "      <td>155966.02</td>\n",
              "      <td>245131.88</td>\n",
              "      <td>137811.38</td>\n",
              "      <td>None</td>\n",
              "      <td>538909.28</td>\n",
              "      <td>538909.28</td>\n",
              "      <td>2011</td>\n",
              "      <td>None</td>\n",
              "      <td>San Francisco</td>\n",
              "      <td>None</td>\n",
              "    </tr>\n",
              "    <tr>\n",
              "      <th>2</th>\n",
              "      <td>3</td>\n",
              "      <td>ALBERT PARDINI</td>\n",
              "      <td>CAPTAIN III (POLICE DEPARTMENT)</td>\n",
              "      <td>212739.13</td>\n",
              "      <td>106088.18</td>\n",
              "      <td>16452.60</td>\n",
              "      <td>None</td>\n",
              "      <td>335279.91</td>\n",
              "      <td>335279.91</td>\n",
              "      <td>2011</td>\n",
              "      <td>None</td>\n",
              "      <td>San Francisco</td>\n",
              "      <td>None</td>\n",
              "    </tr>\n",
              "    <tr>\n",
              "      <th>3</th>\n",
              "      <td>4</td>\n",
              "      <td>CHRISTOPHER CHONG</td>\n",
              "      <td>WIRE ROPE CABLE MAINTENANCE MECHANIC</td>\n",
              "      <td>77916.00</td>\n",
              "      <td>56120.71</td>\n",
              "      <td>198306.90</td>\n",
              "      <td>None</td>\n",
              "      <td>332343.61</td>\n",
              "      <td>332343.61</td>\n",
              "      <td>2011</td>\n",
              "      <td>None</td>\n",
              "      <td>San Francisco</td>\n",
              "      <td>None</td>\n",
              "    </tr>\n",
              "    <tr>\n",
              "      <th>4</th>\n",
              "      <td>5</td>\n",
              "      <td>PATRICK GARDNER</td>\n",
              "      <td>DEPUTY CHIEF OF DEPARTMENT,(FIRE DEPARTMENT)</td>\n",
              "      <td>134401.60</td>\n",
              "      <td>9737.00</td>\n",
              "      <td>182234.59</td>\n",
              "      <td>None</td>\n",
              "      <td>326373.19</td>\n",
              "      <td>326373.19</td>\n",
              "      <td>2011</td>\n",
              "      <td>None</td>\n",
              "      <td>San Francisco</td>\n",
              "      <td>None</td>\n",
              "    </tr>\n",
              "  </tbody>\n",
              "</table>\n",
              "</div>\n",
              "      <button class=\"colab-df-convert\" onclick=\"convertToInteractive('df-35079969-a8b4-41a1-9877-e8bf994a79e4')\"\n",
              "              title=\"Convert this dataframe to an interactive table.\"\n",
              "              style=\"display:none;\">\n",
              "        \n",
              "  <svg xmlns=\"http://www.w3.org/2000/svg\" height=\"24px\"viewBox=\"0 0 24 24\"\n",
              "       width=\"24px\">\n",
              "    <path d=\"M0 0h24v24H0V0z\" fill=\"none\"/>\n",
              "    <path d=\"M18.56 5.44l.94 2.06.94-2.06 2.06-.94-2.06-.94-.94-2.06-.94 2.06-2.06.94zm-11 1L8.5 8.5l.94-2.06 2.06-.94-2.06-.94L8.5 2.5l-.94 2.06-2.06.94zm10 10l.94 2.06.94-2.06 2.06-.94-2.06-.94-.94-2.06-.94 2.06-2.06.94z\"/><path d=\"M17.41 7.96l-1.37-1.37c-.4-.4-.92-.59-1.43-.59-.52 0-1.04.2-1.43.59L10.3 9.45l-7.72 7.72c-.78.78-.78 2.05 0 2.83L4 21.41c.39.39.9.59 1.41.59.51 0 1.02-.2 1.41-.59l7.78-7.78 2.81-2.81c.8-.78.8-2.07 0-2.86zM5.41 20L4 18.59l7.72-7.72 1.47 1.35L5.41 20z\"/>\n",
              "  </svg>\n",
              "      </button>\n",
              "      \n",
              "  <style>\n",
              "    .colab-df-container {\n",
              "      display:flex;\n",
              "      flex-wrap:wrap;\n",
              "      gap: 12px;\n",
              "    }\n",
              "\n",
              "    .colab-df-convert {\n",
              "      background-color: #E8F0FE;\n",
              "      border: none;\n",
              "      border-radius: 50%;\n",
              "      cursor: pointer;\n",
              "      display: none;\n",
              "      fill: #1967D2;\n",
              "      height: 32px;\n",
              "      padding: 0 0 0 0;\n",
              "      width: 32px;\n",
              "    }\n",
              "\n",
              "    .colab-df-convert:hover {\n",
              "      background-color: #E2EBFA;\n",
              "      box-shadow: 0px 1px 2px rgba(60, 64, 67, 0.3), 0px 1px 3px 1px rgba(60, 64, 67, 0.15);\n",
              "      fill: #174EA6;\n",
              "    }\n",
              "\n",
              "    [theme=dark] .colab-df-convert {\n",
              "      background-color: #3B4455;\n",
              "      fill: #D2E3FC;\n",
              "    }\n",
              "\n",
              "    [theme=dark] .colab-df-convert:hover {\n",
              "      background-color: #434B5C;\n",
              "      box-shadow: 0px 1px 3px 1px rgba(0, 0, 0, 0.15);\n",
              "      filter: drop-shadow(0px 1px 2px rgba(0, 0, 0, 0.3));\n",
              "      fill: #FFFFFF;\n",
              "    }\n",
              "  </style>\n",
              "\n",
              "      <script>\n",
              "        const buttonEl =\n",
              "          document.querySelector('#df-35079969-a8b4-41a1-9877-e8bf994a79e4 button.colab-df-convert');\n",
              "        buttonEl.style.display =\n",
              "          google.colab.kernel.accessAllowed ? 'block' : 'none';\n",
              "\n",
              "        async function convertToInteractive(key) {\n",
              "          const element = document.querySelector('#df-35079969-a8b4-41a1-9877-e8bf994a79e4');\n",
              "          const dataTable =\n",
              "            await google.colab.kernel.invokeFunction('convertToInteractive',\n",
              "                                                     [key], {});\n",
              "          if (!dataTable) return;\n",
              "\n",
              "          const docLinkHtml = 'Like what you see? Visit the ' +\n",
              "            '<a target=\"_blank\" href=https://colab.research.google.com/notebooks/data_table.ipynb>data table notebook</a>'\n",
              "            + ' to learn more about interactive tables.';\n",
              "          element.innerHTML = '';\n",
              "          dataTable['output_type'] = 'display_data';\n",
              "          await google.colab.output.renderOutput(dataTable, element);\n",
              "          const docLink = document.createElement('div');\n",
              "          docLink.innerHTML = docLinkHtml;\n",
              "          element.appendChild(docLink);\n",
              "        }\n",
              "      </script>\n",
              "    </div>\n",
              "  </div>\n",
              "  "
            ]
          },
          "metadata": {},
          "execution_count": 22
        }
      ]
    }
  ]
}