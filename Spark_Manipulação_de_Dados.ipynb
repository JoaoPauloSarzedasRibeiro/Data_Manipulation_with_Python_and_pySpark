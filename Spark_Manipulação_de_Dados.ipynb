{
  "nbformat": 4,
  "nbformat_minor": 0,
  "metadata": {
    "colab": {
      "name": "Spark - Manipulação de Dados.ipynb",
      "provenance": [],
      "collapsed_sections": [
        "96d8PdUHV7Vb",
        "ubnsnZ8XnuKX"
      ],
      "authorship_tag": "ABX9TyMECK17cypTCbUZwq3z2ZUR",
      "include_colab_link": true
    },
    "kernelspec": {
      "name": "python3",
      "display_name": "Python 3"
    },
    "language_info": {
      "name": "python"
    }
  },
  "cells": [
    {
      "cell_type": "markdown",
      "metadata": {
        "id": "view-in-github",
        "colab_type": "text"
      },
      "source": [
        "<a href=\"https://colab.research.google.com/github/JoaoPauloSarzedasRibeiro/data_analysis_with_Python/blob/main/Spark_Manipula%C3%A7%C3%A3o_de_Dados.ipynb\" target=\"_parent\"><img src=\"https://colab.research.google.com/assets/colab-badge.svg\" alt=\"Open In Colab\"/></a>"
      ]
    },
    {
      "cell_type": "markdown",
      "source": [
        "#Instalando o PySpark no Google Colab"
      ],
      "metadata": {
        "id": "96d8PdUHV7Vb"
      }
    },
    {
      "cell_type": "code",
      "execution_count": 1,
      "metadata": {
        "id": "gKdl2riQUPz6"
      },
      "outputs": [],
      "source": [
        "# instalar as dependências necessárias para o Spark\n",
        "!apt-get install openjdk-8-jdk-headless -qq > /dev/null\n",
        "!wget -q https://archive.apache.org/dist/spark/spark-2.4.4/spark-2.4.4-bin-hadoop2.7.tgz\n",
        "!tar xf spark-2.4.4-bin-hadoop2.7.tgz\n",
        "!pip install -q findspark"
      ]
    },
    {
      "cell_type": "code",
      "source": [
        "# configurar as variáveis de ambiente\n",
        "import os\n",
        "os.environ[\"JAVA_HOME\"] = \"/usr/lib/jvm/java-8-openjdk-amd64\"\n",
        "os.environ[\"SPARK_HOME\"] = \"/content/spark-2.4.4-bin-hadoop2.7\"\n",
        "\n",
        "# tornar o pyspark \"importável\"\n",
        "import findspark\n",
        "findspark.init('spark-2.4.4-bin-hadoop2.7')"
      ],
      "metadata": {
        "id": "atfl6_lrU89P"
      },
      "execution_count": 2,
      "outputs": []
    },
    {
      "cell_type": "code",
      "source": [
        "# iniciar uma sessão local chamada spark\n",
        "from pyspark.sql import SparkSession\n",
        "spark = SparkSession.builder.master('local[*]').getOrCreate()"
      ],
      "metadata": {
        "id": "mehGHa_TU-Ey"
      },
      "execution_count": 3,
      "outputs": []
    },
    {
      "cell_type": "markdown",
      "source": [
        "#Leitura dos dados e criação de um DataFrame"
      ],
      "metadata": {
        "id": "ubnsnZ8XnuKX"
      }
    },
    {
      "cell_type": "code",
      "source": [
        "#Adicionando o arquivo CSV hospedado no GitHub para que o Spark consiga acessa-lo\n",
        "url = 'https://raw.githubusercontent.com/JoaoPauloSarzedasRibeiro/data_analysis_with_Python/main/data/Salaries.csv'\n",
        "from pyspark import SparkFiles\n",
        "spark.sparkContext.addFile(url)"
      ],
      "metadata": {
        "id": "aj3hPdoMn0h5"
      },
      "execution_count": 4,
      "outputs": []
    },
    {
      "cell_type": "code",
      "source": [
        "#Lendo os dados em CSV\n",
        "df_csv = (\n",
        "    spark\n",
        "    .read\n",
        "    .format('csv')\n",
        "    .options(header=True, inferSchema=True,sep=',',encoding='latin1')\n",
        "    .load(SparkFiles.get('Salaries.csv'))\n",
        "    )"
      ],
      "metadata": {
        "id": "LtFkNhkvoLB3"
      },
      "execution_count": 5,
      "outputs": []
    },
    {
      "cell_type": "code",
      "source": [
        "#Salvando os dados no formato parquet para manipulação com Spark\n",
        "df_csv.write.format('parquet').mode('overwrite').save('df')"
      ],
      "metadata": {
        "id": "-cXpw0RVqO_F"
      },
      "execution_count": 6,
      "outputs": []
    },
    {
      "cell_type": "code",
      "source": [
        "#Criando um novo DataFrame com os dados já no formato Parquet\n",
        "df = spark.read.format('parquet').load('df')"
      ],
      "metadata": {
        "id": "aT56mHCFqR4N"
      },
      "execution_count": 7,
      "outputs": []
    },
    {
      "cell_type": "code",
      "source": [
        "import pyspark.sql.functions as f"
      ],
      "metadata": {
        "id": "IDBDvpU-5ruh"
      },
      "execution_count": 8,
      "outputs": []
    },
    {
      "cell_type": "code",
      "source": [
        "#Verificando o Schema do DataFrame\n",
        "df.printSchema()"
      ],
      "metadata": {
        "colab": {
          "base_uri": "https://localhost:8080/"
        },
        "id": "PbUlYfHmoY6n",
        "outputId": "38036c1a-4c2d-4cb3-f2c3-e0aa1d0fbe48"
      },
      "execution_count": 9,
      "outputs": [
        {
          "output_type": "stream",
          "name": "stdout",
          "text": [
            "root\n",
            " |-- Id: integer (nullable = true)\n",
            " |-- EmployeeName: string (nullable = true)\n",
            " |-- JobTitle: string (nullable = true)\n",
            " |-- BasePay: double (nullable = true)\n",
            " |-- OvertimePay: double (nullable = true)\n",
            " |-- OtherPay: double (nullable = true)\n",
            " |-- Benefits: double (nullable = true)\n",
            " |-- TotalPay: double (nullable = true)\n",
            " |-- TotalPayBenefits: double (nullable = true)\n",
            " |-- Year: integer (nullable = true)\n",
            " |-- Notes: string (nullable = true)\n",
            " |-- Agency: string (nullable = true)\n",
            " |-- Status: double (nullable = true)\n",
            "\n"
          ]
        }
      ]
    },
    {
      "cell_type": "markdown",
      "source": [
        "#Trabalhando com Diferentes Tipos de Dados"
      ],
      "metadata": {
        "id": "_LrUQVdOWAlK"
      }
    },
    {
      "cell_type": "markdown",
      "source": [
        "##Valores Numéricos"
      ],
      "metadata": {
        "id": "g2L-GF873tdu"
      }
    },
    {
      "cell_type": "markdown",
      "source": [
        "**Valores Numéricos:**\n",
        "\n",
        "* `round()`: arredonda o valor\n",
        "* `ceil()`: arrendonda para o maior inteiro mais próximo\n",
        "* `floor()`: arrendonda para o menor inteiro mais próximo\n",
        "* `sqrt()`: raiz quadrada do valor\n",
        "* `exp()`: exponencial do valor\n",
        "* `log()`: logaritmo natural do valor\n",
        "* `log10()`: logaritmo base 10 do valor\n",
        "* `gratest()`: maior valor dentre todos valores das colunas (similar ao max(), porém entre colunas)\n",
        "* `least()`: retorna o menor valor dentre as colunas (similar ao min(), porém entre colunas)"
      ],
      "metadata": {
        "id": "oRfKeL_EXCfA"
      }
    },
    {
      "cell_type": "code",
      "source": [
        "df.printSchema()"
      ],
      "metadata": {
        "colab": {
          "base_uri": "https://localhost:8080/"
        },
        "id": "514-QvSkXP8x",
        "outputId": "bd759109-62bc-43ba-d91a-cf1e6ff2e716"
      },
      "execution_count": null,
      "outputs": [
        {
          "output_type": "stream",
          "name": "stdout",
          "text": [
            "root\n",
            " |-- Id: integer (nullable = true)\n",
            " |-- EmployeeName: string (nullable = true)\n",
            " |-- JobTitle: string (nullable = true)\n",
            " |-- BasePay: double (nullable = true)\n",
            " |-- OvertimePay: double (nullable = true)\n",
            " |-- OtherPay: double (nullable = true)\n",
            " |-- Benefits: double (nullable = true)\n",
            " |-- TotalPay: double (nullable = true)\n",
            " |-- TotalPayBenefits: double (nullable = true)\n",
            " |-- Year: integer (nullable = true)\n",
            " |-- Notes: string (nullable = true)\n",
            " |-- Agency: string (nullable = true)\n",
            " |-- Status: double (nullable = true)\n",
            "\n"
          ]
        }
      ]
    },
    {
      "cell_type": "code",
      "source": [
        "(\n",
        "    df\n",
        "    .select('EmployeeName', 'JobTitle','BasePay','TotalPay')\n",
        "    .withColumn('floor_Pay', f.floor(f.col('BasePay')))\n",
        "    .withColumn('ceil_Pay', f.ceil(f.col('BasePay')))\n",
        "    .withColumn('coef_TotalPay', f.round(f.col('TotalPay') / f.col('BasePay'),2))\n",
        "    .withColumn('Random_Normal', f.randn(123))\n",
        "    .limit(5)\n",
        "    .show()\n",
        ")"
      ],
      "metadata": {
        "colab": {
          "base_uri": "https://localhost:8080/"
        },
        "id": "rMVO8TrQYXPs",
        "outputId": "f9084d53-6fe0-4c54-dd32-53374f8f85a7"
      },
      "execution_count": null,
      "outputs": [
        {
          "output_type": "stream",
          "name": "stdout",
          "text": [
            "+-----------------+--------------------+---------+---------+---------+--------+-------------+--------------------+\n",
            "|     EmployeeName|            JobTitle|  BasePay| TotalPay|floor_Pay|ceil_Pay|coef_TotalPay|       Random_Normal|\n",
            "+-----------------+--------------------+---------+---------+---------+--------+-------------+--------------------+\n",
            "|   NATHANIEL FORD|GENERAL MANAGER-M...|167411.18|567595.43|   167411|  167412|         3.39|0.001988081602007817|\n",
            "|     GARY JIMENEZ|CAPTAIN III (POLI...|155966.02|538909.28|   155966|  155967|         3.46| 0.32765099517752727|\n",
            "|   ALBERT PARDINI|CAPTAIN III (POLI...|212739.13|335279.91|   212739|  212740|         1.58| 0.35989602440312274|\n",
            "|CHRISTOPHER CHONG|WIRE ROPE CABLE M...|  77916.0|332343.61|    77916|   77916|         4.27|  0.3801966195174709|\n",
            "|  PATRICK GARDNER|DEPUTY CHIEF OF D...| 134401.6|326373.19|   134401|  134402|         2.43| -2.1726586720908876|\n",
            "+-----------------+--------------------+---------+---------+---------+--------+-------------+--------------------+\n",
            "\n"
          ]
        }
      ]
    },
    {
      "cell_type": "markdown",
      "source": [
        "##Strings"
      ],
      "metadata": {
        "id": "jR4AE-qq3zYf"
      }
    },
    {
      "cell_type": "markdown",
      "source": [
        "**Strings:**\n",
        "\n",
        "* `upper()`: retorna a string em maiusculas\n",
        "* `lower()`: retorna a string em minusculas\n",
        "* `initcap()`: retorna a primeira letra de cada palavra na string em letras maiusculas\n",
        "* `trim()`: retira os espaços em branco do início e fim da string\n",
        "* `ltrim() / rtrim()`: retira os espaços em branco do inicio, ou do fim da string, respectivamente\n",
        "* `lpad() / rpad()`: acrescenta um caractere no inicio ou no final da string, até que a string tenha um comprimento especificado\n",
        "* `length()`: retorna o comprimento da string\n",
        "* `split()`: quebra a string a partir de um caractere dado e retorna um array com os strings resultantes\n",
        "* `concat()`: concatena uma ou mais colunas de string\n",
        "* `concat_ws()`: concatena com um separador entre as colunas\n",
        "* `regexp_extract()`: retorna um match no string a partir de um padrão regex\n",
        "* `regexp_replace()`: substitui um match no string a partir de um padrão regex com outros caracteres\n",
        "* `substring()`: retorna os caracteres dos tring que estão entre dois indices especificados"
      ],
      "metadata": {
        "id": "wteuGU43a5Mj"
      }
    },
    {
      "cell_type": "code",
      "source": [
        "(\n",
        "    df\n",
        "    .select('EmployeeName', 'JobTitle')\n",
        "    .withColumn('EmployeeName', f.lower(f.col('EmployeeName')))\n",
        "    .withColumn('Employee Initials', f.initcap(f.col('EmployeeName')))\n",
        "    .withColumn('JobTitle', f.split(f.col('JobTitle'), ' ')[0])\n",
        "    .withColumn('Name_length', f.length(f.col('EmployeeName')))\n",
        "    .withColumn('Full_Name_Job', f.concat(f.col('JobTitle'), f.lit(' ') ,f.col('Employee Initials')))\n",
        "    .limit(5)\n",
        "    .toPandas()\n",
        ")"
      ],
      "metadata": {
        "colab": {
          "base_uri": "https://localhost:8080/",
          "height": 206
        },
        "id": "Nu4rrRrJcMzF",
        "outputId": "cdecb1bb-d849-4dc6-8a39-ae529eb757e4"
      },
      "execution_count": null,
      "outputs": [
        {
          "output_type": "execute_result",
          "data": {
            "text/plain": [
              "        EmployeeName JobTitle  Employee Initials  Name_length  \\\n",
              "0     nathaniel ford  GENERAL     Nathaniel Ford           14   \n",
              "1       gary jimenez  CAPTAIN       Gary Jimenez           12   \n",
              "2     albert pardini  CAPTAIN     Albert Pardini           14   \n",
              "3  christopher chong     WIRE  Christopher Chong           17   \n",
              "4    patrick gardner   DEPUTY    Patrick Gardner           15   \n",
              "\n",
              "            Full_Name_Job  \n",
              "0  GENERAL Nathaniel Ford  \n",
              "1    CAPTAIN Gary Jimenez  \n",
              "2  CAPTAIN Albert Pardini  \n",
              "3  WIRE Christopher Chong  \n",
              "4  DEPUTY Patrick Gardner  "
            ],
            "text/html": [
              "\n",
              "  <div id=\"df-f9367887-f9e5-49fc-a5cb-708db47c6f2a\">\n",
              "    <div class=\"colab-df-container\">\n",
              "      <div>\n",
              "<style scoped>\n",
              "    .dataframe tbody tr th:only-of-type {\n",
              "        vertical-align: middle;\n",
              "    }\n",
              "\n",
              "    .dataframe tbody tr th {\n",
              "        vertical-align: top;\n",
              "    }\n",
              "\n",
              "    .dataframe thead th {\n",
              "        text-align: right;\n",
              "    }\n",
              "</style>\n",
              "<table border=\"1\" class=\"dataframe\">\n",
              "  <thead>\n",
              "    <tr style=\"text-align: right;\">\n",
              "      <th></th>\n",
              "      <th>EmployeeName</th>\n",
              "      <th>JobTitle</th>\n",
              "      <th>Employee Initials</th>\n",
              "      <th>Name_length</th>\n",
              "      <th>Full_Name_Job</th>\n",
              "    </tr>\n",
              "  </thead>\n",
              "  <tbody>\n",
              "    <tr>\n",
              "      <th>0</th>\n",
              "      <td>nathaniel ford</td>\n",
              "      <td>GENERAL</td>\n",
              "      <td>Nathaniel Ford</td>\n",
              "      <td>14</td>\n",
              "      <td>GENERAL Nathaniel Ford</td>\n",
              "    </tr>\n",
              "    <tr>\n",
              "      <th>1</th>\n",
              "      <td>gary jimenez</td>\n",
              "      <td>CAPTAIN</td>\n",
              "      <td>Gary Jimenez</td>\n",
              "      <td>12</td>\n",
              "      <td>CAPTAIN Gary Jimenez</td>\n",
              "    </tr>\n",
              "    <tr>\n",
              "      <th>2</th>\n",
              "      <td>albert pardini</td>\n",
              "      <td>CAPTAIN</td>\n",
              "      <td>Albert Pardini</td>\n",
              "      <td>14</td>\n",
              "      <td>CAPTAIN Albert Pardini</td>\n",
              "    </tr>\n",
              "    <tr>\n",
              "      <th>3</th>\n",
              "      <td>christopher chong</td>\n",
              "      <td>WIRE</td>\n",
              "      <td>Christopher Chong</td>\n",
              "      <td>17</td>\n",
              "      <td>WIRE Christopher Chong</td>\n",
              "    </tr>\n",
              "    <tr>\n",
              "      <th>4</th>\n",
              "      <td>patrick gardner</td>\n",
              "      <td>DEPUTY</td>\n",
              "      <td>Patrick Gardner</td>\n",
              "      <td>15</td>\n",
              "      <td>DEPUTY Patrick Gardner</td>\n",
              "    </tr>\n",
              "  </tbody>\n",
              "</table>\n",
              "</div>\n",
              "      <button class=\"colab-df-convert\" onclick=\"convertToInteractive('df-f9367887-f9e5-49fc-a5cb-708db47c6f2a')\"\n",
              "              title=\"Convert this dataframe to an interactive table.\"\n",
              "              style=\"display:none;\">\n",
              "        \n",
              "  <svg xmlns=\"http://www.w3.org/2000/svg\" height=\"24px\"viewBox=\"0 0 24 24\"\n",
              "       width=\"24px\">\n",
              "    <path d=\"M0 0h24v24H0V0z\" fill=\"none\"/>\n",
              "    <path d=\"M18.56 5.44l.94 2.06.94-2.06 2.06-.94-2.06-.94-.94-2.06-.94 2.06-2.06.94zm-11 1L8.5 8.5l.94-2.06 2.06-.94-2.06-.94L8.5 2.5l-.94 2.06-2.06.94zm10 10l.94 2.06.94-2.06 2.06-.94-2.06-.94-.94-2.06-.94 2.06-2.06.94z\"/><path d=\"M17.41 7.96l-1.37-1.37c-.4-.4-.92-.59-1.43-.59-.52 0-1.04.2-1.43.59L10.3 9.45l-7.72 7.72c-.78.78-.78 2.05 0 2.83L4 21.41c.39.39.9.59 1.41.59.51 0 1.02-.2 1.41-.59l7.78-7.78 2.81-2.81c.8-.78.8-2.07 0-2.86zM5.41 20L4 18.59l7.72-7.72 1.47 1.35L5.41 20z\"/>\n",
              "  </svg>\n",
              "      </button>\n",
              "      \n",
              "  <style>\n",
              "    .colab-df-container {\n",
              "      display:flex;\n",
              "      flex-wrap:wrap;\n",
              "      gap: 12px;\n",
              "    }\n",
              "\n",
              "    .colab-df-convert {\n",
              "      background-color: #E8F0FE;\n",
              "      border: none;\n",
              "      border-radius: 50%;\n",
              "      cursor: pointer;\n",
              "      display: none;\n",
              "      fill: #1967D2;\n",
              "      height: 32px;\n",
              "      padding: 0 0 0 0;\n",
              "      width: 32px;\n",
              "    }\n",
              "\n",
              "    .colab-df-convert:hover {\n",
              "      background-color: #E2EBFA;\n",
              "      box-shadow: 0px 1px 2px rgba(60, 64, 67, 0.3), 0px 1px 3px 1px rgba(60, 64, 67, 0.15);\n",
              "      fill: #174EA6;\n",
              "    }\n",
              "\n",
              "    [theme=dark] .colab-df-convert {\n",
              "      background-color: #3B4455;\n",
              "      fill: #D2E3FC;\n",
              "    }\n",
              "\n",
              "    [theme=dark] .colab-df-convert:hover {\n",
              "      background-color: #434B5C;\n",
              "      box-shadow: 0px 1px 3px 1px rgba(0, 0, 0, 0.15);\n",
              "      filter: drop-shadow(0px 1px 2px rgba(0, 0, 0, 0.3));\n",
              "      fill: #FFFFFF;\n",
              "    }\n",
              "  </style>\n",
              "\n",
              "      <script>\n",
              "        const buttonEl =\n",
              "          document.querySelector('#df-f9367887-f9e5-49fc-a5cb-708db47c6f2a button.colab-df-convert');\n",
              "        buttonEl.style.display =\n",
              "          google.colab.kernel.accessAllowed ? 'block' : 'none';\n",
              "\n",
              "        async function convertToInteractive(key) {\n",
              "          const element = document.querySelector('#df-f9367887-f9e5-49fc-a5cb-708db47c6f2a');\n",
              "          const dataTable =\n",
              "            await google.colab.kernel.invokeFunction('convertToInteractive',\n",
              "                                                     [key], {});\n",
              "          if (!dataTable) return;\n",
              "\n",
              "          const docLinkHtml = 'Like what you see? Visit the ' +\n",
              "            '<a target=\"_blank\" href=https://colab.research.google.com/notebooks/data_table.ipynb>data table notebook</a>'\n",
              "            + ' to learn more about interactive tables.';\n",
              "          element.innerHTML = '';\n",
              "          dataTable['output_type'] = 'display_data';\n",
              "          await google.colab.output.renderOutput(dataTable, element);\n",
              "          const docLink = document.createElement('div');\n",
              "          docLink.innerHTML = docLinkHtml;\n",
              "          element.appendChild(docLink);\n",
              "        }\n",
              "      </script>\n",
              "    </div>\n",
              "  </div>\n",
              "  "
            ]
          },
          "metadata": {},
          "execution_count": 40
        }
      ]
    },
    {
      "cell_type": "markdown",
      "source": [
        "##Datas"
      ],
      "metadata": {
        "id": "aXhluBo232MJ"
      }
    },
    {
      "cell_type": "markdown",
      "source": [
        "**Datas:**\n",
        "\n",
        "* `add_months()`: retorna a data depois de adicionar uma quantidade especificada de meses\n",
        "* `months_between()`: retorna a diferença entre as duas datas em meses\n",
        "* `datediff()`: retorna a diferença entre duas datas em dias\n",
        "* `date_add()`: retorna a data depois de adicionar x dias\n",
        "* `date_sub()`: retorna a data depois de subtrair x dias\n",
        "* `next_day()`: retorna o dia seguinte de alguma data\n",
        "* `current_date()`: retorna a data atual\n",
        "* `dayofweek() / dayofmonth() / dayofyear()`: retorna o dia relativo da semana, mes e ano\n",
        "* `weekofyear()`: retorna a semana relativa do ano\n",
        "* `second() / minute() / hour()`: retorna segundos, minutos ou horas de uma coluna datetime\n",
        "* `month() / year()`: retorna o mes ou ano de uma coluna de data\n",
        "* `last_day()`: retorna o último dia do mes que a data pertence\n",
        "* `to_date()`: transforma a coluna no tipo data (t.DateType())\n",
        "* `trunc()`: formata a data para a unidade especificada\n",
        "    * `year`:\"{ano}-01-01\"\n",
        "    * `month`: \"{ano}-{mes}-01\"\n"
      ],
      "metadata": {
        "id": "4Y6WxnaGe5Hs"
      }
    },
    {
      "cell_type": "code",
      "source": [
        "(\n",
        "    df\n",
        "    .select('EmployeeName', 'Year')\n",
        "    .withColumn('Date_Year', f.to_date(f.col('Year').cast('string'),'yyyy'))\n",
        "    .withColumn('Dif_days', f.datediff(f.current_date(),f.col('Date_Year')))\n",
        "    .withColumn('Dif_months', f.floor(f.months_between(f.current_date(),f.col('Date_Year'))))\n",
        "    .withColumn('Dif_years', f.floor(f.col('Dif_days')/365))\n",
        "    .limit(5)\n",
        "    .toPandas()\n",
        ")"
      ],
      "metadata": {
        "colab": {
          "base_uri": "https://localhost:8080/",
          "height": 206
        },
        "id": "tVcCmGb95Zex",
        "outputId": "04990b7f-877c-41ae-9169-26dcdb73f913"
      },
      "execution_count": null,
      "outputs": [
        {
          "output_type": "execute_result",
          "data": {
            "text/plain": [
              "        EmployeeName  Year   Date_Year  Dif_days  Dif_months  Dif_years\n",
              "0     NATHANIEL FORD  2011  2011-01-01      4124         135         11\n",
              "1       GARY JIMENEZ  2011  2011-01-01      4124         135         11\n",
              "2     ALBERT PARDINI  2011  2011-01-01      4124         135         11\n",
              "3  CHRISTOPHER CHONG  2011  2011-01-01      4124         135         11\n",
              "4    PATRICK GARDNER  2011  2011-01-01      4124         135         11"
            ],
            "text/html": [
              "\n",
              "  <div id=\"df-8cc57662-61a8-4bdd-81d3-c41d0b495d7a\">\n",
              "    <div class=\"colab-df-container\">\n",
              "      <div>\n",
              "<style scoped>\n",
              "    .dataframe tbody tr th:only-of-type {\n",
              "        vertical-align: middle;\n",
              "    }\n",
              "\n",
              "    .dataframe tbody tr th {\n",
              "        vertical-align: top;\n",
              "    }\n",
              "\n",
              "    .dataframe thead th {\n",
              "        text-align: right;\n",
              "    }\n",
              "</style>\n",
              "<table border=\"1\" class=\"dataframe\">\n",
              "  <thead>\n",
              "    <tr style=\"text-align: right;\">\n",
              "      <th></th>\n",
              "      <th>EmployeeName</th>\n",
              "      <th>Year</th>\n",
              "      <th>Date_Year</th>\n",
              "      <th>Dif_days</th>\n",
              "      <th>Dif_months</th>\n",
              "      <th>Dif_years</th>\n",
              "    </tr>\n",
              "  </thead>\n",
              "  <tbody>\n",
              "    <tr>\n",
              "      <th>0</th>\n",
              "      <td>NATHANIEL FORD</td>\n",
              "      <td>2011</td>\n",
              "      <td>2011-01-01</td>\n",
              "      <td>4124</td>\n",
              "      <td>135</td>\n",
              "      <td>11</td>\n",
              "    </tr>\n",
              "    <tr>\n",
              "      <th>1</th>\n",
              "      <td>GARY JIMENEZ</td>\n",
              "      <td>2011</td>\n",
              "      <td>2011-01-01</td>\n",
              "      <td>4124</td>\n",
              "      <td>135</td>\n",
              "      <td>11</td>\n",
              "    </tr>\n",
              "    <tr>\n",
              "      <th>2</th>\n",
              "      <td>ALBERT PARDINI</td>\n",
              "      <td>2011</td>\n",
              "      <td>2011-01-01</td>\n",
              "      <td>4124</td>\n",
              "      <td>135</td>\n",
              "      <td>11</td>\n",
              "    </tr>\n",
              "    <tr>\n",
              "      <th>3</th>\n",
              "      <td>CHRISTOPHER CHONG</td>\n",
              "      <td>2011</td>\n",
              "      <td>2011-01-01</td>\n",
              "      <td>4124</td>\n",
              "      <td>135</td>\n",
              "      <td>11</td>\n",
              "    </tr>\n",
              "    <tr>\n",
              "      <th>4</th>\n",
              "      <td>PATRICK GARDNER</td>\n",
              "      <td>2011</td>\n",
              "      <td>2011-01-01</td>\n",
              "      <td>4124</td>\n",
              "      <td>135</td>\n",
              "      <td>11</td>\n",
              "    </tr>\n",
              "  </tbody>\n",
              "</table>\n",
              "</div>\n",
              "      <button class=\"colab-df-convert\" onclick=\"convertToInteractive('df-8cc57662-61a8-4bdd-81d3-c41d0b495d7a')\"\n",
              "              title=\"Convert this dataframe to an interactive table.\"\n",
              "              style=\"display:none;\">\n",
              "        \n",
              "  <svg xmlns=\"http://www.w3.org/2000/svg\" height=\"24px\"viewBox=\"0 0 24 24\"\n",
              "       width=\"24px\">\n",
              "    <path d=\"M0 0h24v24H0V0z\" fill=\"none\"/>\n",
              "    <path d=\"M18.56 5.44l.94 2.06.94-2.06 2.06-.94-2.06-.94-.94-2.06-.94 2.06-2.06.94zm-11 1L8.5 8.5l.94-2.06 2.06-.94-2.06-.94L8.5 2.5l-.94 2.06-2.06.94zm10 10l.94 2.06.94-2.06 2.06-.94-2.06-.94-.94-2.06-.94 2.06-2.06.94z\"/><path d=\"M17.41 7.96l-1.37-1.37c-.4-.4-.92-.59-1.43-.59-.52 0-1.04.2-1.43.59L10.3 9.45l-7.72 7.72c-.78.78-.78 2.05 0 2.83L4 21.41c.39.39.9.59 1.41.59.51 0 1.02-.2 1.41-.59l7.78-7.78 2.81-2.81c.8-.78.8-2.07 0-2.86zM5.41 20L4 18.59l7.72-7.72 1.47 1.35L5.41 20z\"/>\n",
              "  </svg>\n",
              "      </button>\n",
              "      \n",
              "  <style>\n",
              "    .colab-df-container {\n",
              "      display:flex;\n",
              "      flex-wrap:wrap;\n",
              "      gap: 12px;\n",
              "    }\n",
              "\n",
              "    .colab-df-convert {\n",
              "      background-color: #E8F0FE;\n",
              "      border: none;\n",
              "      border-radius: 50%;\n",
              "      cursor: pointer;\n",
              "      display: none;\n",
              "      fill: #1967D2;\n",
              "      height: 32px;\n",
              "      padding: 0 0 0 0;\n",
              "      width: 32px;\n",
              "    }\n",
              "\n",
              "    .colab-df-convert:hover {\n",
              "      background-color: #E2EBFA;\n",
              "      box-shadow: 0px 1px 2px rgba(60, 64, 67, 0.3), 0px 1px 3px 1px rgba(60, 64, 67, 0.15);\n",
              "      fill: #174EA6;\n",
              "    }\n",
              "\n",
              "    [theme=dark] .colab-df-convert {\n",
              "      background-color: #3B4455;\n",
              "      fill: #D2E3FC;\n",
              "    }\n",
              "\n",
              "    [theme=dark] .colab-df-convert:hover {\n",
              "      background-color: #434B5C;\n",
              "      box-shadow: 0px 1px 3px 1px rgba(0, 0, 0, 0.15);\n",
              "      filter: drop-shadow(0px 1px 2px rgba(0, 0, 0, 0.3));\n",
              "      fill: #FFFFFF;\n",
              "    }\n",
              "  </style>\n",
              "\n",
              "      <script>\n",
              "        const buttonEl =\n",
              "          document.querySelector('#df-8cc57662-61a8-4bdd-81d3-c41d0b495d7a button.colab-df-convert');\n",
              "        buttonEl.style.display =\n",
              "          google.colab.kernel.accessAllowed ? 'block' : 'none';\n",
              "\n",
              "        async function convertToInteractive(key) {\n",
              "          const element = document.querySelector('#df-8cc57662-61a8-4bdd-81d3-c41d0b495d7a');\n",
              "          const dataTable =\n",
              "            await google.colab.kernel.invokeFunction('convertToInteractive',\n",
              "                                                     [key], {});\n",
              "          if (!dataTable) return;\n",
              "\n",
              "          const docLinkHtml = 'Like what you see? Visit the ' +\n",
              "            '<a target=\"_blank\" href=https://colab.research.google.com/notebooks/data_table.ipynb>data table notebook</a>'\n",
              "            + ' to learn more about interactive tables.';\n",
              "          element.innerHTML = '';\n",
              "          dataTable['output_type'] = 'display_data';\n",
              "          await google.colab.output.renderOutput(dataTable, element);\n",
              "          const docLink = document.createElement('div');\n",
              "          docLink.innerHTML = docLinkHtml;\n",
              "          element.appendChild(docLink);\n",
              "        }\n",
              "      </script>\n",
              "    </div>\n",
              "  </div>\n",
              "  "
            ]
          },
          "metadata": {},
          "execution_count": 34
        }
      ]
    },
    {
      "cell_type": "markdown",
      "source": [
        "**Tabalhando com datas**"
      ],
      "metadata": {
        "id": "8ugK-iFyt3Gr"
      }
    },
    {
      "cell_type": "code",
      "source": [
        "from pyspark.sql.types import *\n",
        "\n",
        "schema = StructType([\n",
        "    StructField('hora', StringType()),\n",
        "    StructField('data', StringType())\n",
        "])\n",
        "\n",
        "df_hora = spark.createDataFrame([('20:37:42', '2021-07-01'),('21:45:39', '2021-08-08')], schema = schema)\n"
      ],
      "metadata": {
        "id": "GcWvVPaktIQA"
      },
      "execution_count": null,
      "outputs": []
    },
    {
      "cell_type": "code",
      "source": [
        "# (\n",
        "#     df_hora\n",
        "#     .withColumn('data', f.to_date(f.col('data')))\n",
        "#     .withColumn('TimeStamp', f.to_timestamp(f.concat_ws(' ',f.col('data'),f.concat_ws(':',f.col('hora')[0:2],f.col('hora')[3:2],f.col('hora')[5:7]))))\n",
        "#     .withColumn('TimeStamp_hora', f.hour(f.col('TimeStamp')))\n",
        "#     .withColumn('TimeStamp_min', f.minute(f.col('TimeStamp')))\n",
        "#     .withColumn('TimeStamp_segundos', f.second(f.col('TimeStamp')))\n",
        "#     .show()\n",
        "# )\n",
        "\n",
        "(\n",
        "    df_hora\n",
        "    .withColumn('Teste_timestamp', f.date_format(f.to_timestamp(f.concat_ws(' ', f.col('data'),f.col('hora'))),'yyyy-MM-dd HH:mm:ss'))\n",
        "    .limit(5)\n",
        "    .toPandas()\n",
        ")"
      ],
      "metadata": {
        "colab": {
          "base_uri": "https://localhost:8080/",
          "height": 112
        },
        "id": "ewxS5b2ztc06",
        "outputId": "5e6764aa-c6ab-4ab2-b9b2-1cb8e678e7e9"
      },
      "execution_count": null,
      "outputs": [
        {
          "output_type": "execute_result",
          "data": {
            "text/plain": [
              "       hora        data      Teste_timestamp\n",
              "0  20:37:42  2021-07-01  2021-07-01 20:37:42\n",
              "1  21:45:39  2021-08-08  2021-08-08 21:45:39"
            ],
            "text/html": [
              "\n",
              "  <div id=\"df-cdf1a1b8-e7bd-45f8-82af-0981324b0e70\">\n",
              "    <div class=\"colab-df-container\">\n",
              "      <div>\n",
              "<style scoped>\n",
              "    .dataframe tbody tr th:only-of-type {\n",
              "        vertical-align: middle;\n",
              "    }\n",
              "\n",
              "    .dataframe tbody tr th {\n",
              "        vertical-align: top;\n",
              "    }\n",
              "\n",
              "    .dataframe thead th {\n",
              "        text-align: right;\n",
              "    }\n",
              "</style>\n",
              "<table border=\"1\" class=\"dataframe\">\n",
              "  <thead>\n",
              "    <tr style=\"text-align: right;\">\n",
              "      <th></th>\n",
              "      <th>hora</th>\n",
              "      <th>data</th>\n",
              "      <th>Teste_timestamp</th>\n",
              "    </tr>\n",
              "  </thead>\n",
              "  <tbody>\n",
              "    <tr>\n",
              "      <th>0</th>\n",
              "      <td>20:37:42</td>\n",
              "      <td>2021-07-01</td>\n",
              "      <td>2021-07-01 20:37:42</td>\n",
              "    </tr>\n",
              "    <tr>\n",
              "      <th>1</th>\n",
              "      <td>21:45:39</td>\n",
              "      <td>2021-08-08</td>\n",
              "      <td>2021-08-08 21:45:39</td>\n",
              "    </tr>\n",
              "  </tbody>\n",
              "</table>\n",
              "</div>\n",
              "      <button class=\"colab-df-convert\" onclick=\"convertToInteractive('df-cdf1a1b8-e7bd-45f8-82af-0981324b0e70')\"\n",
              "              title=\"Convert this dataframe to an interactive table.\"\n",
              "              style=\"display:none;\">\n",
              "        \n",
              "  <svg xmlns=\"http://www.w3.org/2000/svg\" height=\"24px\"viewBox=\"0 0 24 24\"\n",
              "       width=\"24px\">\n",
              "    <path d=\"M0 0h24v24H0V0z\" fill=\"none\"/>\n",
              "    <path d=\"M18.56 5.44l.94 2.06.94-2.06 2.06-.94-2.06-.94-.94-2.06-.94 2.06-2.06.94zm-11 1L8.5 8.5l.94-2.06 2.06-.94-2.06-.94L8.5 2.5l-.94 2.06-2.06.94zm10 10l.94 2.06.94-2.06 2.06-.94-2.06-.94-.94-2.06-.94 2.06-2.06.94z\"/><path d=\"M17.41 7.96l-1.37-1.37c-.4-.4-.92-.59-1.43-.59-.52 0-1.04.2-1.43.59L10.3 9.45l-7.72 7.72c-.78.78-.78 2.05 0 2.83L4 21.41c.39.39.9.59 1.41.59.51 0 1.02-.2 1.41-.59l7.78-7.78 2.81-2.81c.8-.78.8-2.07 0-2.86zM5.41 20L4 18.59l7.72-7.72 1.47 1.35L5.41 20z\"/>\n",
              "  </svg>\n",
              "      </button>\n",
              "      \n",
              "  <style>\n",
              "    .colab-df-container {\n",
              "      display:flex;\n",
              "      flex-wrap:wrap;\n",
              "      gap: 12px;\n",
              "    }\n",
              "\n",
              "    .colab-df-convert {\n",
              "      background-color: #E8F0FE;\n",
              "      border: none;\n",
              "      border-radius: 50%;\n",
              "      cursor: pointer;\n",
              "      display: none;\n",
              "      fill: #1967D2;\n",
              "      height: 32px;\n",
              "      padding: 0 0 0 0;\n",
              "      width: 32px;\n",
              "    }\n",
              "\n",
              "    .colab-df-convert:hover {\n",
              "      background-color: #E2EBFA;\n",
              "      box-shadow: 0px 1px 2px rgba(60, 64, 67, 0.3), 0px 1px 3px 1px rgba(60, 64, 67, 0.15);\n",
              "      fill: #174EA6;\n",
              "    }\n",
              "\n",
              "    [theme=dark] .colab-df-convert {\n",
              "      background-color: #3B4455;\n",
              "      fill: #D2E3FC;\n",
              "    }\n",
              "\n",
              "    [theme=dark] .colab-df-convert:hover {\n",
              "      background-color: #434B5C;\n",
              "      box-shadow: 0px 1px 3px 1px rgba(0, 0, 0, 0.15);\n",
              "      filter: drop-shadow(0px 1px 2px rgba(0, 0, 0, 0.3));\n",
              "      fill: #FFFFFF;\n",
              "    }\n",
              "  </style>\n",
              "\n",
              "      <script>\n",
              "        const buttonEl =\n",
              "          document.querySelector('#df-cdf1a1b8-e7bd-45f8-82af-0981324b0e70 button.colab-df-convert');\n",
              "        buttonEl.style.display =\n",
              "          google.colab.kernel.accessAllowed ? 'block' : 'none';\n",
              "\n",
              "        async function convertToInteractive(key) {\n",
              "          const element = document.querySelector('#df-cdf1a1b8-e7bd-45f8-82af-0981324b0e70');\n",
              "          const dataTable =\n",
              "            await google.colab.kernel.invokeFunction('convertToInteractive',\n",
              "                                                     [key], {});\n",
              "          if (!dataTable) return;\n",
              "\n",
              "          const docLinkHtml = 'Like what you see? Visit the ' +\n",
              "            '<a target=\"_blank\" href=https://colab.research.google.com/notebooks/data_table.ipynb>data table notebook</a>'\n",
              "            + ' to learn more about interactive tables.';\n",
              "          element.innerHTML = '';\n",
              "          dataTable['output_type'] = 'display_data';\n",
              "          await google.colab.output.renderOutput(dataTable, element);\n",
              "          const docLink = document.createElement('div');\n",
              "          docLink.innerHTML = docLinkHtml;\n",
              "          element.appendChild(docLink);\n",
              "        }\n",
              "      </script>\n",
              "    </div>\n",
              "  </div>\n",
              "  "
            ]
          },
          "metadata": {},
          "execution_count": 156
        }
      ]
    },
    {
      "cell_type": "markdown",
      "source": [
        "##Arrays"
      ],
      "metadata": {
        "id": "MqVNuL0U8f0y"
      }
    },
    {
      "cell_type": "markdown",
      "source": [
        "**Arrays:**\n",
        "\n",
        "* `array()`: constrói um array com as colunas selecionadas\n",
        "* `flatten()`: transforma um array de arrays em um array unico\n",
        "* `explode()`: retorna uma nova linha para cada elemento do array\n",
        "* `size()`: retorna o número de elementos no array\n",
        "* `sort_array()`: ordena os elementos do array, crescente ou decrescente\n",
        "* `reverse()`: reverte a ordem dos elementos do array\n",
        "* `array_distinct()`: remove elementos duplicados do array\n",
        "* `array_contains()`: verifica se o array contem o elemento especificado\n",
        "* `array_overlap()`: a partir de 2 colunas de arrays, cerifica se elas tem algum elemento em comum, retornando True ou False\n",
        "* `array_union()`: a partir de 2 colunas de arrays, retorna um array com elementos das duas colunas, sem duplicatas\n",
        "* `array_except()`: a partir de 2 colunas de arrays, retorna um array com os elementos que estão em uma coluna mas não estão na outra, sem duplicatas\n",
        "* `array_intersect()`: a partir de 2 colunas de arrays, retorna um array com os elementos que constam nas duas colunas, sem duplicatas\n",
        "* `array_join()`: retorna um string após concatenar os elementos do array, usando o delimitador que foi especificado\n",
        "* `array_max() / array_min()`: retorno o máximo e o mínimo valor do array\n",
        "* `array_remove()`: remove todos os lementos do array iguais ao valor especificado"
      ],
      "metadata": {
        "id": "cgz992I38khs"
      }
    },
    {
      "cell_type": "code",
      "source": [
        "(\n",
        "    df\n",
        "    .select('JobTitle')\n",
        "    .withColumn('job_array', f.split(f.col('JobTitle'),' '))\n",
        "    .withColumn('first_job', f.col('job_array')[0])\n",
        "    .withColumn('second_job', f.col('job_array')[1])\n",
        "    .withColumn('job_full', f.array_join(f.col('job_array'), ' '))\n",
        "    .limit(5)\n",
        "    .toPandas()\n",
        ")"
      ],
      "metadata": {
        "id": "9py2Jeg28gsw",
        "colab": {
          "base_uri": "https://localhost:8080/",
          "height": 389
        },
        "outputId": "4d435011-115e-401f-8607-1d096271a075"
      },
      "execution_count": null,
      "outputs": [
        {
          "output_type": "execute_result",
          "data": {
            "text/plain": [
              "                                         JobTitle  \\\n",
              "0  GENERAL MANAGER-METROPOLITAN TRANSIT AUTHORITY   \n",
              "1                 CAPTAIN III (POLICE DEPARTMENT)   \n",
              "2                 CAPTAIN III (POLICE DEPARTMENT)   \n",
              "3            WIRE ROPE CABLE MAINTENANCE MECHANIC   \n",
              "4    DEPUTY CHIEF OF DEPARTMENT,(FIRE DEPARTMENT)   \n",
              "\n",
              "                                           job_array first_job  \\\n",
              "0  [GENERAL, MANAGER-METROPOLITAN, TRANSIT, AUTHO...   GENERAL   \n",
              "1               [CAPTAIN, III, (POLICE, DEPARTMENT)]   CAPTAIN   \n",
              "2               [CAPTAIN, III, (POLICE, DEPARTMENT)]   CAPTAIN   \n",
              "3         [WIRE, ROPE, CABLE, MAINTENANCE, MECHANIC]      WIRE   \n",
              "4  [DEPUTY, CHIEF, OF, DEPARTMENT,(FIRE, DEPARTME...    DEPUTY   \n",
              "\n",
              "             second_job                                        job_full  \n",
              "0  MANAGER-METROPOLITAN  GENERAL MANAGER-METROPOLITAN TRANSIT AUTHORITY  \n",
              "1                   III                 CAPTAIN III (POLICE DEPARTMENT)  \n",
              "2                   III                 CAPTAIN III (POLICE DEPARTMENT)  \n",
              "3                  ROPE            WIRE ROPE CABLE MAINTENANCE MECHANIC  \n",
              "4                 CHIEF    DEPUTY CHIEF OF DEPARTMENT,(FIRE DEPARTMENT)  "
            ],
            "text/html": [
              "\n",
              "  <div id=\"df-13c7f738-1a9a-429e-aa8c-81ed722849ae\">\n",
              "    <div class=\"colab-df-container\">\n",
              "      <div>\n",
              "<style scoped>\n",
              "    .dataframe tbody tr th:only-of-type {\n",
              "        vertical-align: middle;\n",
              "    }\n",
              "\n",
              "    .dataframe tbody tr th {\n",
              "        vertical-align: top;\n",
              "    }\n",
              "\n",
              "    .dataframe thead th {\n",
              "        text-align: right;\n",
              "    }\n",
              "</style>\n",
              "<table border=\"1\" class=\"dataframe\">\n",
              "  <thead>\n",
              "    <tr style=\"text-align: right;\">\n",
              "      <th></th>\n",
              "      <th>JobTitle</th>\n",
              "      <th>job_array</th>\n",
              "      <th>first_job</th>\n",
              "      <th>second_job</th>\n",
              "      <th>job_full</th>\n",
              "    </tr>\n",
              "  </thead>\n",
              "  <tbody>\n",
              "    <tr>\n",
              "      <th>0</th>\n",
              "      <td>GENERAL MANAGER-METROPOLITAN TRANSIT AUTHORITY</td>\n",
              "      <td>[GENERAL, MANAGER-METROPOLITAN, TRANSIT, AUTHO...</td>\n",
              "      <td>GENERAL</td>\n",
              "      <td>MANAGER-METROPOLITAN</td>\n",
              "      <td>GENERAL MANAGER-METROPOLITAN TRANSIT AUTHORITY</td>\n",
              "    </tr>\n",
              "    <tr>\n",
              "      <th>1</th>\n",
              "      <td>CAPTAIN III (POLICE DEPARTMENT)</td>\n",
              "      <td>[CAPTAIN, III, (POLICE, DEPARTMENT)]</td>\n",
              "      <td>CAPTAIN</td>\n",
              "      <td>III</td>\n",
              "      <td>CAPTAIN III (POLICE DEPARTMENT)</td>\n",
              "    </tr>\n",
              "    <tr>\n",
              "      <th>2</th>\n",
              "      <td>CAPTAIN III (POLICE DEPARTMENT)</td>\n",
              "      <td>[CAPTAIN, III, (POLICE, DEPARTMENT)]</td>\n",
              "      <td>CAPTAIN</td>\n",
              "      <td>III</td>\n",
              "      <td>CAPTAIN III (POLICE DEPARTMENT)</td>\n",
              "    </tr>\n",
              "    <tr>\n",
              "      <th>3</th>\n",
              "      <td>WIRE ROPE CABLE MAINTENANCE MECHANIC</td>\n",
              "      <td>[WIRE, ROPE, CABLE, MAINTENANCE, MECHANIC]</td>\n",
              "      <td>WIRE</td>\n",
              "      <td>ROPE</td>\n",
              "      <td>WIRE ROPE CABLE MAINTENANCE MECHANIC</td>\n",
              "    </tr>\n",
              "    <tr>\n",
              "      <th>4</th>\n",
              "      <td>DEPUTY CHIEF OF DEPARTMENT,(FIRE DEPARTMENT)</td>\n",
              "      <td>[DEPUTY, CHIEF, OF, DEPARTMENT,(FIRE, DEPARTME...</td>\n",
              "      <td>DEPUTY</td>\n",
              "      <td>CHIEF</td>\n",
              "      <td>DEPUTY CHIEF OF DEPARTMENT,(FIRE DEPARTMENT)</td>\n",
              "    </tr>\n",
              "  </tbody>\n",
              "</table>\n",
              "</div>\n",
              "      <button class=\"colab-df-convert\" onclick=\"convertToInteractive('df-13c7f738-1a9a-429e-aa8c-81ed722849ae')\"\n",
              "              title=\"Convert this dataframe to an interactive table.\"\n",
              "              style=\"display:none;\">\n",
              "        \n",
              "  <svg xmlns=\"http://www.w3.org/2000/svg\" height=\"24px\"viewBox=\"0 0 24 24\"\n",
              "       width=\"24px\">\n",
              "    <path d=\"M0 0h24v24H0V0z\" fill=\"none\"/>\n",
              "    <path d=\"M18.56 5.44l.94 2.06.94-2.06 2.06-.94-2.06-.94-.94-2.06-.94 2.06-2.06.94zm-11 1L8.5 8.5l.94-2.06 2.06-.94-2.06-.94L8.5 2.5l-.94 2.06-2.06.94zm10 10l.94 2.06.94-2.06 2.06-.94-2.06-.94-.94-2.06-.94 2.06-2.06.94z\"/><path d=\"M17.41 7.96l-1.37-1.37c-.4-.4-.92-.59-1.43-.59-.52 0-1.04.2-1.43.59L10.3 9.45l-7.72 7.72c-.78.78-.78 2.05 0 2.83L4 21.41c.39.39.9.59 1.41.59.51 0 1.02-.2 1.41-.59l7.78-7.78 2.81-2.81c.8-.78.8-2.07 0-2.86zM5.41 20L4 18.59l7.72-7.72 1.47 1.35L5.41 20z\"/>\n",
              "  </svg>\n",
              "      </button>\n",
              "      \n",
              "  <style>\n",
              "    .colab-df-container {\n",
              "      display:flex;\n",
              "      flex-wrap:wrap;\n",
              "      gap: 12px;\n",
              "    }\n",
              "\n",
              "    .colab-df-convert {\n",
              "      background-color: #E8F0FE;\n",
              "      border: none;\n",
              "      border-radius: 50%;\n",
              "      cursor: pointer;\n",
              "      display: none;\n",
              "      fill: #1967D2;\n",
              "      height: 32px;\n",
              "      padding: 0 0 0 0;\n",
              "      width: 32px;\n",
              "    }\n",
              "\n",
              "    .colab-df-convert:hover {\n",
              "      background-color: #E2EBFA;\n",
              "      box-shadow: 0px 1px 2px rgba(60, 64, 67, 0.3), 0px 1px 3px 1px rgba(60, 64, 67, 0.15);\n",
              "      fill: #174EA6;\n",
              "    }\n",
              "\n",
              "    [theme=dark] .colab-df-convert {\n",
              "      background-color: #3B4455;\n",
              "      fill: #D2E3FC;\n",
              "    }\n",
              "\n",
              "    [theme=dark] .colab-df-convert:hover {\n",
              "      background-color: #434B5C;\n",
              "      box-shadow: 0px 1px 3px 1px rgba(0, 0, 0, 0.15);\n",
              "      filter: drop-shadow(0px 1px 2px rgba(0, 0, 0, 0.3));\n",
              "      fill: #FFFFFF;\n",
              "    }\n",
              "  </style>\n",
              "\n",
              "      <script>\n",
              "        const buttonEl =\n",
              "          document.querySelector('#df-13c7f738-1a9a-429e-aa8c-81ed722849ae button.colab-df-convert');\n",
              "        buttonEl.style.display =\n",
              "          google.colab.kernel.accessAllowed ? 'block' : 'none';\n",
              "\n",
              "        async function convertToInteractive(key) {\n",
              "          const element = document.querySelector('#df-13c7f738-1a9a-429e-aa8c-81ed722849ae');\n",
              "          const dataTable =\n",
              "            await google.colab.kernel.invokeFunction('convertToInteractive',\n",
              "                                                     [key], {});\n",
              "          if (!dataTable) return;\n",
              "\n",
              "          const docLinkHtml = 'Like what you see? Visit the ' +\n",
              "            '<a target=\"_blank\" href=https://colab.research.google.com/notebooks/data_table.ipynb>data table notebook</a>'\n",
              "            + ' to learn more about interactive tables.';\n",
              "          element.innerHTML = '';\n",
              "          dataTable['output_type'] = 'display_data';\n",
              "          await google.colab.output.renderOutput(dataTable, element);\n",
              "          const docLink = document.createElement('div');\n",
              "          docLink.innerHTML = docLinkHtml;\n",
              "          element.appendChild(docLink);\n",
              "        }\n",
              "      </script>\n",
              "    </div>\n",
              "  </div>\n",
              "  "
            ]
          },
          "metadata": {},
          "execution_count": 18
        }
      ]
    },
    {
      "cell_type": "code",
      "source": [
        "(\n",
        "    df\n",
        "    .select('Id','JobTitle')\n",
        "    .withColumn('job_array', f.split(f.col('JobTitle'),' '))\n",
        "    .withColumn('array_linha a linha', f.explode(f.col('job_array')))\n",
        "    .limit(10)\n",
        "    .toPandas()\n",
        ")"
      ],
      "metadata": {
        "colab": {
          "base_uri": "https://localhost:8080/",
          "height": 476
        },
        "id": "hehZwiVcWp1R",
        "outputId": "1fd5507d-1de7-4da4-86ed-460c9fb82e38"
      },
      "execution_count": null,
      "outputs": [
        {
          "output_type": "execute_result",
          "data": {
            "text/plain": [
              "   Id                                        JobTitle  \\\n",
              "0   1  GENERAL MANAGER-METROPOLITAN TRANSIT AUTHORITY   \n",
              "1   1  GENERAL MANAGER-METROPOLITAN TRANSIT AUTHORITY   \n",
              "2   1  GENERAL MANAGER-METROPOLITAN TRANSIT AUTHORITY   \n",
              "3   1  GENERAL MANAGER-METROPOLITAN TRANSIT AUTHORITY   \n",
              "4   2                 CAPTAIN III (POLICE DEPARTMENT)   \n",
              "5   2                 CAPTAIN III (POLICE DEPARTMENT)   \n",
              "6   2                 CAPTAIN III (POLICE DEPARTMENT)   \n",
              "7   2                 CAPTAIN III (POLICE DEPARTMENT)   \n",
              "8   3                 CAPTAIN III (POLICE DEPARTMENT)   \n",
              "9   3                 CAPTAIN III (POLICE DEPARTMENT)   \n",
              "\n",
              "                                           job_array   array_linha a linha  \n",
              "0  [GENERAL, MANAGER-METROPOLITAN, TRANSIT, AUTHO...               GENERAL  \n",
              "1  [GENERAL, MANAGER-METROPOLITAN, TRANSIT, AUTHO...  MANAGER-METROPOLITAN  \n",
              "2  [GENERAL, MANAGER-METROPOLITAN, TRANSIT, AUTHO...               TRANSIT  \n",
              "3  [GENERAL, MANAGER-METROPOLITAN, TRANSIT, AUTHO...             AUTHORITY  \n",
              "4               [CAPTAIN, III, (POLICE, DEPARTMENT)]               CAPTAIN  \n",
              "5               [CAPTAIN, III, (POLICE, DEPARTMENT)]                   III  \n",
              "6               [CAPTAIN, III, (POLICE, DEPARTMENT)]               (POLICE  \n",
              "7               [CAPTAIN, III, (POLICE, DEPARTMENT)]           DEPARTMENT)  \n",
              "8               [CAPTAIN, III, (POLICE, DEPARTMENT)]               CAPTAIN  \n",
              "9               [CAPTAIN, III, (POLICE, DEPARTMENT)]                   III  "
            ],
            "text/html": [
              "\n",
              "  <div id=\"df-be58ddf0-0b80-4a0f-8d98-2ff3ae289a4f\">\n",
              "    <div class=\"colab-df-container\">\n",
              "      <div>\n",
              "<style scoped>\n",
              "    .dataframe tbody tr th:only-of-type {\n",
              "        vertical-align: middle;\n",
              "    }\n",
              "\n",
              "    .dataframe tbody tr th {\n",
              "        vertical-align: top;\n",
              "    }\n",
              "\n",
              "    .dataframe thead th {\n",
              "        text-align: right;\n",
              "    }\n",
              "</style>\n",
              "<table border=\"1\" class=\"dataframe\">\n",
              "  <thead>\n",
              "    <tr style=\"text-align: right;\">\n",
              "      <th></th>\n",
              "      <th>Id</th>\n",
              "      <th>JobTitle</th>\n",
              "      <th>job_array</th>\n",
              "      <th>array_linha a linha</th>\n",
              "    </tr>\n",
              "  </thead>\n",
              "  <tbody>\n",
              "    <tr>\n",
              "      <th>0</th>\n",
              "      <td>1</td>\n",
              "      <td>GENERAL MANAGER-METROPOLITAN TRANSIT AUTHORITY</td>\n",
              "      <td>[GENERAL, MANAGER-METROPOLITAN, TRANSIT, AUTHO...</td>\n",
              "      <td>GENERAL</td>\n",
              "    </tr>\n",
              "    <tr>\n",
              "      <th>1</th>\n",
              "      <td>1</td>\n",
              "      <td>GENERAL MANAGER-METROPOLITAN TRANSIT AUTHORITY</td>\n",
              "      <td>[GENERAL, MANAGER-METROPOLITAN, TRANSIT, AUTHO...</td>\n",
              "      <td>MANAGER-METROPOLITAN</td>\n",
              "    </tr>\n",
              "    <tr>\n",
              "      <th>2</th>\n",
              "      <td>1</td>\n",
              "      <td>GENERAL MANAGER-METROPOLITAN TRANSIT AUTHORITY</td>\n",
              "      <td>[GENERAL, MANAGER-METROPOLITAN, TRANSIT, AUTHO...</td>\n",
              "      <td>TRANSIT</td>\n",
              "    </tr>\n",
              "    <tr>\n",
              "      <th>3</th>\n",
              "      <td>1</td>\n",
              "      <td>GENERAL MANAGER-METROPOLITAN TRANSIT AUTHORITY</td>\n",
              "      <td>[GENERAL, MANAGER-METROPOLITAN, TRANSIT, AUTHO...</td>\n",
              "      <td>AUTHORITY</td>\n",
              "    </tr>\n",
              "    <tr>\n",
              "      <th>4</th>\n",
              "      <td>2</td>\n",
              "      <td>CAPTAIN III (POLICE DEPARTMENT)</td>\n",
              "      <td>[CAPTAIN, III, (POLICE, DEPARTMENT)]</td>\n",
              "      <td>CAPTAIN</td>\n",
              "    </tr>\n",
              "    <tr>\n",
              "      <th>5</th>\n",
              "      <td>2</td>\n",
              "      <td>CAPTAIN III (POLICE DEPARTMENT)</td>\n",
              "      <td>[CAPTAIN, III, (POLICE, DEPARTMENT)]</td>\n",
              "      <td>III</td>\n",
              "    </tr>\n",
              "    <tr>\n",
              "      <th>6</th>\n",
              "      <td>2</td>\n",
              "      <td>CAPTAIN III (POLICE DEPARTMENT)</td>\n",
              "      <td>[CAPTAIN, III, (POLICE, DEPARTMENT)]</td>\n",
              "      <td>(POLICE</td>\n",
              "    </tr>\n",
              "    <tr>\n",
              "      <th>7</th>\n",
              "      <td>2</td>\n",
              "      <td>CAPTAIN III (POLICE DEPARTMENT)</td>\n",
              "      <td>[CAPTAIN, III, (POLICE, DEPARTMENT)]</td>\n",
              "      <td>DEPARTMENT)</td>\n",
              "    </tr>\n",
              "    <tr>\n",
              "      <th>8</th>\n",
              "      <td>3</td>\n",
              "      <td>CAPTAIN III (POLICE DEPARTMENT)</td>\n",
              "      <td>[CAPTAIN, III, (POLICE, DEPARTMENT)]</td>\n",
              "      <td>CAPTAIN</td>\n",
              "    </tr>\n",
              "    <tr>\n",
              "      <th>9</th>\n",
              "      <td>3</td>\n",
              "      <td>CAPTAIN III (POLICE DEPARTMENT)</td>\n",
              "      <td>[CAPTAIN, III, (POLICE, DEPARTMENT)]</td>\n",
              "      <td>III</td>\n",
              "    </tr>\n",
              "  </tbody>\n",
              "</table>\n",
              "</div>\n",
              "      <button class=\"colab-df-convert\" onclick=\"convertToInteractive('df-be58ddf0-0b80-4a0f-8d98-2ff3ae289a4f')\"\n",
              "              title=\"Convert this dataframe to an interactive table.\"\n",
              "              style=\"display:none;\">\n",
              "        \n",
              "  <svg xmlns=\"http://www.w3.org/2000/svg\" height=\"24px\"viewBox=\"0 0 24 24\"\n",
              "       width=\"24px\">\n",
              "    <path d=\"M0 0h24v24H0V0z\" fill=\"none\"/>\n",
              "    <path d=\"M18.56 5.44l.94 2.06.94-2.06 2.06-.94-2.06-.94-.94-2.06-.94 2.06-2.06.94zm-11 1L8.5 8.5l.94-2.06 2.06-.94-2.06-.94L8.5 2.5l-.94 2.06-2.06.94zm10 10l.94 2.06.94-2.06 2.06-.94-2.06-.94-.94-2.06-.94 2.06-2.06.94z\"/><path d=\"M17.41 7.96l-1.37-1.37c-.4-.4-.92-.59-1.43-.59-.52 0-1.04.2-1.43.59L10.3 9.45l-7.72 7.72c-.78.78-.78 2.05 0 2.83L4 21.41c.39.39.9.59 1.41.59.51 0 1.02-.2 1.41-.59l7.78-7.78 2.81-2.81c.8-.78.8-2.07 0-2.86zM5.41 20L4 18.59l7.72-7.72 1.47 1.35L5.41 20z\"/>\n",
              "  </svg>\n",
              "      </button>\n",
              "      \n",
              "  <style>\n",
              "    .colab-df-container {\n",
              "      display:flex;\n",
              "      flex-wrap:wrap;\n",
              "      gap: 12px;\n",
              "    }\n",
              "\n",
              "    .colab-df-convert {\n",
              "      background-color: #E8F0FE;\n",
              "      border: none;\n",
              "      border-radius: 50%;\n",
              "      cursor: pointer;\n",
              "      display: none;\n",
              "      fill: #1967D2;\n",
              "      height: 32px;\n",
              "      padding: 0 0 0 0;\n",
              "      width: 32px;\n",
              "    }\n",
              "\n",
              "    .colab-df-convert:hover {\n",
              "      background-color: #E2EBFA;\n",
              "      box-shadow: 0px 1px 2px rgba(60, 64, 67, 0.3), 0px 1px 3px 1px rgba(60, 64, 67, 0.15);\n",
              "      fill: #174EA6;\n",
              "    }\n",
              "\n",
              "    [theme=dark] .colab-df-convert {\n",
              "      background-color: #3B4455;\n",
              "      fill: #D2E3FC;\n",
              "    }\n",
              "\n",
              "    [theme=dark] .colab-df-convert:hover {\n",
              "      background-color: #434B5C;\n",
              "      box-shadow: 0px 1px 3px 1px rgba(0, 0, 0, 0.15);\n",
              "      filter: drop-shadow(0px 1px 2px rgba(0, 0, 0, 0.3));\n",
              "      fill: #FFFFFF;\n",
              "    }\n",
              "  </style>\n",
              "\n",
              "      <script>\n",
              "        const buttonEl =\n",
              "          document.querySelector('#df-be58ddf0-0b80-4a0f-8d98-2ff3ae289a4f button.colab-df-convert');\n",
              "        buttonEl.style.display =\n",
              "          google.colab.kernel.accessAllowed ? 'block' : 'none';\n",
              "\n",
              "        async function convertToInteractive(key) {\n",
              "          const element = document.querySelector('#df-be58ddf0-0b80-4a0f-8d98-2ff3ae289a4f');\n",
              "          const dataTable =\n",
              "            await google.colab.kernel.invokeFunction('convertToInteractive',\n",
              "                                                     [key], {});\n",
              "          if (!dataTable) return;\n",
              "\n",
              "          const docLinkHtml = 'Like what you see? Visit the ' +\n",
              "            '<a target=\"_blank\" href=https://colab.research.google.com/notebooks/data_table.ipynb>data table notebook</a>'\n",
              "            + ' to learn more about interactive tables.';\n",
              "          element.innerHTML = '';\n",
              "          dataTable['output_type'] = 'display_data';\n",
              "          await google.colab.output.renderOutput(dataTable, element);\n",
              "          const docLink = document.createElement('div');\n",
              "          docLink.innerHTML = docLinkHtml;\n",
              "          element.appendChild(docLink);\n",
              "        }\n",
              "      </script>\n",
              "    </div>\n",
              "  </div>\n",
              "  "
            ]
          },
          "metadata": {},
          "execution_count": 20
        }
      ]
    },
    {
      "cell_type": "markdown",
      "source": [
        "##Nulos"
      ],
      "metadata": {
        "id": "P-z-QeIgXA1f"
      }
    },
    {
      "cell_type": "markdown",
      "source": [
        "**Nulos:**\n",
        "\n",
        "* `drop()`: retira as linhas com valores nulos, com base no que foi passado para o argumento 'how':\n",
        "  * `any (default)`: retira todas as linhas com pelo menos um valor nulo nas colunas\n",
        "  * `all`: somente remove as linhas com todos as colunas com valores nulos\n",
        "* `fill()`: preenche os valores nulos com uma constante especificada\n",
        "* `replace()`: substitui o valor por algum outro especificado (não somente para nulos)"
      ],
      "metadata": {
        "id": "7mrFhrH4XCdK"
      }
    },
    {
      "cell_type": "code",
      "source": [
        "df.show(5)"
      ],
      "metadata": {
        "colab": {
          "base_uri": "https://localhost:8080/"
        },
        "id": "cETG0eMOXvJe",
        "outputId": "f9a33b2f-4ae6-4bc4-917c-22eb908a97e1"
      },
      "execution_count": null,
      "outputs": [
        {
          "output_type": "stream",
          "name": "stdout",
          "text": [
            "+---+-----------------+--------------------+---------+-----------+---------+--------+---------+----------------+----+-----+-------------+------+\n",
            "| Id|     EmployeeName|            JobTitle|  BasePay|OvertimePay| OtherPay|Benefits| TotalPay|TotalPayBenefits|Year|Notes|       Agency|Status|\n",
            "+---+-----------------+--------------------+---------+-----------+---------+--------+---------+----------------+----+-----+-------------+------+\n",
            "|  1|   NATHANIEL FORD|GENERAL MANAGER-M...|167411.18|        0.0|400184.25|    null|567595.43|       567595.43|2011| null|San Francisco|  null|\n",
            "|  2|     GARY JIMENEZ|CAPTAIN III (POLI...|155966.02|  245131.88|137811.38|    null|538909.28|       538909.28|2011| null|San Francisco|  null|\n",
            "|  3|   ALBERT PARDINI|CAPTAIN III (POLI...|212739.13|  106088.18|  16452.6|    null|335279.91|       335279.91|2011| null|San Francisco|  null|\n",
            "|  4|CHRISTOPHER CHONG|WIRE ROPE CABLE M...|  77916.0|   56120.71| 198306.9|    null|332343.61|       332343.61|2011| null|San Francisco|  null|\n",
            "|  5|  PATRICK GARDNER|DEPUTY CHIEF OF D...| 134401.6|     9737.0|182234.59|    null|326373.19|       326373.19|2011| null|San Francisco|  null|\n",
            "+---+-----------------+--------------------+---------+-----------+---------+--------+---------+----------------+----+-----+-------------+------+\n",
            "only showing top 5 rows\n",
            "\n"
          ]
        }
      ]
    },
    {
      "cell_type": "code",
      "source": [
        "(\n",
        "    df\n",
        "    .select('EmployeeName','JobTitle','BasePay','Benefits','TotalPay')\n",
        "    .na.fill(0, subset=['Benefits'])\n",
        "    .orderBy(f.asc_nulls_first('BasePay'))\n",
        "    .show(5)\n",
        ")"
      ],
      "metadata": {
        "colab": {
          "base_uri": "https://localhost:8080/"
        },
        "id": "isD_GifqXwGe",
        "outputId": "5613897a-ab66-4868-8127-4825170cb171"
      },
      "execution_count": null,
      "outputs": [
        {
          "output_type": "stream",
          "name": "stdout",
          "text": [
            "+----------------+--------------------+-------+--------+--------+\n",
            "|    EmployeeName|            JobTitle|BasePay|Benefits|TotalPay|\n",
            "+----------------+--------------------+-------+--------+--------+\n",
            "|  Thomas  Willis|EEO Senior Specia...|   null|12189.74|30465.44|\n",
            "|    Darby J Reid|          Sergeant 3|   null|     0.0|37856.59|\n",
            "|Michael S Danich|Traffic Survey Te...|   null| 6173.18| 34124.8|\n",
            "|   James M Blake|Battalion Chief, ...|   null|     0.0|74562.89|\n",
            "| George H Garcia|Battalion Chief, ...|   null|     0.0|39755.81|\n",
            "+----------------+--------------------+-------+--------+--------+\n",
            "only showing top 5 rows\n",
            "\n"
          ]
        }
      ]
    },
    {
      "cell_type": "code",
      "source": [
        "# Drop() sem nenhum argumento\n",
        "(\n",
        "    df\n",
        "    .select('EmployeeName','JobTitle','BasePay','Benefits','TotalPay')\n",
        "    .na.drop()\n",
        "    .count()\n",
        ")"
      ],
      "metadata": {
        "colab": {
          "base_uri": "https://localhost:8080/"
        },
        "id": "hwVpERdlariP",
        "outputId": "09344f93-0082-43a2-9aef-6c0257b05377"
      },
      "execution_count": null,
      "outputs": [
        {
          "output_type": "execute_result",
          "data": {
            "text/plain": [
              "111886"
            ]
          },
          "metadata": {},
          "execution_count": 42
        }
      ]
    },
    {
      "cell_type": "code",
      "source": [
        "# Drop() utilizando apenas uma coluna como argumento\n",
        "(\n",
        "    df\n",
        "    .select('EmployeeName','JobTitle','BasePay','Benefits','TotalPay')\n",
        "    .na.drop(subset=['BasePay'])\n",
        "    .count()\n",
        ")"
      ],
      "metadata": {
        "colab": {
          "base_uri": "https://localhost:8080/"
        },
        "id": "ZmJMwty6a01j",
        "outputId": "343eb443-ed3d-4a99-d39a-1708aa8bd0f0"
      },
      "execution_count": null,
      "outputs": [
        {
          "output_type": "execute_result",
          "data": {
            "text/plain": [
              "148045"
            ]
          },
          "metadata": {},
          "execution_count": 43
        }
      ]
    },
    {
      "cell_type": "code",
      "source": [
        "# Função coalesce(): caso a coluna especifica seja nula, ele preenche com o valor da próxima coluna sucessivamente\n",
        "(\n",
        "    df\n",
        "    .select('EmployeeName','BasePay','Benefits')\n",
        "    .filter('Benefits is null')\n",
        "    .withColumn('Coalesce_test', f.coalesce(f.col('Benefits'), f.col('BasePay'), f.lit('No Salary')))\n",
        "    .limit(10)\n",
        "    .toPandas()\n",
        ")"
      ],
      "metadata": {
        "colab": {
          "base_uri": "https://localhost:8080/",
          "height": 363
        },
        "id": "GPqPwB93bCjg",
        "outputId": "58f8c75e-44fb-4fc8-a5a5-b006b6acb882"
      },
      "execution_count": null,
      "outputs": [
        {
          "output_type": "execute_result",
          "data": {
            "text/plain": [
              "         EmployeeName    BasePay Benefits Coalesce_test\n",
              "0      NATHANIEL FORD  167411.18     None     167411.18\n",
              "1        GARY JIMENEZ  155966.02     None     155966.02\n",
              "2      ALBERT PARDINI  212739.13     None     212739.13\n",
              "3   CHRISTOPHER CHONG   77916.00     None       77916.0\n",
              "4     PATRICK GARDNER  134401.60     None      134401.6\n",
              "5      DAVID SULLIVAN  118602.00     None      118602.0\n",
              "6           ALSON LEE   92492.01     None      92492.01\n",
              "7       DAVID KUSHNER  256576.96     None     256576.96\n",
              "8      MICHAEL MORRIS  176932.64     None     176932.64\n",
              "9  JOANNE HAYES-WHITE  285262.00     None      285262.0"
            ],
            "text/html": [
              "\n",
              "  <div id=\"df-e112684f-3d5b-4193-a9c6-8d32eb7529f3\">\n",
              "    <div class=\"colab-df-container\">\n",
              "      <div>\n",
              "<style scoped>\n",
              "    .dataframe tbody tr th:only-of-type {\n",
              "        vertical-align: middle;\n",
              "    }\n",
              "\n",
              "    .dataframe tbody tr th {\n",
              "        vertical-align: top;\n",
              "    }\n",
              "\n",
              "    .dataframe thead th {\n",
              "        text-align: right;\n",
              "    }\n",
              "</style>\n",
              "<table border=\"1\" class=\"dataframe\">\n",
              "  <thead>\n",
              "    <tr style=\"text-align: right;\">\n",
              "      <th></th>\n",
              "      <th>EmployeeName</th>\n",
              "      <th>BasePay</th>\n",
              "      <th>Benefits</th>\n",
              "      <th>Coalesce_test</th>\n",
              "    </tr>\n",
              "  </thead>\n",
              "  <tbody>\n",
              "    <tr>\n",
              "      <th>0</th>\n",
              "      <td>NATHANIEL FORD</td>\n",
              "      <td>167411.18</td>\n",
              "      <td>None</td>\n",
              "      <td>167411.18</td>\n",
              "    </tr>\n",
              "    <tr>\n",
              "      <th>1</th>\n",
              "      <td>GARY JIMENEZ</td>\n",
              "      <td>155966.02</td>\n",
              "      <td>None</td>\n",
              "      <td>155966.02</td>\n",
              "    </tr>\n",
              "    <tr>\n",
              "      <th>2</th>\n",
              "      <td>ALBERT PARDINI</td>\n",
              "      <td>212739.13</td>\n",
              "      <td>None</td>\n",
              "      <td>212739.13</td>\n",
              "    </tr>\n",
              "    <tr>\n",
              "      <th>3</th>\n",
              "      <td>CHRISTOPHER CHONG</td>\n",
              "      <td>77916.00</td>\n",
              "      <td>None</td>\n",
              "      <td>77916.0</td>\n",
              "    </tr>\n",
              "    <tr>\n",
              "      <th>4</th>\n",
              "      <td>PATRICK GARDNER</td>\n",
              "      <td>134401.60</td>\n",
              "      <td>None</td>\n",
              "      <td>134401.6</td>\n",
              "    </tr>\n",
              "    <tr>\n",
              "      <th>5</th>\n",
              "      <td>DAVID SULLIVAN</td>\n",
              "      <td>118602.00</td>\n",
              "      <td>None</td>\n",
              "      <td>118602.0</td>\n",
              "    </tr>\n",
              "    <tr>\n",
              "      <th>6</th>\n",
              "      <td>ALSON LEE</td>\n",
              "      <td>92492.01</td>\n",
              "      <td>None</td>\n",
              "      <td>92492.01</td>\n",
              "    </tr>\n",
              "    <tr>\n",
              "      <th>7</th>\n",
              "      <td>DAVID KUSHNER</td>\n",
              "      <td>256576.96</td>\n",
              "      <td>None</td>\n",
              "      <td>256576.96</td>\n",
              "    </tr>\n",
              "    <tr>\n",
              "      <th>8</th>\n",
              "      <td>MICHAEL MORRIS</td>\n",
              "      <td>176932.64</td>\n",
              "      <td>None</td>\n",
              "      <td>176932.64</td>\n",
              "    </tr>\n",
              "    <tr>\n",
              "      <th>9</th>\n",
              "      <td>JOANNE HAYES-WHITE</td>\n",
              "      <td>285262.00</td>\n",
              "      <td>None</td>\n",
              "      <td>285262.0</td>\n",
              "    </tr>\n",
              "  </tbody>\n",
              "</table>\n",
              "</div>\n",
              "      <button class=\"colab-df-convert\" onclick=\"convertToInteractive('df-e112684f-3d5b-4193-a9c6-8d32eb7529f3')\"\n",
              "              title=\"Convert this dataframe to an interactive table.\"\n",
              "              style=\"display:none;\">\n",
              "        \n",
              "  <svg xmlns=\"http://www.w3.org/2000/svg\" height=\"24px\"viewBox=\"0 0 24 24\"\n",
              "       width=\"24px\">\n",
              "    <path d=\"M0 0h24v24H0V0z\" fill=\"none\"/>\n",
              "    <path d=\"M18.56 5.44l.94 2.06.94-2.06 2.06-.94-2.06-.94-.94-2.06-.94 2.06-2.06.94zm-11 1L8.5 8.5l.94-2.06 2.06-.94-2.06-.94L8.5 2.5l-.94 2.06-2.06.94zm10 10l.94 2.06.94-2.06 2.06-.94-2.06-.94-.94-2.06-.94 2.06-2.06.94z\"/><path d=\"M17.41 7.96l-1.37-1.37c-.4-.4-.92-.59-1.43-.59-.52 0-1.04.2-1.43.59L10.3 9.45l-7.72 7.72c-.78.78-.78 2.05 0 2.83L4 21.41c.39.39.9.59 1.41.59.51 0 1.02-.2 1.41-.59l7.78-7.78 2.81-2.81c.8-.78.8-2.07 0-2.86zM5.41 20L4 18.59l7.72-7.72 1.47 1.35L5.41 20z\"/>\n",
              "  </svg>\n",
              "      </button>\n",
              "      \n",
              "  <style>\n",
              "    .colab-df-container {\n",
              "      display:flex;\n",
              "      flex-wrap:wrap;\n",
              "      gap: 12px;\n",
              "    }\n",
              "\n",
              "    .colab-df-convert {\n",
              "      background-color: #E8F0FE;\n",
              "      border: none;\n",
              "      border-radius: 50%;\n",
              "      cursor: pointer;\n",
              "      display: none;\n",
              "      fill: #1967D2;\n",
              "      height: 32px;\n",
              "      padding: 0 0 0 0;\n",
              "      width: 32px;\n",
              "    }\n",
              "\n",
              "    .colab-df-convert:hover {\n",
              "      background-color: #E2EBFA;\n",
              "      box-shadow: 0px 1px 2px rgba(60, 64, 67, 0.3), 0px 1px 3px 1px rgba(60, 64, 67, 0.15);\n",
              "      fill: #174EA6;\n",
              "    }\n",
              "\n",
              "    [theme=dark] .colab-df-convert {\n",
              "      background-color: #3B4455;\n",
              "      fill: #D2E3FC;\n",
              "    }\n",
              "\n",
              "    [theme=dark] .colab-df-convert:hover {\n",
              "      background-color: #434B5C;\n",
              "      box-shadow: 0px 1px 3px 1px rgba(0, 0, 0, 0.15);\n",
              "      filter: drop-shadow(0px 1px 2px rgba(0, 0, 0, 0.3));\n",
              "      fill: #FFFFFF;\n",
              "    }\n",
              "  </style>\n",
              "\n",
              "      <script>\n",
              "        const buttonEl =\n",
              "          document.querySelector('#df-e112684f-3d5b-4193-a9c6-8d32eb7529f3 button.colab-df-convert');\n",
              "        buttonEl.style.display =\n",
              "          google.colab.kernel.accessAllowed ? 'block' : 'none';\n",
              "\n",
              "        async function convertToInteractive(key) {\n",
              "          const element = document.querySelector('#df-e112684f-3d5b-4193-a9c6-8d32eb7529f3');\n",
              "          const dataTable =\n",
              "            await google.colab.kernel.invokeFunction('convertToInteractive',\n",
              "                                                     [key], {});\n",
              "          if (!dataTable) return;\n",
              "\n",
              "          const docLinkHtml = 'Like what you see? Visit the ' +\n",
              "            '<a target=\"_blank\" href=https://colab.research.google.com/notebooks/data_table.ipynb>data table notebook</a>'\n",
              "            + ' to learn more about interactive tables.';\n",
              "          element.innerHTML = '';\n",
              "          dataTable['output_type'] = 'display_data';\n",
              "          await google.colab.output.renderOutput(dataTable, element);\n",
              "          const docLink = document.createElement('div');\n",
              "          docLink.innerHTML = docLinkHtml;\n",
              "          element.appendChild(docLink);\n",
              "        }\n",
              "      </script>\n",
              "    </div>\n",
              "  </div>\n",
              "  "
            ]
          },
          "metadata": {},
          "execution_count": 47
        }
      ]
    },
    {
      "cell_type": "markdown",
      "source": [
        "#Agregação e Agrupamento"
      ],
      "metadata": {
        "id": "Wp-AgvquYaKT"
      }
    },
    {
      "cell_type": "markdown",
      "source": [
        "O agrupamento é feito por meio da função **`groupby()`**. Essa função deve ser sucedidapela função de agregação **`agg()`**, de pivotação **`pivot()`** ou **`count()`**.\n",
        "\n",
        "A função **`agg()`** aplica uma função de agregação no DataFrame e se for precedida por **`groupby()`**, realiza a agregação dentro dos grupos estabelecidos. Algumas das funções de agregação mais utilizados:\n",
        "\n",
        "* `sum()`: soma dos valores da coluna\n",
        "* `sumDistinct()`: soma dos valores distintos\n",
        "* `max() / min()`: máximo ou minimo da coluna\n",
        "* `avg()/ mean()`: média dos valores da coluna\n",
        "* `percentile_approx()`: retorna o percentil da coluna com aproximação\n",
        "* `percentile_approx(f.col('coluna'), 0.5, lit.(1000000))`: calcuma a mediana exata\n",
        "* `stddev()`: retorna o desvio padrão dos valores da coluna\n",
        "* `count()`: contagem de linhas\n",
        "* `countDistinct()`: contagem de linhas distintas da coluna\n",
        "* `first() / last()`: primeiro ou ultimo valor da coluna. Importante utilizar em conjunto com o argumento `ignoreNulls=True`\n",
        "* `collect_list()`: retorna os valores do agrupamento em uma lista, com duplicatas\n",
        "* `collect_set()`: retorna os valores do agrupamento em uma lista, sem duplicatas (desordenado)\n",
        "\n",
        "**Obs:** o Spark ignora valores nulos para calcular as agregações, exceto pela função `count()`.\n",
        "\n",
        "A função **`pivot`** é utilizada para passar valores de uma linha para as colunas, realizando uma agregação. Deve ser sucedido por uma função de agregação utilizando **`agg()`**, podendo utilizar qualquer uma das funções de agregação acima."
      ],
      "metadata": {
        "id": "hzvpO0QeYkJs"
      }
    },
    {
      "cell_type": "markdown",
      "source": [
        "**Agregação**"
      ],
      "metadata": {
        "id": "9owDDEg5gZBh"
      }
    },
    {
      "cell_type": "code",
      "source": [
        "#Adicionando um novo dataFrame\n",
        "url = 'https://raw.githubusercontent.com/mwaskom/seaborn-data/master/tips.csv'\n",
        "from pyspark import SparkFiles\n",
        "spark.sparkContext.addFile(url)\n",
        "df_tips_csv = (\n",
        "    spark\n",
        "    .read\n",
        "    .format('csv')\n",
        "    .options(header=True, inferSchema=True,sep=',',encoding='latin1')\n",
        "    .load(SparkFiles.get('tips.csv'))\n",
        "    )\n",
        "\n",
        "#Salvando os dados no formato parquet para manipulação com Spark\n",
        "df_tips_csv.write.format('parquet').mode('overwrite').save('df_tips')\n",
        "\n",
        "#Criando um novo DataFrame com os dados já no formato Parquet\n",
        "df_tips = spark.read.format('parquet').load('df_tips')"
      ],
      "metadata": {
        "id": "xoN4yLOUc5zr"
      },
      "execution_count": 12,
      "outputs": []
    },
    {
      "cell_type": "code",
      "source": [
        "df_tips.show(10)"
      ],
      "metadata": {
        "colab": {
          "base_uri": "https://localhost:8080/"
        },
        "id": "cXGh6rw5bxPK",
        "outputId": "9d7a0050-e189-44ec-de8b-6f8958c53244"
      },
      "execution_count": null,
      "outputs": [
        {
          "output_type": "stream",
          "name": "stdout",
          "text": [
            "+----------+----+------+------+---+------+----+\n",
            "|total_bill| tip|   sex|smoker|day|  time|size|\n",
            "+----------+----+------+------+---+------+----+\n",
            "|     16.99|1.01|Female|    No|Sun|Dinner|   2|\n",
            "|     10.34|1.66|  Male|    No|Sun|Dinner|   3|\n",
            "|     21.01| 3.5|  Male|    No|Sun|Dinner|   3|\n",
            "|     23.68|3.31|  Male|    No|Sun|Dinner|   2|\n",
            "|     24.59|3.61|Female|    No|Sun|Dinner|   4|\n",
            "|     25.29|4.71|  Male|    No|Sun|Dinner|   4|\n",
            "|      8.77| 2.0|  Male|    No|Sun|Dinner|   2|\n",
            "|     26.88|3.12|  Male|    No|Sun|Dinner|   4|\n",
            "|     15.04|1.96|  Male|    No|Sun|Dinner|   2|\n",
            "|     14.78|3.23|  Male|    No|Sun|Dinner|   2|\n",
            "+----------+----+------+------+---+------+----+\n",
            "only showing top 10 rows\n",
            "\n"
          ]
        }
      ]
    },
    {
      "cell_type": "code",
      "source": [
        "(\n",
        "    df_tips\n",
        "    .agg(f.sum('tip').alias('total_tip'),\n",
        "         f.round(f.avg('tip'),2).alias('avg_tip'),\n",
        "         f.round(f.max('tip'),2).alias('max_tip'),\n",
        "         f.round(f.min('tip'),2).alias('min_tip'))\n",
        "    .show()\n",
        ")"
      ],
      "metadata": {
        "colab": {
          "base_uri": "https://localhost:8080/"
        },
        "id": "Rp2csWMjYc_l",
        "outputId": "cb0de495-9155-41c9-958a-24d39178bdde"
      },
      "execution_count": null,
      "outputs": [
        {
          "output_type": "stream",
          "name": "stdout",
          "text": [
            "+---------+-------+-------+-------+\n",
            "|total_tip|avg_tip|max_tip|min_tip|\n",
            "+---------+-------+-------+-------+\n",
            "|   731.58|    3.0|   10.0|    1.0|\n",
            "+---------+-------+-------+-------+\n",
            "\n"
          ]
        }
      ]
    },
    {
      "cell_type": "markdown",
      "source": [
        "**Agrupamentos**"
      ],
      "metadata": {
        "id": "Plic-J6agWUY"
      }
    },
    {
      "cell_type": "code",
      "source": [
        "df_tips.show(5)"
      ],
      "metadata": {
        "colab": {
          "base_uri": "https://localhost:8080/"
        },
        "id": "RwMeSNe1gXqW",
        "outputId": "22f35a2b-af42-4ee6-d810-6bd1e63dddcc"
      },
      "execution_count": null,
      "outputs": [
        {
          "output_type": "stream",
          "name": "stdout",
          "text": [
            "+----------+----+------+------+---+------+----+\n",
            "|total_bill| tip|   sex|smoker|day|  time|size|\n",
            "+----------+----+------+------+---+------+----+\n",
            "|     16.99|1.01|Female|    No|Sun|Dinner|   2|\n",
            "|     10.34|1.66|  Male|    No|Sun|Dinner|   3|\n",
            "|     21.01| 3.5|  Male|    No|Sun|Dinner|   3|\n",
            "|     23.68|3.31|  Male|    No|Sun|Dinner|   2|\n",
            "|     24.59|3.61|Female|    No|Sun|Dinner|   4|\n",
            "+----------+----+------+------+---+------+----+\n",
            "only showing top 5 rows\n",
            "\n"
          ]
        }
      ]
    },
    {
      "cell_type": "code",
      "source": [
        "(\n",
        "    df_tips\n",
        "    .groupby('sex')\n",
        "    .count()\n",
        "    .show()\n",
        ")"
      ],
      "metadata": {
        "colab": {
          "base_uri": "https://localhost:8080/"
        },
        "id": "LMBtGKCBgelG",
        "outputId": "26d09d0c-c97c-4041-80be-0dfc7c6b222f"
      },
      "execution_count": null,
      "outputs": [
        {
          "output_type": "stream",
          "name": "stdout",
          "text": [
            "+------+-----+\n",
            "|   sex|count|\n",
            "+------+-----+\n",
            "|Female|   87|\n",
            "|  Male|  157|\n",
            "+------+-----+\n",
            "\n"
          ]
        }
      ]
    },
    {
      "cell_type": "code",
      "source": [
        "(\n",
        "    df_tips\n",
        "    .groupby('sex')\n",
        "    .agg(f.round(f.avg('tip'),2).alias('avg_tip'),\n",
        "         f.count('tip').alias('qtde'))\n",
        "    .orderBy('avg_tip')\n",
        "    .show()\n",
        ")"
      ],
      "metadata": {
        "colab": {
          "base_uri": "https://localhost:8080/"
        },
        "id": "gBZQSIh7gtn4",
        "outputId": "675b9c82-c005-470b-854e-a2281c95cf53"
      },
      "execution_count": null,
      "outputs": [
        {
          "output_type": "stream",
          "name": "stdout",
          "text": [
            "+------+-------+----+\n",
            "|   sex|avg_tip|qtde|\n",
            "+------+-------+----+\n",
            "|Female|   2.83|  87|\n",
            "|  Male|   3.09| 157|\n",
            "+------+-------+----+\n",
            "\n"
          ]
        }
      ]
    },
    {
      "cell_type": "code",
      "source": [
        "# Agrupando por mais de uma coluna\n",
        "\n",
        "(\n",
        "    df_tips\n",
        "    .groupby('sex','smoker')\n",
        "    .agg(f.round(f.avg('tip'),2).alias('avg_tip'),\n",
        "         f.count('tip').alias('qtde'))\n",
        "    .orderBy('avg_tip')\n",
        "    .show()\n",
        ")"
      ],
      "metadata": {
        "colab": {
          "base_uri": "https://localhost:8080/"
        },
        "id": "iaeIUIRVhc0C",
        "outputId": "49568e6b-d1d4-4d9b-9f1f-51d25d4b0147"
      },
      "execution_count": null,
      "outputs": [
        {
          "output_type": "stream",
          "name": "stdout",
          "text": [
            "+------+------+-------+----+\n",
            "|   sex|smoker|avg_tip|qtde|\n",
            "+------+------+-------+----+\n",
            "|Female|    No|   2.77|  54|\n",
            "|Female|   Yes|   2.93|  33|\n",
            "|  Male|   Yes|   3.05|  60|\n",
            "|  Male|    No|   3.11|  97|\n",
            "+------+------+-------+----+\n",
            "\n"
          ]
        }
      ]
    },
    {
      "cell_type": "code",
      "source": [
        "(\n",
        "    df_tips\n",
        "    .groupby('sex','smoker')\n",
        "    .pivot('time')\n",
        "    .agg(f.round(f.avg('tip'),2))\n",
        "    .show()\n",
        ")"
      ],
      "metadata": {
        "colab": {
          "base_uri": "https://localhost:8080/"
        },
        "id": "ZN3d78DMiBvU",
        "outputId": "c1db1950-66b1-425f-efbe-9654cddf213e"
      },
      "execution_count": null,
      "outputs": [
        {
          "output_type": "stream",
          "name": "stdout",
          "text": [
            "+------+------+------+-----+\n",
            "|   sex|smoker|Dinner|Lunch|\n",
            "+------+------+------+-----+\n",
            "|  Male|    No|  3.16| 2.94|\n",
            "|  Male|   Yes|  3.12| 2.79|\n",
            "|Female|    No|  3.04| 2.46|\n",
            "|Female|   Yes|  2.95| 2.89|\n",
            "+------+------+------+-----+\n",
            "\n"
          ]
        }
      ]
    },
    {
      "cell_type": "markdown",
      "source": [
        "# Window Functions"
      ],
      "metadata": {
        "id": "TrTYzQQRjWS2"
      }
    },
    {
      "cell_type": "markdown",
      "source": [
        "Window functions são funções que realizam cálculos semelhantes à uma agregação, mas que não resultam em um DataFrame agregado. Ao invés disso, os resultados são disponibilizados em uma nova coluna, segundo a partição ou agrupamento especificado. São exemplos comuns:\n",
        "\n",
        "* `row_number()`\n",
        "* `rank() / dense_rank() / percent_rank()`\n",
        "* `lag()`\n",
        "* `cume_dist()`\n",
        "* `collect_list() / collect_set()`\n",
        "* Demais funções de agregação, com exceção de `countDistinct()`\n",
        "\n",
        "Para utilizar essas funções, é necessário criar uma window (janela) seguindo os passos abaixo:\n",
        "\n",
        "  > from pyspark.sql.window import Window\n",
        "\n",
        "  > w = Window.partitionBy({columns}).orderBy({columns}).rowsBetween({lower},{upper})\n",
        "\n",
        "* `partitionBy()`: agrupamento em que os cálculos serão realizados. Análogo ao `groupBy()`\n",
        "* `orderBy()`: algumas funções como `row_number()` e `lag()` dependem da ordenação das linhas do agrupamento.\n",
        "* `rowsBetween()`: esse método é utilizado para especificar janelas deslizantes A partir dele é possível definir um intervalo de linhas, relativas à linha atual, em que a função vai ser aplicada. Caso isso não seja especificado, as operações são realizadas em todo o grupo. Este método é muito util para construir **médias móveis**. Os objetos abaixo ajudam na construção desse intervalo:\n",
        "  * `Window.currentRow`: define a linha para qual o valor está sendo calculado como um dos limites de calculo\n",
        "  * `Window.unboundedPreceding`: define que não há limites para as linhas anteriores à liha para qual o valor está sendo calculado, isto é, a função irá considerar todas as linhas do grupo que já passaram. Deveser usado no primeiro argumento (start)\n",
        "  * `Window.unboundedFollowing`: define que não há limites para as linhas posteriores à linha para qual o valor está sendo calculado, isto é, a função irá considerar todas as linhas do grupo que ainda não passaram. Deve ser usado no segundo argumento (end).\n",
        "\n",
        "Depois disso, basta utilizar a função `over()` para indicar que aquela função deve ser realizada na janela. Exemplo:\n",
        "\n",
        "\n",
        " > df.withColumn('rn', f.row_number().over(w))\n",
        "\n"
      ],
      "metadata": {
        "id": "1KzF5LjRjaB4"
      }
    },
    {
      "cell_type": "code",
      "source": [
        "from pyspark.sql.window import Window"
      ],
      "metadata": {
        "id": "YVzt3eJQjZP7"
      },
      "execution_count": 10,
      "outputs": []
    },
    {
      "cell_type": "code",
      "source": [
        "name_list = [(101, 'abc', 24), (102, 'cde', 24), (103, 'efg', 22), (104, 'ghi', 21),\n",
        "                 (105, 'ijk', 20), (106, 'klm', 19), (107, 'mno', 18), (108, 'pqr', 18),\n",
        "                 (109, 'rst', 26), (110, 'tuv', 27), (111, 'pqr', 18), (112, 'rst', 28), (113, 'tuv', 29)]\n",
        "\n",
        "age_w = Window.partitionBy(\"age\")\n",
        "name_age_df = spark.createDataFrame(name_list, ['id', 'name', 'age'])\n",
        "\n",
        "name_age_count_df = name_age_df.withColumn(\"count\", f.count(\"id\").over(age_w)).orderBy(\"count\")\n",
        "name_age_count_df.show()"
      ],
      "metadata": {
        "colab": {
          "base_uri": "https://localhost:8080/"
        },
        "id": "EQFyfyqJb9C9",
        "outputId": "09a710d3-0fb8-4c2f-f5b2-9fc5c4e67caf"
      },
      "execution_count": 35,
      "outputs": [
        {
          "output_type": "stream",
          "name": "stdout",
          "text": [
            "+---+----+---+-----+\n",
            "| id|name|age|count|\n",
            "+---+----+---+-----+\n",
            "|109| rst| 26|    1|\n",
            "|104| ghi| 21|    1|\n",
            "|103| efg| 22|    1|\n",
            "|113| tuv| 29|    1|\n",
            "|110| tuv| 27|    1|\n",
            "|105| ijk| 20|    1|\n",
            "|112| rst| 28|    1|\n",
            "|106| klm| 19|    1|\n",
            "|101| abc| 24|    2|\n",
            "|102| cde| 24|    2|\n",
            "|107| mno| 18|    3|\n",
            "|108| pqr| 18|    3|\n",
            "|111| pqr| 18|    3|\n",
            "+---+----+---+-----+\n",
            "\n"
          ]
        }
      ]
    },
    {
      "cell_type": "code",
      "source": [
        "w = Window.partitionBy('sex')\n",
        "\n",
        "(\n",
        "    df_tips\n",
        "    .withColumn('avg_Tip_sex', f.avg(f.col('tip')).over(w)).orderBy('total_bill')\n",
        "    .show(10)\n",
        ")"
      ],
      "metadata": {
        "colab": {
          "base_uri": "https://localhost:8080/"
        },
        "id": "7vk8RGB0P0Fv",
        "outputId": "5a543e8c-c123-4530-f4fd-9ed6e550bfcf"
      },
      "execution_count": 47,
      "outputs": [
        {
          "output_type": "stream",
          "name": "stdout",
          "text": [
            "+----------+----+------+------+----+------+----+------------------+\n",
            "|total_bill| tip|   sex|smoker| day|  time|size|       avg_Tip_sex|\n",
            "+----------+----+------+------+----+------+----+------------------+\n",
            "|      3.07| 1.0|Female|   Yes| Sat|Dinner|   1| 2.833448275862069|\n",
            "|      5.75| 1.0|Female|   Yes| Fri|Dinner|   2| 2.833448275862069|\n",
            "|      7.25|5.15|  Male|   Yes| Sun|Dinner|   2|3.0896178343949052|\n",
            "|      7.25| 1.0|Female|    No| Sat|Dinner|   1| 2.833448275862069|\n",
            "|      7.51| 2.0|  Male|    No|Thur| Lunch|   2|3.0896178343949052|\n",
            "|      7.56|1.44|  Male|    No|Thur| Lunch|   2|3.0896178343949052|\n",
            "|      7.74|1.44|  Male|   Yes| Sat|Dinner|   2|3.0896178343949052|\n",
            "|      8.35| 1.5|Female|    No|Thur| Lunch|   2| 2.833448275862069|\n",
            "|      8.51|1.25|Female|    No|Thur| Lunch|   2| 2.833448275862069|\n",
            "|      8.52|1.48|  Male|    No|Thur| Lunch|   2|3.0896178343949052|\n",
            "+----------+----+------+------+----+------+----+------------------+\n",
            "only showing top 10 rows\n",
            "\n"
          ]
        }
      ]
    },
    {
      "cell_type": "code",
      "source": [
        "w = Window.partitionBy('sex').orderBy(f.desc('total_bill'))\n",
        "\n",
        "(\n",
        "    df_tips\n",
        "    .withColumn('rn', f.rank().over(w))\n",
        "    .orderBy(f.desc('tip'))\n",
        "    .show(10)\n",
        ")"
      ],
      "metadata": {
        "colab": {
          "base_uri": "https://localhost:8080/"
        },
        "id": "TRWHHYQWm9hO",
        "outputId": "1fb1fff1-f0d4-4d2d-e1e4-c4315beb6d8f"
      },
      "execution_count": 20,
      "outputs": [
        {
          "output_type": "stream",
          "name": "stdout",
          "text": [
            "+----------+----+------+------+----+------+----+---+\n",
            "|total_bill| tip|   sex|smoker| day|  time|size| rn|\n",
            "+----------+----+------+------+----+------+----+---+\n",
            "|     50.81|10.0|  Male|   Yes| Sat|Dinner|   3|  1|\n",
            "|     48.33| 9.0|  Male|    No| Sat|Dinner|   4|  2|\n",
            "|     39.42|7.58|  Male|    No| Sat|Dinner|   4|  9|\n",
            "|     48.27|6.73|  Male|    No| Sat|Dinner|   4|  3|\n",
            "|      34.3| 6.7|  Male|    No|Thur| Lunch|   6| 15|\n",
            "|     23.17| 6.5|  Male|   Yes| Sun|Dinner|   4| 49|\n",
            "|     28.17| 6.5|Female|   Yes| Sat|Dinner|   3| 10|\n",
            "|      32.4| 6.0|  Male|    No| Sun|Dinner|   4| 19|\n",
            "|     29.03|5.92|  Male|    No| Sat|Dinner|   3| 27|\n",
            "|     24.71|5.85|  Male|    No|Thur| Lunch|   2| 40|\n",
            "+----------+----+------+------+----+------+----+---+\n",
            "only showing top 10 rows\n",
            "\n"
          ]
        }
      ]
    },
    {
      "cell_type": "markdown",
      "source": [
        "#Joins\n",
        "\n",
        "Os joins são especificados pela função `join()`, da seguinte forma:\n",
        "\n",
        "> df1.join(df2, {key_columns}, {join_type})\n",
        "\n",
        "* `key_columns`: colunas que vão ser utilizadas para fazer a junção das tabelas. Pode ser especificada como:\n",
        "  * Um único string: caso em que só uma coluna é chave (mesmo nome nas duas tabelas)\n",
        "  * Uma lista de string ou de colunas (col()) - para caso em que mais de uma coluna são chave (mesmo nome nas duas tabelas)\n",
        "  * Com nomes diferentes, é necessário fazer uma especificação do tipo: `f.co(column1) == f.col(column2)`. Caso xistam mais de uma coluna como chave, as especificações devem ser colocadas em uma lista\n",
        "* `join_type`: referencia o tipo de join a ser realizado, sendo as opções:\n",
        "  * `inner (default)`\n",
        "  * `outer / full / fullouter`\n",
        "  * `left / leftouter / left_outer`\n",
        "  * `right / rightouter / right_outer`\n",
        "  * `semi / leftsemi / left_semi`: realiza um LEFT JOIN do SQL e retorna somente as colunas do DataFrame da esquerda que também estão no DataFrame da direita\n",
        "  *`anti /leftanti/ left_anti`: realiza um LEFT JOIN do SQL e retorna somente as colunas do DataFrame da esquerda que **não** estão no DataFrame da direita"
      ],
      "metadata": {
        "id": "tsVSQ5AhCeLm"
      }
    },
    {
      "cell_type": "markdown",
      "source": [
        "# Union\n",
        "\n",
        "Formas de unir DataFrames no pySpark:\n",
        "\n",
        "* `union() / unionAll()`: empilha os DataFrames, preservando linhas duplicadas. As colunas são unidas por posição, e por isso a ordem delas deve ser a mesma entre os dois DFs.\n",
        "* `unionByName()`: empilha os DFs, preservando linhas duplicadas. As colunas são unidas por nome e, portanto, não precisam estar ordenadas da mesma forma."
      ],
      "metadata": {
        "id": "ismoJsIVx3UJ"
      }
    },
    {
      "cell_type": "code",
      "source": [
        "# Divivindo o dataFrame em 2 partes iguais\n",
        "\n",
        "df1 = df.sample(fraction = 0.5)\n",
        "\n",
        "# Fazendo uma anti join para trazer só que não tem na primeira divisão do df\n",
        "df2 = df.join(df1, ['Id'], 'leftanti')"
      ],
      "metadata": {
        "id": "uiSSNrCpEZ0X"
      },
      "execution_count": 24,
      "outputs": []
    },
    {
      "cell_type": "code",
      "source": [
        "df.count()"
      ],
      "metadata": {
        "colab": {
          "base_uri": "https://localhost:8080/"
        },
        "id": "8gAC5TpVzKcK",
        "outputId": "0eb059ff-e1f1-43e9-9728-435fb2654247"
      },
      "execution_count": 25,
      "outputs": [
        {
          "output_type": "execute_result",
          "data": {
            "text/plain": [
              "148654"
            ]
          },
          "metadata": {},
          "execution_count": 25
        }
      ]
    },
    {
      "cell_type": "code",
      "source": [
        "df1.count()"
      ],
      "metadata": {
        "colab": {
          "base_uri": "https://localhost:8080/"
        },
        "id": "Wog0IM31zDsA",
        "outputId": "ada4b9b3-590d-4f9d-d201-45e3a856a1df"
      },
      "execution_count": 21,
      "outputs": [
        {
          "output_type": "execute_result",
          "data": {
            "text/plain": [
              "74261"
            ]
          },
          "metadata": {},
          "execution_count": 21
        }
      ]
    },
    {
      "cell_type": "code",
      "source": [
        "df2.count()"
      ],
      "metadata": {
        "colab": {
          "base_uri": "https://localhost:8080/"
        },
        "id": "0v8Vl5aQzEc_",
        "outputId": "265799e3-6b97-4612-962a-487073465628"
      },
      "execution_count": 22,
      "outputs": [
        {
          "output_type": "execute_result",
          "data": {
            "text/plain": [
              "74393"
            ]
          },
          "metadata": {},
          "execution_count": 22
        }
      ]
    },
    {
      "cell_type": "code",
      "source": [
        "df1.union(df2).count()"
      ],
      "metadata": {
        "colab": {
          "base_uri": "https://localhost:8080/"
        },
        "id": "5UuW5ZDOzFK8",
        "outputId": "00a1556e-e373-47da-9ed7-07013554675d"
      },
      "execution_count": 23,
      "outputs": [
        {
          "output_type": "execute_result",
          "data": {
            "text/plain": [
              "148654"
            ]
          },
          "metadata": {},
          "execution_count": 23
        }
      ]
    },
    {
      "cell_type": "markdown",
      "source": [
        "#User Defined Functions (UDFs)"
      ],
      "metadata": {
        "id": "CZqAcPqGzr9C"
      }
    },
    {
      "cell_type": "markdown",
      "source": [
        "Em alguns casos é necessário criar/alterar uma coluna utilizando uma operação não implementada na biblioteca padrão. Para esse tipo de situação é possível utilizar funções definidas pelo usuário (UDFs) por meio da função `udf()`.\n",
        "\n",
        "**obs:** as udfs não são otimizadas para execução paralela e podem representar um gargalo na aplicação."
      ],
      "metadata": {
        "id": "cWsNfH-50HH7"
      }
    },
    {
      "cell_type": "code",
      "source": [
        "!pip install unidecode"
      ],
      "metadata": {
        "id": "7vO3zDUx0r_g"
      },
      "execution_count": null,
      "outputs": []
    },
    {
      "cell_type": "code",
      "source": [
        "from unidecode import unidecode\n",
        "from pyspark.sql.types import StringType"
      ],
      "metadata": {
        "id": "jDRJhzce0ZJs"
      },
      "execution_count": 29,
      "outputs": []
    },
    {
      "cell_type": "code",
      "source": [
        "unidecode('àáãçéõü')"
      ],
      "metadata": {
        "colab": {
          "base_uri": "https://localhost:8080/",
          "height": 36
        },
        "id": "OiTFDRsW0eMz",
        "outputId": "6f22f0c2-b659-430f-eb71-b89f2ea12574"
      },
      "execution_count": 30,
      "outputs": [
        {
          "output_type": "execute_result",
          "data": {
            "text/plain": [
              "'aaaceou'"
            ],
            "application/vnd.google.colaboratory.intrinsic+json": {
              "type": "string"
            }
          },
          "metadata": {},
          "execution_count": 30
        }
      ]
    },
    {
      "cell_type": "code",
      "source": [
        "def unidecode_function(string):\n",
        "  if not string:\n",
        "    return None\n",
        "  else:\n",
        "    return unidecode(string)\n",
        "\n",
        "unidecode_udf = f.udf(unidecode_function, returnType=StringType())"
      ],
      "metadata": {
        "id": "sI3dKL1uzqAb"
      },
      "execution_count": 31,
      "outputs": []
    },
    {
      "cell_type": "code",
      "source": [
        ""
      ],
      "metadata": {
        "id": "a6Fu75Tq1kUR"
      },
      "execution_count": null,
      "outputs": []
    }
  ]
}