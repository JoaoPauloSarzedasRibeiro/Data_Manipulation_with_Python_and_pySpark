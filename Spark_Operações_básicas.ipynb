{
  "nbformat": 4,
  "nbformat_minor": 0,
  "metadata": {
    "colab": {
      "name": "Spark - Operações básicas.ipynb",
      "provenance": [],
      "collapsed_sections": [
        "96d8PdUHV7Vb"
      ],
      "authorship_tag": "ABX9TyOLKfUnDDJ06KyxaHiFbDg8",
      "include_colab_link": true
    },
    "kernelspec": {
      "name": "python3",
      "display_name": "Python 3"
    },
    "language_info": {
      "name": "python"
    }
  },
  "cells": [
    {
      "cell_type": "markdown",
      "metadata": {
        "id": "view-in-github",
        "colab_type": "text"
      },
      "source": [
        "<a href=\"https://colab.research.google.com/github/JoaoPauloSarzedasRibeiro/data_analysis_with_Python/blob/main/Spark_Opera%C3%A7%C3%B5es_b%C3%A1sicas.ipynb\" target=\"_parent\"><img src=\"https://colab.research.google.com/assets/colab-badge.svg\" alt=\"Open In Colab\"/></a>"
      ]
    },
    {
      "cell_type": "markdown",
      "source": [
        "#Instalando o PySpark no Google Colab"
      ],
      "metadata": {
        "id": "96d8PdUHV7Vb"
      }
    },
    {
      "cell_type": "code",
      "execution_count": 2,
      "metadata": {
        "id": "gKdl2riQUPz6"
      },
      "outputs": [],
      "source": [
        "# instalar as dependências necessárias para o Spark\n",
        "!apt-get install openjdk-8-jdk-headless -qq > /dev/null\n",
        "!wget -q https://archive.apache.org/dist/spark/spark-2.4.4/spark-2.4.4-bin-hadoop2.7.tgz\n",
        "!tar xf spark-2.4.4-bin-hadoop2.7.tgz\n",
        "!pip install -q findspark"
      ]
    },
    {
      "cell_type": "code",
      "source": [
        "# configurar as variáveis de ambiente\n",
        "import os\n",
        "os.environ[\"JAVA_HOME\"] = \"/usr/lib/jvm/java-8-openjdk-amd64\"\n",
        "os.environ[\"SPARK_HOME\"] = \"/content/spark-2.4.4-bin-hadoop2.7\"\n",
        "\n",
        "# tornar o pyspark \"importável\"\n",
        "import findspark\n",
        "findspark.init('spark-2.4.4-bin-hadoop2.7')"
      ],
      "metadata": {
        "id": "atfl6_lrU89P"
      },
      "execution_count": 3,
      "outputs": []
    },
    {
      "cell_type": "code",
      "source": [
        "# iniciar uma sessão local chamada spark\n",
        "from pyspark.sql import SparkSession\n",
        "spark = SparkSession.builder.master('local[*]').getOrCreate()"
      ],
      "metadata": {
        "id": "mehGHa_TU-Ey"
      },
      "execution_count": 4,
      "outputs": []
    },
    {
      "cell_type": "code",
      "source": [
        "# Importanto a biblioteca de funções\n",
        "from pyspark.sql.functions import *"
      ],
      "metadata": {
        "id": "c_GiEG81ncWt"
      },
      "execution_count": 5,
      "outputs": []
    },
    {
      "cell_type": "markdown",
      "source": [
        "#Leitura dos dados e criação de um DataFrame"
      ],
      "metadata": {
        "id": "ubnsnZ8XnuKX"
      }
    },
    {
      "cell_type": "code",
      "source": [
        "#Adicionando o arquivo CSV hospedado no GitHub para que o Spark consiga acessa-lo\n",
        "url = 'https://raw.githubusercontent.com/JoaoPauloSarzedasRibeiro/data_analysis_with_Python/main/data/Salaries.csv'\n",
        "from pyspark import SparkFiles\n",
        "spark.sparkContext.addFile(url)"
      ],
      "metadata": {
        "id": "aj3hPdoMn0h5"
      },
      "execution_count": 6,
      "outputs": []
    },
    {
      "cell_type": "code",
      "source": [
        "#Lendo os dados em CSV\n",
        "df_csv = (\n",
        "    spark\n",
        "    .read\n",
        "    .format('csv')\n",
        "    .options(header=True, inferSchema=True,sep=',',encoding='latin1')\n",
        "    .load(SparkFiles.get('Salaries.csv'))\n",
        "    )"
      ],
      "metadata": {
        "id": "LtFkNhkvoLB3"
      },
      "execution_count": 12,
      "outputs": []
    },
    {
      "cell_type": "code",
      "source": [
        "#Salvando os dados no formato parquet para manipulação com Spark\n",
        "df_csv.write.format('parquet').mode('overwrite').save('df')"
      ],
      "metadata": {
        "id": "-cXpw0RVqO_F"
      },
      "execution_count": 13,
      "outputs": []
    },
    {
      "cell_type": "code",
      "source": [
        "#Criando um novo DataFrame com os dados já no formato Parquet\n",
        "df = spark.read.format('parquet').load('df')"
      ],
      "metadata": {
        "id": "aT56mHCFqR4N"
      },
      "execution_count": 14,
      "outputs": []
    },
    {
      "cell_type": "markdown",
      "source": [
        "#Colunas e Expressões"
      ],
      "metadata": {
        "id": "wwSn7n1joXK4"
      }
    },
    {
      "cell_type": "code",
      "source": [
        "#Verificando o Schema do DataFrame\n",
        "df.printSchema()"
      ],
      "metadata": {
        "colab": {
          "base_uri": "https://localhost:8080/"
        },
        "id": "PbUlYfHmoY6n",
        "outputId": "1dfe2d43-d4e1-4bb5-e710-c578a190158a"
      },
      "execution_count": 17,
      "outputs": [
        {
          "output_type": "stream",
          "name": "stdout",
          "text": [
            "root\n",
            " |-- Id: integer (nullable = true)\n",
            " |-- EmployeeName: string (nullable = true)\n",
            " |-- JobTitle: string (nullable = true)\n",
            " |-- BasePay: double (nullable = true)\n",
            " |-- OvertimePay: double (nullable = true)\n",
            " |-- OtherPay: double (nullable = true)\n",
            " |-- Benefits: double (nullable = true)\n",
            " |-- TotalPay: double (nullable = true)\n",
            " |-- TotalPayBenefits: double (nullable = true)\n",
            " |-- Year: integer (nullable = true)\n",
            " |-- Notes: string (nullable = true)\n",
            " |-- Agency: string (nullable = true)\n",
            " |-- Status: double (nullable = true)\n",
            "\n"
          ]
        }
      ]
    },
    {
      "cell_type": "code",
      "source": [
        "#Criando uma coluna a partir de outra\n",
        "(\n",
        "    df.select('EmployeeName','JobTitle','BasePay','TotalPay', )\n",
        "    .withColumn(\"BasePay_day\", round(col('BasePay')/365,2))\n",
        "    .show(5)\n",
        ")"
      ],
      "metadata": {
        "colab": {
          "base_uri": "https://localhost:8080/"
        },
        "id": "Hf_xyZdhrJpG",
        "outputId": "a6d50c20-fea1-4dd8-8760-84cb08d8eb4d"
      },
      "execution_count": 20,
      "outputs": [
        {
          "output_type": "stream",
          "name": "stdout",
          "text": [
            "+-----------------+--------------------+---------+---------+-----------+\n",
            "|     EmployeeName|            JobTitle|  BasePay| TotalPay|BasePay_day|\n",
            "+-----------------+--------------------+---------+---------+-----------+\n",
            "|   NATHANIEL FORD|GENERAL MANAGER-M...|167411.18|567595.43|     458.66|\n",
            "|     GARY JIMENEZ|CAPTAIN III (POLI...|155966.02|538909.28|      427.3|\n",
            "|   ALBERT PARDINI|CAPTAIN III (POLI...|212739.13|335279.91|     582.85|\n",
            "|CHRISTOPHER CHONG|WIRE ROPE CABLE M...|  77916.0|332343.61|     213.47|\n",
            "|  PATRICK GARDNER|DEPUTY CHIEF OF D...| 134401.6|326373.19|     368.22|\n",
            "+-----------------+--------------------+---------+---------+-----------+\n",
            "only showing top 5 rows\n",
            "\n"
          ]
        }
      ]
    },
    {
      "cell_type": "markdown",
      "source": [
        "**Forma \"pandas\" de selecionar colunas:**\n",
        "\n",
        "\n",
        "\n",
        "1.   df['coluna']\n",
        "2.   df.coluna\n",
        "\n",
        "Não é a melhor opção para processamento contínuo, pois é necessário salvar um novo DataFrame caso seja necessário realizar duas operações com o df['coluna'] no mesmo bloco.\n"
      ],
      "metadata": {
        "id": "JIl7Q3vhsz2T"
      }
    },
    {
      "cell_type": "code",
      "source": [
        "#Recriando o passo anterior utilizando o modo 'pandas' de selecinar a coluna\n",
        "(\n",
        "    df.select('EmployeeName','JobTitle','BasePay','TotalPay', )\n",
        "    .withColumn(\"BasePay_day\", round(df['BasePay']/365,2))\n",
        "    .show(5)\n",
        ")"
      ],
      "metadata": {
        "colab": {
          "base_uri": "https://localhost:8080/"
        },
        "id": "LlV4IiZttP9t",
        "outputId": "49730804-2445-4902-e8e0-4cee2ba6f595"
      },
      "execution_count": 21,
      "outputs": [
        {
          "output_type": "stream",
          "name": "stdout",
          "text": [
            "+-----------------+--------------------+---------+---------+-----------+\n",
            "|     EmployeeName|            JobTitle|  BasePay| TotalPay|BasePay_day|\n",
            "+-----------------+--------------------+---------+---------+-----------+\n",
            "|   NATHANIEL FORD|GENERAL MANAGER-M...|167411.18|567595.43|     458.66|\n",
            "|     GARY JIMENEZ|CAPTAIN III (POLI...|155966.02|538909.28|      427.3|\n",
            "|   ALBERT PARDINI|CAPTAIN III (POLI...|212739.13|335279.91|     582.85|\n",
            "|CHRISTOPHER CHONG|WIRE ROPE CABLE M...|  77916.0|332343.61|     213.47|\n",
            "|  PATRICK GARDNER|DEPUTY CHIEF OF D...| 134401.6|326373.19|     368.22|\n",
            "+-----------------+--------------------+---------+---------+-----------+\n",
            "only showing top 5 rows\n",
            "\n"
          ]
        }
      ]
    },
    {
      "cell_type": "code",
      "source": [
        "#A estrutura abaixo apresenta um erro, pois a coluna criada em tempo de execução não será reconhecida. Seria reconhecida somente se salvassemos um nodo DataFrame com a coluna criada em tempo de execução.\n",
        "(\n",
        "    df.select('EmployeeName','JobTitle','BasePay','TotalPay', )\n",
        "    .withColumn(\"BasePay_day\", round(df['BasePay']/365,2))\n",
        "    .withColumn(\"BasePay_day_plus2\", df['BasePay_day']+2)\n",
        "    .show(5)\n",
        ")"
      ],
      "metadata": {
        "colab": {
          "base_uri": "https://localhost:8080/",
          "height": 970
        },
        "id": "Pr3oAh9vtQAU",
        "outputId": "ce203b2d-63ed-4978-e67c-f0b8aabf93d6"
      },
      "execution_count": 23,
      "outputs": [
        {
          "output_type": "error",
          "ename": "AnalysisException",
          "evalue": "ignored",
          "traceback": [
            "\u001b[0;31m---------------------------------------------------------------------------\u001b[0m",
            "\u001b[0;31mPy4JJavaError\u001b[0m                             Traceback (most recent call last)",
            "\u001b[0;32m/content/spark-2.4.4-bin-hadoop2.7/python/pyspark/sql/utils.py\u001b[0m in \u001b[0;36mdeco\u001b[0;34m(*a, **kw)\u001b[0m\n\u001b[1;32m     62\u001b[0m         \u001b[0;32mtry\u001b[0m\u001b[0;34m:\u001b[0m\u001b[0;34m\u001b[0m\u001b[0;34m\u001b[0m\u001b[0m\n\u001b[0;32m---> 63\u001b[0;31m             \u001b[0;32mreturn\u001b[0m \u001b[0mf\u001b[0m\u001b[0;34m(\u001b[0m\u001b[0;34m*\u001b[0m\u001b[0ma\u001b[0m\u001b[0;34m,\u001b[0m \u001b[0;34m**\u001b[0m\u001b[0mkw\u001b[0m\u001b[0;34m)\u001b[0m\u001b[0;34m\u001b[0m\u001b[0;34m\u001b[0m\u001b[0m\n\u001b[0m\u001b[1;32m     64\u001b[0m         \u001b[0;32mexcept\u001b[0m \u001b[0mpy4j\u001b[0m\u001b[0;34m.\u001b[0m\u001b[0mprotocol\u001b[0m\u001b[0;34m.\u001b[0m\u001b[0mPy4JJavaError\u001b[0m \u001b[0;32mas\u001b[0m \u001b[0me\u001b[0m\u001b[0;34m:\u001b[0m\u001b[0;34m\u001b[0m\u001b[0;34m\u001b[0m\u001b[0m\n",
            "\u001b[0;32mspark-2.4.4-bin-hadoop2.7/python/lib/py4j-0.10.7-src.zip/py4j/protocol.py\u001b[0m in \u001b[0;36mget_return_value\u001b[0;34m(answer, gateway_client, target_id, name)\u001b[0m\n\u001b[1;32m    327\u001b[0m                     \u001b[0;34m\"An error occurred while calling {0}{1}{2}.\\n\"\u001b[0m\u001b[0;34m.\u001b[0m\u001b[0;34m\u001b[0m\u001b[0;34m\u001b[0m\u001b[0m\n\u001b[0;32m--> 328\u001b[0;31m                     format(target_id, \".\", name), value)\n\u001b[0m\u001b[1;32m    329\u001b[0m             \u001b[0;32melse\u001b[0m\u001b[0;34m:\u001b[0m\u001b[0;34m\u001b[0m\u001b[0;34m\u001b[0m\u001b[0m\n",
            "\u001b[0;31mPy4JJavaError\u001b[0m: An error occurred while calling o145.apply.\n: org.apache.spark.sql.AnalysisException: Cannot resolve column name \"BasePay_day\" among (Id, EmployeeName, JobTitle, BasePay, OvertimePay, OtherPay, Benefits, TotalPay, TotalPayBenefits, Year, Notes, Agency, Status);\n\tat org.apache.spark.sql.Dataset$$anonfun$resolve$1.apply(Dataset.scala:223)\n\tat org.apache.spark.sql.Dataset$$anonfun$resolve$1.apply(Dataset.scala:223)\n\tat scala.Option.getOrElse(Option.scala:121)\n\tat org.apache.spark.sql.Dataset.resolve(Dataset.scala:222)\n\tat org.apache.spark.sql.Dataset.col(Dataset.scala:1274)\n\tat org.apache.spark.sql.Dataset.apply(Dataset.scala:1241)\n\tat sun.reflect.NativeMethodAccessorImpl.invoke0(Native Method)\n\tat sun.reflect.NativeMethodAccessorImpl.invoke(NativeMethodAccessorImpl.java:62)\n\tat sun.reflect.DelegatingMethodAccessorImpl.invoke(DelegatingMethodAccessorImpl.java:43)\n\tat java.lang.reflect.Method.invoke(Method.java:498)\n\tat py4j.reflection.MethodInvoker.invoke(MethodInvoker.java:244)\n\tat py4j.reflection.ReflectionEngine.invoke(ReflectionEngine.java:357)\n\tat py4j.Gateway.invoke(Gateway.java:282)\n\tat py4j.commands.AbstractCommand.invokeMethod(AbstractCommand.java:132)\n\tat py4j.commands.CallCommand.execute(CallCommand.java:79)\n\tat py4j.GatewayConnection.run(GatewayConnection.java:238)\n\tat java.lang.Thread.run(Thread.java:748)\n",
            "\nDuring handling of the above exception, another exception occurred:\n",
            "\u001b[0;31mAnalysisException\u001b[0m                         Traceback (most recent call last)",
            "\u001b[0;32m<ipython-input-23-bd3498f68f78>\u001b[0m in \u001b[0;36m<module>\u001b[0;34m()\u001b[0m\n\u001b[1;32m      3\u001b[0m     \u001b[0mdf\u001b[0m\u001b[0;34m.\u001b[0m\u001b[0mselect\u001b[0m\u001b[0;34m(\u001b[0m\u001b[0;34m'EmployeeName'\u001b[0m\u001b[0;34m,\u001b[0m\u001b[0;34m'JobTitle'\u001b[0m\u001b[0;34m,\u001b[0m\u001b[0;34m'BasePay'\u001b[0m\u001b[0;34m,\u001b[0m\u001b[0;34m'TotalPay'\u001b[0m\u001b[0;34m,\u001b[0m \u001b[0;34m)\u001b[0m\u001b[0;34m\u001b[0m\u001b[0;34m\u001b[0m\u001b[0m\n\u001b[1;32m      4\u001b[0m     \u001b[0;34m.\u001b[0m\u001b[0mwithColumn\u001b[0m\u001b[0;34m(\u001b[0m\u001b[0;34m\"BasePay_day\"\u001b[0m\u001b[0;34m,\u001b[0m \u001b[0mround\u001b[0m\u001b[0;34m(\u001b[0m\u001b[0mdf\u001b[0m\u001b[0;34m[\u001b[0m\u001b[0;34m'BasePay'\u001b[0m\u001b[0;34m]\u001b[0m\u001b[0;34m/\u001b[0m\u001b[0;36m365\u001b[0m\u001b[0;34m,\u001b[0m\u001b[0;36m2\u001b[0m\u001b[0;34m)\u001b[0m\u001b[0;34m)\u001b[0m\u001b[0;34m\u001b[0m\u001b[0;34m\u001b[0m\u001b[0m\n\u001b[0;32m----> 5\u001b[0;31m     \u001b[0;34m.\u001b[0m\u001b[0mwithColumn\u001b[0m\u001b[0;34m(\u001b[0m\u001b[0;34m\"BasePay_day_plus2\"\u001b[0m\u001b[0;34m,\u001b[0m \u001b[0mdf\u001b[0m\u001b[0;34m[\u001b[0m\u001b[0;34m'BasePay_day'\u001b[0m\u001b[0;34m]\u001b[0m\u001b[0;34m+\u001b[0m\u001b[0;36m2\u001b[0m\u001b[0;34m)\u001b[0m\u001b[0;34m\u001b[0m\u001b[0;34m\u001b[0m\u001b[0m\n\u001b[0m\u001b[1;32m      6\u001b[0m     \u001b[0;34m.\u001b[0m\u001b[0mshow\u001b[0m\u001b[0;34m(\u001b[0m\u001b[0;36m5\u001b[0m\u001b[0;34m)\u001b[0m\u001b[0;34m\u001b[0m\u001b[0;34m\u001b[0m\u001b[0m\n\u001b[1;32m      7\u001b[0m )\n",
            "\u001b[0;32m/content/spark-2.4.4-bin-hadoop2.7/python/pyspark/sql/dataframe.py\u001b[0m in \u001b[0;36m__getitem__\u001b[0;34m(self, item)\u001b[0m\n\u001b[1;32m   1278\u001b[0m         \"\"\"\n\u001b[1;32m   1279\u001b[0m         \u001b[0;32mif\u001b[0m \u001b[0misinstance\u001b[0m\u001b[0;34m(\u001b[0m\u001b[0mitem\u001b[0m\u001b[0;34m,\u001b[0m \u001b[0mbasestring\u001b[0m\u001b[0;34m)\u001b[0m\u001b[0;34m:\u001b[0m\u001b[0;34m\u001b[0m\u001b[0;34m\u001b[0m\u001b[0m\n\u001b[0;32m-> 1280\u001b[0;31m             \u001b[0mjc\u001b[0m \u001b[0;34m=\u001b[0m \u001b[0mself\u001b[0m\u001b[0;34m.\u001b[0m\u001b[0m_jdf\u001b[0m\u001b[0;34m.\u001b[0m\u001b[0mapply\u001b[0m\u001b[0;34m(\u001b[0m\u001b[0mitem\u001b[0m\u001b[0;34m)\u001b[0m\u001b[0;34m\u001b[0m\u001b[0;34m\u001b[0m\u001b[0m\n\u001b[0m\u001b[1;32m   1281\u001b[0m             \u001b[0;32mreturn\u001b[0m \u001b[0mColumn\u001b[0m\u001b[0;34m(\u001b[0m\u001b[0mjc\u001b[0m\u001b[0;34m)\u001b[0m\u001b[0;34m\u001b[0m\u001b[0;34m\u001b[0m\u001b[0m\n\u001b[1;32m   1282\u001b[0m         \u001b[0;32melif\u001b[0m \u001b[0misinstance\u001b[0m\u001b[0;34m(\u001b[0m\u001b[0mitem\u001b[0m\u001b[0;34m,\u001b[0m \u001b[0mColumn\u001b[0m\u001b[0;34m)\u001b[0m\u001b[0;34m:\u001b[0m\u001b[0;34m\u001b[0m\u001b[0;34m\u001b[0m\u001b[0m\n",
            "\u001b[0;32mspark-2.4.4-bin-hadoop2.7/python/lib/py4j-0.10.7-src.zip/py4j/java_gateway.py\u001b[0m in \u001b[0;36m__call__\u001b[0;34m(self, *args)\u001b[0m\n\u001b[1;32m   1255\u001b[0m         \u001b[0manswer\u001b[0m \u001b[0;34m=\u001b[0m \u001b[0mself\u001b[0m\u001b[0;34m.\u001b[0m\u001b[0mgateway_client\u001b[0m\u001b[0;34m.\u001b[0m\u001b[0msend_command\u001b[0m\u001b[0;34m(\u001b[0m\u001b[0mcommand\u001b[0m\u001b[0;34m)\u001b[0m\u001b[0;34m\u001b[0m\u001b[0;34m\u001b[0m\u001b[0m\n\u001b[1;32m   1256\u001b[0m         return_value = get_return_value(\n\u001b[0;32m-> 1257\u001b[0;31m             answer, self.gateway_client, self.target_id, self.name)\n\u001b[0m\u001b[1;32m   1258\u001b[0m \u001b[0;34m\u001b[0m\u001b[0m\n\u001b[1;32m   1259\u001b[0m         \u001b[0;32mfor\u001b[0m \u001b[0mtemp_arg\u001b[0m \u001b[0;32min\u001b[0m \u001b[0mtemp_args\u001b[0m\u001b[0;34m:\u001b[0m\u001b[0;34m\u001b[0m\u001b[0;34m\u001b[0m\u001b[0m\n",
            "\u001b[0;32m/content/spark-2.4.4-bin-hadoop2.7/python/pyspark/sql/utils.py\u001b[0m in \u001b[0;36mdeco\u001b[0;34m(*a, **kw)\u001b[0m\n\u001b[1;32m     67\u001b[0m                                              e.java_exception.getStackTrace()))\n\u001b[1;32m     68\u001b[0m             \u001b[0;32mif\u001b[0m \u001b[0ms\u001b[0m\u001b[0;34m.\u001b[0m\u001b[0mstartswith\u001b[0m\u001b[0;34m(\u001b[0m\u001b[0;34m'org.apache.spark.sql.AnalysisException: '\u001b[0m\u001b[0;34m)\u001b[0m\u001b[0;34m:\u001b[0m\u001b[0;34m\u001b[0m\u001b[0;34m\u001b[0m\u001b[0m\n\u001b[0;32m---> 69\u001b[0;31m                 \u001b[0;32mraise\u001b[0m \u001b[0mAnalysisException\u001b[0m\u001b[0;34m(\u001b[0m\u001b[0ms\u001b[0m\u001b[0;34m.\u001b[0m\u001b[0msplit\u001b[0m\u001b[0;34m(\u001b[0m\u001b[0;34m': '\u001b[0m\u001b[0;34m,\u001b[0m \u001b[0;36m1\u001b[0m\u001b[0;34m)\u001b[0m\u001b[0;34m[\u001b[0m\u001b[0;36m1\u001b[0m\u001b[0;34m]\u001b[0m\u001b[0;34m,\u001b[0m \u001b[0mstackTrace\u001b[0m\u001b[0;34m)\u001b[0m\u001b[0;34m\u001b[0m\u001b[0;34m\u001b[0m\u001b[0m\n\u001b[0m\u001b[1;32m     70\u001b[0m             \u001b[0;32mif\u001b[0m \u001b[0ms\u001b[0m\u001b[0;34m.\u001b[0m\u001b[0mstartswith\u001b[0m\u001b[0;34m(\u001b[0m\u001b[0;34m'org.apache.spark.sql.catalyst.analysis'\u001b[0m\u001b[0;34m)\u001b[0m\u001b[0;34m:\u001b[0m\u001b[0;34m\u001b[0m\u001b[0;34m\u001b[0m\u001b[0m\n\u001b[1;32m     71\u001b[0m                 \u001b[0;32mraise\u001b[0m \u001b[0mAnalysisException\u001b[0m\u001b[0;34m(\u001b[0m\u001b[0ms\u001b[0m\u001b[0;34m.\u001b[0m\u001b[0msplit\u001b[0m\u001b[0;34m(\u001b[0m\u001b[0;34m': '\u001b[0m\u001b[0;34m,\u001b[0m \u001b[0;36m1\u001b[0m\u001b[0;34m)\u001b[0m\u001b[0;34m[\u001b[0m\u001b[0;36m1\u001b[0m\u001b[0;34m]\u001b[0m\u001b[0;34m,\u001b[0m \u001b[0mstackTrace\u001b[0m\u001b[0;34m)\u001b[0m\u001b[0;34m\u001b[0m\u001b[0;34m\u001b[0m\u001b[0m\n",
            "\u001b[0;31mAnalysisException\u001b[0m: 'Cannot resolve column name \"BasePay_day\" among (Id, EmployeeName, JobTitle, BasePay, OvertimePay, OtherPay, Benefits, TotalPay, TotalPayBenefits, Year, Notes, Agency, Status);'"
          ]
        }
      ]
    },
    {
      "cell_type": "code",
      "source": [
        "#Recriando o passo anterior utilizando o modo 'col'. Desta vez não ocorre o erro.\n",
        "(\n",
        "    df.select('EmployeeName','JobTitle','BasePay','TotalPay', )\n",
        "    .withColumn(\"BasePay_day\", round(col('BasePay')/365,2))\n",
        "    .withColumn(\"BasePay_day_plus2\", col('BasePay_day')+2)\n",
        "    .show(5)\n",
        ")"
      ],
      "metadata": {
        "colab": {
          "base_uri": "https://localhost:8080/"
        },
        "id": "Bn1B65qEuYBr",
        "outputId": "7a29e148-f524-47b0-935f-d4c6ff7343da"
      },
      "execution_count": 25,
      "outputs": [
        {
          "output_type": "stream",
          "name": "stdout",
          "text": [
            "+-----------------+--------------------+---------+---------+-----------+-----------------+\n",
            "|     EmployeeName|            JobTitle|  BasePay| TotalPay|BasePay_day|BasePay_day_plus2|\n",
            "+-----------------+--------------------+---------+---------+-----------+-----------------+\n",
            "|   NATHANIEL FORD|GENERAL MANAGER-M...|167411.18|567595.43|     458.66|           460.66|\n",
            "|     GARY JIMENEZ|CAPTAIN III (POLI...|155966.02|538909.28|      427.3|            429.3|\n",
            "|   ALBERT PARDINI|CAPTAIN III (POLI...|212739.13|335279.91|     582.85|           584.85|\n",
            "|CHRISTOPHER CHONG|WIRE ROPE CABLE M...|  77916.0|332343.61|     213.47|           215.47|\n",
            "|  PATRICK GARDNER|DEPUTY CHIEF OF D...| 134401.6|326373.19|     368.22|           370.22|\n",
            "+-----------------+--------------------+---------+---------+-----------+-----------------+\n",
            "only showing top 5 rows\n",
            "\n"
          ]
        }
      ]
    },
    {
      "cell_type": "markdown",
      "source": [
        "**Expressões**\n",
        "\n",
        "Fica a critério do programador utilizar a sintaxe anteriormente exposta ou a de expressões. O spark converte a sintaxe de colunas para expressão e elas acabam sendo equivalentes."
      ],
      "metadata": {
        "id": "9xm_cPMIuSHa"
      }
    },
    {
      "cell_type": "code",
      "source": [
        "#Convertendo a expressão realizada anteriormente com sintaxe de colunas para a sintaxe de expressão\n",
        "(\n",
        "    df.select('EmployeeName','JobTitle','BasePay','TotalPay', )\n",
        "    .withColumn(\"BasePay_day\", expr('round(BasePay/365,2)'))\n",
        "    .show(5)\n",
        ")"
      ],
      "metadata": {
        "colab": {
          "base_uri": "https://localhost:8080/"
        },
        "id": "t5b4M-CouQOk",
        "outputId": "98164494-0ca4-45b1-9c45-97894f3415c6"
      },
      "execution_count": 26,
      "outputs": [
        {
          "output_type": "stream",
          "name": "stdout",
          "text": [
            "+-----------------+--------------------+---------+---------+-----------+\n",
            "|     EmployeeName|            JobTitle|  BasePay| TotalPay|BasePay_day|\n",
            "+-----------------+--------------------+---------+---------+-----------+\n",
            "|   NATHANIEL FORD|GENERAL MANAGER-M...|167411.18|567595.43|     458.66|\n",
            "|     GARY JIMENEZ|CAPTAIN III (POLI...|155966.02|538909.28|      427.3|\n",
            "|   ALBERT PARDINI|CAPTAIN III (POLI...|212739.13|335279.91|     582.85|\n",
            "|CHRISTOPHER CHONG|WIRE ROPE CABLE M...|  77916.0|332343.61|     213.47|\n",
            "|  PATRICK GARDNER|DEPUTY CHIEF OF D...| 134401.6|326373.19|     368.22|\n",
            "+-----------------+--------------------+---------+---------+-----------+\n",
            "only showing top 5 rows\n",
            "\n"
          ]
        }
      ]
    },
    {
      "cell_type": "markdown",
      "source": [
        "#Seleção de Colunas e Filtragem de Linhas"
      ],
      "metadata": {
        "id": "Gqo8iZeUwGhg"
      }
    },
    {
      "cell_type": "code",
      "source": [
        "#Analisando quais colunas existem no DataFrame\n",
        "df.columns"
      ],
      "metadata": {
        "colab": {
          "base_uri": "https://localhost:8080/"
        },
        "id": "sz6YRwvTwUlS",
        "outputId": "470834e6-aa18-411a-f192-8a2a00242f70"
      },
      "execution_count": 31,
      "outputs": [
        {
          "output_type": "execute_result",
          "data": {
            "text/plain": [
              "['Id',\n",
              " 'EmployeeName',\n",
              " 'JobTitle',\n",
              " 'BasePay',\n",
              " 'OvertimePay',\n",
              " 'OtherPay',\n",
              " 'Benefits',\n",
              " 'TotalPay',\n",
              " 'TotalPayBenefits',\n",
              " 'Year',\n",
              " 'Notes',\n",
              " 'Agency',\n",
              " 'Status']"
            ]
          },
          "metadata": {},
          "execution_count": 31
        }
      ]
    },
    {
      "cell_type": "code",
      "source": [
        "#Seleção simples de colunas, utilizando o método select e o nome das colunas\n",
        "df.select('EmployeeName','JobTitle','BasePay','TotalPay').show(5)"
      ],
      "metadata": {
        "colab": {
          "base_uri": "https://localhost:8080/"
        },
        "id": "kqcXlEEOvpO2",
        "outputId": "e2795f9b-b016-4d98-aae3-ef1a2de1039a"
      },
      "execution_count": 30,
      "outputs": [
        {
          "output_type": "stream",
          "name": "stdout",
          "text": [
            "+-----------------+--------------------+---------+---------+\n",
            "|     EmployeeName|            JobTitle|  BasePay| TotalPay|\n",
            "+-----------------+--------------------+---------+---------+\n",
            "|   NATHANIEL FORD|GENERAL MANAGER-M...|167411.18|567595.43|\n",
            "|     GARY JIMENEZ|CAPTAIN III (POLI...|155966.02|538909.28|\n",
            "|   ALBERT PARDINI|CAPTAIN III (POLI...|212739.13|335279.91|\n",
            "|CHRISTOPHER CHONG|WIRE ROPE CABLE M...|  77916.0|332343.61|\n",
            "|  PATRICK GARDNER|DEPUTY CHIEF OF D...| 134401.6|326373.19|\n",
            "+-----------------+--------------------+---------+---------+\n",
            "only showing top 5 rows\n",
            "\n"
          ]
        }
      ]
    },
    {
      "cell_type": "code",
      "source": [
        "#Seleção utilizando a lista de colunas que o nome tenham a string 'Pay'\n",
        "select_cols = [c for c in df.columns if c.find('Pay') != -1]\n",
        "\n",
        "df.select(select_cols).show(5)"
      ],
      "metadata": {
        "colab": {
          "base_uri": "https://localhost:8080/"
        },
        "id": "XO2oTnvowLnG",
        "outputId": "a01aae47-109a-40e2-a08c-fb41d5dd18d4"
      },
      "execution_count": 36,
      "outputs": [
        {
          "output_type": "stream",
          "name": "stdout",
          "text": [
            "+---------+-----------+---------+---------+----------------+\n",
            "|  BasePay|OvertimePay| OtherPay| TotalPay|TotalPayBenefits|\n",
            "+---------+-----------+---------+---------+----------------+\n",
            "|167411.18|        0.0|400184.25|567595.43|       567595.43|\n",
            "|155966.02|  245131.88|137811.38|538909.28|       538909.28|\n",
            "|212739.13|  106088.18|  16452.6|335279.91|       335279.91|\n",
            "|  77916.0|   56120.71| 198306.9|332343.61|       332343.61|\n",
            "| 134401.6|     9737.0|182234.59|326373.19|       326373.19|\n",
            "+---------+-----------+---------+---------+----------------+\n",
            "only showing top 5 rows\n",
            "\n"
          ]
        }
      ]
    },
    {
      "cell_type": "code",
      "source": [
        "# Mesclando as duas formas de selelecionar colunas\n",
        "# Destacando que o '*' ao lado do select_cols indica que este objeto deve ser considerado um argumento posicional\n",
        "df.select('EmployeeName', *select_cols).show(5)"
      ],
      "metadata": {
        "colab": {
          "base_uri": "https://localhost:8080/"
        },
        "id": "ICzg1TACwtiS",
        "outputId": "4be7f761-eff6-4f69-9493-25f215b6a28b"
      },
      "execution_count": 37,
      "outputs": [
        {
          "output_type": "stream",
          "name": "stdout",
          "text": [
            "+-----------------+---------+-----------+---------+---------+----------------+\n",
            "|     EmployeeName|  BasePay|OvertimePay| OtherPay| TotalPay|TotalPayBenefits|\n",
            "+-----------------+---------+-----------+---------+---------+----------------+\n",
            "|   NATHANIEL FORD|167411.18|        0.0|400184.25|567595.43|       567595.43|\n",
            "|     GARY JIMENEZ|155966.02|  245131.88|137811.38|538909.28|       538909.28|\n",
            "|   ALBERT PARDINI|212739.13|  106088.18|  16452.6|335279.91|       335279.91|\n",
            "|CHRISTOPHER CHONG|  77916.0|   56120.71| 198306.9|332343.61|       332343.61|\n",
            "|  PATRICK GARDNER| 134401.6|     9737.0|182234.59|326373.19|       326373.19|\n",
            "+-----------------+---------+-----------+---------+---------+----------------+\n",
            "only showing top 5 rows\n",
            "\n"
          ]
        }
      ]
    },
    {
      "cell_type": "code",
      "source": [
        "# Selecionando todas as colunas de uma vez utilizando o *\n",
        "\n",
        "df.select('*').show(5)"
      ],
      "metadata": {
        "colab": {
          "base_uri": "https://localhost:8080/"
        },
        "id": "SVbl35SxxWb8",
        "outputId": "7745b6ac-2c1a-484a-a732-ae7e71110915"
      },
      "execution_count": 39,
      "outputs": [
        {
          "output_type": "stream",
          "name": "stdout",
          "text": [
            "+---+-----------------+--------------------+---------+-----------+---------+--------+---------+----------------+----+-----+-------------+------+\n",
            "| Id|     EmployeeName|            JobTitle|  BasePay|OvertimePay| OtherPay|Benefits| TotalPay|TotalPayBenefits|Year|Notes|       Agency|Status|\n",
            "+---+-----------------+--------------------+---------+-----------+---------+--------+---------+----------------+----+-----+-------------+------+\n",
            "|  1|   NATHANIEL FORD|GENERAL MANAGER-M...|167411.18|        0.0|400184.25|    null|567595.43|       567595.43|2011| null|San Francisco|  null|\n",
            "|  2|     GARY JIMENEZ|CAPTAIN III (POLI...|155966.02|  245131.88|137811.38|    null|538909.28|       538909.28|2011| null|San Francisco|  null|\n",
            "|  3|   ALBERT PARDINI|CAPTAIN III (POLI...|212739.13|  106088.18|  16452.6|    null|335279.91|       335279.91|2011| null|San Francisco|  null|\n",
            "|  4|CHRISTOPHER CHONG|WIRE ROPE CABLE M...|  77916.0|   56120.71| 198306.9|    null|332343.61|       332343.61|2011| null|San Francisco|  null|\n",
            "|  5|  PATRICK GARDNER|DEPUTY CHIEF OF D...| 134401.6|     9737.0|182234.59|    null|326373.19|       326373.19|2011| null|San Francisco|  null|\n",
            "+---+-----------------+--------------------+---------+-----------+---------+--------+---------+----------------+----+-----+-------------+------+\n",
            "only showing top 5 rows\n",
            "\n"
          ]
        }
      ]
    },
    {
      "cell_type": "markdown",
      "source": [
        "**Realizando operações dentro do Select**"
      ],
      "metadata": {
        "id": "Jz5IP8UFxkIE"
      }
    },
    {
      "cell_type": "code",
      "source": [
        "df.select('EmployeeName', lower(col('JobTitle')).alias('JobTitle'), 'BasePay', 'TotalPay').show(5)"
      ],
      "metadata": {
        "colab": {
          "base_uri": "https://localhost:8080/"
        },
        "id": "x6RL_fgwxbFN",
        "outputId": "043fb52d-4b54-47ed-dc09-388f92851819"
      },
      "execution_count": 56,
      "outputs": [
        {
          "output_type": "stream",
          "name": "stdout",
          "text": [
            "+-----------------+--------------------+---------+---------+\n",
            "|     EmployeeName|            JobTitle|  BasePay| TotalPay|\n",
            "+-----------------+--------------------+---------+---------+\n",
            "|   NATHANIEL FORD|general manager-m...|167411.18|567595.43|\n",
            "|     GARY JIMENEZ|captain iii (poli...|155966.02|538909.28|\n",
            "|   ALBERT PARDINI|captain iii (poli...|212739.13|335279.91|\n",
            "|CHRISTOPHER CHONG|wire rope cable m...|  77916.0|332343.61|\n",
            "|  PATRICK GARDNER|deputy chief of d...| 134401.6|326373.19|\n",
            "+-----------------+--------------------+---------+---------+\n",
            "only showing top 5 rows\n",
            "\n"
          ]
        }
      ]
    },
    {
      "cell_type": "code",
      "source": [
        "#Utilizando o metodo selectExpr para interpretar tudo dentro do select como expressões\n",
        "df.selectExpr('EmployeeName', 'lower(JobTitle) as JobTitle', 'BasePay', 'TotalPay').show(5)"
      ],
      "metadata": {
        "colab": {
          "base_uri": "https://localhost:8080/"
        },
        "id": "H08B3G7Wxiwx",
        "outputId": "88668d2f-08bc-4972-81ec-3edb5df00a80"
      },
      "execution_count": 55,
      "outputs": [
        {
          "output_type": "stream",
          "name": "stdout",
          "text": [
            "+-----------------+--------------------+---------+---------+\n",
            "|     EmployeeName|            JobTitle|  BasePay| TotalPay|\n",
            "+-----------------+--------------------+---------+---------+\n",
            "|   NATHANIEL FORD|general manager-m...|167411.18|567595.43|\n",
            "|     GARY JIMENEZ|captain iii (poli...|155966.02|538909.28|\n",
            "|   ALBERT PARDINI|captain iii (poli...|212739.13|335279.91|\n",
            "|CHRISTOPHER CHONG|wire rope cable m...|  77916.0|332343.61|\n",
            "|  PATRICK GARDNER|deputy chief of d...| 134401.6|326373.19|\n",
            "+-----------------+--------------------+---------+---------+\n",
            "only showing top 5 rows\n",
            "\n"
          ]
        }
      ]
    },
    {
      "cell_type": "markdown",
      "source": [
        "**Selecionando valores distintos**"
      ],
      "metadata": {
        "id": "UmHPRYItzuCT"
      }
    },
    {
      "cell_type": "code",
      "source": [
        "df.select('JobTitle').distinct().show()"
      ],
      "metadata": {
        "colab": {
          "base_uri": "https://localhost:8080/"
        },
        "id": "SQGwBv3qzkNW",
        "outputId": "ae371656-bb6f-4d6b-efec-d0cfe20dd960"
      },
      "execution_count": 57,
      "outputs": [
        {
          "output_type": "stream",
          "name": "stdout",
          "text": [
            "+--------------------+\n",
            "|            JobTitle|\n",
            "+--------------------+\n",
            "|MANAGER, UNIFIED ...|\n",
            "|COURT ALTERNATIVE...|\n",
            "|Transit Informati...|\n",
            "|Publ Svc Aide-Ass...|\n",
            "|       CITY ATTORNEY|\n",
            "|HEALTH PROGRAM CO...|\n",
            "|PERFORMANCE ANALY...|\n",
            "|HEAVY EQUIPMENT O...|\n",
            "|          Dep Dir IV|\n",
            "|          Manager VI|\n",
            "|Communications Li...|\n",
            "|Custodial Assista...|\n",
            "|Transit Fare Insp...|\n",
            "|Public Service Ai...|\n",
            "|BATTALION CHIEF, ...|\n",
            "|ASSOCIATE PERFORM...|\n",
            "|SENIOR ESTATE INV...|\n",
            "|              ROOFER|\n",
            "|        Undersheriff|\n",
            "|        Dept Head II|\n",
            "+--------------------+\n",
            "only showing top 20 rows\n",
            "\n"
          ]
        }
      ]
    },
    {
      "cell_type": "code",
      "source": [
        "#Buscando por linhas unicas\n",
        "df.distinct().show(5)"
      ],
      "metadata": {
        "colab": {
          "base_uri": "https://localhost:8080/"
        },
        "id": "JtanOy6fz2Uc",
        "outputId": "50777fd0-8a6a-426b-f32f-47d9ff1d7105"
      },
      "execution_count": 61,
      "outputs": [
        {
          "output_type": "stream",
          "name": "stdout",
          "text": [
            "+---+-------------+--------------------+---------+-----------+--------+--------+---------+----------------+----+-----+-------------+------+\n",
            "| Id| EmployeeName|            JobTitle|  BasePay|OvertimePay|OtherPay|Benefits| TotalPay|TotalPayBenefits|Year|Notes|       Agency|Status|\n",
            "+---+-------------+--------------------+---------+-----------+--------+--------+---------+----------------+----+-----+-------------+------+\n",
            "|181|DONALD BRYANT|ELECTRICAL TRANSI...| 77580.36|   119407.7|11220.57|    null|208208.63|       208208.63|2011| null|San Francisco|  null|\n",
            "|443|TROY WILLIAMS|       NURSE MANAGER| 161044.0|        0.0| 27377.5|    null| 188421.5|        188421.5|2011| null|San Francisco|  null|\n",
            "|543|DEBORAH LOGAN|       NURSE MANAGER| 158223.4|        0.0|26661.89|    null|184885.29|       184885.29|2011| null|San Francisco|  null|\n",
            "|744|     EDDY WOO|         FIREFIGHTER|105934.67|   49733.97| 21851.5|    null|177520.14|       177520.14|2011| null|San Francisco|  null|\n",
            "|902|SCOTT SANDINE|         FIREFIGHTER|105934.65|   51718.69| 15380.6|    null|173033.94|       173033.94|2011| null|San Francisco|  null|\n",
            "+---+-------------+--------------------+---------+-----------+--------+--------+---------+----------------+----+-----+-------------+------+\n",
            "only showing top 5 rows\n",
            "\n"
          ]
        }
      ]
    },
    {
      "cell_type": "code",
      "source": [
        "#ou removendo duplicatas da selecão\n",
        "df.dropDuplicates().show(5)"
      ],
      "metadata": {
        "colab": {
          "base_uri": "https://localhost:8080/"
        },
        "id": "QoBIE5cR0SN8",
        "outputId": "faf6e05c-5558-479a-bdac-e71f0ece81db"
      },
      "execution_count": 62,
      "outputs": [
        {
          "output_type": "stream",
          "name": "stdout",
          "text": [
            "+---+-------------+--------------------+---------+-----------+--------+--------+---------+----------------+----+-----+-------------+------+\n",
            "| Id| EmployeeName|            JobTitle|  BasePay|OvertimePay|OtherPay|Benefits| TotalPay|TotalPayBenefits|Year|Notes|       Agency|Status|\n",
            "+---+-------------+--------------------+---------+-----------+--------+--------+---------+----------------+----+-----+-------------+------+\n",
            "|181|DONALD BRYANT|ELECTRICAL TRANSI...| 77580.36|   119407.7|11220.57|    null|208208.63|       208208.63|2011| null|San Francisco|  null|\n",
            "|443|TROY WILLIAMS|       NURSE MANAGER| 161044.0|        0.0| 27377.5|    null| 188421.5|        188421.5|2011| null|San Francisco|  null|\n",
            "|543|DEBORAH LOGAN|       NURSE MANAGER| 158223.4|        0.0|26661.89|    null|184885.29|       184885.29|2011| null|San Francisco|  null|\n",
            "|744|     EDDY WOO|         FIREFIGHTER|105934.67|   49733.97| 21851.5|    null|177520.14|       177520.14|2011| null|San Francisco|  null|\n",
            "|902|SCOTT SANDINE|         FIREFIGHTER|105934.65|   51718.69| 15380.6|    null|173033.94|       173033.94|2011| null|San Francisco|  null|\n",
            "+---+-------------+--------------------+---------+-----------+--------+--------+---------+----------------+----+-----+-------------+------+\n",
            "only showing top 5 rows\n",
            "\n"
          ]
        }
      ]
    },
    {
      "cell_type": "markdown",
      "source": [
        "**Filtros**\n",
        "\n",
        "Operadores lógicos:\n",
        "\n",
        "* e: &\n",
        "* ou: |\n",
        "* não: ~"
      ],
      "metadata": {
        "id": "rAwT5iOV0mb5"
      }
    },
    {
      "cell_type": "markdown",
      "source": [
        "**Filtros com uma condição**"
      ],
      "metadata": {
        "id": "rGRaU-2_1QMh"
      }
    },
    {
      "cell_type": "code",
      "source": [
        "(\n",
        "    df.filter(col('JobTitle') == 'FIREFIGHTER')\n",
        "    .show(5)\n",
        ")"
      ],
      "metadata": {
        "colab": {
          "base_uri": "https://localhost:8080/"
        },
        "id": "snhnH07g0rVf",
        "outputId": "2aa464fe-3e47-4e70-86a5-739a670bd92f"
      },
      "execution_count": 82,
      "outputs": [
        {
          "output_type": "stream",
          "name": "stdout",
          "text": [
            "+---+----------------+-----------+---------+-----------+--------+--------+---------+----------------+----+-----+-------------+------+\n",
            "| Id|    EmployeeName|   JobTitle|  BasePay|OvertimePay|OtherPay|Benefits| TotalPay|TotalPayBenefits|Year|Notes|       Agency|Status|\n",
            "+---+----------------+-----------+---------+-----------+--------+--------+---------+----------------+----+-----+-------------+------+\n",
            "| 44|MICHAEL THOMPSON|FIREFIGHTER|123013.02|  111729.65|15575.26|    null|250317.93|       250317.93|2011| null|San Francisco|  null|\n",
            "|103| LAUIFI SEUMAALA|FIREFIGHTER|105934.69|   98534.35|18890.96|    null| 223360.0|        223360.0|2011| null|San Francisco|  null|\n",
            "|105|   PATRIC STEELE|FIREFIGHTER|105934.64|   97395.59|18760.77|    null| 222091.0|        222091.0|2011| null|San Francisco|  null|\n",
            "|106|   MICHAEL WALSH|FIREFIGHTER|110474.93|   83670.04|27043.61|    null|221188.58|       221188.58|2011| null|San Francisco|  null|\n",
            "|110|  SCOTT SCHOLZEN|FIREFIGHTER|105934.67|   96154.33|18655.85|    null|220744.85|       220744.85|2011| null|San Francisco|  null|\n",
            "+---+----------------+-----------+---------+-----------+--------+--------+---------+----------------+----+-----+-------------+------+\n",
            "only showing top 5 rows\n",
            "\n"
          ]
        }
      ]
    },
    {
      "cell_type": "code",
      "source": [
        "(\n",
        "    df.filter(col('BasePay') >  310000)\n",
        "    .show(5)\n",
        ")"
      ],
      "metadata": {
        "colab": {
          "base_uri": "https://localhost:8080/"
        },
        "id": "ZfIS8sNZ02Np",
        "outputId": "fb43316d-3aef-43a3-b1e1-a18b4d4d88d9"
      },
      "execution_count": 83,
      "outputs": [
        {
          "output_type": "stream",
          "name": "stdout",
          "text": [
            "+-----+--------------------+--------------------+---------+-----------+--------+--------+---------+----------------+----+-----+-------------+------+\n",
            "|   Id|        EmployeeName|            JobTitle|  BasePay|OvertimePay|OtherPay|Benefits| TotalPay|TotalPayBenefits|Year|Notes|       Agency|Status|\n",
            "+-----+--------------------+--------------------+---------+-----------+--------+--------+---------+----------------+----+-----+-------------+------+\n",
            "|72926|      Gregory P Suhr|     Chief of Police|319275.01|        0.0|20007.06|86533.21|339282.07|       425815.28|2013| null|San Francisco|  null|\n",
            "|72927|Joanne M Hayes-White|Chief, Fire Depar...|313686.01|        0.0| 23236.0|85431.39|336922.01|        422353.4|2013| null|San Francisco|  null|\n",
            "|72930|       Robert L Shaw|Dep Dir for Inves...|315572.01|        0.0|     0.0|82849.66|315572.01|       398421.67|2013| null|San Francisco|  null|\n",
            "|72932|   Harlan L Kelly-Jr|Executive Contrac...|313312.52|        0.0|     0.0|82319.51|313312.52|       395632.03|2013| null|San Francisco|  null|\n",
            "|72933|       John L Martin|         Dept Head V|311758.96|        0.0| 1098.64|82476.85| 312857.6|       395334.45|2013| null|San Francisco|  null|\n",
            "+-----+--------------------+--------------------+---------+-----------+--------+--------+---------+----------------+----+-----+-------------+------+\n",
            "only showing top 5 rows\n",
            "\n"
          ]
        }
      ]
    },
    {
      "cell_type": "markdown",
      "source": [
        "**Filtros com duas ou mais condições**"
      ],
      "metadata": {
        "id": "_qNsHCLT1SOP"
      }
    },
    {
      "cell_type": "code",
      "source": [
        "(\n",
        "    df.filter((col('JobTitle') == 'FIREFIGHTER') & (col('BasePay') > 125000))\n",
        "    .show(5)\n",
        ")"
      ],
      "metadata": {
        "colab": {
          "base_uri": "https://localhost:8080/"
        },
        "id": "8i8oK0TY1TkX",
        "outputId": "6c033c53-bd4f-4511-ac44-47234dcb13bc"
      },
      "execution_count": 84,
      "outputs": [
        {
          "output_type": "stream",
          "name": "stdout",
          "text": [
            "+----+-----------------+-----------+---------+-----------+--------+--------+---------+----------------+----+-----+-------------+------+\n",
            "|  Id|     EmployeeName|   JobTitle|  BasePay|OvertimePay|OtherPay|Benefits| TotalPay|TotalPayBenefits|Year|Notes|       Agency|Status|\n",
            "+----+-----------------+-----------+---------+-----------+--------+--------+---------+----------------+----+-----+-------------+------+\n",
            "|1537|  THERESA FOGARTY|FIREFIGHTER|126873.14|     511.56|33199.08|    null|160583.78|       160583.78|2011| null|San Francisco|  null|\n",
            "|2911|   EUGENE EDEN-JR|FIREFIGHTER|125386.06|        0.0|16638.69|    null|142024.75|       142024.75|2011| null|San Francisco|  null|\n",
            "|3512|RAYMOND POYDESSUS|FIREFIGHTER|125386.11|        0.0| 10283.4|    null|135669.51|       135669.51|2011| null|San Francisco|  null|\n",
            "|3516|     PAUL ORLANDO|FIREFIGHTER|126873.18|        0.0| 8768.22|    null| 135641.4|        135641.4|2011| null|San Francisco|  null|\n",
            "|3590|    KETTY FEDIGAN|FIREFIGHTER|126873.07|        0.0| 8096.81|    null|134969.88|       134969.88|2011| null|San Francisco|  null|\n",
            "+----+-----------------+-----------+---------+-----------+--------+--------+---------+----------------+----+-----+-------------+------+\n",
            "\n"
          ]
        }
      ]
    },
    {
      "cell_type": "code",
      "source": [
        "# Escrevendo de uma forma menos verbosa\n",
        "(\n",
        "    df\n",
        " .filter(col('JobTitle') == 'FIREFIGHTER')\n",
        " .filter(col('BasePay') > 125000)\n",
        " .show(5)\n",
        ")"
      ],
      "metadata": {
        "colab": {
          "base_uri": "https://localhost:8080/"
        },
        "id": "LeWMWB2Z2Bme",
        "outputId": "c703346c-814a-4bff-f11d-3de83ccc4f5d"
      },
      "execution_count": 85,
      "outputs": [
        {
          "output_type": "stream",
          "name": "stdout",
          "text": [
            "+----+-----------------+-----------+---------+-----------+--------+--------+---------+----------------+----+-----+-------------+------+\n",
            "|  Id|     EmployeeName|   JobTitle|  BasePay|OvertimePay|OtherPay|Benefits| TotalPay|TotalPayBenefits|Year|Notes|       Agency|Status|\n",
            "+----+-----------------+-----------+---------+-----------+--------+--------+---------+----------------+----+-----+-------------+------+\n",
            "|1537|  THERESA FOGARTY|FIREFIGHTER|126873.14|     511.56|33199.08|    null|160583.78|       160583.78|2011| null|San Francisco|  null|\n",
            "|2911|   EUGENE EDEN-JR|FIREFIGHTER|125386.06|        0.0|16638.69|    null|142024.75|       142024.75|2011| null|San Francisco|  null|\n",
            "|3512|RAYMOND POYDESSUS|FIREFIGHTER|125386.11|        0.0| 10283.4|    null|135669.51|       135669.51|2011| null|San Francisco|  null|\n",
            "|3516|     PAUL ORLANDO|FIREFIGHTER|126873.18|        0.0| 8768.22|    null| 135641.4|        135641.4|2011| null|San Francisco|  null|\n",
            "|3590|    KETTY FEDIGAN|FIREFIGHTER|126873.07|        0.0| 8096.81|    null|134969.88|       134969.88|2011| null|San Francisco|  null|\n",
            "+----+-----------------+-----------+---------+-----------+--------+--------+---------+----------------+----+-----+-------------+------+\n",
            "\n"
          ]
        }
      ]
    },
    {
      "cell_type": "markdown",
      "source": [
        "**Filtros utilizando expressões**"
      ],
      "metadata": {
        "id": "CnU7v-V52Qia"
      }
    },
    {
      "cell_type": "code",
      "source": [
        "(\n",
        "    df.filter('JobTitle == \"FIREFIGHTER\" and BasePay >  125000')\n",
        "    .show(5)\n",
        ")"
      ],
      "metadata": {
        "colab": {
          "base_uri": "https://localhost:8080/"
        },
        "id": "Z_wJu4ah2SPj",
        "outputId": "2abc369d-29e2-4046-bf71-ec6fcfa0f08c"
      },
      "execution_count": 87,
      "outputs": [
        {
          "output_type": "stream",
          "name": "stdout",
          "text": [
            "+----+-----------------+-----------+---------+-----------+--------+--------+---------+----------------+----+-----+-------------+------+\n",
            "|  Id|     EmployeeName|   JobTitle|  BasePay|OvertimePay|OtherPay|Benefits| TotalPay|TotalPayBenefits|Year|Notes|       Agency|Status|\n",
            "+----+-----------------+-----------+---------+-----------+--------+--------+---------+----------------+----+-----+-------------+------+\n",
            "|1537|  THERESA FOGARTY|FIREFIGHTER|126873.14|     511.56|33199.08|    null|160583.78|       160583.78|2011| null|San Francisco|  null|\n",
            "|2911|   EUGENE EDEN-JR|FIREFIGHTER|125386.06|        0.0|16638.69|    null|142024.75|       142024.75|2011| null|San Francisco|  null|\n",
            "|3512|RAYMOND POYDESSUS|FIREFIGHTER|125386.11|        0.0| 10283.4|    null|135669.51|       135669.51|2011| null|San Francisco|  null|\n",
            "|3516|     PAUL ORLANDO|FIREFIGHTER|126873.18|        0.0| 8768.22|    null| 135641.4|        135641.4|2011| null|San Francisco|  null|\n",
            "|3590|    KETTY FEDIGAN|FIREFIGHTER|126873.07|        0.0| 8096.81|    null|134969.88|       134969.88|2011| null|San Francisco|  null|\n",
            "+----+-----------------+-----------+---------+-----------+--------+--------+---------+----------------+----+-----+-------------+------+\n",
            "\n"
          ]
        }
      ]
    },
    {
      "cell_type": "markdown",
      "source": [
        "**Métodos mais utilizados:**\n",
        "\n",
        "Quando utilizamos a função col(), temos acesso à diversos métodos que podem facilitar a filtragem de dados no DataFrame. Alguns deles são:\n",
        "\n",
        "\n",
        "\n",
        "*  `isin()`: checa se a coluna contém os valores listados\n",
        "* `contains()`: para verificar se contem algum padrão especificado (não aceita regex)\n",
        "* `like()`: similar ao LIKE do SQL, utilizado para verificar se a coluna de texto contém algum padrão específicado (não aceita regex)\n",
        "* `rlike()`: similar ao RLIKE do SQL (aceita regex)\n",
        "* `startswith()`: aceita regex\n",
        "* `endswith()`: aceita regex\n",
        "* `between()`: checa se os valores da coluna estão dentro do intervalo especificado (os dois lados inclusivos)\n",
        "* `isNull()`\n",
        "* `isNotNull()`\n",
        "* `alias()/name()`: usado para renomear as colunas em tempo de operação\n",
        "* `astype()/cast()`: usado para mudar o tipo das colunas\n",
        "* `substr()`: utilizado para cortar uma string com base em índices"
      ],
      "metadata": {
        "id": "bcfdf7jG3Ua1"
      }
    },
    {
      "cell_type": "code",
      "source": [
        ""
      ],
      "metadata": {
        "id": "UiqWJyZb4jo0"
      },
      "execution_count": null,
      "outputs": []
    }
  ]
}