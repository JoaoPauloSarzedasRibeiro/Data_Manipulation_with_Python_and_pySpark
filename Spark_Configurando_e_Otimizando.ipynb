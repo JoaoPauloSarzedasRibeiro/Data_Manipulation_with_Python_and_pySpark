{
  "nbformat": 4,
  "nbformat_minor": 0,
  "metadata": {
    "colab": {
      "name": "Spark - Configurando e Otimizando.ipynb",
      "provenance": [],
      "collapsed_sections": [
        "b12fc36d",
        "632fd55b"
      ],
      "authorship_tag": "ABX9TyMXMpk1/kvrg21TKJwG5R/L",
      "include_colab_link": true
    },
    "kernelspec": {
      "name": "python3",
      "display_name": "Python 3"
    },
    "language_info": {
      "name": "python"
    }
  },
  "cells": [
    {
      "cell_type": "markdown",
      "metadata": {
        "id": "view-in-github",
        "colab_type": "text"
      },
      "source": [
        "<a href=\"https://colab.research.google.com/github/JoaoPauloSarzedasRibeiro/data_manipulation_with_Python/blob/main/Spark_Configurando_e_Otimizando.ipynb\" target=\"_parent\"><img src=\"https://colab.research.google.com/assets/colab-badge.svg\" alt=\"Open In Colab\"/></a>"
      ]
    },
    {
      "cell_type": "markdown",
      "source": [
        "#Instalando o PySpark no Google Colab"
      ],
      "metadata": {
        "id": "96d8PdUHV7Vb"
      }
    },
    {
      "cell_type": "code",
      "execution_count": null,
      "metadata": {
        "id": "gKdl2riQUPz6"
      },
      "outputs": [],
      "source": [
        "# instalar as dependências necessárias para o Spark\n",
        "!apt-get install openjdk-8-jdk-headless -qq > /dev/null\n",
        "!wget -q https://archive.apache.org/dist/spark/spark-2.4.4/spark-2.4.4-bin-hadoop2.7.tgz\n",
        "!tar xf spark-2.4.4-bin-hadoop2.7.tgz\n",
        "!pip install -q findspark"
      ]
    },
    {
      "cell_type": "code",
      "source": [
        "# configurar as variáveis de ambiente\n",
        "import os\n",
        "os.environ[\"JAVA_HOME\"] = \"/usr/lib/jvm/java-8-openjdk-amd64\"\n",
        "os.environ[\"SPARK_HOME\"] = \"/content/spark-2.4.4-bin-hadoop2.7\"\n",
        "\n",
        "# tornar o pyspark \"importável\"\n",
        "import findspark\n",
        "findspark.init('spark-2.4.4-bin-hadoop2.7')"
      ],
      "metadata": {
        "id": "atfl6_lrU89P"
      },
      "execution_count": null,
      "outputs": []
    },
    {
      "cell_type": "markdown",
      "metadata": {
        "id": "af887364"
      },
      "source": [
        "# Configurando o Spark"
      ]
    },
    {
      "cell_type": "markdown",
      "metadata": {
        "id": "0a20dd54"
      },
      "source": [
        "SparkSession -> spark-submit -> spark-defaults.conf"
      ]
    },
    {
      "cell_type": "code",
      "execution_count": null,
      "metadata": {
        "id": "615ddda8"
      },
      "outputs": [],
      "source": [
        "import findspark\n",
        "\n",
        "findspark.init()"
      ]
    },
    {
      "cell_type": "code",
      "execution_count": null,
      "metadata": {
        "id": "6b27f233"
      },
      "outputs": [],
      "source": [
        "from pyspark.sql import SparkSession\n",
        "spark = (\n",
        "    SparkSession\n",
        "    .builder\n",
        "    .config('spark.driver.memory', '8g')\n",
        "    .getOrCreate()\n",
        ")"
      ]
    },
    {
      "cell_type": "code",
      "execution_count": null,
      "metadata": {
        "scrolled": true,
        "id": "ef180996",
        "colab": {
          "base_uri": "https://localhost:8080/",
          "height": 36
        },
        "outputId": "781f23b7-e229-476b-f891-a1481d50a400"
      },
      "outputs": [
        {
          "output_type": "execute_result",
          "data": {
            "text/plain": [
              "'8g'"
            ],
            "application/vnd.google.colaboratory.intrinsic+json": {
              "type": "string"
            }
          },
          "metadata": {},
          "execution_count": 6
        }
      ],
      "source": [
        "spark.conf.get('spark.driver.memory')"
      ]
    },
    {
      "cell_type": "code",
      "execution_count": null,
      "metadata": {
        "scrolled": true,
        "id": "b41e9118",
        "colab": {
          "base_uri": "https://localhost:8080/",
          "height": 36
        },
        "outputId": "92f44274-146b-42fc-93d9-43b15a109748"
      },
      "outputs": [
        {
          "output_type": "execute_result",
          "data": {
            "text/plain": [
              "'200'"
            ],
            "application/vnd.google.colaboratory.intrinsic+json": {
              "type": "string"
            }
          },
          "metadata": {},
          "execution_count": 7
        }
      ],
      "source": [
        "spark.conf.get('spark.sql.shuffle.partitions')"
      ]
    },
    {
      "cell_type": "code",
      "execution_count": null,
      "metadata": {
        "id": "0b351717"
      },
      "outputs": [],
      "source": [
        "spark.conf.set('spark.sql.shuffle.partitions', 100)"
      ]
    },
    {
      "cell_type": "code",
      "execution_count": null,
      "metadata": {
        "scrolled": true,
        "id": "8e1b765d",
        "colab": {
          "base_uri": "https://localhost:8080/",
          "height": 36
        },
        "outputId": "5d72b5aa-0a3e-4382-ba2b-b05788dd7882"
      },
      "outputs": [
        {
          "output_type": "execute_result",
          "data": {
            "text/plain": [
              "'100'"
            ],
            "application/vnd.google.colaboratory.intrinsic+json": {
              "type": "string"
            }
          },
          "metadata": {},
          "execution_count": 9
        }
      ],
      "source": [
        "spark.conf.get('spark.sql.shuffle.partitions')"
      ]
    },
    {
      "cell_type": "markdown",
      "metadata": {
        "id": "d04c94ce"
      },
      "source": [
        "* `spark.master`: seleciona o modo de deploy da aplicação Spark. Será tratado em mais detalhes no capítulo seguinte.\n",
        "* `spark.driver.memory`: quantidade de memória atribuída para o driver da aplicação.\n",
        "* `spark.executor.memory`: quantidade de memória atribuída para cada um dos executores da aplicação.\n",
        "* `spark.serializer`: classe utilizada para realizar a serialização de objetos durante a execução. É recomendado utilizar o valor org.apache.spark.serializer.KryoSerializer para ganhar em velocidade de processamento, uma vez que chega a ser até 10x mais rápido que o default.\n",
        "* `spark.executor.heartbeatInterval`:  intervalo entre notificações dos executores ao driver. Aumentar esse valor evita que a aplicação sofra com timeouts.\n",
        "* `spark.sql.adaptive.enabled`: habilita o Adaptive Query Execution, programa que atualiza o plano de execução durante a execução, a partir de métricas coletadas durante o processo. Ativar essa configuração pode otimizar processamentos significativamente.\n",
        "* `spark.sql.shuffle.partitions`: número padrão de partições utilizadas em shuffles de operações de junção (joins) e agregações (agg). \n",
        "* `spark.sql.broadcastTimeout`: tempo de timeout em segundos para operações de broadcast join, a serem tratadas no fim do capítulo."
      ]
    },
    {
      "cell_type": "markdown",
      "metadata": {
        "id": "d54c7ea4"
      },
      "source": [
        "### Tornando o Spark Escalável"
      ]
    },
    {
      "cell_type": "markdown",
      "metadata": {
        "id": "8fc53245"
      },
      "source": [
        "* `spark.dynamicAllocation.enabled`: habilita o uso do recurso de dynamic allocation na aplicação.\n",
        "* `spark.dynamicAllocation.executorIdleTimeout`: configura o tempo máximo de ociosidade de um executor até que o dynamic allocation o derrube.\n",
        "* `spark.dynamicAllocation.initialExecutors`: quantidade inicial de executores na aplicação ao utilizar o dynamic allocation.\n",
        "* `spark.dynamicAllocation.maxExecutors`: quantidade mínima de executores na aplicação ao utilizar o dynamic allocation.\n",
        "* `spark.dynamicAllocation.minExecutors`: quantidade máxima de executores na aplicação ao utilizar o dynamic allocation."
      ]
    },
    {
      "cell_type": "markdown",
      "source": [
        "#Importando dados"
      ],
      "metadata": {
        "id": "OVXiiDUb-9ZZ"
      }
    },
    {
      "cell_type": "code",
      "source": [
        "# iniciar uma sessão local chamada spark\n",
        "from pyspark.sql import SparkSession\n",
        "import pyspark.sql.functions as f\n",
        "from os.path import abspath\n",
        "\n",
        "warehouse_location = abspath('../data/spark-warehouse')\n",
        "\n",
        "spark = (\n",
        "    SparkSession\n",
        "    .builder\n",
        "    .master('local[*]')\n",
        "    .config(\"spark.driver.memory\", '8g')\n",
        "    .config(\"spark.sql.warehouse.dir\", warehouse_location)\n",
        "    .enableHiveSupport()\n",
        "    .getOrCreate()\n",
        ")"
      ],
      "metadata": {
        "id": "AN69vqeKl0Uv"
      },
      "execution_count": null,
      "outputs": []
    },
    {
      "cell_type": "code",
      "source": [
        "# Conectando ao Google Drive\n",
        "from google.colab import drive\n",
        "drive.mount('/content/drive')"
      ],
      "metadata": {
        "id": "ymw-7G_J_AAB",
        "colab": {
          "base_uri": "https://localhost:8080/"
        },
        "outputId": "39b1fd3e-33e4-44a7-dcfa-4f1f6ef5feda"
      },
      "execution_count": null,
      "outputs": [
        {
          "output_type": "stream",
          "name": "stdout",
          "text": [
            "Mounted at /content/drive\n"
          ]
        }
      ]
    },
    {
      "cell_type": "code",
      "source": [
        "#Criando um novo DataFrame com os dados já no formato Parquet\n",
        "df_titles = spark.read.format('parquet').load('drive/MyDrive/DataLake/df_titles')"
      ],
      "metadata": {
        "id": "AVl3Lqlq8QMR"
      },
      "execution_count": null,
      "outputs": []
    },
    {
      "cell_type": "code",
      "source": [
        "df_titles.printSchema()"
      ],
      "metadata": {
        "colab": {
          "base_uri": "https://localhost:8080/"
        },
        "id": "T-zSFrKQ8VmY",
        "outputId": "4b4404d4-1e5f-43d7-8177-ead837158b9b"
      },
      "execution_count": null,
      "outputs": [
        {
          "output_type": "stream",
          "name": "stdout",
          "text": [
            "root\n",
            " |-- tconst: string (nullable = true)\n",
            " |-- titleType: string (nullable = true)\n",
            " |-- primaryTitle: string (nullable = true)\n",
            " |-- originalTitle: string (nullable = true)\n",
            " |-- isAdult: string (nullable = true)\n",
            " |-- startYear: string (nullable = true)\n",
            " |-- endYear: string (nullable = true)\n",
            " |-- runtimeMinutes: string (nullable = true)\n",
            " |-- genres: string (nullable = true)\n",
            "\n"
          ]
        }
      ]
    },
    {
      "cell_type": "code",
      "source": [
        "#Criando um novo DataFrame com os dados já no formato Parquet\n",
        "df_ratings = spark.read.format('parquet').load('drive/MyDrive/DataLake/df_ratings')"
      ],
      "metadata": {
        "id": "bDsKan5avx45"
      },
      "execution_count": null,
      "outputs": []
    },
    {
      "cell_type": "code",
      "source": [
        "df_ratings.printSchema()"
      ],
      "metadata": {
        "colab": {
          "base_uri": "https://localhost:8080/"
        },
        "id": "hsMC-m1L8Xjk",
        "outputId": "46084402-5c9a-4e5a-9e8c-59a32829e974"
      },
      "execution_count": null,
      "outputs": [
        {
          "output_type": "stream",
          "name": "stdout",
          "text": [
            "root\n",
            " |-- tconst: string (nullable = true)\n",
            " |-- averageRating: double (nullable = true)\n",
            " |-- numVotes: integer (nullable = true)\n",
            "\n"
          ]
        }
      ]
    },
    {
      "cell_type": "markdown",
      "metadata": {
        "id": "339ad935"
      },
      "source": [
        "# Persistência de Dados na Memória"
      ]
    },
    {
      "cell_type": "code",
      "source": [
        "df_titles_sample = df_titles.sample(fraction = 0.1)"
      ],
      "metadata": {
        "id": "95AhhmrUwGEg"
      },
      "execution_count": null,
      "outputs": []
    },
    {
      "cell_type": "code",
      "source": [
        "df_titles_sample.count()"
      ],
      "metadata": {
        "colab": {
          "base_uri": "https://localhost:8080/"
        },
        "id": "ADRYbN3twQFl",
        "outputId": "a32da9f9-7d76-41cc-f7cc-41329ca150c8"
      },
      "execution_count": null,
      "outputs": [
        {
          "output_type": "execute_result",
          "data": {
            "text/plain": [
              "819475"
            ]
          },
          "metadata": {},
          "execution_count": 15
        }
      ]
    },
    {
      "cell_type": "code",
      "execution_count": null,
      "metadata": {
        "id": "4f333060",
        "colab": {
          "base_uri": "https://localhost:8080/",
          "height": 409
        },
        "outputId": "baa4f59b-1074-4aad-f67a-9705144c9618"
      },
      "outputs": [
        {
          "output_type": "execute_result",
          "data": {
            "text/plain": [
              "      tconst titleType                                 primaryTitle  \\\n",
              "0  tt0000013     short  The Photographical Congress Arrives in Lyon   \n",
              "1  tt0000019     short                             The Clown Barber   \n",
              "2  tt0000026     short                The Messers. Lumière at Cards   \n",
              "3  tt0000044     short                                   Le bivouac   \n",
              "4  tt0000051     short                      The Bohemian Encampment   \n",
              "\n",
              "                                       originalTitle isAdult startYear  \\\n",
              "0  Le débarquement du congrès de photographie à Lyon       0      1895   \n",
              "1                                   The Clown Barber       0      1898   \n",
              "2                                    Partie d'écarté       0      1896   \n",
              "3                                         Le bivouac       0      1896   \n",
              "4                             Campement de bohémiens       0      1896   \n",
              "\n",
              "  endYear runtimeMinutes             genres  \n",
              "0      \\N              1  Documentary,Short  \n",
              "1      \\N             \\N       Comedy,Short  \n",
              "2      \\N              1  Documentary,Short  \n",
              "3      \\N              1              Short  \n",
              "4      \\N             \\N  Documentary,Short  "
            ],
            "text/html": [
              "\n",
              "  <div id=\"df-7fde164d-8503-4624-a3f5-bc0e3bccc4dc\">\n",
              "    <div class=\"colab-df-container\">\n",
              "      <div>\n",
              "<style scoped>\n",
              "    .dataframe tbody tr th:only-of-type {\n",
              "        vertical-align: middle;\n",
              "    }\n",
              "\n",
              "    .dataframe tbody tr th {\n",
              "        vertical-align: top;\n",
              "    }\n",
              "\n",
              "    .dataframe thead th {\n",
              "        text-align: right;\n",
              "    }\n",
              "</style>\n",
              "<table border=\"1\" class=\"dataframe\">\n",
              "  <thead>\n",
              "    <tr style=\"text-align: right;\">\n",
              "      <th></th>\n",
              "      <th>tconst</th>\n",
              "      <th>titleType</th>\n",
              "      <th>primaryTitle</th>\n",
              "      <th>originalTitle</th>\n",
              "      <th>isAdult</th>\n",
              "      <th>startYear</th>\n",
              "      <th>endYear</th>\n",
              "      <th>runtimeMinutes</th>\n",
              "      <th>genres</th>\n",
              "    </tr>\n",
              "  </thead>\n",
              "  <tbody>\n",
              "    <tr>\n",
              "      <th>0</th>\n",
              "      <td>tt0000013</td>\n",
              "      <td>short</td>\n",
              "      <td>The Photographical Congress Arrives in Lyon</td>\n",
              "      <td>Le débarquement du congrès de photographie à Lyon</td>\n",
              "      <td>0</td>\n",
              "      <td>1895</td>\n",
              "      <td>\\N</td>\n",
              "      <td>1</td>\n",
              "      <td>Documentary,Short</td>\n",
              "    </tr>\n",
              "    <tr>\n",
              "      <th>1</th>\n",
              "      <td>tt0000019</td>\n",
              "      <td>short</td>\n",
              "      <td>The Clown Barber</td>\n",
              "      <td>The Clown Barber</td>\n",
              "      <td>0</td>\n",
              "      <td>1898</td>\n",
              "      <td>\\N</td>\n",
              "      <td>\\N</td>\n",
              "      <td>Comedy,Short</td>\n",
              "    </tr>\n",
              "    <tr>\n",
              "      <th>2</th>\n",
              "      <td>tt0000026</td>\n",
              "      <td>short</td>\n",
              "      <td>The Messers. Lumière at Cards</td>\n",
              "      <td>Partie d'écarté</td>\n",
              "      <td>0</td>\n",
              "      <td>1896</td>\n",
              "      <td>\\N</td>\n",
              "      <td>1</td>\n",
              "      <td>Documentary,Short</td>\n",
              "    </tr>\n",
              "    <tr>\n",
              "      <th>3</th>\n",
              "      <td>tt0000044</td>\n",
              "      <td>short</td>\n",
              "      <td>Le bivouac</td>\n",
              "      <td>Le bivouac</td>\n",
              "      <td>0</td>\n",
              "      <td>1896</td>\n",
              "      <td>\\N</td>\n",
              "      <td>1</td>\n",
              "      <td>Short</td>\n",
              "    </tr>\n",
              "    <tr>\n",
              "      <th>4</th>\n",
              "      <td>tt0000051</td>\n",
              "      <td>short</td>\n",
              "      <td>The Bohemian Encampment</td>\n",
              "      <td>Campement de bohémiens</td>\n",
              "      <td>0</td>\n",
              "      <td>1896</td>\n",
              "      <td>\\N</td>\n",
              "      <td>\\N</td>\n",
              "      <td>Documentary,Short</td>\n",
              "    </tr>\n",
              "  </tbody>\n",
              "</table>\n",
              "</div>\n",
              "      <button class=\"colab-df-convert\" onclick=\"convertToInteractive('df-7fde164d-8503-4624-a3f5-bc0e3bccc4dc')\"\n",
              "              title=\"Convert this dataframe to an interactive table.\"\n",
              "              style=\"display:none;\">\n",
              "        \n",
              "  <svg xmlns=\"http://www.w3.org/2000/svg\" height=\"24px\"viewBox=\"0 0 24 24\"\n",
              "       width=\"24px\">\n",
              "    <path d=\"M0 0h24v24H0V0z\" fill=\"none\"/>\n",
              "    <path d=\"M18.56 5.44l.94 2.06.94-2.06 2.06-.94-2.06-.94-.94-2.06-.94 2.06-2.06.94zm-11 1L8.5 8.5l.94-2.06 2.06-.94-2.06-.94L8.5 2.5l-.94 2.06-2.06.94zm10 10l.94 2.06.94-2.06 2.06-.94-2.06-.94-.94-2.06-.94 2.06-2.06.94z\"/><path d=\"M17.41 7.96l-1.37-1.37c-.4-.4-.92-.59-1.43-.59-.52 0-1.04.2-1.43.59L10.3 9.45l-7.72 7.72c-.78.78-.78 2.05 0 2.83L4 21.41c.39.39.9.59 1.41.59.51 0 1.02-.2 1.41-.59l7.78-7.78 2.81-2.81c.8-.78.8-2.07 0-2.86zM5.41 20L4 18.59l7.72-7.72 1.47 1.35L5.41 20z\"/>\n",
              "  </svg>\n",
              "      </button>\n",
              "      \n",
              "  <style>\n",
              "    .colab-df-container {\n",
              "      display:flex;\n",
              "      flex-wrap:wrap;\n",
              "      gap: 12px;\n",
              "    }\n",
              "\n",
              "    .colab-df-convert {\n",
              "      background-color: #E8F0FE;\n",
              "      border: none;\n",
              "      border-radius: 50%;\n",
              "      cursor: pointer;\n",
              "      display: none;\n",
              "      fill: #1967D2;\n",
              "      height: 32px;\n",
              "      padding: 0 0 0 0;\n",
              "      width: 32px;\n",
              "    }\n",
              "\n",
              "    .colab-df-convert:hover {\n",
              "      background-color: #E2EBFA;\n",
              "      box-shadow: 0px 1px 2px rgba(60, 64, 67, 0.3), 0px 1px 3px 1px rgba(60, 64, 67, 0.15);\n",
              "      fill: #174EA6;\n",
              "    }\n",
              "\n",
              "    [theme=dark] .colab-df-convert {\n",
              "      background-color: #3B4455;\n",
              "      fill: #D2E3FC;\n",
              "    }\n",
              "\n",
              "    [theme=dark] .colab-df-convert:hover {\n",
              "      background-color: #434B5C;\n",
              "      box-shadow: 0px 1px 3px 1px rgba(0, 0, 0, 0.15);\n",
              "      filter: drop-shadow(0px 1px 2px rgba(0, 0, 0, 0.3));\n",
              "      fill: #FFFFFF;\n",
              "    }\n",
              "  </style>\n",
              "\n",
              "      <script>\n",
              "        const buttonEl =\n",
              "          document.querySelector('#df-7fde164d-8503-4624-a3f5-bc0e3bccc4dc button.colab-df-convert');\n",
              "        buttonEl.style.display =\n",
              "          google.colab.kernel.accessAllowed ? 'block' : 'none';\n",
              "\n",
              "        async function convertToInteractive(key) {\n",
              "          const element = document.querySelector('#df-7fde164d-8503-4624-a3f5-bc0e3bccc4dc');\n",
              "          const dataTable =\n",
              "            await google.colab.kernel.invokeFunction('convertToInteractive',\n",
              "                                                     [key], {});\n",
              "          if (!dataTable) return;\n",
              "\n",
              "          const docLinkHtml = 'Like what you see? Visit the ' +\n",
              "            '<a target=\"_blank\" href=https://colab.research.google.com/notebooks/data_table.ipynb>data table notebook</a>'\n",
              "            + ' to learn more about interactive tables.';\n",
              "          element.innerHTML = '';\n",
              "          dataTable['output_type'] = 'display_data';\n",
              "          await google.colab.output.renderOutput(dataTable, element);\n",
              "          const docLink = document.createElement('div');\n",
              "          docLink.innerHTML = docLinkHtml;\n",
              "          element.appendChild(docLink);\n",
              "        }\n",
              "      </script>\n",
              "    </div>\n",
              "  </div>\n",
              "  "
            ]
          },
          "metadata": {},
          "execution_count": 16
        }
      ],
      "source": [
        "df_titles_sample.limit(5).toPandas()"
      ]
    },
    {
      "cell_type": "code",
      "execution_count": null,
      "metadata": {
        "id": "117cbb8c",
        "colab": {
          "base_uri": "https://localhost:8080/",
          "height": 206
        },
        "outputId": "4a768f7f-f47c-458c-9578-8af8cd51ce00"
      },
      "outputs": [
        {
          "output_type": "execute_result",
          "data": {
            "text/plain": [
              "      tconst  averageRating  numVotes\n",
              "0  tt0000001            5.7      1809\n",
              "1  tt0000002            6.0       233\n",
              "2  tt0000003            6.5      1560\n",
              "3  tt0000004            6.1       152\n",
              "4  tt0000005            6.2      2383"
            ],
            "text/html": [
              "\n",
              "  <div id=\"df-3b390f23-9fa9-425c-9c69-d21d605b9d7a\">\n",
              "    <div class=\"colab-df-container\">\n",
              "      <div>\n",
              "<style scoped>\n",
              "    .dataframe tbody tr th:only-of-type {\n",
              "        vertical-align: middle;\n",
              "    }\n",
              "\n",
              "    .dataframe tbody tr th {\n",
              "        vertical-align: top;\n",
              "    }\n",
              "\n",
              "    .dataframe thead th {\n",
              "        text-align: right;\n",
              "    }\n",
              "</style>\n",
              "<table border=\"1\" class=\"dataframe\">\n",
              "  <thead>\n",
              "    <tr style=\"text-align: right;\">\n",
              "      <th></th>\n",
              "      <th>tconst</th>\n",
              "      <th>averageRating</th>\n",
              "      <th>numVotes</th>\n",
              "    </tr>\n",
              "  </thead>\n",
              "  <tbody>\n",
              "    <tr>\n",
              "      <th>0</th>\n",
              "      <td>tt0000001</td>\n",
              "      <td>5.7</td>\n",
              "      <td>1809</td>\n",
              "    </tr>\n",
              "    <tr>\n",
              "      <th>1</th>\n",
              "      <td>tt0000002</td>\n",
              "      <td>6.0</td>\n",
              "      <td>233</td>\n",
              "    </tr>\n",
              "    <tr>\n",
              "      <th>2</th>\n",
              "      <td>tt0000003</td>\n",
              "      <td>6.5</td>\n",
              "      <td>1560</td>\n",
              "    </tr>\n",
              "    <tr>\n",
              "      <th>3</th>\n",
              "      <td>tt0000004</td>\n",
              "      <td>6.1</td>\n",
              "      <td>152</td>\n",
              "    </tr>\n",
              "    <tr>\n",
              "      <th>4</th>\n",
              "      <td>tt0000005</td>\n",
              "      <td>6.2</td>\n",
              "      <td>2383</td>\n",
              "    </tr>\n",
              "  </tbody>\n",
              "</table>\n",
              "</div>\n",
              "      <button class=\"colab-df-convert\" onclick=\"convertToInteractive('df-3b390f23-9fa9-425c-9c69-d21d605b9d7a')\"\n",
              "              title=\"Convert this dataframe to an interactive table.\"\n",
              "              style=\"display:none;\">\n",
              "        \n",
              "  <svg xmlns=\"http://www.w3.org/2000/svg\" height=\"24px\"viewBox=\"0 0 24 24\"\n",
              "       width=\"24px\">\n",
              "    <path d=\"M0 0h24v24H0V0z\" fill=\"none\"/>\n",
              "    <path d=\"M18.56 5.44l.94 2.06.94-2.06 2.06-.94-2.06-.94-.94-2.06-.94 2.06-2.06.94zm-11 1L8.5 8.5l.94-2.06 2.06-.94-2.06-.94L8.5 2.5l-.94 2.06-2.06.94zm10 10l.94 2.06.94-2.06 2.06-.94-2.06-.94-.94-2.06-.94 2.06-2.06.94z\"/><path d=\"M17.41 7.96l-1.37-1.37c-.4-.4-.92-.59-1.43-.59-.52 0-1.04.2-1.43.59L10.3 9.45l-7.72 7.72c-.78.78-.78 2.05 0 2.83L4 21.41c.39.39.9.59 1.41.59.51 0 1.02-.2 1.41-.59l7.78-7.78 2.81-2.81c.8-.78.8-2.07 0-2.86zM5.41 20L4 18.59l7.72-7.72 1.47 1.35L5.41 20z\"/>\n",
              "  </svg>\n",
              "      </button>\n",
              "      \n",
              "  <style>\n",
              "    .colab-df-container {\n",
              "      display:flex;\n",
              "      flex-wrap:wrap;\n",
              "      gap: 12px;\n",
              "    }\n",
              "\n",
              "    .colab-df-convert {\n",
              "      background-color: #E8F0FE;\n",
              "      border: none;\n",
              "      border-radius: 50%;\n",
              "      cursor: pointer;\n",
              "      display: none;\n",
              "      fill: #1967D2;\n",
              "      height: 32px;\n",
              "      padding: 0 0 0 0;\n",
              "      width: 32px;\n",
              "    }\n",
              "\n",
              "    .colab-df-convert:hover {\n",
              "      background-color: #E2EBFA;\n",
              "      box-shadow: 0px 1px 2px rgba(60, 64, 67, 0.3), 0px 1px 3px 1px rgba(60, 64, 67, 0.15);\n",
              "      fill: #174EA6;\n",
              "    }\n",
              "\n",
              "    [theme=dark] .colab-df-convert {\n",
              "      background-color: #3B4455;\n",
              "      fill: #D2E3FC;\n",
              "    }\n",
              "\n",
              "    [theme=dark] .colab-df-convert:hover {\n",
              "      background-color: #434B5C;\n",
              "      box-shadow: 0px 1px 3px 1px rgba(0, 0, 0, 0.15);\n",
              "      filter: drop-shadow(0px 1px 2px rgba(0, 0, 0, 0.3));\n",
              "      fill: #FFFFFF;\n",
              "    }\n",
              "  </style>\n",
              "\n",
              "      <script>\n",
              "        const buttonEl =\n",
              "          document.querySelector('#df-3b390f23-9fa9-425c-9c69-d21d605b9d7a button.colab-df-convert');\n",
              "        buttonEl.style.display =\n",
              "          google.colab.kernel.accessAllowed ? 'block' : 'none';\n",
              "\n",
              "        async function convertToInteractive(key) {\n",
              "          const element = document.querySelector('#df-3b390f23-9fa9-425c-9c69-d21d605b9d7a');\n",
              "          const dataTable =\n",
              "            await google.colab.kernel.invokeFunction('convertToInteractive',\n",
              "                                                     [key], {});\n",
              "          if (!dataTable) return;\n",
              "\n",
              "          const docLinkHtml = 'Like what you see? Visit the ' +\n",
              "            '<a target=\"_blank\" href=https://colab.research.google.com/notebooks/data_table.ipynb>data table notebook</a>'\n",
              "            + ' to learn more about interactive tables.';\n",
              "          element.innerHTML = '';\n",
              "          dataTable['output_type'] = 'display_data';\n",
              "          await google.colab.output.renderOutput(dataTable, element);\n",
              "          const docLink = document.createElement('div');\n",
              "          docLink.innerHTML = docLinkHtml;\n",
              "          element.appendChild(docLink);\n",
              "        }\n",
              "      </script>\n",
              "    </div>\n",
              "  </div>\n",
              "  "
            ]
          },
          "metadata": {},
          "execution_count": 17
        }
      ],
      "source": [
        "df_ratings.limit(5).toPandas()"
      ]
    },
    {
      "cell_type": "code",
      "execution_count": null,
      "metadata": {
        "id": "45a062e7"
      },
      "outputs": [],
      "source": [
        "int_cols = ['startYear', 'endYear', 'runtimeMinutes', 'isAdult']\n",
        "for c in int_cols:\n",
        "    df_titles_sample = (\n",
        "        df_titles_sample\n",
        "        .withColumn(c, f.col(c).cast('int'))\n",
        "    )\n",
        "# Limpa os Strings\n",
        "str_cols = ['primaryTitle', 'originalTitle', 'titleType']\n",
        "for c in str_cols:\n",
        "    df_titles_sample = (\n",
        "        df_titles_sample\n",
        "        .withColumn(c, f.initcap(f.trim(f.col(c))))\n",
        "    )"
      ]
    },
    {
      "cell_type": "code",
      "execution_count": null,
      "metadata": {
        "id": "7878bcbc"
      },
      "outputs": [],
      "source": [
        "df_join = (\n",
        "    df_titles_sample\n",
        "    .replace('\\\\N', None)\n",
        "    .withColumn('genres', f.split(f.col('genres'), ','))\n",
        "    .join(df_ratings, 'tconst', 'left')\n",
        ")"
      ]
    },
    {
      "cell_type": "code",
      "execution_count": null,
      "metadata": {
        "id": "3f064c9f",
        "colab": {
          "base_uri": "https://localhost:8080/",
          "height": 409
        },
        "outputId": "807f2355-e716-4f12-dfe0-401cbb228b9e"
      },
      "outputs": [
        {
          "output_type": "execute_result",
          "data": {
            "text/plain": [
              "      tconst titleType                                 primaryTitle  \\\n",
              "0  tt0000013     Short  The Photographical Congress Arrives In Lyon   \n",
              "1  tt0000019     Short                             The Clown Barber   \n",
              "2  tt0000026     Short                The Messers. Lumière At Cards   \n",
              "3  tt0000044     Short                                   Le Bivouac   \n",
              "4  tt0000051     Short                      The Bohemian Encampment   \n",
              "\n",
              "                                       originalTitle  isAdult  startYear  \\\n",
              "0  Le Débarquement Du Congrès De Photographie À Lyon        0       1895   \n",
              "1                                   The Clown Barber        0       1898   \n",
              "2                                    Partie D'écarté        0       1896   \n",
              "3                                         Le Bivouac        0       1896   \n",
              "4                             Campement De Bohémiens        0       1896   \n",
              "\n",
              "  endYear  runtimeMinutes                genres  averageRating  numVotes  \n",
              "0    None             1.0  [Documentary, Short]            5.8      1726  \n",
              "1    None             NaN       [Comedy, Short]            5.3        28  \n",
              "2    None             1.0  [Documentary, Short]            5.7      1420  \n",
              "3    None             1.0               [Short]            4.4        39  \n",
              "4    None             NaN  [Documentary, Short]            3.7        31  "
            ],
            "text/html": [
              "\n",
              "  <div id=\"df-109f357f-817f-49a3-aada-abb2bb645e26\">\n",
              "    <div class=\"colab-df-container\">\n",
              "      <div>\n",
              "<style scoped>\n",
              "    .dataframe tbody tr th:only-of-type {\n",
              "        vertical-align: middle;\n",
              "    }\n",
              "\n",
              "    .dataframe tbody tr th {\n",
              "        vertical-align: top;\n",
              "    }\n",
              "\n",
              "    .dataframe thead th {\n",
              "        text-align: right;\n",
              "    }\n",
              "</style>\n",
              "<table border=\"1\" class=\"dataframe\">\n",
              "  <thead>\n",
              "    <tr style=\"text-align: right;\">\n",
              "      <th></th>\n",
              "      <th>tconst</th>\n",
              "      <th>titleType</th>\n",
              "      <th>primaryTitle</th>\n",
              "      <th>originalTitle</th>\n",
              "      <th>isAdult</th>\n",
              "      <th>startYear</th>\n",
              "      <th>endYear</th>\n",
              "      <th>runtimeMinutes</th>\n",
              "      <th>genres</th>\n",
              "      <th>averageRating</th>\n",
              "      <th>numVotes</th>\n",
              "    </tr>\n",
              "  </thead>\n",
              "  <tbody>\n",
              "    <tr>\n",
              "      <th>0</th>\n",
              "      <td>tt0000013</td>\n",
              "      <td>Short</td>\n",
              "      <td>The Photographical Congress Arrives In Lyon</td>\n",
              "      <td>Le Débarquement Du Congrès De Photographie À Lyon</td>\n",
              "      <td>0</td>\n",
              "      <td>1895</td>\n",
              "      <td>None</td>\n",
              "      <td>1.0</td>\n",
              "      <td>[Documentary, Short]</td>\n",
              "      <td>5.8</td>\n",
              "      <td>1726</td>\n",
              "    </tr>\n",
              "    <tr>\n",
              "      <th>1</th>\n",
              "      <td>tt0000019</td>\n",
              "      <td>Short</td>\n",
              "      <td>The Clown Barber</td>\n",
              "      <td>The Clown Barber</td>\n",
              "      <td>0</td>\n",
              "      <td>1898</td>\n",
              "      <td>None</td>\n",
              "      <td>NaN</td>\n",
              "      <td>[Comedy, Short]</td>\n",
              "      <td>5.3</td>\n",
              "      <td>28</td>\n",
              "    </tr>\n",
              "    <tr>\n",
              "      <th>2</th>\n",
              "      <td>tt0000026</td>\n",
              "      <td>Short</td>\n",
              "      <td>The Messers. Lumière At Cards</td>\n",
              "      <td>Partie D'écarté</td>\n",
              "      <td>0</td>\n",
              "      <td>1896</td>\n",
              "      <td>None</td>\n",
              "      <td>1.0</td>\n",
              "      <td>[Documentary, Short]</td>\n",
              "      <td>5.7</td>\n",
              "      <td>1420</td>\n",
              "    </tr>\n",
              "    <tr>\n",
              "      <th>3</th>\n",
              "      <td>tt0000044</td>\n",
              "      <td>Short</td>\n",
              "      <td>Le Bivouac</td>\n",
              "      <td>Le Bivouac</td>\n",
              "      <td>0</td>\n",
              "      <td>1896</td>\n",
              "      <td>None</td>\n",
              "      <td>1.0</td>\n",
              "      <td>[Short]</td>\n",
              "      <td>4.4</td>\n",
              "      <td>39</td>\n",
              "    </tr>\n",
              "    <tr>\n",
              "      <th>4</th>\n",
              "      <td>tt0000051</td>\n",
              "      <td>Short</td>\n",
              "      <td>The Bohemian Encampment</td>\n",
              "      <td>Campement De Bohémiens</td>\n",
              "      <td>0</td>\n",
              "      <td>1896</td>\n",
              "      <td>None</td>\n",
              "      <td>NaN</td>\n",
              "      <td>[Documentary, Short]</td>\n",
              "      <td>3.7</td>\n",
              "      <td>31</td>\n",
              "    </tr>\n",
              "  </tbody>\n",
              "</table>\n",
              "</div>\n",
              "      <button class=\"colab-df-convert\" onclick=\"convertToInteractive('df-109f357f-817f-49a3-aada-abb2bb645e26')\"\n",
              "              title=\"Convert this dataframe to an interactive table.\"\n",
              "              style=\"display:none;\">\n",
              "        \n",
              "  <svg xmlns=\"http://www.w3.org/2000/svg\" height=\"24px\"viewBox=\"0 0 24 24\"\n",
              "       width=\"24px\">\n",
              "    <path d=\"M0 0h24v24H0V0z\" fill=\"none\"/>\n",
              "    <path d=\"M18.56 5.44l.94 2.06.94-2.06 2.06-.94-2.06-.94-.94-2.06-.94 2.06-2.06.94zm-11 1L8.5 8.5l.94-2.06 2.06-.94-2.06-.94L8.5 2.5l-.94 2.06-2.06.94zm10 10l.94 2.06.94-2.06 2.06-.94-2.06-.94-.94-2.06-.94 2.06-2.06.94z\"/><path d=\"M17.41 7.96l-1.37-1.37c-.4-.4-.92-.59-1.43-.59-.52 0-1.04.2-1.43.59L10.3 9.45l-7.72 7.72c-.78.78-.78 2.05 0 2.83L4 21.41c.39.39.9.59 1.41.59.51 0 1.02-.2 1.41-.59l7.78-7.78 2.81-2.81c.8-.78.8-2.07 0-2.86zM5.41 20L4 18.59l7.72-7.72 1.47 1.35L5.41 20z\"/>\n",
              "  </svg>\n",
              "      </button>\n",
              "      \n",
              "  <style>\n",
              "    .colab-df-container {\n",
              "      display:flex;\n",
              "      flex-wrap:wrap;\n",
              "      gap: 12px;\n",
              "    }\n",
              "\n",
              "    .colab-df-convert {\n",
              "      background-color: #E8F0FE;\n",
              "      border: none;\n",
              "      border-radius: 50%;\n",
              "      cursor: pointer;\n",
              "      display: none;\n",
              "      fill: #1967D2;\n",
              "      height: 32px;\n",
              "      padding: 0 0 0 0;\n",
              "      width: 32px;\n",
              "    }\n",
              "\n",
              "    .colab-df-convert:hover {\n",
              "      background-color: #E2EBFA;\n",
              "      box-shadow: 0px 1px 2px rgba(60, 64, 67, 0.3), 0px 1px 3px 1px rgba(60, 64, 67, 0.15);\n",
              "      fill: #174EA6;\n",
              "    }\n",
              "\n",
              "    [theme=dark] .colab-df-convert {\n",
              "      background-color: #3B4455;\n",
              "      fill: #D2E3FC;\n",
              "    }\n",
              "\n",
              "    [theme=dark] .colab-df-convert:hover {\n",
              "      background-color: #434B5C;\n",
              "      box-shadow: 0px 1px 3px 1px rgba(0, 0, 0, 0.15);\n",
              "      filter: drop-shadow(0px 1px 2px rgba(0, 0, 0, 0.3));\n",
              "      fill: #FFFFFF;\n",
              "    }\n",
              "  </style>\n",
              "\n",
              "      <script>\n",
              "        const buttonEl =\n",
              "          document.querySelector('#df-109f357f-817f-49a3-aada-abb2bb645e26 button.colab-df-convert');\n",
              "        buttonEl.style.display =\n",
              "          google.colab.kernel.accessAllowed ? 'block' : 'none';\n",
              "\n",
              "        async function convertToInteractive(key) {\n",
              "          const element = document.querySelector('#df-109f357f-817f-49a3-aada-abb2bb645e26');\n",
              "          const dataTable =\n",
              "            await google.colab.kernel.invokeFunction('convertToInteractive',\n",
              "                                                     [key], {});\n",
              "          if (!dataTable) return;\n",
              "\n",
              "          const docLinkHtml = 'Like what you see? Visit the ' +\n",
              "            '<a target=\"_blank\" href=https://colab.research.google.com/notebooks/data_table.ipynb>data table notebook</a>'\n",
              "            + ' to learn more about interactive tables.';\n",
              "          element.innerHTML = '';\n",
              "          dataTable['output_type'] = 'display_data';\n",
              "          await google.colab.output.renderOutput(dataTable, element);\n",
              "          const docLink = document.createElement('div');\n",
              "          docLink.innerHTML = docLinkHtml;\n",
              "          element.appendChild(docLink);\n",
              "        }\n",
              "      </script>\n",
              "    </div>\n",
              "  </div>\n",
              "  "
            ]
          },
          "metadata": {},
          "execution_count": 20
        }
      ],
      "source": [
        "df_join.limit(5).toPandas()"
      ]
    },
    {
      "cell_type": "code",
      "execution_count": null,
      "metadata": {
        "id": "a31925c4"
      },
      "outputs": [],
      "source": [
        "df_final = (\n",
        "    df_join\n",
        "    .withColumn('genres', f.explode(f.col('genres')))\n",
        "    .groupBy('titleType')\n",
        "    .pivot('genres')\n",
        "    .agg(f.round(f.mean('averageRating'), 2))\n",
        "    .fillna(0)\n",
        ")"
      ]
    },
    {
      "cell_type": "code",
      "execution_count": null,
      "metadata": {
        "id": "14cd3cc4",
        "colab": {
          "base_uri": "https://localhost:8080/",
          "height": 317
        },
        "outputId": "473da0c4-8451-42b0-d3a9-7e0fa0561830"
      },
      "outputs": [
        {
          "output_type": "execute_result",
          "data": {
            "text/plain": [
              "      titleType  Action  Adult  Adventure  Animation  Biography  Comedy  \\\n",
              "0     Tvepisode    7.50   7.34       7.39       7.30       7.42    7.34   \n",
              "1         Video    5.89   6.50       6.04       6.51       7.33    6.36   \n",
              "2     Videogame    6.98   0.00       7.26       6.77       0.00    7.03   \n",
              "3  Tvminiseries    6.83   5.03       7.03       6.50       7.52    6.92   \n",
              "4       Tvmovie    5.66   6.00       5.97       6.70       6.90    6.45   \n",
              "\n",
              "   Crime  Documentary  Drama  ...  News  Reality-TV  Romance  Sci-Fi  Short  \\\n",
              "0   7.56         7.54   7.63  ...  6.63        7.04     7.54    7.41   6.98   \n",
              "1   5.77         6.94   6.15  ...  4.52        6.12     6.05    6.00   6.72   \n",
              "2   7.24         6.55   7.52  ...  0.00        6.95     7.57    7.01   0.00   \n",
              "3   6.93         7.61   7.12  ...  5.37        6.35     6.92    7.06   6.88   \n",
              "4   6.21         7.11   6.58  ...  7.10        5.99     6.10    5.80   0.00   \n",
              "\n",
              "   Sport  Talk-Show  Thriller   War  Western  \n",
              "0   7.10       6.77      7.50  7.81     7.71  \n",
              "1   6.79       7.29      5.01  6.03     6.35  \n",
              "2   6.67       0.00      6.90  7.12     5.80  \n",
              "3   7.31       6.08      6.81  7.17     7.57  \n",
              "4   6.93       0.00      5.67  7.06     6.30  \n",
              "\n",
              "[5 rows x 29 columns]"
            ],
            "text/html": [
              "\n",
              "  <div id=\"df-bef24610-5830-485e-8010-ff2daad743eb\">\n",
              "    <div class=\"colab-df-container\">\n",
              "      <div>\n",
              "<style scoped>\n",
              "    .dataframe tbody tr th:only-of-type {\n",
              "        vertical-align: middle;\n",
              "    }\n",
              "\n",
              "    .dataframe tbody tr th {\n",
              "        vertical-align: top;\n",
              "    }\n",
              "\n",
              "    .dataframe thead th {\n",
              "        text-align: right;\n",
              "    }\n",
              "</style>\n",
              "<table border=\"1\" class=\"dataframe\">\n",
              "  <thead>\n",
              "    <tr style=\"text-align: right;\">\n",
              "      <th></th>\n",
              "      <th>titleType</th>\n",
              "      <th>Action</th>\n",
              "      <th>Adult</th>\n",
              "      <th>Adventure</th>\n",
              "      <th>Animation</th>\n",
              "      <th>Biography</th>\n",
              "      <th>Comedy</th>\n",
              "      <th>Crime</th>\n",
              "      <th>Documentary</th>\n",
              "      <th>Drama</th>\n",
              "      <th>...</th>\n",
              "      <th>News</th>\n",
              "      <th>Reality-TV</th>\n",
              "      <th>Romance</th>\n",
              "      <th>Sci-Fi</th>\n",
              "      <th>Short</th>\n",
              "      <th>Sport</th>\n",
              "      <th>Talk-Show</th>\n",
              "      <th>Thriller</th>\n",
              "      <th>War</th>\n",
              "      <th>Western</th>\n",
              "    </tr>\n",
              "  </thead>\n",
              "  <tbody>\n",
              "    <tr>\n",
              "      <th>0</th>\n",
              "      <td>Tvepisode</td>\n",
              "      <td>7.50</td>\n",
              "      <td>7.34</td>\n",
              "      <td>7.39</td>\n",
              "      <td>7.30</td>\n",
              "      <td>7.42</td>\n",
              "      <td>7.34</td>\n",
              "      <td>7.56</td>\n",
              "      <td>7.54</td>\n",
              "      <td>7.63</td>\n",
              "      <td>...</td>\n",
              "      <td>6.63</td>\n",
              "      <td>7.04</td>\n",
              "      <td>7.54</td>\n",
              "      <td>7.41</td>\n",
              "      <td>6.98</td>\n",
              "      <td>7.10</td>\n",
              "      <td>6.77</td>\n",
              "      <td>7.50</td>\n",
              "      <td>7.81</td>\n",
              "      <td>7.71</td>\n",
              "    </tr>\n",
              "    <tr>\n",
              "      <th>1</th>\n",
              "      <td>Video</td>\n",
              "      <td>5.89</td>\n",
              "      <td>6.50</td>\n",
              "      <td>6.04</td>\n",
              "      <td>6.51</td>\n",
              "      <td>7.33</td>\n",
              "      <td>6.36</td>\n",
              "      <td>5.77</td>\n",
              "      <td>6.94</td>\n",
              "      <td>6.15</td>\n",
              "      <td>...</td>\n",
              "      <td>4.52</td>\n",
              "      <td>6.12</td>\n",
              "      <td>6.05</td>\n",
              "      <td>6.00</td>\n",
              "      <td>6.72</td>\n",
              "      <td>6.79</td>\n",
              "      <td>7.29</td>\n",
              "      <td>5.01</td>\n",
              "      <td>6.03</td>\n",
              "      <td>6.35</td>\n",
              "    </tr>\n",
              "    <tr>\n",
              "      <th>2</th>\n",
              "      <td>Videogame</td>\n",
              "      <td>6.98</td>\n",
              "      <td>0.00</td>\n",
              "      <td>7.26</td>\n",
              "      <td>6.77</td>\n",
              "      <td>0.00</td>\n",
              "      <td>7.03</td>\n",
              "      <td>7.24</td>\n",
              "      <td>6.55</td>\n",
              "      <td>7.52</td>\n",
              "      <td>...</td>\n",
              "      <td>0.00</td>\n",
              "      <td>6.95</td>\n",
              "      <td>7.57</td>\n",
              "      <td>7.01</td>\n",
              "      <td>0.00</td>\n",
              "      <td>6.67</td>\n",
              "      <td>0.00</td>\n",
              "      <td>6.90</td>\n",
              "      <td>7.12</td>\n",
              "      <td>5.80</td>\n",
              "    </tr>\n",
              "    <tr>\n",
              "      <th>3</th>\n",
              "      <td>Tvminiseries</td>\n",
              "      <td>6.83</td>\n",
              "      <td>5.03</td>\n",
              "      <td>7.03</td>\n",
              "      <td>6.50</td>\n",
              "      <td>7.52</td>\n",
              "      <td>6.92</td>\n",
              "      <td>6.93</td>\n",
              "      <td>7.61</td>\n",
              "      <td>7.12</td>\n",
              "      <td>...</td>\n",
              "      <td>5.37</td>\n",
              "      <td>6.35</td>\n",
              "      <td>6.92</td>\n",
              "      <td>7.06</td>\n",
              "      <td>6.88</td>\n",
              "      <td>7.31</td>\n",
              "      <td>6.08</td>\n",
              "      <td>6.81</td>\n",
              "      <td>7.17</td>\n",
              "      <td>7.57</td>\n",
              "    </tr>\n",
              "    <tr>\n",
              "      <th>4</th>\n",
              "      <td>Tvmovie</td>\n",
              "      <td>5.66</td>\n",
              "      <td>6.00</td>\n",
              "      <td>5.97</td>\n",
              "      <td>6.70</td>\n",
              "      <td>6.90</td>\n",
              "      <td>6.45</td>\n",
              "      <td>6.21</td>\n",
              "      <td>7.11</td>\n",
              "      <td>6.58</td>\n",
              "      <td>...</td>\n",
              "      <td>7.10</td>\n",
              "      <td>5.99</td>\n",
              "      <td>6.10</td>\n",
              "      <td>5.80</td>\n",
              "      <td>0.00</td>\n",
              "      <td>6.93</td>\n",
              "      <td>0.00</td>\n",
              "      <td>5.67</td>\n",
              "      <td>7.06</td>\n",
              "      <td>6.30</td>\n",
              "    </tr>\n",
              "  </tbody>\n",
              "</table>\n",
              "<p>5 rows × 29 columns</p>\n",
              "</div>\n",
              "      <button class=\"colab-df-convert\" onclick=\"convertToInteractive('df-bef24610-5830-485e-8010-ff2daad743eb')\"\n",
              "              title=\"Convert this dataframe to an interactive table.\"\n",
              "              style=\"display:none;\">\n",
              "        \n",
              "  <svg xmlns=\"http://www.w3.org/2000/svg\" height=\"24px\"viewBox=\"0 0 24 24\"\n",
              "       width=\"24px\">\n",
              "    <path d=\"M0 0h24v24H0V0z\" fill=\"none\"/>\n",
              "    <path d=\"M18.56 5.44l.94 2.06.94-2.06 2.06-.94-2.06-.94-.94-2.06-.94 2.06-2.06.94zm-11 1L8.5 8.5l.94-2.06 2.06-.94-2.06-.94L8.5 2.5l-.94 2.06-2.06.94zm10 10l.94 2.06.94-2.06 2.06-.94-2.06-.94-.94-2.06-.94 2.06-2.06.94z\"/><path d=\"M17.41 7.96l-1.37-1.37c-.4-.4-.92-.59-1.43-.59-.52 0-1.04.2-1.43.59L10.3 9.45l-7.72 7.72c-.78.78-.78 2.05 0 2.83L4 21.41c.39.39.9.59 1.41.59.51 0 1.02-.2 1.41-.59l7.78-7.78 2.81-2.81c.8-.78.8-2.07 0-2.86zM5.41 20L4 18.59l7.72-7.72 1.47 1.35L5.41 20z\"/>\n",
              "  </svg>\n",
              "      </button>\n",
              "      \n",
              "  <style>\n",
              "    .colab-df-container {\n",
              "      display:flex;\n",
              "      flex-wrap:wrap;\n",
              "      gap: 12px;\n",
              "    }\n",
              "\n",
              "    .colab-df-convert {\n",
              "      background-color: #E8F0FE;\n",
              "      border: none;\n",
              "      border-radius: 50%;\n",
              "      cursor: pointer;\n",
              "      display: none;\n",
              "      fill: #1967D2;\n",
              "      height: 32px;\n",
              "      padding: 0 0 0 0;\n",
              "      width: 32px;\n",
              "    }\n",
              "\n",
              "    .colab-df-convert:hover {\n",
              "      background-color: #E2EBFA;\n",
              "      box-shadow: 0px 1px 2px rgba(60, 64, 67, 0.3), 0px 1px 3px 1px rgba(60, 64, 67, 0.15);\n",
              "      fill: #174EA6;\n",
              "    }\n",
              "\n",
              "    [theme=dark] .colab-df-convert {\n",
              "      background-color: #3B4455;\n",
              "      fill: #D2E3FC;\n",
              "    }\n",
              "\n",
              "    [theme=dark] .colab-df-convert:hover {\n",
              "      background-color: #434B5C;\n",
              "      box-shadow: 0px 1px 3px 1px rgba(0, 0, 0, 0.15);\n",
              "      filter: drop-shadow(0px 1px 2px rgba(0, 0, 0, 0.3));\n",
              "      fill: #FFFFFF;\n",
              "    }\n",
              "  </style>\n",
              "\n",
              "      <script>\n",
              "        const buttonEl =\n",
              "          document.querySelector('#df-bef24610-5830-485e-8010-ff2daad743eb button.colab-df-convert');\n",
              "        buttonEl.style.display =\n",
              "          google.colab.kernel.accessAllowed ? 'block' : 'none';\n",
              "\n",
              "        async function convertToInteractive(key) {\n",
              "          const element = document.querySelector('#df-bef24610-5830-485e-8010-ff2daad743eb');\n",
              "          const dataTable =\n",
              "            await google.colab.kernel.invokeFunction('convertToInteractive',\n",
              "                                                     [key], {});\n",
              "          if (!dataTable) return;\n",
              "\n",
              "          const docLinkHtml = 'Like what you see? Visit the ' +\n",
              "            '<a target=\"_blank\" href=https://colab.research.google.com/notebooks/data_table.ipynb>data table notebook</a>'\n",
              "            + ' to learn more about interactive tables.';\n",
              "          element.innerHTML = '';\n",
              "          dataTable['output_type'] = 'display_data';\n",
              "          await google.colab.output.renderOutput(dataTable, element);\n",
              "          const docLink = document.createElement('div');\n",
              "          docLink.innerHTML = docLinkHtml;\n",
              "          element.appendChild(docLink);\n",
              "        }\n",
              "      </script>\n",
              "    </div>\n",
              "  </div>\n",
              "  "
            ]
          },
          "metadata": {},
          "execution_count": 22
        }
      ],
      "source": [
        "df_final.limit(5).toPandas()"
      ]
    },
    {
      "cell_type": "code",
      "execution_count": null,
      "metadata": {
        "scrolled": true,
        "id": "fa14bac6",
        "colab": {
          "base_uri": "https://localhost:8080/"
        },
        "outputId": "4b7f6c97-bb08-4174-83ea-d8c5160c67ac"
      },
      "outputs": [
        {
          "output_type": "stream",
          "name": "stdout",
          "text": [
            "== Parsed Logical Plan ==\n",
            "'Project [titleType#146, coalesce(nanvl(Action#267, null), cast(0.0 as double)) AS Action#353, coalesce(nanvl(Adult#268, null), cast(0.0 as double)) AS Adult#354, coalesce(nanvl(Adventure#269, null), cast(0.0 as double)) AS Adventure#355, coalesce(nanvl(Animation#270, null), cast(0.0 as double)) AS Animation#356, coalesce(nanvl(Biography#271, null), cast(0.0 as double)) AS Biography#357, coalesce(nanvl(Comedy#272, null), cast(0.0 as double)) AS Comedy#358, coalesce(nanvl(Crime#273, null), cast(0.0 as double)) AS Crime#359, coalesce(nanvl(Documentary#274, null), cast(0.0 as double)) AS Documentary#360, coalesce(nanvl(Drama#275, null), cast(0.0 as double)) AS Drama#361, coalesce(nanvl(Family#276, null), cast(0.0 as double)) AS Family#362, coalesce(nanvl(Fantasy#277, null), cast(0.0 as double)) AS Fantasy#363, coalesce(nanvl(Film-Noir#278, null), cast(0.0 as double)) AS Film-Noir#364, coalesce(nanvl(Game-Show#279, null), cast(0.0 as double)) AS Game-Show#365, coalesce(nanvl(History#280, null), cast(0.0 as double)) AS History#366, coalesce(nanvl(Horror#281, null), cast(0.0 as double)) AS Horror#367, coalesce(nanvl(Music#282, null), cast(0.0 as double)) AS Music#368, coalesce(nanvl(Musical#283, null), cast(0.0 as double)) AS Musical#369, coalesce(nanvl(Mystery#284, null), cast(0.0 as double)) AS Mystery#370, coalesce(nanvl(News#285, null), cast(0.0 as double)) AS News#371, coalesce(nanvl(Reality-TV#286, null), cast(0.0 as double)) AS Reality-TV#372, coalesce(nanvl(Romance#287, null), cast(0.0 as double)) AS Romance#373, coalesce(nanvl(Sci-Fi#288, null), cast(0.0 as double)) AS Sci-Fi#374, coalesce(nanvl(Short#289, null), cast(0.0 as double)) AS Short#375, ... 5 more fields]\n",
            "+- Project [titleType#146, __pivot_round(avg(`averageRating`), 2) AS `round(avg(``averageRating``), 2)`#266[0] AS Action#267, __pivot_round(avg(`averageRating`), 2) AS `round(avg(``averageRating``), 2)`#266[1] AS Adult#268, __pivot_round(avg(`averageRating`), 2) AS `round(avg(``averageRating``), 2)`#266[2] AS Adventure#269, __pivot_round(avg(`averageRating`), 2) AS `round(avg(``averageRating``), 2)`#266[3] AS Animation#270, __pivot_round(avg(`averageRating`), 2) AS `round(avg(``averageRating``), 2)`#266[4] AS Biography#271, __pivot_round(avg(`averageRating`), 2) AS `round(avg(``averageRating``), 2)`#266[5] AS Comedy#272, __pivot_round(avg(`averageRating`), 2) AS `round(avg(``averageRating``), 2)`#266[6] AS Crime#273, __pivot_round(avg(`averageRating`), 2) AS `round(avg(``averageRating``), 2)`#266[7] AS Documentary#274, __pivot_round(avg(`averageRating`), 2) AS `round(avg(``averageRating``), 2)`#266[8] AS Drama#275, __pivot_round(avg(`averageRating`), 2) AS `round(avg(``averageRating``), 2)`#266[9] AS Family#276, __pivot_round(avg(`averageRating`), 2) AS `round(avg(``averageRating``), 2)`#266[10] AS Fantasy#277, __pivot_round(avg(`averageRating`), 2) AS `round(avg(``averageRating``), 2)`#266[11] AS Film-Noir#278, __pivot_round(avg(`averageRating`), 2) AS `round(avg(``averageRating``), 2)`#266[12] AS Game-Show#279, __pivot_round(avg(`averageRating`), 2) AS `round(avg(``averageRating``), 2)`#266[13] AS History#280, __pivot_round(avg(`averageRating`), 2) AS `round(avg(``averageRating``), 2)`#266[14] AS Horror#281, __pivot_round(avg(`averageRating`), 2) AS `round(avg(``averageRating``), 2)`#266[15] AS Music#282, __pivot_round(avg(`averageRating`), 2) AS `round(avg(``averageRating``), 2)`#266[16] AS Musical#283, __pivot_round(avg(`averageRating`), 2) AS `round(avg(``averageRating``), 2)`#266[17] AS Mystery#284, __pivot_round(avg(`averageRating`), 2) AS `round(avg(``averageRating``), 2)`#266[18] AS News#285, __pivot_round(avg(`averageRating`), 2) AS `round(avg(``averageRating``), 2)`#266[19] AS Reality-TV#286, __pivot_round(avg(`averageRating`), 2) AS `round(avg(``averageRating``), 2)`#266[20] AS Romance#287, __pivot_round(avg(`averageRating`), 2) AS `round(avg(``averageRating``), 2)`#266[21] AS Sci-Fi#288, __pivot_round(avg(`averageRating`), 2) AS `round(avg(``averageRating``), 2)`#266[22] AS Short#289, ... 5 more fields]\n",
            "   +- Aggregate [titleType#146], [titleType#146, pivotfirst(genres#181, round(avg(`averageRating`), 2)#208, Action, Adult, Adventure, Animation, Biography, Comedy, Crime, Documentary, Drama, Family, Fantasy, Film-Noir, Game-Show, History, Horror, Music, Musical, Mystery, News, Reality-TV, Romance, Sci-Fi, Short, Sport, Talk-Show, Thriller, War, Western, 0, 0) AS __pivot_round(avg(`averageRating`), 2) AS `round(avg(``averageRating``), 2)`#266]\n",
            "      +- Aggregate [titleType#146, genres#181], [titleType#146, genres#181, round(avg(averageRating#47), 2) AS round(avg(`averageRating`), 2)#208]\n",
            "         +- Project [tconst#145, titleType#146, primaryTitle#147, originalTitle#148, isAdult#96, startYear#66, endYear#76, runtimeMinutes#86, genres#181, averageRating#47, numVotes#48]\n",
            "            +- Generate explode(genres#159), false, [genres#181]\n",
            "               +- Project [tconst#145, titleType#146, primaryTitle#147, originalTitle#148, isAdult#96, startYear#66, endYear#76, runtimeMinutes#86, genres#159, averageRating#47, numVotes#48]\n",
            "                  +- Join LeftOuter, (tconst#145 = tconst#46)\n",
            "                     :- Project [tconst#145, titleType#146, primaryTitle#147, originalTitle#148, isAdult#96, startYear#66, endYear#76, runtimeMinutes#86, split(genres#149, ,) AS genres#159]\n",
            "                     :  +- Project [CASE WHEN (tconst#28 = cast(\\N as string)) THEN cast(null as string) ELSE tconst#28 END AS tconst#145, CASE WHEN (titleType#126 = cast(\\N as string)) THEN cast(null as string) ELSE titleType#126 END AS titleType#146, CASE WHEN (primaryTitle#106 = cast(\\N as string)) THEN cast(null as string) ELSE primaryTitle#106 END AS primaryTitle#147, CASE WHEN (originalTitle#116 = cast(\\N as string)) THEN cast(null as string) ELSE originalTitle#116 END AS originalTitle#148, isAdult#96, startYear#66, endYear#76, runtimeMinutes#86, CASE WHEN (genres#36 = cast(\\N as string)) THEN cast(null as string) ELSE genres#36 END AS genres#149]\n",
            "                     :     +- Project [tconst#28, initcap(trim(titleType#29, None)) AS titleType#126, primaryTitle#106, originalTitle#116, isAdult#96, startYear#66, endYear#76, runtimeMinutes#86, genres#36]\n",
            "                     :        +- Project [tconst#28, titleType#29, primaryTitle#106, initcap(trim(originalTitle#31, None)) AS originalTitle#116, isAdult#96, startYear#66, endYear#76, runtimeMinutes#86, genres#36]\n",
            "                     :           +- Project [tconst#28, titleType#29, initcap(trim(primaryTitle#30, None)) AS primaryTitle#106, originalTitle#31, isAdult#96, startYear#66, endYear#76, runtimeMinutes#86, genres#36]\n",
            "                     :              +- Project [tconst#28, titleType#29, primaryTitle#30, originalTitle#31, cast(isAdult#32 as int) AS isAdult#96, startYear#66, endYear#76, runtimeMinutes#86, genres#36]\n",
            "                     :                 +- Project [tconst#28, titleType#29, primaryTitle#30, originalTitle#31, isAdult#32, startYear#66, endYear#76, cast(runtimeMinutes#35 as int) AS runtimeMinutes#86, genres#36]\n",
            "                     :                    +- Project [tconst#28, titleType#29, primaryTitle#30, originalTitle#31, isAdult#32, startYear#66, cast(endYear#34 as int) AS endYear#76, runtimeMinutes#35, genres#36]\n",
            "                     :                       +- Project [tconst#28, titleType#29, primaryTitle#30, originalTitle#31, isAdult#32, cast(startYear#33 as int) AS startYear#66, endYear#34, runtimeMinutes#35, genres#36]\n",
            "                     :                          +- Sample 0.0, 0.1, false, -6712961622537384150\n",
            "                     :                             +- Relation[tconst#28,titleType#29,primaryTitle#30,originalTitle#31,isAdult#32,startYear#33,endYear#34,runtimeMinutes#35,genres#36] parquet\n",
            "                     +- Relation[tconst#46,averageRating#47,numVotes#48] parquet\n",
            "\n",
            "== Analyzed Logical Plan ==\n",
            "titleType: string, Action: double, Adult: double, Adventure: double, Animation: double, Biography: double, Comedy: double, Crime: double, Documentary: double, Drama: double, Family: double, Fantasy: double, Film-Noir: double, Game-Show: double, History: double, Horror: double, Music: double, Musical: double, Mystery: double, News: double, Reality-TV: double, Romance: double, Sci-Fi: double, Short: double, ... 5 more fields\n",
            "Project [titleType#146, coalesce(nanvl(Action#267, cast(null as double)), cast(0.0 as double)) AS Action#353, coalesce(nanvl(Adult#268, cast(null as double)), cast(0.0 as double)) AS Adult#354, coalesce(nanvl(Adventure#269, cast(null as double)), cast(0.0 as double)) AS Adventure#355, coalesce(nanvl(Animation#270, cast(null as double)), cast(0.0 as double)) AS Animation#356, coalesce(nanvl(Biography#271, cast(null as double)), cast(0.0 as double)) AS Biography#357, coalesce(nanvl(Comedy#272, cast(null as double)), cast(0.0 as double)) AS Comedy#358, coalesce(nanvl(Crime#273, cast(null as double)), cast(0.0 as double)) AS Crime#359, coalesce(nanvl(Documentary#274, cast(null as double)), cast(0.0 as double)) AS Documentary#360, coalesce(nanvl(Drama#275, cast(null as double)), cast(0.0 as double)) AS Drama#361, coalesce(nanvl(Family#276, cast(null as double)), cast(0.0 as double)) AS Family#362, coalesce(nanvl(Fantasy#277, cast(null as double)), cast(0.0 as double)) AS Fantasy#363, coalesce(nanvl(Film-Noir#278, cast(null as double)), cast(0.0 as double)) AS Film-Noir#364, coalesce(nanvl(Game-Show#279, cast(null as double)), cast(0.0 as double)) AS Game-Show#365, coalesce(nanvl(History#280, cast(null as double)), cast(0.0 as double)) AS History#366, coalesce(nanvl(Horror#281, cast(null as double)), cast(0.0 as double)) AS Horror#367, coalesce(nanvl(Music#282, cast(null as double)), cast(0.0 as double)) AS Music#368, coalesce(nanvl(Musical#283, cast(null as double)), cast(0.0 as double)) AS Musical#369, coalesce(nanvl(Mystery#284, cast(null as double)), cast(0.0 as double)) AS Mystery#370, coalesce(nanvl(News#285, cast(null as double)), cast(0.0 as double)) AS News#371, coalesce(nanvl(Reality-TV#286, cast(null as double)), cast(0.0 as double)) AS Reality-TV#372, coalesce(nanvl(Romance#287, cast(null as double)), cast(0.0 as double)) AS Romance#373, coalesce(nanvl(Sci-Fi#288, cast(null as double)), cast(0.0 as double)) AS Sci-Fi#374, coalesce(nanvl(Short#289, cast(null as double)), cast(0.0 as double)) AS Short#375, ... 5 more fields]\n",
            "+- Project [titleType#146, __pivot_round(avg(`averageRating`), 2) AS `round(avg(``averageRating``), 2)`#266[0] AS Action#267, __pivot_round(avg(`averageRating`), 2) AS `round(avg(``averageRating``), 2)`#266[1] AS Adult#268, __pivot_round(avg(`averageRating`), 2) AS `round(avg(``averageRating``), 2)`#266[2] AS Adventure#269, __pivot_round(avg(`averageRating`), 2) AS `round(avg(``averageRating``), 2)`#266[3] AS Animation#270, __pivot_round(avg(`averageRating`), 2) AS `round(avg(``averageRating``), 2)`#266[4] AS Biography#271, __pivot_round(avg(`averageRating`), 2) AS `round(avg(``averageRating``), 2)`#266[5] AS Comedy#272, __pivot_round(avg(`averageRating`), 2) AS `round(avg(``averageRating``), 2)`#266[6] AS Crime#273, __pivot_round(avg(`averageRating`), 2) AS `round(avg(``averageRating``), 2)`#266[7] AS Documentary#274, __pivot_round(avg(`averageRating`), 2) AS `round(avg(``averageRating``), 2)`#266[8] AS Drama#275, __pivot_round(avg(`averageRating`), 2) AS `round(avg(``averageRating``), 2)`#266[9] AS Family#276, __pivot_round(avg(`averageRating`), 2) AS `round(avg(``averageRating``), 2)`#266[10] AS Fantasy#277, __pivot_round(avg(`averageRating`), 2) AS `round(avg(``averageRating``), 2)`#266[11] AS Film-Noir#278, __pivot_round(avg(`averageRating`), 2) AS `round(avg(``averageRating``), 2)`#266[12] AS Game-Show#279, __pivot_round(avg(`averageRating`), 2) AS `round(avg(``averageRating``), 2)`#266[13] AS History#280, __pivot_round(avg(`averageRating`), 2) AS `round(avg(``averageRating``), 2)`#266[14] AS Horror#281, __pivot_round(avg(`averageRating`), 2) AS `round(avg(``averageRating``), 2)`#266[15] AS Music#282, __pivot_round(avg(`averageRating`), 2) AS `round(avg(``averageRating``), 2)`#266[16] AS Musical#283, __pivot_round(avg(`averageRating`), 2) AS `round(avg(``averageRating``), 2)`#266[17] AS Mystery#284, __pivot_round(avg(`averageRating`), 2) AS `round(avg(``averageRating``), 2)`#266[18] AS News#285, __pivot_round(avg(`averageRating`), 2) AS `round(avg(``averageRating``), 2)`#266[19] AS Reality-TV#286, __pivot_round(avg(`averageRating`), 2) AS `round(avg(``averageRating``), 2)`#266[20] AS Romance#287, __pivot_round(avg(`averageRating`), 2) AS `round(avg(``averageRating``), 2)`#266[21] AS Sci-Fi#288, __pivot_round(avg(`averageRating`), 2) AS `round(avg(``averageRating``), 2)`#266[22] AS Short#289, ... 5 more fields]\n",
            "   +- Aggregate [titleType#146], [titleType#146, pivotfirst(genres#181, round(avg(`averageRating`), 2)#208, Action, Adult, Adventure, Animation, Biography, Comedy, Crime, Documentary, Drama, Family, Fantasy, Film-Noir, Game-Show, History, Horror, Music, Musical, Mystery, News, Reality-TV, Romance, Sci-Fi, Short, Sport, Talk-Show, Thriller, War, Western, 0, 0) AS __pivot_round(avg(`averageRating`), 2) AS `round(avg(``averageRating``), 2)`#266]\n",
            "      +- Aggregate [titleType#146, genres#181], [titleType#146, genres#181, round(avg(averageRating#47), 2) AS round(avg(`averageRating`), 2)#208]\n",
            "         +- Project [tconst#145, titleType#146, primaryTitle#147, originalTitle#148, isAdult#96, startYear#66, endYear#76, runtimeMinutes#86, genres#181, averageRating#47, numVotes#48]\n",
            "            +- Generate explode(genres#159), false, [genres#181]\n",
            "               +- Project [tconst#145, titleType#146, primaryTitle#147, originalTitle#148, isAdult#96, startYear#66, endYear#76, runtimeMinutes#86, genres#159, averageRating#47, numVotes#48]\n",
            "                  +- Join LeftOuter, (tconst#145 = tconst#46)\n",
            "                     :- Project [tconst#145, titleType#146, primaryTitle#147, originalTitle#148, isAdult#96, startYear#66, endYear#76, runtimeMinutes#86, split(genres#149, ,) AS genres#159]\n",
            "                     :  +- Project [CASE WHEN (tconst#28 = cast(\\N as string)) THEN cast(null as string) ELSE tconst#28 END AS tconst#145, CASE WHEN (titleType#126 = cast(\\N as string)) THEN cast(null as string) ELSE titleType#126 END AS titleType#146, CASE WHEN (primaryTitle#106 = cast(\\N as string)) THEN cast(null as string) ELSE primaryTitle#106 END AS primaryTitle#147, CASE WHEN (originalTitle#116 = cast(\\N as string)) THEN cast(null as string) ELSE originalTitle#116 END AS originalTitle#148, isAdult#96, startYear#66, endYear#76, runtimeMinutes#86, CASE WHEN (genres#36 = cast(\\N as string)) THEN cast(null as string) ELSE genres#36 END AS genres#149]\n",
            "                     :     +- Project [tconst#28, initcap(trim(titleType#29, None)) AS titleType#126, primaryTitle#106, originalTitle#116, isAdult#96, startYear#66, endYear#76, runtimeMinutes#86, genres#36]\n",
            "                     :        +- Project [tconst#28, titleType#29, primaryTitle#106, initcap(trim(originalTitle#31, None)) AS originalTitle#116, isAdult#96, startYear#66, endYear#76, runtimeMinutes#86, genres#36]\n",
            "                     :           +- Project [tconst#28, titleType#29, initcap(trim(primaryTitle#30, None)) AS primaryTitle#106, originalTitle#31, isAdult#96, startYear#66, endYear#76, runtimeMinutes#86, genres#36]\n",
            "                     :              +- Project [tconst#28, titleType#29, primaryTitle#30, originalTitle#31, cast(isAdult#32 as int) AS isAdult#96, startYear#66, endYear#76, runtimeMinutes#86, genres#36]\n",
            "                     :                 +- Project [tconst#28, titleType#29, primaryTitle#30, originalTitle#31, isAdult#32, startYear#66, endYear#76, cast(runtimeMinutes#35 as int) AS runtimeMinutes#86, genres#36]\n",
            "                     :                    +- Project [tconst#28, titleType#29, primaryTitle#30, originalTitle#31, isAdult#32, startYear#66, cast(endYear#34 as int) AS endYear#76, runtimeMinutes#35, genres#36]\n",
            "                     :                       +- Project [tconst#28, titleType#29, primaryTitle#30, originalTitle#31, isAdult#32, cast(startYear#33 as int) AS startYear#66, endYear#34, runtimeMinutes#35, genres#36]\n",
            "                     :                          +- Sample 0.0, 0.1, false, -6712961622537384150\n",
            "                     :                             +- Relation[tconst#28,titleType#29,primaryTitle#30,originalTitle#31,isAdult#32,startYear#33,endYear#34,runtimeMinutes#35,genres#36] parquet\n",
            "                     +- Relation[tconst#46,averageRating#47,numVotes#48] parquet\n",
            "\n",
            "== Optimized Logical Plan ==\n",
            "Aggregate [titleType#146], [titleType#146, coalesce(nanvl(pivotfirst(genres#181, round(avg(`averageRating`), 2)#208, Action, Adult, Adventure, Animation, Biography, Comedy, Crime, Documentary, Drama, Family, Fantasy, Film-Noir, Game-Show, History, Horror, Music, Musical, Mystery, News, Reality-TV, Romance, Sci-Fi, Short, Sport, Talk-Show, Thriller, War, Western, 0, 0)[0], null), 0.0) AS Action#353, coalesce(nanvl(pivotfirst(genres#181, round(avg(`averageRating`), 2)#208, Action, Adult, Adventure, Animation, Biography, Comedy, Crime, Documentary, Drama, Family, Fantasy, Film-Noir, Game-Show, History, Horror, Music, Musical, Mystery, News, Reality-TV, Romance, Sci-Fi, Short, Sport, Talk-Show, Thriller, War, Western, 0, 0)[1], null), 0.0) AS Adult#354, coalesce(nanvl(pivotfirst(genres#181, round(avg(`averageRating`), 2)#208, Action, Adult, Adventure, Animation, Biography, Comedy, Crime, Documentary, Drama, Family, Fantasy, Film-Noir, Game-Show, History, Horror, Music, Musical, Mystery, News, Reality-TV, Romance, Sci-Fi, Short, Sport, Talk-Show, Thriller, War, Western, 0, 0)[2], null), 0.0) AS Adventure#355, coalesce(nanvl(pivotfirst(genres#181, round(avg(`averageRating`), 2)#208, Action, Adult, Adventure, Animation, Biography, Comedy, Crime, Documentary, Drama, Family, Fantasy, Film-Noir, Game-Show, History, Horror, Music, Musical, Mystery, News, Reality-TV, Romance, Sci-Fi, Short, Sport, Talk-Show, Thriller, War, Western, 0, 0)[3], null), 0.0) AS Animation#356, coalesce(nanvl(pivotfirst(genres#181, round(avg(`averageRating`), 2)#208, Action, Adult, Adventure, Animation, Biography, Comedy, Crime, Documentary, Drama, Family, Fantasy, Film-Noir, Game-Show, History, Horror, Music, Musical, Mystery, News, Reality-TV, Romance, Sci-Fi, Short, Sport, Talk-Show, Thriller, War, Western, 0, 0)[4], null), 0.0) AS Biography#357, coalesce(nanvl(pivotfirst(genres#181, round(avg(`averageRating`), 2)#208, Action, Adult, Adventure, Animation, Biography, Comedy, Crime, Documentary, Drama, Family, Fantasy, Film-Noir, Game-Show, History, Horror, Music, Musical, Mystery, News, Reality-TV, Romance, Sci-Fi, Short, Sport, Talk-Show, Thriller, War, Western, 0, 0)[5], null), 0.0) AS Comedy#358, coalesce(nanvl(pivotfirst(genres#181, round(avg(`averageRating`), 2)#208, Action, Adult, Adventure, Animation, Biography, Comedy, Crime, Documentary, Drama, Family, Fantasy, Film-Noir, Game-Show, History, Horror, Music, Musical, Mystery, News, Reality-TV, Romance, Sci-Fi, Short, Sport, Talk-Show, Thriller, War, Western, 0, 0)[6], null), 0.0) AS Crime#359, coalesce(nanvl(pivotfirst(genres#181, round(avg(`averageRating`), 2)#208, Action, Adult, Adventure, Animation, Biography, Comedy, Crime, Documentary, Drama, Family, Fantasy, Film-Noir, Game-Show, History, Horror, Music, Musical, Mystery, News, Reality-TV, Romance, Sci-Fi, Short, Sport, Talk-Show, Thriller, War, Western, 0, 0)[7], null), 0.0) AS Documentary#360, coalesce(nanvl(pivotfirst(genres#181, round(avg(`averageRating`), 2)#208, Action, Adult, Adventure, Animation, Biography, Comedy, Crime, Documentary, Drama, Family, Fantasy, Film-Noir, Game-Show, History, Horror, Music, Musical, Mystery, News, Reality-TV, Romance, Sci-Fi, Short, Sport, Talk-Show, Thriller, War, Western, 0, 0)[8], null), 0.0) AS Drama#361, coalesce(nanvl(pivotfirst(genres#181, round(avg(`averageRating`), 2)#208, Action, Adult, Adventure, Animation, Biography, Comedy, Crime, Documentary, Drama, Family, Fantasy, Film-Noir, Game-Show, History, Horror, Music, Musical, Mystery, News, Reality-TV, Romance, Sci-Fi, Short, Sport, Talk-Show, Thriller, War, Western, 0, 0)[9], null), 0.0) AS Family#362, coalesce(nanvl(pivotfirst(genres#181, round(avg(`averageRating`), 2)#208, Action, Adult, Adventure, Animation, Biography, Comedy, Crime, Documentary, Drama, Family, Fantasy, Film-Noir, Game-Show, History, Horror, Music, Musical, Mystery, News, Reality-TV, Romance, Sci-Fi, Short, Sport, Talk-Show, Thriller, War, Western, 0, 0)[10], null), 0.0) AS Fantasy#363, coalesce(nanvl(pivotfirst(genres#181, round(avg(`averageRating`), 2)#208, Action, Adult, Adventure, Animation, Biography, Comedy, Crime, Documentary, Drama, Family, Fantasy, Film-Noir, Game-Show, History, Horror, Music, Musical, Mystery, News, Reality-TV, Romance, Sci-Fi, Short, Sport, Talk-Show, Thriller, War, Western, 0, 0)[11], null), 0.0) AS Film-Noir#364, coalesce(nanvl(pivotfirst(genres#181, round(avg(`averageRating`), 2)#208, Action, Adult, Adventure, Animation, Biography, Comedy, Crime, Documentary, Drama, Family, Fantasy, Film-Noir, Game-Show, History, Horror, Music, Musical, Mystery, News, Reality-TV, Romance, Sci-Fi, Short, Sport, Talk-Show, Thriller, War, Western, 0, 0)[12], null), 0.0) AS Game-Show#365, coalesce(nanvl(pivotfirst(genres#181, round(avg(`averageRating`), 2)#208, Action, Adult, Adventure, Animation, Biography, Comedy, Crime, Documentary, Drama, Family, Fantasy, Film-Noir, Game-Show, History, Horror, Music, Musical, Mystery, News, Reality-TV, Romance, Sci-Fi, Short, Sport, Talk-Show, Thriller, War, Western, 0, 0)[13], null), 0.0) AS History#366, coalesce(nanvl(pivotfirst(genres#181, round(avg(`averageRating`), 2)#208, Action, Adult, Adventure, Animation, Biography, Comedy, Crime, Documentary, Drama, Family, Fantasy, Film-Noir, Game-Show, History, Horror, Music, Musical, Mystery, News, Reality-TV, Romance, Sci-Fi, Short, Sport, Talk-Show, Thriller, War, Western, 0, 0)[14], null), 0.0) AS Horror#367, coalesce(nanvl(pivotfirst(genres#181, round(avg(`averageRating`), 2)#208, Action, Adult, Adventure, Animation, Biography, Comedy, Crime, Documentary, Drama, Family, Fantasy, Film-Noir, Game-Show, History, Horror, Music, Musical, Mystery, News, Reality-TV, Romance, Sci-Fi, Short, Sport, Talk-Show, Thriller, War, Western, 0, 0)[15], null), 0.0) AS Music#368, coalesce(nanvl(pivotfirst(genres#181, round(avg(`averageRating`), 2)#208, Action, Adult, Adventure, Animation, Biography, Comedy, Crime, Documentary, Drama, Family, Fantasy, Film-Noir, Game-Show, History, Horror, Music, Musical, Mystery, News, Reality-TV, Romance, Sci-Fi, Short, Sport, Talk-Show, Thriller, War, Western, 0, 0)[16], null), 0.0) AS Musical#369, coalesce(nanvl(pivotfirst(genres#181, round(avg(`averageRating`), 2)#208, Action, Adult, Adventure, Animation, Biography, Comedy, Crime, Documentary, Drama, Family, Fantasy, Film-Noir, Game-Show, History, Horror, Music, Musical, Mystery, News, Reality-TV, Romance, Sci-Fi, Short, Sport, Talk-Show, Thriller, War, Western, 0, 0)[17], null), 0.0) AS Mystery#370, coalesce(nanvl(pivotfirst(genres#181, round(avg(`averageRating`), 2)#208, Action, Adult, Adventure, Animation, Biography, Comedy, Crime, Documentary, Drama, Family, Fantasy, Film-Noir, Game-Show, History, Horror, Music, Musical, Mystery, News, Reality-TV, Romance, Sci-Fi, Short, Sport, Talk-Show, Thriller, War, Western, 0, 0)[18], null), 0.0) AS News#371, coalesce(nanvl(pivotfirst(genres#181, round(avg(`averageRating`), 2)#208, Action, Adult, Adventure, Animation, Biography, Comedy, Crime, Documentary, Drama, Family, Fantasy, Film-Noir, Game-Show, History, Horror, Music, Musical, Mystery, News, Reality-TV, Romance, Sci-Fi, Short, Sport, Talk-Show, Thriller, War, Western, 0, 0)[19], null), 0.0) AS Reality-TV#372, coalesce(nanvl(pivotfirst(genres#181, round(avg(`averageRating`), 2)#208, Action, Adult, Adventure, Animation, Biography, Comedy, Crime, Documentary, Drama, Family, Fantasy, Film-Noir, Game-Show, History, Horror, Music, Musical, Mystery, News, Reality-TV, Romance, Sci-Fi, Short, Sport, Talk-Show, Thriller, War, Western, 0, 0)[20], null), 0.0) AS Romance#373, coalesce(nanvl(pivotfirst(genres#181, round(avg(`averageRating`), 2)#208, Action, Adult, Adventure, Animation, Biography, Comedy, Crime, Documentary, Drama, Family, Fantasy, Film-Noir, Game-Show, History, Horror, Music, Musical, Mystery, News, Reality-TV, Romance, Sci-Fi, Short, Sport, Talk-Show, Thriller, War, Western, 0, 0)[21], null), 0.0) AS Sci-Fi#374, coalesce(nanvl(pivotfirst(genres#181, round(avg(`averageRating`), 2)#208, Action, Adult, Adventure, Animation, Biography, Comedy, Crime, Documentary, Drama, Family, Fantasy, Film-Noir, Game-Show, History, Horror, Music, Musical, Mystery, News, Reality-TV, Romance, Sci-Fi, Short, Sport, Talk-Show, Thriller, War, Western, 0, 0)[22], null), 0.0) AS Short#375, ... 5 more fields]\n",
            "+- Aggregate [titleType#146, genres#181], [titleType#146, genres#181, round(avg(averageRating#47), 2) AS round(avg(`averageRating`), 2)#208]\n",
            "   +- Project [titleType#146, genres#181, averageRating#47]\n",
            "      +- Generate explode(genres#159), [1], false, [genres#181]\n",
            "         +- Project [titleType#146, genres#159, averageRating#47]\n",
            "            +- Join LeftOuter, (tconst#145 = tconst#46)\n",
            "               :- Project [CASE WHEN (tconst#28 = \\N) THEN null ELSE tconst#28 END AS tconst#145, CASE WHEN (initcap(trim(titleType#29, None)) = \\N) THEN null ELSE initcap(trim(titleType#29, None)) END AS titleType#146, split(CASE WHEN (genres#36 = \\N) THEN null ELSE genres#36 END, ,) AS genres#159]\n",
            "               :  +- Sample 0.0, 0.1, false, -6712961622537384150\n",
            "               :     +- Project [tconst#28, titleType#29, genres#36]\n",
            "               :        +- Relation[tconst#28,titleType#29,primaryTitle#30,originalTitle#31,isAdult#32,startYear#33,endYear#34,runtimeMinutes#35,genres#36] parquet\n",
            "               +- Project [tconst#46, averageRating#47]\n",
            "                  +- Filter isnotnull(tconst#46)\n",
            "                     +- Relation[tconst#46,averageRating#47,numVotes#48] parquet\n",
            "\n",
            "== Physical Plan ==\n",
            "HashAggregate(keys=[titleType#146], functions=[pivotfirst(genres#181, round(avg(`averageRating`), 2)#208, Action, Adult, Adventure, Animation, Biography, Comedy, Crime, Documentary, Drama, Family, Fantasy, Film-Noir, Game-Show, History, Horror, Music, Musical, Mystery, News, Reality-TV, Romance, Sci-Fi, Short, Sport, Talk-Show, Thriller, War, Western, 0, 0)], output=[titleType#146, Action#353, Adult#354, Adventure#355, Animation#356, Biography#357, Comedy#358, Crime#359, Documentary#360, Drama#361, Family#362, Fantasy#363, Film-Noir#364, Game-Show#365, History#366, Horror#367, Music#368, Musical#369, Mystery#370, News#371, Reality-TV#372, Romance#373, Sci-Fi#374, Short#375, ... 5 more fields])\n",
            "+- Exchange hashpartitioning(titleType#146, 200)\n",
            "   +- HashAggregate(keys=[titleType#146], functions=[partial_pivotfirst(genres#181, round(avg(`averageRating`), 2)#208, Action, Adult, Adventure, Animation, Biography, Comedy, Crime, Documentary, Drama, Family, Fantasy, Film-Noir, Game-Show, History, Horror, Music, Musical, Mystery, News, Reality-TV, Romance, Sci-Fi, Short, Sport, Talk-Show, Thriller, War, Western, 0, 0)], output=[titleType#146, Action#237, Adult#238, Adventure#239, Animation#240, Biography#241, Comedy#242, Crime#243, Documentary#244, Drama#245, Family#246, Fantasy#247, Film-Noir#248, Game-Show#249, History#250, Horror#251, Music#252, Musical#253, Mystery#254, News#255, Reality-TV#256, Romance#257, Sci-Fi#258, Short#259, ... 5 more fields])\n",
            "      +- *(4) HashAggregate(keys=[titleType#146, genres#181], functions=[avg(averageRating#47)], output=[titleType#146, genres#181, round(avg(`averageRating`), 2)#208])\n",
            "         +- Exchange hashpartitioning(titleType#146, genres#181, 200)\n",
            "            +- *(3) HashAggregate(keys=[titleType#146, genres#181], functions=[partial_avg(averageRating#47)], output=[titleType#146, genres#181, sum#468, count#469L])\n",
            "               +- *(3) Project [titleType#146, genres#181, averageRating#47]\n",
            "                  +- Generate explode(genres#159), [titleType#146, averageRating#47], false, [genres#181]\n",
            "                     +- *(2) Project [titleType#146, genres#159, averageRating#47]\n",
            "                        +- *(2) BroadcastHashJoin [tconst#145], [tconst#46], LeftOuter, BuildRight\n",
            "                           :- *(2) Project [CASE WHEN (tconst#28 = \\N) THEN null ELSE tconst#28 END AS tconst#145, CASE WHEN (initcap(trim(titleType#29, None)) = \\N) THEN null ELSE initcap(trim(titleType#29, None)) END AS titleType#146, split(CASE WHEN (genres#36 = \\N) THEN null ELSE genres#36 END, ,) AS genres#159]\n",
            "                           :  +- *(2) Sample 0.0, 0.1, false, -6712961622537384150\n",
            "                           :     +- *(2) FileScan parquet [tconst#28,titleType#29,genres#36] Batched: true, Format: Parquet, Location: InMemoryFileIndex[file:/content/drive/MyDrive/DataLake/df_titles], PartitionFilters: [], PushedFilters: [], ReadSchema: struct<tconst:string,titleType:string,genres:string>\n",
            "                           +- BroadcastExchange HashedRelationBroadcastMode(List(input[0, string, true]))\n",
            "                              +- *(1) Project [tconst#46, averageRating#47]\n",
            "                                 +- *(1) Filter isnotnull(tconst#46)\n",
            "                                    +- *(1) FileScan parquet [tconst#46,averageRating#47] Batched: true, Format: Parquet, Location: InMemoryFileIndex[file:/content/drive/MyDrive/DataLake/df_ratings], PartitionFilters: [], PushedFilters: [IsNotNull(tconst)], ReadSchema: struct<tconst:string,averageRating:double>\n"
          ]
        }
      ],
      "source": [
        "df_final.explain('formatted')"
      ]
    },
    {
      "cell_type": "code",
      "execution_count": null,
      "metadata": {
        "scrolled": true,
        "id": "2399f934",
        "colab": {
          "base_uri": "https://localhost:8080/",
          "height": 353
        },
        "outputId": "c39677ca-02c1-47e0-e8bf-f037b787cc13"
      },
      "outputs": [
        {
          "output_type": "stream",
          "name": "stdout",
          "text": [
            "CPU times: user 65.3 ms, sys: 5.68 ms, total: 71 ms\n",
            "Wall time: 9.09 s\n"
          ]
        },
        {
          "output_type": "execute_result",
          "data": {
            "text/plain": [
              "      titleType  Action  Adult  Adventure  Animation  Biography  Comedy  \\\n",
              "0     Tvepisode    7.50   7.34       7.39       7.30       7.42    7.34   \n",
              "1         Video    5.89   6.50       6.04       6.51       7.33    6.36   \n",
              "2     Videogame    6.98   0.00       7.26       6.77       0.00    7.03   \n",
              "3  Tvminiseries    6.83   5.03       7.03       6.50       7.52    6.92   \n",
              "4       Tvmovie    5.66   6.00       5.97       6.70       6.90    6.45   \n",
              "\n",
              "   Crime  Documentary  Drama  ...  News  Reality-TV  Romance  Sci-Fi  Short  \\\n",
              "0   7.56         7.54   7.63  ...  6.63        7.04     7.54    7.41   6.98   \n",
              "1   5.77         6.94   6.15  ...  4.52        6.12     6.05    6.00   6.72   \n",
              "2   7.24         6.55   7.52  ...  0.00        6.95     7.57    7.01   0.00   \n",
              "3   6.93         7.61   7.12  ...  5.37        6.35     6.92    7.06   6.88   \n",
              "4   6.21         7.11   6.58  ...  7.10        5.99     6.10    5.80   0.00   \n",
              "\n",
              "   Sport  Talk-Show  Thriller   War  Western  \n",
              "0   7.10       6.77      7.50  7.81     7.71  \n",
              "1   6.79       7.29      5.01  6.03     6.35  \n",
              "2   6.67       0.00      6.90  7.12     5.80  \n",
              "3   7.31       6.08      6.81  7.17     7.57  \n",
              "4   6.93       0.00      5.67  7.06     6.30  \n",
              "\n",
              "[5 rows x 29 columns]"
            ],
            "text/html": [
              "\n",
              "  <div id=\"df-8a083bbd-1e00-48e4-96b4-0e42ff0feb31\">\n",
              "    <div class=\"colab-df-container\">\n",
              "      <div>\n",
              "<style scoped>\n",
              "    .dataframe tbody tr th:only-of-type {\n",
              "        vertical-align: middle;\n",
              "    }\n",
              "\n",
              "    .dataframe tbody tr th {\n",
              "        vertical-align: top;\n",
              "    }\n",
              "\n",
              "    .dataframe thead th {\n",
              "        text-align: right;\n",
              "    }\n",
              "</style>\n",
              "<table border=\"1\" class=\"dataframe\">\n",
              "  <thead>\n",
              "    <tr style=\"text-align: right;\">\n",
              "      <th></th>\n",
              "      <th>titleType</th>\n",
              "      <th>Action</th>\n",
              "      <th>Adult</th>\n",
              "      <th>Adventure</th>\n",
              "      <th>Animation</th>\n",
              "      <th>Biography</th>\n",
              "      <th>Comedy</th>\n",
              "      <th>Crime</th>\n",
              "      <th>Documentary</th>\n",
              "      <th>Drama</th>\n",
              "      <th>...</th>\n",
              "      <th>News</th>\n",
              "      <th>Reality-TV</th>\n",
              "      <th>Romance</th>\n",
              "      <th>Sci-Fi</th>\n",
              "      <th>Short</th>\n",
              "      <th>Sport</th>\n",
              "      <th>Talk-Show</th>\n",
              "      <th>Thriller</th>\n",
              "      <th>War</th>\n",
              "      <th>Western</th>\n",
              "    </tr>\n",
              "  </thead>\n",
              "  <tbody>\n",
              "    <tr>\n",
              "      <th>0</th>\n",
              "      <td>Tvepisode</td>\n",
              "      <td>7.50</td>\n",
              "      <td>7.34</td>\n",
              "      <td>7.39</td>\n",
              "      <td>7.30</td>\n",
              "      <td>7.42</td>\n",
              "      <td>7.34</td>\n",
              "      <td>7.56</td>\n",
              "      <td>7.54</td>\n",
              "      <td>7.63</td>\n",
              "      <td>...</td>\n",
              "      <td>6.63</td>\n",
              "      <td>7.04</td>\n",
              "      <td>7.54</td>\n",
              "      <td>7.41</td>\n",
              "      <td>6.98</td>\n",
              "      <td>7.10</td>\n",
              "      <td>6.77</td>\n",
              "      <td>7.50</td>\n",
              "      <td>7.81</td>\n",
              "      <td>7.71</td>\n",
              "    </tr>\n",
              "    <tr>\n",
              "      <th>1</th>\n",
              "      <td>Video</td>\n",
              "      <td>5.89</td>\n",
              "      <td>6.50</td>\n",
              "      <td>6.04</td>\n",
              "      <td>6.51</td>\n",
              "      <td>7.33</td>\n",
              "      <td>6.36</td>\n",
              "      <td>5.77</td>\n",
              "      <td>6.94</td>\n",
              "      <td>6.15</td>\n",
              "      <td>...</td>\n",
              "      <td>4.52</td>\n",
              "      <td>6.12</td>\n",
              "      <td>6.05</td>\n",
              "      <td>6.00</td>\n",
              "      <td>6.72</td>\n",
              "      <td>6.79</td>\n",
              "      <td>7.29</td>\n",
              "      <td>5.01</td>\n",
              "      <td>6.03</td>\n",
              "      <td>6.35</td>\n",
              "    </tr>\n",
              "    <tr>\n",
              "      <th>2</th>\n",
              "      <td>Videogame</td>\n",
              "      <td>6.98</td>\n",
              "      <td>0.00</td>\n",
              "      <td>7.26</td>\n",
              "      <td>6.77</td>\n",
              "      <td>0.00</td>\n",
              "      <td>7.03</td>\n",
              "      <td>7.24</td>\n",
              "      <td>6.55</td>\n",
              "      <td>7.52</td>\n",
              "      <td>...</td>\n",
              "      <td>0.00</td>\n",
              "      <td>6.95</td>\n",
              "      <td>7.57</td>\n",
              "      <td>7.01</td>\n",
              "      <td>0.00</td>\n",
              "      <td>6.67</td>\n",
              "      <td>0.00</td>\n",
              "      <td>6.90</td>\n",
              "      <td>7.12</td>\n",
              "      <td>5.80</td>\n",
              "    </tr>\n",
              "    <tr>\n",
              "      <th>3</th>\n",
              "      <td>Tvminiseries</td>\n",
              "      <td>6.83</td>\n",
              "      <td>5.03</td>\n",
              "      <td>7.03</td>\n",
              "      <td>6.50</td>\n",
              "      <td>7.52</td>\n",
              "      <td>6.92</td>\n",
              "      <td>6.93</td>\n",
              "      <td>7.61</td>\n",
              "      <td>7.12</td>\n",
              "      <td>...</td>\n",
              "      <td>5.37</td>\n",
              "      <td>6.35</td>\n",
              "      <td>6.92</td>\n",
              "      <td>7.06</td>\n",
              "      <td>6.88</td>\n",
              "      <td>7.31</td>\n",
              "      <td>6.08</td>\n",
              "      <td>6.81</td>\n",
              "      <td>7.17</td>\n",
              "      <td>7.57</td>\n",
              "    </tr>\n",
              "    <tr>\n",
              "      <th>4</th>\n",
              "      <td>Tvmovie</td>\n",
              "      <td>5.66</td>\n",
              "      <td>6.00</td>\n",
              "      <td>5.97</td>\n",
              "      <td>6.70</td>\n",
              "      <td>6.90</td>\n",
              "      <td>6.45</td>\n",
              "      <td>6.21</td>\n",
              "      <td>7.11</td>\n",
              "      <td>6.58</td>\n",
              "      <td>...</td>\n",
              "      <td>7.10</td>\n",
              "      <td>5.99</td>\n",
              "      <td>6.10</td>\n",
              "      <td>5.80</td>\n",
              "      <td>0.00</td>\n",
              "      <td>6.93</td>\n",
              "      <td>0.00</td>\n",
              "      <td>5.67</td>\n",
              "      <td>7.06</td>\n",
              "      <td>6.30</td>\n",
              "    </tr>\n",
              "  </tbody>\n",
              "</table>\n",
              "<p>5 rows × 29 columns</p>\n",
              "</div>\n",
              "      <button class=\"colab-df-convert\" onclick=\"convertToInteractive('df-8a083bbd-1e00-48e4-96b4-0e42ff0feb31')\"\n",
              "              title=\"Convert this dataframe to an interactive table.\"\n",
              "              style=\"display:none;\">\n",
              "        \n",
              "  <svg xmlns=\"http://www.w3.org/2000/svg\" height=\"24px\"viewBox=\"0 0 24 24\"\n",
              "       width=\"24px\">\n",
              "    <path d=\"M0 0h24v24H0V0z\" fill=\"none\"/>\n",
              "    <path d=\"M18.56 5.44l.94 2.06.94-2.06 2.06-.94-2.06-.94-.94-2.06-.94 2.06-2.06.94zm-11 1L8.5 8.5l.94-2.06 2.06-.94-2.06-.94L8.5 2.5l-.94 2.06-2.06.94zm10 10l.94 2.06.94-2.06 2.06-.94-2.06-.94-.94-2.06-.94 2.06-2.06.94z\"/><path d=\"M17.41 7.96l-1.37-1.37c-.4-.4-.92-.59-1.43-.59-.52 0-1.04.2-1.43.59L10.3 9.45l-7.72 7.72c-.78.78-.78 2.05 0 2.83L4 21.41c.39.39.9.59 1.41.59.51 0 1.02-.2 1.41-.59l7.78-7.78 2.81-2.81c.8-.78.8-2.07 0-2.86zM5.41 20L4 18.59l7.72-7.72 1.47 1.35L5.41 20z\"/>\n",
              "  </svg>\n",
              "      </button>\n",
              "      \n",
              "  <style>\n",
              "    .colab-df-container {\n",
              "      display:flex;\n",
              "      flex-wrap:wrap;\n",
              "      gap: 12px;\n",
              "    }\n",
              "\n",
              "    .colab-df-convert {\n",
              "      background-color: #E8F0FE;\n",
              "      border: none;\n",
              "      border-radius: 50%;\n",
              "      cursor: pointer;\n",
              "      display: none;\n",
              "      fill: #1967D2;\n",
              "      height: 32px;\n",
              "      padding: 0 0 0 0;\n",
              "      width: 32px;\n",
              "    }\n",
              "\n",
              "    .colab-df-convert:hover {\n",
              "      background-color: #E2EBFA;\n",
              "      box-shadow: 0px 1px 2px rgba(60, 64, 67, 0.3), 0px 1px 3px 1px rgba(60, 64, 67, 0.15);\n",
              "      fill: #174EA6;\n",
              "    }\n",
              "\n",
              "    [theme=dark] .colab-df-convert {\n",
              "      background-color: #3B4455;\n",
              "      fill: #D2E3FC;\n",
              "    }\n",
              "\n",
              "    [theme=dark] .colab-df-convert:hover {\n",
              "      background-color: #434B5C;\n",
              "      box-shadow: 0px 1px 3px 1px rgba(0, 0, 0, 0.15);\n",
              "      filter: drop-shadow(0px 1px 2px rgba(0, 0, 0, 0.3));\n",
              "      fill: #FFFFFF;\n",
              "    }\n",
              "  </style>\n",
              "\n",
              "      <script>\n",
              "        const buttonEl =\n",
              "          document.querySelector('#df-8a083bbd-1e00-48e4-96b4-0e42ff0feb31 button.colab-df-convert');\n",
              "        buttonEl.style.display =\n",
              "          google.colab.kernel.accessAllowed ? 'block' : 'none';\n",
              "\n",
              "        async function convertToInteractive(key) {\n",
              "          const element = document.querySelector('#df-8a083bbd-1e00-48e4-96b4-0e42ff0feb31');\n",
              "          const dataTable =\n",
              "            await google.colab.kernel.invokeFunction('convertToInteractive',\n",
              "                                                     [key], {});\n",
              "          if (!dataTable) return;\n",
              "\n",
              "          const docLinkHtml = 'Like what you see? Visit the ' +\n",
              "            '<a target=\"_blank\" href=https://colab.research.google.com/notebooks/data_table.ipynb>data table notebook</a>'\n",
              "            + ' to learn more about interactive tables.';\n",
              "          element.innerHTML = '';\n",
              "          dataTable['output_type'] = 'display_data';\n",
              "          await google.colab.output.renderOutput(dataTable, element);\n",
              "          const docLink = document.createElement('div');\n",
              "          docLink.innerHTML = docLinkHtml;\n",
              "          element.appendChild(docLink);\n",
              "        }\n",
              "      </script>\n",
              "    </div>\n",
              "  </div>\n",
              "  "
            ]
          },
          "metadata": {},
          "execution_count": 24
        }
      ],
      "source": [
        "%%time\n",
        "df_final.limit(5).toPandas()"
      ]
    },
    {
      "cell_type": "code",
      "execution_count": null,
      "metadata": {
        "id": "9884145b",
        "colab": {
          "base_uri": "https://localhost:8080/"
        },
        "outputId": "ff33621d-8b75-4ab5-b82c-9cec80c1128a"
      },
      "outputs": [
        {
          "output_type": "stream",
          "name": "stdout",
          "text": [
            "CPU times: user 75.8 ms, sys: 10.8 ms, total: 86.6 ms\n",
            "Wall time: 13.2 s\n"
          ]
        }
      ],
      "source": [
        "%%time\n",
        "df_join.cache()\n",
        "df_join.count()"
      ]
    },
    {
      "cell_type": "code",
      "source": [
        "%%time\n",
        "df_join.count()"
      ],
      "metadata": {
        "colab": {
          "base_uri": "https://localhost:8080/"
        },
        "id": "ZZMiCLSc96f8",
        "outputId": "7c07c2c7-acea-4093-da6a-ea39379b11e4"
      },
      "execution_count": null,
      "outputs": [
        {
          "output_type": "stream",
          "name": "stdout",
          "text": [
            "CPU times: user 1.66 ms, sys: 86 µs, total: 1.75 ms\n",
            "Wall time: 103 ms\n"
          ]
        },
        {
          "output_type": "execute_result",
          "data": {
            "text/plain": [
              "819475"
            ]
          },
          "metadata": {},
          "execution_count": 31
        }
      ]
    },
    {
      "cell_type": "code",
      "execution_count": null,
      "metadata": {
        "id": "683eca97",
        "colab": {
          "base_uri": "https://localhost:8080/"
        },
        "outputId": "a8a20805-6c84-43a0-a319-3e0634878f85"
      },
      "outputs": [
        {
          "output_type": "execute_result",
          "data": {
            "text/plain": [
              "10"
            ]
          },
          "metadata": {},
          "execution_count": 26
        }
      ],
      "source": [
        "df_final.cache()\n",
        "df_final.count()"
      ]
    },
    {
      "cell_type": "code",
      "execution_count": null,
      "metadata": {
        "id": "6462f008",
        "colab": {
          "base_uri": "https://localhost:8080/",
          "height": 353
        },
        "outputId": "cfd20dd1-5ff2-41b8-c11c-4dad71cc3d80"
      },
      "outputs": [
        {
          "output_type": "stream",
          "name": "stdout",
          "text": [
            "CPU times: user 11.8 ms, sys: 4.12 ms, total: 15.9 ms\n",
            "Wall time: 869 ms\n"
          ]
        },
        {
          "output_type": "execute_result",
          "data": {
            "text/plain": [
              "      titleType  Action  Adult  Adventure  Animation  Biography  Comedy  \\\n",
              "0     Tvepisode    7.50   7.34       7.39       7.30       7.42    7.34   \n",
              "1         Video    5.89   6.50       6.04       6.51       7.33    6.36   \n",
              "2     Videogame    6.98   0.00       7.26       6.77       0.00    7.03   \n",
              "3  Tvminiseries    6.83   5.03       7.03       6.50       7.52    6.92   \n",
              "4       Tvmovie    5.66   6.00       5.97       6.70       6.90    6.45   \n",
              "\n",
              "   Crime  Documentary  Drama  ...  News  Reality-TV  Romance  Sci-Fi  Short  \\\n",
              "0   7.56         7.54   7.63  ...  6.63        7.04     7.54    7.41   6.98   \n",
              "1   5.77         6.94   6.15  ...  4.52        6.12     6.05    6.00   6.72   \n",
              "2   7.24         6.55   7.52  ...  0.00        6.95     7.57    7.01   0.00   \n",
              "3   6.93         7.61   7.12  ...  5.37        6.35     6.92    7.06   6.88   \n",
              "4   6.21         7.11   6.58  ...  7.10        5.99     6.10    5.80   0.00   \n",
              "\n",
              "   Sport  Talk-Show  Thriller   War  Western  \n",
              "0   7.10       6.77      7.50  7.81     7.71  \n",
              "1   6.79       7.29      5.01  6.03     6.35  \n",
              "2   6.67       0.00      6.90  7.12     5.80  \n",
              "3   7.31       6.08      6.81  7.17     7.57  \n",
              "4   6.93       0.00      5.67  7.06     6.30  \n",
              "\n",
              "[5 rows x 29 columns]"
            ],
            "text/html": [
              "\n",
              "  <div id=\"df-3747b912-001c-467b-b44b-89cbf93c4157\">\n",
              "    <div class=\"colab-df-container\">\n",
              "      <div>\n",
              "<style scoped>\n",
              "    .dataframe tbody tr th:only-of-type {\n",
              "        vertical-align: middle;\n",
              "    }\n",
              "\n",
              "    .dataframe tbody tr th {\n",
              "        vertical-align: top;\n",
              "    }\n",
              "\n",
              "    .dataframe thead th {\n",
              "        text-align: right;\n",
              "    }\n",
              "</style>\n",
              "<table border=\"1\" class=\"dataframe\">\n",
              "  <thead>\n",
              "    <tr style=\"text-align: right;\">\n",
              "      <th></th>\n",
              "      <th>titleType</th>\n",
              "      <th>Action</th>\n",
              "      <th>Adult</th>\n",
              "      <th>Adventure</th>\n",
              "      <th>Animation</th>\n",
              "      <th>Biography</th>\n",
              "      <th>Comedy</th>\n",
              "      <th>Crime</th>\n",
              "      <th>Documentary</th>\n",
              "      <th>Drama</th>\n",
              "      <th>...</th>\n",
              "      <th>News</th>\n",
              "      <th>Reality-TV</th>\n",
              "      <th>Romance</th>\n",
              "      <th>Sci-Fi</th>\n",
              "      <th>Short</th>\n",
              "      <th>Sport</th>\n",
              "      <th>Talk-Show</th>\n",
              "      <th>Thriller</th>\n",
              "      <th>War</th>\n",
              "      <th>Western</th>\n",
              "    </tr>\n",
              "  </thead>\n",
              "  <tbody>\n",
              "    <tr>\n",
              "      <th>0</th>\n",
              "      <td>Tvepisode</td>\n",
              "      <td>7.50</td>\n",
              "      <td>7.34</td>\n",
              "      <td>7.39</td>\n",
              "      <td>7.30</td>\n",
              "      <td>7.42</td>\n",
              "      <td>7.34</td>\n",
              "      <td>7.56</td>\n",
              "      <td>7.54</td>\n",
              "      <td>7.63</td>\n",
              "      <td>...</td>\n",
              "      <td>6.63</td>\n",
              "      <td>7.04</td>\n",
              "      <td>7.54</td>\n",
              "      <td>7.41</td>\n",
              "      <td>6.98</td>\n",
              "      <td>7.10</td>\n",
              "      <td>6.77</td>\n",
              "      <td>7.50</td>\n",
              "      <td>7.81</td>\n",
              "      <td>7.71</td>\n",
              "    </tr>\n",
              "    <tr>\n",
              "      <th>1</th>\n",
              "      <td>Video</td>\n",
              "      <td>5.89</td>\n",
              "      <td>6.50</td>\n",
              "      <td>6.04</td>\n",
              "      <td>6.51</td>\n",
              "      <td>7.33</td>\n",
              "      <td>6.36</td>\n",
              "      <td>5.77</td>\n",
              "      <td>6.94</td>\n",
              "      <td>6.15</td>\n",
              "      <td>...</td>\n",
              "      <td>4.52</td>\n",
              "      <td>6.12</td>\n",
              "      <td>6.05</td>\n",
              "      <td>6.00</td>\n",
              "      <td>6.72</td>\n",
              "      <td>6.79</td>\n",
              "      <td>7.29</td>\n",
              "      <td>5.01</td>\n",
              "      <td>6.03</td>\n",
              "      <td>6.35</td>\n",
              "    </tr>\n",
              "    <tr>\n",
              "      <th>2</th>\n",
              "      <td>Videogame</td>\n",
              "      <td>6.98</td>\n",
              "      <td>0.00</td>\n",
              "      <td>7.26</td>\n",
              "      <td>6.77</td>\n",
              "      <td>0.00</td>\n",
              "      <td>7.03</td>\n",
              "      <td>7.24</td>\n",
              "      <td>6.55</td>\n",
              "      <td>7.52</td>\n",
              "      <td>...</td>\n",
              "      <td>0.00</td>\n",
              "      <td>6.95</td>\n",
              "      <td>7.57</td>\n",
              "      <td>7.01</td>\n",
              "      <td>0.00</td>\n",
              "      <td>6.67</td>\n",
              "      <td>0.00</td>\n",
              "      <td>6.90</td>\n",
              "      <td>7.12</td>\n",
              "      <td>5.80</td>\n",
              "    </tr>\n",
              "    <tr>\n",
              "      <th>3</th>\n",
              "      <td>Tvminiseries</td>\n",
              "      <td>6.83</td>\n",
              "      <td>5.03</td>\n",
              "      <td>7.03</td>\n",
              "      <td>6.50</td>\n",
              "      <td>7.52</td>\n",
              "      <td>6.92</td>\n",
              "      <td>6.93</td>\n",
              "      <td>7.61</td>\n",
              "      <td>7.12</td>\n",
              "      <td>...</td>\n",
              "      <td>5.37</td>\n",
              "      <td>6.35</td>\n",
              "      <td>6.92</td>\n",
              "      <td>7.06</td>\n",
              "      <td>6.88</td>\n",
              "      <td>7.31</td>\n",
              "      <td>6.08</td>\n",
              "      <td>6.81</td>\n",
              "      <td>7.17</td>\n",
              "      <td>7.57</td>\n",
              "    </tr>\n",
              "    <tr>\n",
              "      <th>4</th>\n",
              "      <td>Tvmovie</td>\n",
              "      <td>5.66</td>\n",
              "      <td>6.00</td>\n",
              "      <td>5.97</td>\n",
              "      <td>6.70</td>\n",
              "      <td>6.90</td>\n",
              "      <td>6.45</td>\n",
              "      <td>6.21</td>\n",
              "      <td>7.11</td>\n",
              "      <td>6.58</td>\n",
              "      <td>...</td>\n",
              "      <td>7.10</td>\n",
              "      <td>5.99</td>\n",
              "      <td>6.10</td>\n",
              "      <td>5.80</td>\n",
              "      <td>0.00</td>\n",
              "      <td>6.93</td>\n",
              "      <td>0.00</td>\n",
              "      <td>5.67</td>\n",
              "      <td>7.06</td>\n",
              "      <td>6.30</td>\n",
              "    </tr>\n",
              "  </tbody>\n",
              "</table>\n",
              "<p>5 rows × 29 columns</p>\n",
              "</div>\n",
              "      <button class=\"colab-df-convert\" onclick=\"convertToInteractive('df-3747b912-001c-467b-b44b-89cbf93c4157')\"\n",
              "              title=\"Convert this dataframe to an interactive table.\"\n",
              "              style=\"display:none;\">\n",
              "        \n",
              "  <svg xmlns=\"http://www.w3.org/2000/svg\" height=\"24px\"viewBox=\"0 0 24 24\"\n",
              "       width=\"24px\">\n",
              "    <path d=\"M0 0h24v24H0V0z\" fill=\"none\"/>\n",
              "    <path d=\"M18.56 5.44l.94 2.06.94-2.06 2.06-.94-2.06-.94-.94-2.06-.94 2.06-2.06.94zm-11 1L8.5 8.5l.94-2.06 2.06-.94-2.06-.94L8.5 2.5l-.94 2.06-2.06.94zm10 10l.94 2.06.94-2.06 2.06-.94-2.06-.94-.94-2.06-.94 2.06-2.06.94z\"/><path d=\"M17.41 7.96l-1.37-1.37c-.4-.4-.92-.59-1.43-.59-.52 0-1.04.2-1.43.59L10.3 9.45l-7.72 7.72c-.78.78-.78 2.05 0 2.83L4 21.41c.39.39.9.59 1.41.59.51 0 1.02-.2 1.41-.59l7.78-7.78 2.81-2.81c.8-.78.8-2.07 0-2.86zM5.41 20L4 18.59l7.72-7.72 1.47 1.35L5.41 20z\"/>\n",
              "  </svg>\n",
              "      </button>\n",
              "      \n",
              "  <style>\n",
              "    .colab-df-container {\n",
              "      display:flex;\n",
              "      flex-wrap:wrap;\n",
              "      gap: 12px;\n",
              "    }\n",
              "\n",
              "    .colab-df-convert {\n",
              "      background-color: #E8F0FE;\n",
              "      border: none;\n",
              "      border-radius: 50%;\n",
              "      cursor: pointer;\n",
              "      display: none;\n",
              "      fill: #1967D2;\n",
              "      height: 32px;\n",
              "      padding: 0 0 0 0;\n",
              "      width: 32px;\n",
              "    }\n",
              "\n",
              "    .colab-df-convert:hover {\n",
              "      background-color: #E2EBFA;\n",
              "      box-shadow: 0px 1px 2px rgba(60, 64, 67, 0.3), 0px 1px 3px 1px rgba(60, 64, 67, 0.15);\n",
              "      fill: #174EA6;\n",
              "    }\n",
              "\n",
              "    [theme=dark] .colab-df-convert {\n",
              "      background-color: #3B4455;\n",
              "      fill: #D2E3FC;\n",
              "    }\n",
              "\n",
              "    [theme=dark] .colab-df-convert:hover {\n",
              "      background-color: #434B5C;\n",
              "      box-shadow: 0px 1px 3px 1px rgba(0, 0, 0, 0.15);\n",
              "      filter: drop-shadow(0px 1px 2px rgba(0, 0, 0, 0.3));\n",
              "      fill: #FFFFFF;\n",
              "    }\n",
              "  </style>\n",
              "\n",
              "      <script>\n",
              "        const buttonEl =\n",
              "          document.querySelector('#df-3747b912-001c-467b-b44b-89cbf93c4157 button.colab-df-convert');\n",
              "        buttonEl.style.display =\n",
              "          google.colab.kernel.accessAllowed ? 'block' : 'none';\n",
              "\n",
              "        async function convertToInteractive(key) {\n",
              "          const element = document.querySelector('#df-3747b912-001c-467b-b44b-89cbf93c4157');\n",
              "          const dataTable =\n",
              "            await google.colab.kernel.invokeFunction('convertToInteractive',\n",
              "                                                     [key], {});\n",
              "          if (!dataTable) return;\n",
              "\n",
              "          const docLinkHtml = 'Like what you see? Visit the ' +\n",
              "            '<a target=\"_blank\" href=https://colab.research.google.com/notebooks/data_table.ipynb>data table notebook</a>'\n",
              "            + ' to learn more about interactive tables.';\n",
              "          element.innerHTML = '';\n",
              "          dataTable['output_type'] = 'display_data';\n",
              "          await google.colab.output.renderOutput(dataTable, element);\n",
              "          const docLink = document.createElement('div');\n",
              "          docLink.innerHTML = docLinkHtml;\n",
              "          element.appendChild(docLink);\n",
              "        }\n",
              "      </script>\n",
              "    </div>\n",
              "  </div>\n",
              "  "
            ]
          },
          "metadata": {},
          "execution_count": 27
        }
      ],
      "source": [
        "%%time\n",
        "df_final.limit(5).toPandas()"
      ]
    },
    {
      "cell_type": "markdown",
      "metadata": {
        "id": "78458727"
      },
      "source": [
        "#### Retirando dados da persistência em memória"
      ]
    },
    {
      "cell_type": "code",
      "execution_count": null,
      "metadata": {
        "id": "eda9a53b",
        "colab": {
          "base_uri": "https://localhost:8080/"
        },
        "outputId": "d1eb18e2-94c1-4f19-a006-4dbc8425e7da"
      },
      "outputs": [
        {
          "output_type": "execute_result",
          "data": {
            "text/plain": [
              "DataFrame[titleType: string, Action: double, Adult: double, Adventure: double, Animation: double, Biography: double, Comedy: double, Crime: double, Documentary: double, Drama: double, Family: double, Fantasy: double, Film-Noir: double, Game-Show: double, History: double, Horror: double, Music: double, Musical: double, Mystery: double, News: double, Reality-TV: double, Romance: double, Sci-Fi: double, Short: double, Sport: double, Talk-Show: double, Thriller: double, War: double, Western: double]"
            ]
          },
          "metadata": {},
          "execution_count": 28
        }
      ],
      "source": [
        "df_final.unpersist()"
      ]
    },
    {
      "cell_type": "code",
      "execution_count": null,
      "metadata": {
        "id": "58c40b6e"
      },
      "outputs": [],
      "source": [
        "spark.catalog.clearCache()"
      ]
    },
    {
      "cell_type": "code",
      "source": [
        "spark"
      ],
      "metadata": {
        "colab": {
          "base_uri": "https://localhost:8080/",
          "height": 222
        },
        "id": "ECcDdsGy-GNr",
        "outputId": "8e2576ab-3ce0-4d7d-eb41-2121714ab036"
      },
      "execution_count": null,
      "outputs": [
        {
          "output_type": "execute_result",
          "data": {
            "text/plain": [
              "<pyspark.sql.session.SparkSession at 0x7ff70818ab10>"
            ],
            "text/html": [
              "\n",
              "            <div>\n",
              "                <p><b>SparkSession - hive</b></p>\n",
              "                \n",
              "        <div>\n",
              "            <p><b>SparkContext</b></p>\n",
              "\n",
              "            <p><a href=\"http://e6feb8ff69f4:4040\">Spark UI</a></p>\n",
              "\n",
              "            <dl>\n",
              "              <dt>Version</dt>\n",
              "                <dd><code>v2.4.4</code></dd>\n",
              "              <dt>Master</dt>\n",
              "                <dd><code>local[*]</code></dd>\n",
              "              <dt>AppName</dt>\n",
              "                <dd><code>pyspark-shell</code></dd>\n",
              "            </dl>\n",
              "        </div>\n",
              "        \n",
              "            </div>\n",
              "        "
            ]
          },
          "metadata": {},
          "execution_count": 32
        }
      ]
    },
    {
      "cell_type": "markdown",
      "metadata": {
        "id": "0b9b4c7c"
      },
      "source": [
        "# Estratégias de Particionamento de Dados"
      ]
    },
    {
      "cell_type": "markdown",
      "metadata": {
        "id": "572d1343"
      },
      "source": [
        "### Bucketing"
      ]
    },
    {
      "cell_type": "code",
      "execution_count": null,
      "metadata": {
        "id": "abca961e",
        "outputId": "feb8a4db-4f14-4850-df41-c1b2c4f90023",
        "colab": {
          "base_uri": "https://localhost:8080/",
          "height": 305
        }
      },
      "outputs": [
        {
          "output_type": "execute_result",
          "data": {
            "text/plain": [
              "      tconst titleType            primaryTitle           originalTitle  \\\n",
              "0  tt0000001     short              Carmencita              Carmencita   \n",
              "1  tt0000002     short  Le clown et ses chiens  Le clown et ses chiens   \n",
              "2  tt0000003     short          Pauvre Pierrot          Pauvre Pierrot   \n",
              "3  tt0000004     short             Un bon bock             Un bon bock   \n",
              "4  tt0000005     short        Blacksmith Scene        Blacksmith Scene   \n",
              "\n",
              "  isAdult startYear endYear runtimeMinutes                    genres  \n",
              "0       0      1894      \\N              1         Documentary,Short  \n",
              "1       0      1892      \\N              5           Animation,Short  \n",
              "2       0      1892      \\N              4  Animation,Comedy,Romance  \n",
              "3       0      1892      \\N             12           Animation,Short  \n",
              "4       0      1893      \\N              1              Comedy,Short  "
            ],
            "text/html": [
              "\n",
              "  <div id=\"df-1150cc6b-c3dd-413f-b7b3-60a746558a94\">\n",
              "    <div class=\"colab-df-container\">\n",
              "      <div>\n",
              "<style scoped>\n",
              "    .dataframe tbody tr th:only-of-type {\n",
              "        vertical-align: middle;\n",
              "    }\n",
              "\n",
              "    .dataframe tbody tr th {\n",
              "        vertical-align: top;\n",
              "    }\n",
              "\n",
              "    .dataframe thead th {\n",
              "        text-align: right;\n",
              "    }\n",
              "</style>\n",
              "<table border=\"1\" class=\"dataframe\">\n",
              "  <thead>\n",
              "    <tr style=\"text-align: right;\">\n",
              "      <th></th>\n",
              "      <th>tconst</th>\n",
              "      <th>titleType</th>\n",
              "      <th>primaryTitle</th>\n",
              "      <th>originalTitle</th>\n",
              "      <th>isAdult</th>\n",
              "      <th>startYear</th>\n",
              "      <th>endYear</th>\n",
              "      <th>runtimeMinutes</th>\n",
              "      <th>genres</th>\n",
              "    </tr>\n",
              "  </thead>\n",
              "  <tbody>\n",
              "    <tr>\n",
              "      <th>0</th>\n",
              "      <td>tt0000001</td>\n",
              "      <td>short</td>\n",
              "      <td>Carmencita</td>\n",
              "      <td>Carmencita</td>\n",
              "      <td>0</td>\n",
              "      <td>1894</td>\n",
              "      <td>\\N</td>\n",
              "      <td>1</td>\n",
              "      <td>Documentary,Short</td>\n",
              "    </tr>\n",
              "    <tr>\n",
              "      <th>1</th>\n",
              "      <td>tt0000002</td>\n",
              "      <td>short</td>\n",
              "      <td>Le clown et ses chiens</td>\n",
              "      <td>Le clown et ses chiens</td>\n",
              "      <td>0</td>\n",
              "      <td>1892</td>\n",
              "      <td>\\N</td>\n",
              "      <td>5</td>\n",
              "      <td>Animation,Short</td>\n",
              "    </tr>\n",
              "    <tr>\n",
              "      <th>2</th>\n",
              "      <td>tt0000003</td>\n",
              "      <td>short</td>\n",
              "      <td>Pauvre Pierrot</td>\n",
              "      <td>Pauvre Pierrot</td>\n",
              "      <td>0</td>\n",
              "      <td>1892</td>\n",
              "      <td>\\N</td>\n",
              "      <td>4</td>\n",
              "      <td>Animation,Comedy,Romance</td>\n",
              "    </tr>\n",
              "    <tr>\n",
              "      <th>3</th>\n",
              "      <td>tt0000004</td>\n",
              "      <td>short</td>\n",
              "      <td>Un bon bock</td>\n",
              "      <td>Un bon bock</td>\n",
              "      <td>0</td>\n",
              "      <td>1892</td>\n",
              "      <td>\\N</td>\n",
              "      <td>12</td>\n",
              "      <td>Animation,Short</td>\n",
              "    </tr>\n",
              "    <tr>\n",
              "      <th>4</th>\n",
              "      <td>tt0000005</td>\n",
              "      <td>short</td>\n",
              "      <td>Blacksmith Scene</td>\n",
              "      <td>Blacksmith Scene</td>\n",
              "      <td>0</td>\n",
              "      <td>1893</td>\n",
              "      <td>\\N</td>\n",
              "      <td>1</td>\n",
              "      <td>Comedy,Short</td>\n",
              "    </tr>\n",
              "  </tbody>\n",
              "</table>\n",
              "</div>\n",
              "      <button class=\"colab-df-convert\" onclick=\"convertToInteractive('df-1150cc6b-c3dd-413f-b7b3-60a746558a94')\"\n",
              "              title=\"Convert this dataframe to an interactive table.\"\n",
              "              style=\"display:none;\">\n",
              "        \n",
              "  <svg xmlns=\"http://www.w3.org/2000/svg\" height=\"24px\"viewBox=\"0 0 24 24\"\n",
              "       width=\"24px\">\n",
              "    <path d=\"M0 0h24v24H0V0z\" fill=\"none\"/>\n",
              "    <path d=\"M18.56 5.44l.94 2.06.94-2.06 2.06-.94-2.06-.94-.94-2.06-.94 2.06-2.06.94zm-11 1L8.5 8.5l.94-2.06 2.06-.94-2.06-.94L8.5 2.5l-.94 2.06-2.06.94zm10 10l.94 2.06.94-2.06 2.06-.94-2.06-.94-.94-2.06-.94 2.06-2.06.94z\"/><path d=\"M17.41 7.96l-1.37-1.37c-.4-.4-.92-.59-1.43-.59-.52 0-1.04.2-1.43.59L10.3 9.45l-7.72 7.72c-.78.78-.78 2.05 0 2.83L4 21.41c.39.39.9.59 1.41.59.51 0 1.02-.2 1.41-.59l7.78-7.78 2.81-2.81c.8-.78.8-2.07 0-2.86zM5.41 20L4 18.59l7.72-7.72 1.47 1.35L5.41 20z\"/>\n",
              "  </svg>\n",
              "      </button>\n",
              "      \n",
              "  <style>\n",
              "    .colab-df-container {\n",
              "      display:flex;\n",
              "      flex-wrap:wrap;\n",
              "      gap: 12px;\n",
              "    }\n",
              "\n",
              "    .colab-df-convert {\n",
              "      background-color: #E8F0FE;\n",
              "      border: none;\n",
              "      border-radius: 50%;\n",
              "      cursor: pointer;\n",
              "      display: none;\n",
              "      fill: #1967D2;\n",
              "      height: 32px;\n",
              "      padding: 0 0 0 0;\n",
              "      width: 32px;\n",
              "    }\n",
              "\n",
              "    .colab-df-convert:hover {\n",
              "      background-color: #E2EBFA;\n",
              "      box-shadow: 0px 1px 2px rgba(60, 64, 67, 0.3), 0px 1px 3px 1px rgba(60, 64, 67, 0.15);\n",
              "      fill: #174EA6;\n",
              "    }\n",
              "\n",
              "    [theme=dark] .colab-df-convert {\n",
              "      background-color: #3B4455;\n",
              "      fill: #D2E3FC;\n",
              "    }\n",
              "\n",
              "    [theme=dark] .colab-df-convert:hover {\n",
              "      background-color: #434B5C;\n",
              "      box-shadow: 0px 1px 3px 1px rgba(0, 0, 0, 0.15);\n",
              "      filter: drop-shadow(0px 1px 2px rgba(0, 0, 0, 0.3));\n",
              "      fill: #FFFFFF;\n",
              "    }\n",
              "  </style>\n",
              "\n",
              "      <script>\n",
              "        const buttonEl =\n",
              "          document.querySelector('#df-1150cc6b-c3dd-413f-b7b3-60a746558a94 button.colab-df-convert');\n",
              "        buttonEl.style.display =\n",
              "          google.colab.kernel.accessAllowed ? 'block' : 'none';\n",
              "\n",
              "        async function convertToInteractive(key) {\n",
              "          const element = document.querySelector('#df-1150cc6b-c3dd-413f-b7b3-60a746558a94');\n",
              "          const dataTable =\n",
              "            await google.colab.kernel.invokeFunction('convertToInteractive',\n",
              "                                                     [key], {});\n",
              "          if (!dataTable) return;\n",
              "\n",
              "          const docLinkHtml = 'Like what you see? Visit the ' +\n",
              "            '<a target=\"_blank\" href=https://colab.research.google.com/notebooks/data_table.ipynb>data table notebook</a>'\n",
              "            + ' to learn more about interactive tables.';\n",
              "          element.innerHTML = '';\n",
              "          dataTable['output_type'] = 'display_data';\n",
              "          await google.colab.output.renderOutput(dataTable, element);\n",
              "          const docLink = document.createElement('div');\n",
              "          docLink.innerHTML = docLinkHtml;\n",
              "          element.appendChild(docLink);\n",
              "        }\n",
              "      </script>\n",
              "    </div>\n",
              "  </div>\n",
              "  "
            ]
          },
          "metadata": {},
          "execution_count": 33
        }
      ],
      "source": [
        "df_titles.limit(5).toPandas()"
      ]
    },
    {
      "cell_type": "code",
      "execution_count": null,
      "metadata": {
        "id": "a5f26ce3",
        "outputId": "8d64a504-4d74-49ea-d115-5be9e1ef3d0b",
        "colab": {
          "base_uri": "https://localhost:8080/",
          "height": 206
        }
      },
      "outputs": [
        {
          "output_type": "execute_result",
          "data": {
            "text/plain": [
              "      tconst  averageRating  numVotes\n",
              "0  tt0000001            5.7      1809\n",
              "1  tt0000002            6.0       233\n",
              "2  tt0000003            6.5      1560\n",
              "3  tt0000004            6.1       152\n",
              "4  tt0000005            6.2      2383"
            ],
            "text/html": [
              "\n",
              "  <div id=\"df-b42b7a4a-6490-4877-98f9-c7a09bd9d2c4\">\n",
              "    <div class=\"colab-df-container\">\n",
              "      <div>\n",
              "<style scoped>\n",
              "    .dataframe tbody tr th:only-of-type {\n",
              "        vertical-align: middle;\n",
              "    }\n",
              "\n",
              "    .dataframe tbody tr th {\n",
              "        vertical-align: top;\n",
              "    }\n",
              "\n",
              "    .dataframe thead th {\n",
              "        text-align: right;\n",
              "    }\n",
              "</style>\n",
              "<table border=\"1\" class=\"dataframe\">\n",
              "  <thead>\n",
              "    <tr style=\"text-align: right;\">\n",
              "      <th></th>\n",
              "      <th>tconst</th>\n",
              "      <th>averageRating</th>\n",
              "      <th>numVotes</th>\n",
              "    </tr>\n",
              "  </thead>\n",
              "  <tbody>\n",
              "    <tr>\n",
              "      <th>0</th>\n",
              "      <td>tt0000001</td>\n",
              "      <td>5.7</td>\n",
              "      <td>1809</td>\n",
              "    </tr>\n",
              "    <tr>\n",
              "      <th>1</th>\n",
              "      <td>tt0000002</td>\n",
              "      <td>6.0</td>\n",
              "      <td>233</td>\n",
              "    </tr>\n",
              "    <tr>\n",
              "      <th>2</th>\n",
              "      <td>tt0000003</td>\n",
              "      <td>6.5</td>\n",
              "      <td>1560</td>\n",
              "    </tr>\n",
              "    <tr>\n",
              "      <th>3</th>\n",
              "      <td>tt0000004</td>\n",
              "      <td>6.1</td>\n",
              "      <td>152</td>\n",
              "    </tr>\n",
              "    <tr>\n",
              "      <th>4</th>\n",
              "      <td>tt0000005</td>\n",
              "      <td>6.2</td>\n",
              "      <td>2383</td>\n",
              "    </tr>\n",
              "  </tbody>\n",
              "</table>\n",
              "</div>\n",
              "      <button class=\"colab-df-convert\" onclick=\"convertToInteractive('df-b42b7a4a-6490-4877-98f9-c7a09bd9d2c4')\"\n",
              "              title=\"Convert this dataframe to an interactive table.\"\n",
              "              style=\"display:none;\">\n",
              "        \n",
              "  <svg xmlns=\"http://www.w3.org/2000/svg\" height=\"24px\"viewBox=\"0 0 24 24\"\n",
              "       width=\"24px\">\n",
              "    <path d=\"M0 0h24v24H0V0z\" fill=\"none\"/>\n",
              "    <path d=\"M18.56 5.44l.94 2.06.94-2.06 2.06-.94-2.06-.94-.94-2.06-.94 2.06-2.06.94zm-11 1L8.5 8.5l.94-2.06 2.06-.94-2.06-.94L8.5 2.5l-.94 2.06-2.06.94zm10 10l.94 2.06.94-2.06 2.06-.94-2.06-.94-.94-2.06-.94 2.06-2.06.94z\"/><path d=\"M17.41 7.96l-1.37-1.37c-.4-.4-.92-.59-1.43-.59-.52 0-1.04.2-1.43.59L10.3 9.45l-7.72 7.72c-.78.78-.78 2.05 0 2.83L4 21.41c.39.39.9.59 1.41.59.51 0 1.02-.2 1.41-.59l7.78-7.78 2.81-2.81c.8-.78.8-2.07 0-2.86zM5.41 20L4 18.59l7.72-7.72 1.47 1.35L5.41 20z\"/>\n",
              "  </svg>\n",
              "      </button>\n",
              "      \n",
              "  <style>\n",
              "    .colab-df-container {\n",
              "      display:flex;\n",
              "      flex-wrap:wrap;\n",
              "      gap: 12px;\n",
              "    }\n",
              "\n",
              "    .colab-df-convert {\n",
              "      background-color: #E8F0FE;\n",
              "      border: none;\n",
              "      border-radius: 50%;\n",
              "      cursor: pointer;\n",
              "      display: none;\n",
              "      fill: #1967D2;\n",
              "      height: 32px;\n",
              "      padding: 0 0 0 0;\n",
              "      width: 32px;\n",
              "    }\n",
              "\n",
              "    .colab-df-convert:hover {\n",
              "      background-color: #E2EBFA;\n",
              "      box-shadow: 0px 1px 2px rgba(60, 64, 67, 0.3), 0px 1px 3px 1px rgba(60, 64, 67, 0.15);\n",
              "      fill: #174EA6;\n",
              "    }\n",
              "\n",
              "    [theme=dark] .colab-df-convert {\n",
              "      background-color: #3B4455;\n",
              "      fill: #D2E3FC;\n",
              "    }\n",
              "\n",
              "    [theme=dark] .colab-df-convert:hover {\n",
              "      background-color: #434B5C;\n",
              "      box-shadow: 0px 1px 3px 1px rgba(0, 0, 0, 0.15);\n",
              "      filter: drop-shadow(0px 1px 2px rgba(0, 0, 0, 0.3));\n",
              "      fill: #FFFFFF;\n",
              "    }\n",
              "  </style>\n",
              "\n",
              "      <script>\n",
              "        const buttonEl =\n",
              "          document.querySelector('#df-b42b7a4a-6490-4877-98f9-c7a09bd9d2c4 button.colab-df-convert');\n",
              "        buttonEl.style.display =\n",
              "          google.colab.kernel.accessAllowed ? 'block' : 'none';\n",
              "\n",
              "        async function convertToInteractive(key) {\n",
              "          const element = document.querySelector('#df-b42b7a4a-6490-4877-98f9-c7a09bd9d2c4');\n",
              "          const dataTable =\n",
              "            await google.colab.kernel.invokeFunction('convertToInteractive',\n",
              "                                                     [key], {});\n",
              "          if (!dataTable) return;\n",
              "\n",
              "          const docLinkHtml = 'Like what you see? Visit the ' +\n",
              "            '<a target=\"_blank\" href=https://colab.research.google.com/notebooks/data_table.ipynb>data table notebook</a>'\n",
              "            + ' to learn more about interactive tables.';\n",
              "          element.innerHTML = '';\n",
              "          dataTable['output_type'] = 'display_data';\n",
              "          await google.colab.output.renderOutput(dataTable, element);\n",
              "          const docLink = document.createElement('div');\n",
              "          docLink.innerHTML = docLinkHtml;\n",
              "          element.appendChild(docLink);\n",
              "        }\n",
              "      </script>\n",
              "    </div>\n",
              "  </div>\n",
              "  "
            ]
          },
          "metadata": {},
          "execution_count": 34
        }
      ],
      "source": [
        "df_ratings.limit(5).toPandas()"
      ]
    },
    {
      "cell_type": "code",
      "execution_count": null,
      "metadata": {
        "id": "f727053a"
      },
      "outputs": [],
      "source": [
        "df_titles.write.format('parquet').bucketBy(5, 'tconst').saveAsTable('title_basics')"
      ]
    },
    {
      "cell_type": "code",
      "execution_count": null,
      "metadata": {
        "id": "c65e375c"
      },
      "outputs": [],
      "source": [
        "df_ratings.write.format('parquet').bucketBy(5, 'tconst').saveAsTable('title_ratings')"
      ]
    },
    {
      "cell_type": "code",
      "execution_count": null,
      "metadata": {
        "id": "85592780"
      },
      "outputs": [],
      "source": [
        "df_titles_bucket = spark.sql('SELECT * FROM title_basics')"
      ]
    },
    {
      "cell_type": "code",
      "execution_count": null,
      "metadata": {
        "id": "bcfa01c8"
      },
      "outputs": [],
      "source": [
        "df_ratings_bucket = spark.sql('SELECT * FROM title_ratings')"
      ]
    },
    {
      "cell_type": "code",
      "execution_count": null,
      "metadata": {
        "id": "dc6a4f4f",
        "outputId": "acad3c8c-ea1c-4797-dac3-f16482aa23cf",
        "colab": {
          "base_uri": "https://localhost:8080/"
        }
      },
      "outputs": [
        {
          "output_type": "stream",
          "name": "stdout",
          "text": [
            "CPU times: user 24.9 ms, sys: 3.4 ms, total: 28.3 ms\n",
            "Wall time: 4.01 s\n"
          ]
        },
        {
          "output_type": "execute_result",
          "data": {
            "text/plain": [
              "1182639"
            ]
          },
          "metadata": {},
          "execution_count": 39
        }
      ],
      "source": [
        "%%time\n",
        "df_titles.join(df_ratings, 'tconst').count()"
      ]
    },
    {
      "cell_type": "code",
      "execution_count": null,
      "metadata": {
        "id": "6cd61ae4",
        "outputId": "04364930-96b4-448c-a23e-901048601a56",
        "colab": {
          "base_uri": "https://localhost:8080/"
        }
      },
      "outputs": [
        {
          "output_type": "stream",
          "name": "stdout",
          "text": [
            "CPU times: user 26.8 ms, sys: 1.2 ms, total: 28 ms\n",
            "Wall time: 3.56 s\n"
          ]
        },
        {
          "output_type": "execute_result",
          "data": {
            "text/plain": [
              "1182639"
            ]
          },
          "metadata": {},
          "execution_count": 40
        }
      ],
      "source": [
        "%%time\n",
        "df_titles_bucket.join(df_ratings_bucket, 'tconst').count()"
      ]
    },
    {
      "cell_type": "markdown",
      "metadata": {
        "id": "ac7bf199"
      },
      "source": [
        "### Partiticionando por Colunas"
      ]
    },
    {
      "cell_type": "code",
      "execution_count": null,
      "metadata": {
        "id": "648e2b37",
        "outputId": "02250959-495d-4399-c04c-24838c9710e3",
        "colab": {
          "base_uri": "https://localhost:8080/"
        }
      },
      "outputs": [
        {
          "output_type": "stream",
          "name": "stdout",
          "text": [
            "== Parsed Logical Plan ==\n",
            "'Filter ('titleType = short)\n",
            "+- Relation[tconst#28,titleType#29,primaryTitle#30,originalTitle#31,isAdult#32,startYear#33,endYear#34,runtimeMinutes#35,genres#36] parquet\n",
            "\n",
            "== Analyzed Logical Plan ==\n",
            "tconst: string, titleType: string, primaryTitle: string, originalTitle: string, isAdult: string, startYear: string, endYear: string, runtimeMinutes: string, genres: string\n",
            "Filter (titleType#29 = short)\n",
            "+- Relation[tconst#28,titleType#29,primaryTitle#30,originalTitle#31,isAdult#32,startYear#33,endYear#34,runtimeMinutes#35,genres#36] parquet\n",
            "\n",
            "== Optimized Logical Plan ==\n",
            "Filter (isnotnull(titleType#29) && (titleType#29 = short))\n",
            "+- Relation[tconst#28,titleType#29,primaryTitle#30,originalTitle#31,isAdult#32,startYear#33,endYear#34,runtimeMinutes#35,genres#36] parquet\n",
            "\n",
            "== Physical Plan ==\n",
            "*(1) Project [tconst#28, titleType#29, primaryTitle#30, originalTitle#31, isAdult#32, startYear#33, endYear#34, runtimeMinutes#35, genres#36]\n",
            "+- *(1) Filter (isnotnull(titleType#29) && (titleType#29 = short))\n",
            "   +- *(1) FileScan parquet [tconst#28,titleType#29,primaryTitle#30,originalTitle#31,isAdult#32,startYear#33,endYear#34,runtimeMinutes#35,genres#36] Batched: true, Format: Parquet, Location: InMemoryFileIndex[file:/content/drive/MyDrive/DataLake/df_titles], PartitionFilters: [], PushedFilters: [IsNotNull(titleType), EqualTo(titleType,short)], ReadSchema: struct<tconst:string,titleType:string,primaryTitle:string,originalTitle:string,isAdult:string,sta...\n"
          ]
        }
      ],
      "source": [
        "df_titles.filter('titleType = \"short\"').explain(\"formatted\")"
      ]
    },
    {
      "cell_type": "code",
      "execution_count": null,
      "metadata": {
        "id": "dbf39b78"
      },
      "outputs": [],
      "source": [
        "(\n",
        "    df_titles\n",
        "    .write\n",
        "    .format('parquet')\n",
        "    .partitionBy('titleType')\n",
        "    .save('drive/MyDrive/DataLake/df_titles_partitioned')\n",
        ")"
      ]
    },
    {
      "cell_type": "code",
      "execution_count": null,
      "metadata": {
        "id": "658e369c"
      },
      "outputs": [],
      "source": [
        "df_titles_partitions = spark.read.parquet('drive/MyDrive/DataLake/df_titles_partitioned')"
      ]
    },
    {
      "cell_type": "code",
      "execution_count": null,
      "metadata": {
        "scrolled": true,
        "id": "1d7b99bb",
        "outputId": "c6352027-3246-4d32-e585-a9e485748702",
        "colab": {
          "base_uri": "https://localhost:8080/"
        }
      },
      "outputs": [
        {
          "output_type": "stream",
          "name": "stdout",
          "text": [
            "== Parsed Logical Plan ==\n",
            "'Filter ('titleType = short)\n",
            "+- Relation[tconst#51648,primaryTitle#51649,originalTitle#51650,isAdult#51651,startYear#51652,endYear#51653,runtimeMinutes#51654,genres#51655,titleType#51656] parquet\n",
            "\n",
            "== Analyzed Logical Plan ==\n",
            "tconst: string, primaryTitle: string, originalTitle: string, isAdult: string, startYear: string, endYear: string, runtimeMinutes: string, genres: string, titleType: string\n",
            "Filter (titleType#51656 = short)\n",
            "+- Relation[tconst#51648,primaryTitle#51649,originalTitle#51650,isAdult#51651,startYear#51652,endYear#51653,runtimeMinutes#51654,genres#51655,titleType#51656] parquet\n",
            "\n",
            "== Optimized Logical Plan ==\n",
            "Filter (isnotnull(titleType#51656) && (titleType#51656 = short))\n",
            "+- Relation[tconst#51648,primaryTitle#51649,originalTitle#51650,isAdult#51651,startYear#51652,endYear#51653,runtimeMinutes#51654,genres#51655,titleType#51656] parquet\n",
            "\n",
            "== Physical Plan ==\n",
            "*(1) FileScan parquet [tconst#51648,primaryTitle#51649,originalTitle#51650,isAdult#51651,startYear#51652,endYear#51653,runtimeMinutes#51654,genres#51655,titleType#51656] Batched: true, Format: Parquet, Location: InMemoryFileIndex[file:/content/drive/MyDrive/DataLake/df_titles_partitioned], PartitionCount: 1, PartitionFilters: [isnotnull(titleType#51656), (titleType#51656 = short)], PushedFilters: [], ReadSchema: struct<tconst:string,primaryTitle:string,originalTitle:string,isAdult:string,startYear:string,end...\n"
          ]
        }
      ],
      "source": [
        "df_titles_partitions.filter('titleType = \"short\"').explain(\"formatted\")"
      ]
    },
    {
      "cell_type": "code",
      "execution_count": null,
      "metadata": {
        "id": "b238ea6d",
        "outputId": "86081b7e-4435-4cfb-c941-ef90203c7e45",
        "colab": {
          "base_uri": "https://localhost:8080/"
        }
      },
      "outputs": [
        {
          "output_type": "stream",
          "name": "stdout",
          "text": [
            "== Parsed Logical Plan ==\n",
            "'Filter ('genres = Action)\n",
            "+- Filter (titleType#51656 = short)\n",
            "   +- Relation[tconst#51648,primaryTitle#51649,originalTitle#51650,isAdult#51651,startYear#51652,endYear#51653,runtimeMinutes#51654,genres#51655,titleType#51656] parquet\n",
            "\n",
            "== Analyzed Logical Plan ==\n",
            "tconst: string, primaryTitle: string, originalTitle: string, isAdult: string, startYear: string, endYear: string, runtimeMinutes: string, genres: string, titleType: string\n",
            "Filter (genres#51655 = Action)\n",
            "+- Filter (titleType#51656 = short)\n",
            "   +- Relation[tconst#51648,primaryTitle#51649,originalTitle#51650,isAdult#51651,startYear#51652,endYear#51653,runtimeMinutes#51654,genres#51655,titleType#51656] parquet\n",
            "\n",
            "== Optimized Logical Plan ==\n",
            "Filter (((isnotnull(titleType#51656) && isnotnull(genres#51655)) && (titleType#51656 = short)) && (genres#51655 = Action))\n",
            "+- Relation[tconst#51648,primaryTitle#51649,originalTitle#51650,isAdult#51651,startYear#51652,endYear#51653,runtimeMinutes#51654,genres#51655,titleType#51656] parquet\n",
            "\n",
            "== Physical Plan ==\n",
            "*(1) Project [tconst#51648, primaryTitle#51649, originalTitle#51650, isAdult#51651, startYear#51652, endYear#51653, runtimeMinutes#51654, genres#51655, titleType#51656]\n",
            "+- *(1) Filter (isnotnull(genres#51655) && (genres#51655 = Action))\n",
            "   +- *(1) FileScan parquet [tconst#51648,primaryTitle#51649,originalTitle#51650,isAdult#51651,startYear#51652,endYear#51653,runtimeMinutes#51654,genres#51655,titleType#51656] Batched: true, Format: Parquet, Location: InMemoryFileIndex[file:/content/drive/MyDrive/DataLake/df_titles_partitioned], PartitionCount: 1, PartitionFilters: [isnotnull(titleType#51656), (titleType#51656 = short)], PushedFilters: [IsNotNull(genres), EqualTo(genres,Action)], ReadSchema: struct<tconst:string,primaryTitle:string,originalTitle:string,isAdult:string,startYear:string,end...\n"
          ]
        }
      ],
      "source": [
        "(\n",
        "    df_titles_partitions\n",
        "    .filter('titleType = \"short\"')\n",
        "    .filter('genres = \"Action\"')\n",
        "    .explain(\"formatted\")\n",
        ")"
      ]
    },
    {
      "cell_type": "markdown",
      "metadata": {
        "id": "b12fc36d"
      },
      "source": [
        "## Reparticionando DataFrames"
      ]
    },
    {
      "cell_type": "code",
      "execution_count": null,
      "metadata": {
        "id": "5d88f253",
        "outputId": "7286e9d3-5240-4afc-f87e-3bba01eab431"
      },
      "outputs": [
        {
          "data": {
            "text/html": [
              "<div>\n",
              "<style scoped>\n",
              "    .dataframe tbody tr th:only-of-type {\n",
              "        vertical-align: middle;\n",
              "    }\n",
              "\n",
              "    .dataframe tbody tr th {\n",
              "        vertical-align: top;\n",
              "    }\n",
              "\n",
              "    .dataframe thead th {\n",
              "        text-align: right;\n",
              "    }\n",
              "</style>\n",
              "<table border=\"1\" class=\"dataframe\">\n",
              "  <thead>\n",
              "    <tr style=\"text-align: right;\">\n",
              "      <th></th>\n",
              "      <th>tconst</th>\n",
              "      <th>titleType</th>\n",
              "      <th>primaryTitle</th>\n",
              "      <th>originalTitle</th>\n",
              "      <th>isAdult</th>\n",
              "      <th>startYear</th>\n",
              "      <th>endYear</th>\n",
              "      <th>runtimeMinutes</th>\n",
              "      <th>genres</th>\n",
              "    </tr>\n",
              "  </thead>\n",
              "  <tbody>\n",
              "    <tr>\n",
              "      <th>0</th>\n",
              "      <td>tt0000001</td>\n",
              "      <td>short</td>\n",
              "      <td>Carmencita</td>\n",
              "      <td>Carmencita</td>\n",
              "      <td>0</td>\n",
              "      <td>1894</td>\n",
              "      <td>\\N</td>\n",
              "      <td>1</td>\n",
              "      <td>Documentary,Short</td>\n",
              "    </tr>\n",
              "    <tr>\n",
              "      <th>1</th>\n",
              "      <td>tt0000002</td>\n",
              "      <td>short</td>\n",
              "      <td>Le clown et ses chiens</td>\n",
              "      <td>Le clown et ses chiens</td>\n",
              "      <td>0</td>\n",
              "      <td>1892</td>\n",
              "      <td>\\N</td>\n",
              "      <td>5</td>\n",
              "      <td>Animation,Short</td>\n",
              "    </tr>\n",
              "    <tr>\n",
              "      <th>2</th>\n",
              "      <td>tt0000003</td>\n",
              "      <td>short</td>\n",
              "      <td>Pauvre Pierrot</td>\n",
              "      <td>Pauvre Pierrot</td>\n",
              "      <td>0</td>\n",
              "      <td>1892</td>\n",
              "      <td>\\N</td>\n",
              "      <td>4</td>\n",
              "      <td>Animation,Comedy,Romance</td>\n",
              "    </tr>\n",
              "    <tr>\n",
              "      <th>3</th>\n",
              "      <td>tt0000004</td>\n",
              "      <td>short</td>\n",
              "      <td>Un bon bock</td>\n",
              "      <td>Un bon bock</td>\n",
              "      <td>0</td>\n",
              "      <td>1892</td>\n",
              "      <td>\\N</td>\n",
              "      <td>12</td>\n",
              "      <td>Animation,Short</td>\n",
              "    </tr>\n",
              "    <tr>\n",
              "      <th>4</th>\n",
              "      <td>tt0000005</td>\n",
              "      <td>short</td>\n",
              "      <td>Blacksmith Scene</td>\n",
              "      <td>Blacksmith Scene</td>\n",
              "      <td>0</td>\n",
              "      <td>1893</td>\n",
              "      <td>\\N</td>\n",
              "      <td>1</td>\n",
              "      <td>Comedy,Short</td>\n",
              "    </tr>\n",
              "  </tbody>\n",
              "</table>\n",
              "</div>"
            ],
            "text/plain": [
              "      tconst titleType            primaryTitle           originalTitle  \\\n",
              "0  tt0000001     short              Carmencita              Carmencita   \n",
              "1  tt0000002     short  Le clown et ses chiens  Le clown et ses chiens   \n",
              "2  tt0000003     short          Pauvre Pierrot          Pauvre Pierrot   \n",
              "3  tt0000004     short             Un bon bock             Un bon bock   \n",
              "4  tt0000005     short        Blacksmith Scene        Blacksmith Scene   \n",
              "\n",
              "  isAdult startYear endYear runtimeMinutes                    genres  \n",
              "0       0      1894      \\N              1         Documentary,Short  \n",
              "1       0      1892      \\N              5           Animation,Short  \n",
              "2       0      1892      \\N              4  Animation,Comedy,Romance  \n",
              "3       0      1892      \\N             12           Animation,Short  \n",
              "4       0      1893      \\N              1              Comedy,Short  "
            ]
          },
          "execution_count": 44,
          "metadata": {},
          "output_type": "execute_result"
        }
      ],
      "source": [
        "df_titles.limit(5).toPandas()"
      ]
    },
    {
      "cell_type": "code",
      "execution_count": null,
      "metadata": {
        "id": "24b50c34",
        "outputId": "37099239-7a79-4c46-e823-d5e0994f32c9"
      },
      "outputs": [
        {
          "data": {
            "text/plain": [
              "12"
            ]
          },
          "execution_count": 46,
          "metadata": {},
          "output_type": "execute_result"
        }
      ],
      "source": [
        "df_titles.rdd.getNumPartitions()"
      ]
    },
    {
      "cell_type": "code",
      "execution_count": null,
      "metadata": {
        "id": "55c811fe",
        "outputId": "027e0db1-1557-4f31-de9f-676dd39d92b8"
      },
      "outputs": [
        {
          "data": {
            "text/plain": [
              "5"
            ]
          },
          "execution_count": 49,
          "metadata": {},
          "output_type": "execute_result"
        }
      ],
      "source": [
        "df_titles.repartition(5).rdd.getNumPartitions()"
      ]
    },
    {
      "cell_type": "code",
      "execution_count": null,
      "metadata": {
        "id": "d731e87a",
        "outputId": "53d8bf6a-5f34-4734-e86d-42a6035e72c4"
      },
      "outputs": [
        {
          "data": {
            "text/plain": [
              "5"
            ]
          },
          "execution_count": 50,
          "metadata": {},
          "output_type": "execute_result"
        }
      ],
      "source": [
        "df_titles.coalesce(5).rdd.getNumPartitions()"
      ]
    },
    {
      "cell_type": "code",
      "execution_count": null,
      "metadata": {
        "id": "f25e08c9",
        "outputId": "dd1d71c9-074c-424a-bd79-3a6c0d2dbd38"
      },
      "outputs": [
        {
          "name": "stdout",
          "output_type": "stream",
          "text": [
            "== Physical Plan ==\n",
            "Exchange (3)\n",
            "+- * ColumnarToRow (2)\n",
            "   +- Scan parquet  (1)\n",
            "\n",
            "\n",
            "(1) Scan parquet \n",
            "Output [9]: [tconst#0, titleType#1, primaryTitle#2, originalTitle#3, isAdult#4, startYear#5, endYear#6, runtimeMinutes#7, genres#8]\n",
            "Batched: true\n",
            "Location: InMemoryFileIndex [file:/C:/Users/Pedro Toledo/Documents/igti/edc-mod3-igti/data/imdb/title_basics]\n",
            "ReadSchema: struct<tconst:string,titleType:string,primaryTitle:string,originalTitle:string,isAdult:string,startYear:string,endYear:string,runtimeMinutes:string,genres:string>\n",
            "\n",
            "(2) ColumnarToRow [codegen id : 1]\n",
            "Input [9]: [tconst#0, titleType#1, primaryTitle#2, originalTitle#3, isAdult#4, startYear#5, endYear#6, runtimeMinutes#7, genres#8]\n",
            "\n",
            "(3) Exchange\n",
            "Input [9]: [tconst#0, titleType#1, primaryTitle#2, originalTitle#3, isAdult#4, startYear#5, endYear#6, runtimeMinutes#7, genres#8]\n",
            "Arguments: RoundRobinPartitioning(5), REPARTITION_WITH_NUM, [id=#1269]\n",
            "\n",
            "\n"
          ]
        }
      ],
      "source": [
        "df_titles.repartition(5).explain('formatted')"
      ]
    },
    {
      "cell_type": "markdown",
      "metadata": {
        "id": "3cf9cd0d"
      },
      "source": [
        "1000000 MB / 50 = 20GB/partição"
      ]
    },
    {
      "cell_type": "markdown",
      "metadata": {
        "id": "cbd9c47e"
      },
      "source": [
        "1000000 MB / 5 = 200GB/partição"
      ]
    },
    {
      "cell_type": "code",
      "execution_count": null,
      "metadata": {
        "id": "643fb67d",
        "outputId": "5b8cfbfe-8642-4941-832f-3726d3b53932"
      },
      "outputs": [
        {
          "name": "stdout",
          "output_type": "stream",
          "text": [
            "== Physical Plan ==\n",
            "Coalesce (3)\n",
            "+- * ColumnarToRow (2)\n",
            "   +- Scan parquet  (1)\n",
            "\n",
            "\n",
            "(1) Scan parquet \n",
            "Output [9]: [tconst#0, titleType#1, primaryTitle#2, originalTitle#3, isAdult#4, startYear#5, endYear#6, runtimeMinutes#7, genres#8]\n",
            "Batched: true\n",
            "Location: InMemoryFileIndex [file:/C:/Users/Pedro Toledo/Documents/igti/edc-mod3-igti/data/imdb/title_basics]\n",
            "ReadSchema: struct<tconst:string,titleType:string,primaryTitle:string,originalTitle:string,isAdult:string,startYear:string,endYear:string,runtimeMinutes:string,genres:string>\n",
            "\n",
            "(2) ColumnarToRow [codegen id : 1]\n",
            "Input [9]: [tconst#0, titleType#1, primaryTitle#2, originalTitle#3, isAdult#4, startYear#5, endYear#6, runtimeMinutes#7, genres#8]\n",
            "\n",
            "(3) Coalesce\n",
            "Input [9]: [tconst#0, titleType#1, primaryTitle#2, originalTitle#3, isAdult#4, startYear#5, endYear#6, runtimeMinutes#7, genres#8]\n",
            "Arguments: 5\n",
            "\n",
            "\n"
          ]
        }
      ],
      "source": [
        "df_titles.coalesce(5).explain('formatted')"
      ]
    },
    {
      "cell_type": "code",
      "execution_count": null,
      "metadata": {
        "id": "f0ce86a0"
      },
      "outputs": [],
      "source": [
        "df_titles.repartition(50).write.parquet('../data/imdb/df_titles_repartioned')"
      ]
    },
    {
      "cell_type": "code",
      "execution_count": null,
      "metadata": {
        "id": "5e1dc440"
      },
      "outputs": [],
      "source": [
        "df_titles.coalesce(1).write.parquet('../data/imdb/df_titles_coalesced')"
      ]
    },
    {
      "cell_type": "markdown",
      "metadata": {
        "id": "632fd55b"
      },
      "source": [
        "## Escolhendo o melhor tipo de join"
      ]
    },
    {
      "cell_type": "markdown",
      "metadata": {
        "id": "7ba5489e"
      },
      "source": [
        "* **Broadcast Hash Join (BHJ)**: a estratégia consiste em enviar os dados completos para cada um dos executores, de forma que só há necessidade de realizar o shuffle uma vez. O Spark costuma utilizar esse join automaticamente com base em algumas configurações, como o `spark.sql.autoBroadcastJoinThreshold`, que define o tamanho máximo do menor DataFrame para que esse método seja escolhido, mas é sempre interessante analisar cada situação e ter autonomia para indicar o seu uso;\n",
        "* **Sort Merge Join (SMJ)**: é o algoritmo padrão do Spark, uma vez que o tamanho dos DataFrames não impacta na viabilidade do algoritmo. Nesse caso, os dados são enviados entre os executores via shuffle e os posteriormente ordenados, para que os dados estejam particionados corretamente e na mesma ordem;\n",
        "* **Shuffle Hash Join (SHJ)**: é um algoritmo que também usa shuffles, mas compensa essa operação com o uso de um mapa de hash que exime a necessidade de ordenação dos dados. A única condição é que um dos DataFrames seja significativamente menor do que o outro, mas não tanto quanto o BHJ.\n"
      ]
    },
    {
      "cell_type": "code",
      "execution_count": null,
      "metadata": {
        "id": "7b1acd90",
        "outputId": "ff68af6b-ffaa-4861-cbd0-b95e96592bf6"
      },
      "outputs": [
        {
          "data": {
            "text/html": [
              "<div>\n",
              "<style scoped>\n",
              "    .dataframe tbody tr th:only-of-type {\n",
              "        vertical-align: middle;\n",
              "    }\n",
              "\n",
              "    .dataframe tbody tr th {\n",
              "        vertical-align: top;\n",
              "    }\n",
              "\n",
              "    .dataframe thead th {\n",
              "        text-align: right;\n",
              "    }\n",
              "</style>\n",
              "<table border=\"1\" class=\"dataframe\">\n",
              "  <thead>\n",
              "    <tr style=\"text-align: right;\">\n",
              "      <th></th>\n",
              "      <th>tconst</th>\n",
              "      <th>titleType</th>\n",
              "      <th>primaryTitle</th>\n",
              "      <th>originalTitle</th>\n",
              "      <th>isAdult</th>\n",
              "      <th>startYear</th>\n",
              "      <th>endYear</th>\n",
              "      <th>runtimeMinutes</th>\n",
              "      <th>genres</th>\n",
              "    </tr>\n",
              "  </thead>\n",
              "  <tbody>\n",
              "    <tr>\n",
              "      <th>0</th>\n",
              "      <td>tt0000001</td>\n",
              "      <td>short</td>\n",
              "      <td>Carmencita</td>\n",
              "      <td>Carmencita</td>\n",
              "      <td>0</td>\n",
              "      <td>1894</td>\n",
              "      <td>\\N</td>\n",
              "      <td>1</td>\n",
              "      <td>Documentary,Short</td>\n",
              "    </tr>\n",
              "    <tr>\n",
              "      <th>1</th>\n",
              "      <td>tt0000002</td>\n",
              "      <td>short</td>\n",
              "      <td>Le clown et ses chiens</td>\n",
              "      <td>Le clown et ses chiens</td>\n",
              "      <td>0</td>\n",
              "      <td>1892</td>\n",
              "      <td>\\N</td>\n",
              "      <td>5</td>\n",
              "      <td>Animation,Short</td>\n",
              "    </tr>\n",
              "    <tr>\n",
              "      <th>2</th>\n",
              "      <td>tt0000003</td>\n",
              "      <td>short</td>\n",
              "      <td>Pauvre Pierrot</td>\n",
              "      <td>Pauvre Pierrot</td>\n",
              "      <td>0</td>\n",
              "      <td>1892</td>\n",
              "      <td>\\N</td>\n",
              "      <td>4</td>\n",
              "      <td>Animation,Comedy,Romance</td>\n",
              "    </tr>\n",
              "    <tr>\n",
              "      <th>3</th>\n",
              "      <td>tt0000004</td>\n",
              "      <td>short</td>\n",
              "      <td>Un bon bock</td>\n",
              "      <td>Un bon bock</td>\n",
              "      <td>0</td>\n",
              "      <td>1892</td>\n",
              "      <td>\\N</td>\n",
              "      <td>12</td>\n",
              "      <td>Animation,Short</td>\n",
              "    </tr>\n",
              "    <tr>\n",
              "      <th>4</th>\n",
              "      <td>tt0000005</td>\n",
              "      <td>short</td>\n",
              "      <td>Blacksmith Scene</td>\n",
              "      <td>Blacksmith Scene</td>\n",
              "      <td>0</td>\n",
              "      <td>1893</td>\n",
              "      <td>\\N</td>\n",
              "      <td>1</td>\n",
              "      <td>Comedy,Short</td>\n",
              "    </tr>\n",
              "  </tbody>\n",
              "</table>\n",
              "</div>"
            ],
            "text/plain": [
              "      tconst titleType            primaryTitle           originalTitle  \\\n",
              "0  tt0000001     short              Carmencita              Carmencita   \n",
              "1  tt0000002     short  Le clown et ses chiens  Le clown et ses chiens   \n",
              "2  tt0000003     short          Pauvre Pierrot          Pauvre Pierrot   \n",
              "3  tt0000004     short             Un bon bock             Un bon bock   \n",
              "4  tt0000005     short        Blacksmith Scene        Blacksmith Scene   \n",
              "\n",
              "  isAdult startYear endYear runtimeMinutes                    genres  \n",
              "0       0      1894      \\N              1         Documentary,Short  \n",
              "1       0      1892      \\N              5           Animation,Short  \n",
              "2       0      1892      \\N              4  Animation,Comedy,Romance  \n",
              "3       0      1892      \\N             12           Animation,Short  \n",
              "4       0      1893      \\N              1              Comedy,Short  "
            ]
          },
          "execution_count": 61,
          "metadata": {},
          "output_type": "execute_result"
        }
      ],
      "source": [
        "df_titles.limit(5).toPandas()"
      ]
    },
    {
      "cell_type": "code",
      "execution_count": null,
      "metadata": {
        "id": "cb295776",
        "outputId": "3f9315a3-fb8b-4baa-e34a-16f4bf262520"
      },
      "outputs": [
        {
          "data": {
            "text/html": [
              "<div>\n",
              "<style scoped>\n",
              "    .dataframe tbody tr th:only-of-type {\n",
              "        vertical-align: middle;\n",
              "    }\n",
              "\n",
              "    .dataframe tbody tr th {\n",
              "        vertical-align: top;\n",
              "    }\n",
              "\n",
              "    .dataframe thead th {\n",
              "        text-align: right;\n",
              "    }\n",
              "</style>\n",
              "<table border=\"1\" class=\"dataframe\">\n",
              "  <thead>\n",
              "    <tr style=\"text-align: right;\">\n",
              "      <th></th>\n",
              "      <th>tconst</th>\n",
              "      <th>averageRating</th>\n",
              "      <th>numVotes</th>\n",
              "    </tr>\n",
              "  </thead>\n",
              "  <tbody>\n",
              "    <tr>\n",
              "      <th>0</th>\n",
              "      <td>tt0000001</td>\n",
              "      <td>5.7</td>\n",
              "      <td>1759</td>\n",
              "    </tr>\n",
              "    <tr>\n",
              "      <th>1</th>\n",
              "      <td>tt0000002</td>\n",
              "      <td>6.0</td>\n",
              "      <td>223</td>\n",
              "    </tr>\n",
              "    <tr>\n",
              "      <th>2</th>\n",
              "      <td>tt0000003</td>\n",
              "      <td>6.5</td>\n",
              "      <td>1516</td>\n",
              "    </tr>\n",
              "    <tr>\n",
              "      <th>3</th>\n",
              "      <td>tt0000004</td>\n",
              "      <td>6.1</td>\n",
              "      <td>144</td>\n",
              "    </tr>\n",
              "    <tr>\n",
              "      <th>4</th>\n",
              "      <td>tt0000005</td>\n",
              "      <td>6.2</td>\n",
              "      <td>2330</td>\n",
              "    </tr>\n",
              "  </tbody>\n",
              "</table>\n",
              "</div>"
            ],
            "text/plain": [
              "      tconst averageRating numVotes\n",
              "0  tt0000001           5.7     1759\n",
              "1  tt0000002           6.0      223\n",
              "2  tt0000003           6.5     1516\n",
              "3  tt0000004           6.1      144\n",
              "4  tt0000005           6.2     2330"
            ]
          },
          "execution_count": 60,
          "metadata": {},
          "output_type": "execute_result"
        }
      ],
      "source": [
        "df_ratings.limit(5).toPandas()"
      ]
    },
    {
      "cell_type": "code",
      "execution_count": null,
      "metadata": {
        "scrolled": true,
        "id": "6f6f4be7",
        "outputId": "ffa96c93-5824-44c4-e761-116f97a8b783"
      },
      "outputs": [
        {
          "name": "stdout",
          "output_type": "stream",
          "text": [
            "== Physical Plan ==\n",
            "* Project (9)\n",
            "+- * BroadcastHashJoin Inner BuildRight (8)\n",
            "   :- * Filter (3)\n",
            "   :  +- * ColumnarToRow (2)\n",
            "   :     +- Scan parquet  (1)\n",
            "   +- BroadcastExchange (7)\n",
            "      +- * Filter (6)\n",
            "         +- * ColumnarToRow (5)\n",
            "            +- Scan parquet  (4)\n",
            "\n",
            "\n",
            "(1) Scan parquet \n",
            "Output [9]: [tconst#0, titleType#1, primaryTitle#2, originalTitle#3, isAdult#4, startYear#5, endYear#6, runtimeMinutes#7, genres#8]\n",
            "Batched: true\n",
            "Location: InMemoryFileIndex [file:/C:/Users/Pedro Toledo/Documents/igti/edc-mod3-igti/data/imdb/title_basics]\n",
            "PushedFilters: [IsNotNull(tconst)]\n",
            "ReadSchema: struct<tconst:string,titleType:string,primaryTitle:string,originalTitle:string,isAdult:string,startYear:string,endYear:string,runtimeMinutes:string,genres:string>\n",
            "\n",
            "(2) ColumnarToRow [codegen id : 2]\n",
            "Input [9]: [tconst#0, titleType#1, primaryTitle#2, originalTitle#3, isAdult#4, startYear#5, endYear#6, runtimeMinutes#7, genres#8]\n",
            "\n",
            "(3) Filter [codegen id : 2]\n",
            "Input [9]: [tconst#0, titleType#1, primaryTitle#2, originalTitle#3, isAdult#4, startYear#5, endYear#6, runtimeMinutes#7, genres#8]\n",
            "Condition : isnotnull(tconst#0)\n",
            "\n",
            "(4) Scan parquet \n",
            "Output [3]: [tconst#18, averageRating#19, numVotes#20]\n",
            "Batched: true\n",
            "Location: InMemoryFileIndex [file:/C:/Users/Pedro Toledo/Documents/igti/edc-mod3-igti/data/imdb/title_ratings]\n",
            "PushedFilters: [IsNotNull(tconst)]\n",
            "ReadSchema: struct<tconst:string,averageRating:string,numVotes:string>\n",
            "\n",
            "(5) ColumnarToRow [codegen id : 1]\n",
            "Input [3]: [tconst#18, averageRating#19, numVotes#20]\n",
            "\n",
            "(6) Filter [codegen id : 1]\n",
            "Input [3]: [tconst#18, averageRating#19, numVotes#20]\n",
            "Condition : isnotnull(tconst#18)\n",
            "\n",
            "(7) BroadcastExchange\n",
            "Input [3]: [tconst#18, averageRating#19, numVotes#20]\n",
            "Arguments: HashedRelationBroadcastMode(List(input[0, string, false]),false), [id=#38550]\n",
            "\n",
            "(8) BroadcastHashJoin [codegen id : 2]\n",
            "Left keys [1]: [tconst#0]\n",
            "Right keys [1]: [tconst#18]\n",
            "Join condition: None\n",
            "\n",
            "(9) Project [codegen id : 2]\n",
            "Output [11]: [tconst#0, titleType#1, primaryTitle#2, originalTitle#3, isAdult#4, startYear#5, endYear#6, runtimeMinutes#7, genres#8, averageRating#19, numVotes#20]\n",
            "Input [12]: [tconst#0, titleType#1, primaryTitle#2, originalTitle#3, isAdult#4, startYear#5, endYear#6, runtimeMinutes#7, genres#8, tconst#18, averageRating#19, numVotes#20]\n",
            "\n",
            "\n"
          ]
        }
      ],
      "source": [
        "df_titles.join(df_ratings.hint('broadcast'), 'tconst').explain('formatted')"
      ]
    },
    {
      "cell_type": "code",
      "execution_count": null,
      "metadata": {
        "id": "bc67ebe9"
      },
      "outputs": [],
      "source": [
        "import time\n",
        "import numpy as np"
      ]
    },
    {
      "cell_type": "markdown",
      "metadata": {
        "id": "58babcaf"
      },
      "source": [
        "#### Sort Merge Join"
      ]
    },
    {
      "cell_type": "code",
      "execution_count": null,
      "metadata": {
        "id": "e80b93bf",
        "outputId": "0dbeebd9-be20-407b-d6f6-c2bfe6776d6a"
      },
      "outputs": [
        {
          "name": "stdout",
          "output_type": "stream",
          "text": [
            "Média:  1.880633978843689 \n",
            " DP:  0.2220382350619025\n"
          ]
        }
      ],
      "source": [
        "times = []\n",
        "for i in range(100):\n",
        "    start = time.time()\n",
        "    df_titles.join(df_ratings.hint('merge'), 'tconst').count()\n",
        "    end = time.time()\n",
        "    times.append(end - start)\n",
        "\n",
        "print('Média: ', np.mean(times), '\\n',\n",
        "      'DP: ', np.std(times))"
      ]
    },
    {
      "cell_type": "markdown",
      "metadata": {
        "id": "1e3b1bd9"
      },
      "source": [
        "#### Shuffled Hash Join"
      ]
    },
    {
      "cell_type": "code",
      "execution_count": null,
      "metadata": {
        "id": "f52efd9e",
        "outputId": "a2c9f289-b65d-46a1-88fd-4db5f53cc055"
      },
      "outputs": [
        {
          "name": "stdout",
          "output_type": "stream",
          "text": [
            "Média:  1.9259305787086487 \n",
            " DP:  0.447783649974506\n"
          ]
        }
      ],
      "source": [
        "times = []\n",
        "for i in range(100):\n",
        "    start = time.time()\n",
        "    df_titles.join(df_ratings.hint('shuffle_hash'), 'tconst').count()\n",
        "    end = time.time()\n",
        "    times.append(end - start)\n",
        "print('Média: ', np.mean(times), '\\n',\n",
        "      'DP: ', np.std(times))"
      ]
    },
    {
      "cell_type": "markdown",
      "metadata": {
        "id": "92c9e663"
      },
      "source": [
        "#### Broadcast Join"
      ]
    },
    {
      "cell_type": "code",
      "execution_count": null,
      "metadata": {
        "id": "4ddc40ef",
        "outputId": "e52880e6-cd5a-4360-88b9-808a93eda5f1"
      },
      "outputs": [
        {
          "name": "stdout",
          "output_type": "stream",
          "text": [
            "Média:  0.961837158203125 \n",
            " DP:  0.10518858795581905\n"
          ]
        }
      ],
      "source": [
        "times = []\n",
        "for i in range(100):\n",
        "    start = time.time()\n",
        "    df_titles.join(df_ratings.hint('broadcast'), 'tconst').count()\n",
        "    end = time.time()\n",
        "    times.append(end - start)\n",
        "print('Média: ', np.mean(times), '\\n',\n",
        "      'DP: ', np.std(times))"
      ]
    }
  ]
}